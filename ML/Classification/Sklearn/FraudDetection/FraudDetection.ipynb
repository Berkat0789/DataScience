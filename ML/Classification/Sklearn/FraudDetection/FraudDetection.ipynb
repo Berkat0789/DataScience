{
 "cells": [
  {
   "cell_type": "code",
   "execution_count": 2,
   "id": "b0659a96-885e-41de-a2fd-806ab41f3ce3",
   "metadata": {},
   "outputs": [],
   "source": [
    "import pandas as pd\n",
    "import numpy as np\n",
    "import matplotlib.pyplot as plt\n",
    "import seaborn as sns"
   ]
  },
  {
   "cell_type": "code",
   "execution_count": 3,
   "id": "f06e814b-210f-4c37-897f-d073dc5bd3a4",
   "metadata": {},
   "outputs": [],
   "source": [
    "from sklearn.model_selection import train_test_split\n",
    "from sklearn.metrics import classification_report, confusion_matrix, explained_variance_score\n",
    "from sklearn.linear_model import LogisticRegression\n",
    "from sklearn.ensemble import RandomForestClassifier\n",
    "from sklearn.svm import SVC\n",
    "from sklearn.neighbors import KNeighborsClassifier\n",
    "from sklearn.preprocessing import StandardScaler"
   ]
  },
  {
   "cell_type": "code",
   "execution_count": 4,
   "id": "86173293-fd33-41fa-9e73-f1fddf8c0aad",
   "metadata": {},
   "outputs": [],
   "source": [
    "df = pd.read_csv(\"FraudBankingData.csv\")"
   ]
  },
  {
   "cell_type": "code",
   "execution_count": 5,
   "id": "50c8741c-a89b-4c62-974c-b2d2f420623a",
   "metadata": {},
   "outputs": [
    {
     "name": "stdout",
     "output_type": "stream",
     "text": [
      "<class 'pandas.core.frame.DataFrame'>\n",
      "RangeIndex: 6362620 entries, 0 to 6362619\n",
      "Data columns (total 11 columns):\n",
      " #   Column          Dtype  \n",
      "---  ------          -----  \n",
      " 0   step            int64  \n",
      " 1   type            object \n",
      " 2   amount          float64\n",
      " 3   nameOrig        object \n",
      " 4   oldbalanceOrg   float64\n",
      " 5   newbalanceOrig  float64\n",
      " 6   nameDest        object \n",
      " 7   oldbalanceDest  float64\n",
      " 8   newbalanceDest  float64\n",
      " 9   isFraud         int64  \n",
      " 10  isFlaggedFraud  int64  \n",
      "dtypes: float64(5), int64(3), object(3)\n",
      "memory usage: 534.0+ MB\n"
     ]
    }
   ],
   "source": [
    "df.info()"
   ]
  },
  {
   "cell_type": "code",
   "execution_count": 6,
   "id": "39150491-9fac-474b-aa37-c9e5e55651aa",
   "metadata": {},
   "outputs": [
    {
     "data": {
      "text/plain": [
       "['step',\n",
       " 'type',\n",
       " 'amount',\n",
       " 'nameOrig',\n",
       " 'oldbalanceOrg',\n",
       " 'newbalanceOrig',\n",
       " 'nameDest',\n",
       " 'oldbalanceDest',\n",
       " 'newbalanceDest',\n",
       " 'isFraud',\n",
       " 'isFlaggedFraud']"
      ]
     },
     "execution_count": 6,
     "metadata": {},
     "output_type": "execute_result"
    }
   ],
   "source": [
    "list(df.columns)"
   ]
  },
  {
   "cell_type": "code",
   "execution_count": 9,
   "id": "1f591ef0-3269-4a22-a3bd-f3b6fb0b91b0",
   "metadata": {},
   "outputs": [
    {
     "data": {
      "text/plain": [
       "743"
      ]
     },
     "execution_count": 9,
     "metadata": {},
     "output_type": "execute_result"
    }
   ],
   "source": [
    "df[\"step\"].nunique()"
   ]
  },
  {
   "cell_type": "code",
   "execution_count": 10,
   "id": "72dd2280-09c2-4e95-9b06-15be20149024",
   "metadata": {},
   "outputs": [
    {
     "data": {
      "text/plain": [
       "5"
      ]
     },
     "execution_count": 10,
     "metadata": {},
     "output_type": "execute_result"
    }
   ],
   "source": [
    "df[\"type\"].nunique()"
   ]
  },
  {
   "cell_type": "markdown",
   "id": "0d6a0539-6094-4e57-9610-7e2d919bdf9a",
   "metadata": {},
   "source": [
    "## Type\n",
    "- converting and isolating into individusl columns"
   ]
  },
  {
   "cell_type": "code",
   "execution_count": 11,
   "id": "ac8fcf4a-49b1-42da-a478-39650d5cb11a",
   "metadata": {},
   "outputs": [],
   "source": [
    "typeValues = pd.get_dummies(df[\"type\"], drop_first=True)"
   ]
  },
  {
   "cell_type": "code",
   "execution_count": 12,
   "id": "ae81f150-6504-46c2-8b7b-60c76457077b",
   "metadata": {},
   "outputs": [],
   "source": [
    "df = pd.concat([df, typeValues], axis=1)"
   ]
  },
  {
   "cell_type": "code",
   "execution_count": 13,
   "id": "1b92d44d-e640-43f8-9463-f639cb5b2eb1",
   "metadata": {},
   "outputs": [],
   "source": [
    "df.drop(\"type\", axis=1, inplace=True)"
   ]
  },
  {
   "cell_type": "markdown",
   "id": "24b436d8-468c-409e-a4a9-4627fd91831a",
   "metadata": {},
   "source": []
  },
  {
   "cell_type": "markdown",
   "id": "424876cf-fed2-4774-86ad-57a76ec13b1c",
   "metadata": {},
   "source": [
    "## Name  Origin / Name Destination\n",
    "- Removing String value to convert to numeric"
   ]
  },
  {
   "cell_type": "code",
   "execution_count": 14,
   "id": "b01ad1e8-7969-40fb-b6c1-3d1e087432b0",
   "metadata": {},
   "outputs": [],
   "source": [
    "df[\"nameOrig\"] = pd.to_numeric([x[1:] for x in df[\"nameOrig\"]])"
   ]
  },
  {
   "cell_type": "code",
   "execution_count": 15,
   "id": "6d554458-a6f7-4bf2-be15-06a5f4f1f869",
   "metadata": {},
   "outputs": [],
   "source": [
    "df[\"nameDest\"] = pd.to_numeric([x[1:] for x in df[\"nameDest\"]])"
   ]
  },
  {
   "cell_type": "code",
   "execution_count": null,
   "id": "c1d32f26-4375-45c7-97a8-cd8b46022c8b",
   "metadata": {},
   "outputs": [],
   "source": []
  },
  {
   "cell_type": "code",
   "execution_count": 16,
   "id": "67d14d4e-2e5d-4826-8974-d75bb7a90313",
   "metadata": {},
   "outputs": [
    {
     "data": {
      "text/html": [
       "<div>\n",
       "<style scoped>\n",
       "    .dataframe tbody tr th:only-of-type {\n",
       "        vertical-align: middle;\n",
       "    }\n",
       "\n",
       "    .dataframe tbody tr th {\n",
       "        vertical-align: top;\n",
       "    }\n",
       "\n",
       "    .dataframe thead th {\n",
       "        text-align: right;\n",
       "    }\n",
       "</style>\n",
       "<table border=\"1\" class=\"dataframe\">\n",
       "  <thead>\n",
       "    <tr style=\"text-align: right;\">\n",
       "      <th></th>\n",
       "      <th>step</th>\n",
       "      <th>amount</th>\n",
       "      <th>nameOrig</th>\n",
       "      <th>oldbalanceOrg</th>\n",
       "      <th>newbalanceOrig</th>\n",
       "      <th>nameDest</th>\n",
       "      <th>oldbalanceDest</th>\n",
       "      <th>newbalanceDest</th>\n",
       "      <th>isFraud</th>\n",
       "      <th>isFlaggedFraud</th>\n",
       "      <th>CASH_OUT</th>\n",
       "      <th>DEBIT</th>\n",
       "      <th>PAYMENT</th>\n",
       "      <th>TRANSFER</th>\n",
       "    </tr>\n",
       "  </thead>\n",
       "  <tbody>\n",
       "    <tr>\n",
       "      <th>0</th>\n",
       "      <td>1</td>\n",
       "      <td>9839.64</td>\n",
       "      <td>1231006815</td>\n",
       "      <td>170136.00</td>\n",
       "      <td>160296.36</td>\n",
       "      <td>1979787155</td>\n",
       "      <td>0.00</td>\n",
       "      <td>0.00</td>\n",
       "      <td>0</td>\n",
       "      <td>0</td>\n",
       "      <td>0</td>\n",
       "      <td>0</td>\n",
       "      <td>1</td>\n",
       "      <td>0</td>\n",
       "    </tr>\n",
       "    <tr>\n",
       "      <th>1</th>\n",
       "      <td>1</td>\n",
       "      <td>1864.28</td>\n",
       "      <td>1666544295</td>\n",
       "      <td>21249.00</td>\n",
       "      <td>19384.72</td>\n",
       "      <td>2044282225</td>\n",
       "      <td>0.00</td>\n",
       "      <td>0.00</td>\n",
       "      <td>0</td>\n",
       "      <td>0</td>\n",
       "      <td>0</td>\n",
       "      <td>0</td>\n",
       "      <td>1</td>\n",
       "      <td>0</td>\n",
       "    </tr>\n",
       "    <tr>\n",
       "      <th>2</th>\n",
       "      <td>1</td>\n",
       "      <td>181.00</td>\n",
       "      <td>1305486145</td>\n",
       "      <td>181.00</td>\n",
       "      <td>0.00</td>\n",
       "      <td>553264065</td>\n",
       "      <td>0.00</td>\n",
       "      <td>0.00</td>\n",
       "      <td>1</td>\n",
       "      <td>0</td>\n",
       "      <td>0</td>\n",
       "      <td>0</td>\n",
       "      <td>0</td>\n",
       "      <td>1</td>\n",
       "    </tr>\n",
       "    <tr>\n",
       "      <th>3</th>\n",
       "      <td>1</td>\n",
       "      <td>181.00</td>\n",
       "      <td>840083671</td>\n",
       "      <td>181.00</td>\n",
       "      <td>0.00</td>\n",
       "      <td>38997010</td>\n",
       "      <td>21182.00</td>\n",
       "      <td>0.00</td>\n",
       "      <td>1</td>\n",
       "      <td>0</td>\n",
       "      <td>1</td>\n",
       "      <td>0</td>\n",
       "      <td>0</td>\n",
       "      <td>0</td>\n",
       "    </tr>\n",
       "    <tr>\n",
       "      <th>4</th>\n",
       "      <td>1</td>\n",
       "      <td>11668.14</td>\n",
       "      <td>2048537720</td>\n",
       "      <td>41554.00</td>\n",
       "      <td>29885.86</td>\n",
       "      <td>1230701703</td>\n",
       "      <td>0.00</td>\n",
       "      <td>0.00</td>\n",
       "      <td>0</td>\n",
       "      <td>0</td>\n",
       "      <td>0</td>\n",
       "      <td>0</td>\n",
       "      <td>1</td>\n",
       "      <td>0</td>\n",
       "    </tr>\n",
       "    <tr>\n",
       "      <th>...</th>\n",
       "      <td>...</td>\n",
       "      <td>...</td>\n",
       "      <td>...</td>\n",
       "      <td>...</td>\n",
       "      <td>...</td>\n",
       "      <td>...</td>\n",
       "      <td>...</td>\n",
       "      <td>...</td>\n",
       "      <td>...</td>\n",
       "      <td>...</td>\n",
       "      <td>...</td>\n",
       "      <td>...</td>\n",
       "      <td>...</td>\n",
       "      <td>...</td>\n",
       "    </tr>\n",
       "    <tr>\n",
       "      <th>6362615</th>\n",
       "      <td>743</td>\n",
       "      <td>339682.13</td>\n",
       "      <td>786484425</td>\n",
       "      <td>339682.13</td>\n",
       "      <td>0.00</td>\n",
       "      <td>776919290</td>\n",
       "      <td>0.00</td>\n",
       "      <td>339682.13</td>\n",
       "      <td>1</td>\n",
       "      <td>0</td>\n",
       "      <td>1</td>\n",
       "      <td>0</td>\n",
       "      <td>0</td>\n",
       "      <td>0</td>\n",
       "    </tr>\n",
       "    <tr>\n",
       "      <th>6362616</th>\n",
       "      <td>743</td>\n",
       "      <td>6311409.28</td>\n",
       "      <td>1529008245</td>\n",
       "      <td>6311409.28</td>\n",
       "      <td>0.00</td>\n",
       "      <td>1881841831</td>\n",
       "      <td>0.00</td>\n",
       "      <td>0.00</td>\n",
       "      <td>1</td>\n",
       "      <td>0</td>\n",
       "      <td>0</td>\n",
       "      <td>0</td>\n",
       "      <td>0</td>\n",
       "      <td>1</td>\n",
       "    </tr>\n",
       "    <tr>\n",
       "      <th>6362617</th>\n",
       "      <td>743</td>\n",
       "      <td>6311409.28</td>\n",
       "      <td>1162922333</td>\n",
       "      <td>6311409.28</td>\n",
       "      <td>0.00</td>\n",
       "      <td>1365125890</td>\n",
       "      <td>68488.84</td>\n",
       "      <td>6379898.11</td>\n",
       "      <td>1</td>\n",
       "      <td>0</td>\n",
       "      <td>1</td>\n",
       "      <td>0</td>\n",
       "      <td>0</td>\n",
       "      <td>0</td>\n",
       "    </tr>\n",
       "    <tr>\n",
       "      <th>6362618</th>\n",
       "      <td>743</td>\n",
       "      <td>850002.52</td>\n",
       "      <td>1685995037</td>\n",
       "      <td>850002.52</td>\n",
       "      <td>0.00</td>\n",
       "      <td>2080388513</td>\n",
       "      <td>0.00</td>\n",
       "      <td>0.00</td>\n",
       "      <td>1</td>\n",
       "      <td>0</td>\n",
       "      <td>0</td>\n",
       "      <td>0</td>\n",
       "      <td>0</td>\n",
       "      <td>1</td>\n",
       "    </tr>\n",
       "    <tr>\n",
       "      <th>6362619</th>\n",
       "      <td>743</td>\n",
       "      <td>850002.52</td>\n",
       "      <td>1280323807</td>\n",
       "      <td>850002.52</td>\n",
       "      <td>0.00</td>\n",
       "      <td>873221189</td>\n",
       "      <td>6510099.11</td>\n",
       "      <td>7360101.63</td>\n",
       "      <td>1</td>\n",
       "      <td>0</td>\n",
       "      <td>1</td>\n",
       "      <td>0</td>\n",
       "      <td>0</td>\n",
       "      <td>0</td>\n",
       "    </tr>\n",
       "  </tbody>\n",
       "</table>\n",
       "<p>6362620 rows × 14 columns</p>\n",
       "</div>"
      ],
      "text/plain": [
       "         step      amount    nameOrig  oldbalanceOrg  newbalanceOrig  \\\n",
       "0           1     9839.64  1231006815      170136.00       160296.36   \n",
       "1           1     1864.28  1666544295       21249.00        19384.72   \n",
       "2           1      181.00  1305486145         181.00            0.00   \n",
       "3           1      181.00   840083671         181.00            0.00   \n",
       "4           1    11668.14  2048537720       41554.00        29885.86   \n",
       "...       ...         ...         ...            ...             ...   \n",
       "6362615   743   339682.13   786484425      339682.13            0.00   \n",
       "6362616   743  6311409.28  1529008245     6311409.28            0.00   \n",
       "6362617   743  6311409.28  1162922333     6311409.28            0.00   \n",
       "6362618   743   850002.52  1685995037      850002.52            0.00   \n",
       "6362619   743   850002.52  1280323807      850002.52            0.00   \n",
       "\n",
       "           nameDest  oldbalanceDest  newbalanceDest  isFraud  isFlaggedFraud  \\\n",
       "0        1979787155            0.00            0.00        0               0   \n",
       "1        2044282225            0.00            0.00        0               0   \n",
       "2         553264065            0.00            0.00        1               0   \n",
       "3          38997010        21182.00            0.00        1               0   \n",
       "4        1230701703            0.00            0.00        0               0   \n",
       "...             ...             ...             ...      ...             ...   \n",
       "6362615   776919290            0.00       339682.13        1               0   \n",
       "6362616  1881841831            0.00            0.00        1               0   \n",
       "6362617  1365125890        68488.84      6379898.11        1               0   \n",
       "6362618  2080388513            0.00            0.00        1               0   \n",
       "6362619   873221189      6510099.11      7360101.63        1               0   \n",
       "\n",
       "         CASH_OUT  DEBIT  PAYMENT  TRANSFER  \n",
       "0               0      0        1         0  \n",
       "1               0      0        1         0  \n",
       "2               0      0        0         1  \n",
       "3               1      0        0         0  \n",
       "4               0      0        1         0  \n",
       "...           ...    ...      ...       ...  \n",
       "6362615         1      0        0         0  \n",
       "6362616         0      0        0         1  \n",
       "6362617         1      0        0         0  \n",
       "6362618         0      0        0         1  \n",
       "6362619         1      0        0         0  \n",
       "\n",
       "[6362620 rows x 14 columns]"
      ]
     },
     "execution_count": 16,
     "metadata": {},
     "output_type": "execute_result"
    }
   ],
   "source": [
    "df"
   ]
  },
  {
   "cell_type": "code",
   "execution_count": 17,
   "id": "ef77acdc-38b1-498e-9ded-f5dfa1dd3f7c",
   "metadata": {},
   "outputs": [],
   "source": [
    "df.drop(\"isFlaggedFraud\", axis=1, inplace=True)"
   ]
  },
  {
   "cell_type": "code",
   "execution_count": 18,
   "id": "018ca71f-3210-4d3b-8096-966ecf02ae38",
   "metadata": {},
   "outputs": [
    {
     "name": "stdout",
     "output_type": "stream",
     "text": [
      "<class 'pandas.core.frame.DataFrame'>\n",
      "RangeIndex: 6362620 entries, 0 to 6362619\n",
      "Data columns (total 13 columns):\n",
      " #   Column          Dtype  \n",
      "---  ------          -----  \n",
      " 0   step            int64  \n",
      " 1   amount          float64\n",
      " 2   nameOrig        int64  \n",
      " 3   oldbalanceOrg   float64\n",
      " 4   newbalanceOrig  float64\n",
      " 5   nameDest        int64  \n",
      " 6   oldbalanceDest  float64\n",
      " 7   newbalanceDest  float64\n",
      " 8   isFraud         int64  \n",
      " 9   CASH_OUT        uint8  \n",
      " 10  DEBIT           uint8  \n",
      " 11  PAYMENT         uint8  \n",
      " 12  TRANSFER        uint8  \n",
      "dtypes: float64(5), int64(4), uint8(4)\n",
      "memory usage: 461.2 MB\n"
     ]
    }
   ],
   "source": [
    "df.info()"
   ]
  },
  {
   "cell_type": "code",
   "execution_count": 19,
   "id": "3ac2c0ce-0b85-4c04-a058-bf0d9153b06d",
   "metadata": {},
   "outputs": [
    {
     "data": {
      "text/plain": [
       "isFraud           1.000000\n",
       "amount            0.076688\n",
       "TRANSFER          0.053869\n",
       "step              0.031578\n",
       "CASH_OUT          0.011256\n",
       "oldbalanceOrg     0.010154\n",
       "newbalanceDest    0.000535\n",
       "nameOrig          0.000470\n",
       "nameDest         -0.000141\n",
       "DEBIT            -0.002911\n",
       "oldbalanceDest   -0.005885\n",
       "newbalanceOrig   -0.008148\n",
       "PAYMENT          -0.025697\n",
       "dtype: float64"
      ]
     },
     "execution_count": 19,
     "metadata": {},
     "output_type": "execute_result"
    }
   ],
   "source": [
    "df.corrwith(df.isFraud).sort_values(ascending = False)"
   ]
  },
  {
   "cell_type": "code",
   "execution_count": 20,
   "id": "60e714f8-142e-4d63-9fa3-6c2ccd6a33e3",
   "metadata": {},
   "outputs": [
    {
     "data": {
      "text/plain": [
       "<AxesSubplot:>"
      ]
     },
     "execution_count": 20,
     "metadata": {},
     "output_type": "execute_result"
    },
    {
     "data": {
      "image/png": "[encoded data removed]",
      "text/plain": [
       "<Figure size 1152x432 with 2 Axes>"
      ]
     },
     "metadata": {
      "needs_background": "light"
     },
     "output_type": "display_data"
    }
   ],
   "source": [
    "plt.figure(figsize=(16,6))\n",
    "sns.heatmap(df.corr(), annot=True, linecolor=\"black\", linewidths=2, cmap = \"twilight\")"
   ]
  },
  {
   "cell_type": "code",
   "execution_count": 21,
   "id": "ea75fed4-f874-4ab2-b0de-b3010c39cdd4",
   "metadata": {},
   "outputs": [],
   "source": [
    "df.drop(\"step\", axis=1, inplace=True)"
   ]
  },
  {
   "cell_type": "code",
   "execution_count": 22,
   "id": "50e3be98-145f-477e-aaee-fac6ff876608",
   "metadata": {},
   "outputs": [],
   "source": [
    "X = df.drop(\"isFraud\", axis=1)\n",
    "y = df[\"isFraud\"]"
   ]
  },
  {
   "cell_type": "code",
   "execution_count": 23,
   "id": "dcb44c79-3cd5-4b43-8733-770b45affb56",
   "metadata": {},
   "outputs": [],
   "source": [
    "X_train, X_test, y_train, y_test = train_test_split(X, y, test_size=0.30, random_state=42)"
   ]
  },
  {
   "cell_type": "markdown",
   "id": "5c2354e5-4c06-4ef7-97f4-b8ca11f574a8",
   "metadata": {},
   "source": [
    "## logistic Regression"
   ]
  },
  {
   "cell_type": "code",
   "execution_count": 24,
   "id": "037a217b-4497-4c7b-aecb-f940e8f16dfc",
   "metadata": {},
   "outputs": [],
   "source": [
    "logModel = LogisticRegression(max_iter=300)"
   ]
  },
  {
   "cell_type": "code",
   "execution_count": 25,
   "id": "310e3dfd-bd43-4f00-b5ae-64ca2a0a6307",
   "metadata": {},
   "outputs": [
    {
     "data": {
      "text/plain": [
       "LogisticRegression(max_iter=300)"
      ]
     },
     "execution_count": 25,
     "metadata": {},
     "output_type": "execute_result"
    }
   ],
   "source": [
    "logModel.fit(X_train, y_train)"
   ]
  },
  {
   "cell_type": "markdown",
   "id": "b7e7b4b4-545c-4c13-b3c9-65807fffc5fc",
   "metadata": {},
   "source": [
    "## Logistic Regression Predictions"
   ]
  },
  {
   "cell_type": "code",
   "execution_count": 26,
   "id": "c2294627-3205-46c7-8e0b-7fe81b3d03fd",
   "metadata": {},
   "outputs": [],
   "source": [
    "logPred = logModel.predict(X_test)"
   ]
  },
  {
   "cell_type": "markdown",
   "id": "3672439d-738c-4107-a25b-a57d6f58a211",
   "metadata": {},
   "source": [
    "## Log Metrics\n",
    "- Data is pretty unbalanced favoring 0"
   ]
  },
  {
   "cell_type": "code",
   "execution_count": 27,
   "id": "805b561e-bace-4b09-80d6-5885ba747c34",
   "metadata": {},
   "outputs": [
    {
     "name": "stdout",
     "output_type": "stream",
     "text": [
      "              precision    recall  f1-score   support\n",
      "\n",
      "           0       1.00      1.00      1.00   1906351\n",
      "           1       0.63      0.45      0.53      2435\n",
      "\n",
      "    accuracy                           1.00   1908786\n",
      "   macro avg       0.82      0.73      0.76   1908786\n",
      "weighted avg       1.00      1.00      1.00   1908786\n",
      "\n"
     ]
    }
   ],
   "source": [
    "print(classification_report(y_test, logPred))"
   ]
  },
  {
   "cell_type": "code",
   "execution_count": 29,
   "id": "8e3c5fda-b58f-463a-b91b-181620d62282",
   "metadata": {},
   "outputs": [
    {
     "data": {
      "text/plain": [
       "<AxesSubplot:xlabel='isFraud', ylabel='count'>"
      ]
     },
     "execution_count": 29,
     "metadata": {},
     "output_type": "execute_result"
    },
    {
     "data": {
      "image/png": "[encoded data removed]",
      "text/plain": [
       "<Figure size 432x288 with 1 Axes>"
      ]
     },
     "metadata": {
      "needs_background": "light"
     },
     "output_type": "display_data"
    }
   ],
   "source": [
    "sns.countplot(x = df[\"isFraud\"])"
   ]
  },
  {
   "cell_type": "code",
   "execution_count": 30,
   "id": "a9a764e2-6acb-458d-af13-82fac4f1728d",
   "metadata": {},
   "outputs": [
    {
     "data": {
      "text/plain": [
       "0    6354407\n",
       "1       8213\n",
       "Name: isFraud, dtype: int64"
      ]
     },
     "execution_count": 30,
     "metadata": {},
     "output_type": "execute_result"
    }
   ],
   "source": [
    "df[\"isFraud\"].value_counts()"
   ]
  },
  {
   "cell_type": "markdown",
   "id": "61f0dc61-e34f-4a23-808d-f7bd74f0a7ef",
   "metadata": {},
   "source": [
    "## Random Forest"
   ]
  },
  {
   "cell_type": "code",
   "execution_count": 62,
   "id": "909bd735-8493-4afb-9665-44d7fa959e50",
   "metadata": {},
   "outputs": [],
   "source": [
    "rf = RandomForestClassifier(n_estimators=200)"
   ]
  },
  {
   "cell_type": "code",
   "execution_count": 63,
   "id": "316a1441-6ce0-40bf-8412-4e43869e680c",
   "metadata": {},
   "outputs": [
    {
     "data": {
      "text/plain": [
       "RandomForestClassifier(n_estimators=200)"
      ]
     },
     "execution_count": 63,
     "metadata": {},
     "output_type": "execute_result"
    }
   ],
   "source": [
    "rf.fit(X_train, y_train)"
   ]
  },
  {
   "cell_type": "markdown",
   "id": "9a15875f-fea9-4f82-a364-d269a2cbcfad",
   "metadata": {},
   "source": [
    "## Random Forest Predictions"
   ]
  },
  {
   "cell_type": "code",
   "execution_count": 64,
   "id": "c9f0bf9a-611e-457f-a288-acf6bcd1dd8a",
   "metadata": {},
   "outputs": [],
   "source": [
    "rmPred = rf.predict(X_test)"
   ]
  },
  {
   "cell_type": "code",
   "execution_count": 65,
   "id": "45c728b4-66ac-47ba-829d-fc152408429c",
   "metadata": {},
   "outputs": [
    {
     "name": "stdout",
     "output_type": "stream",
     "text": [
      "              precision    recall  f1-score   support\n",
      "\n",
      "           0       1.00      1.00      1.00   1906351\n",
      "           1       0.97      0.74      0.84      2435\n",
      "\n",
      "    accuracy                           1.00   1908786\n",
      "   macro avg       0.99      0.87      0.92   1908786\n",
      "weighted avg       1.00      1.00      1.00   1908786\n",
      "\n"
     ]
    }
   ],
   "source": [
    "print(classification_report(y_test, rmPred))"
   ]
  },
  {
   "cell_type": "code",
   "execution_count": 32,
   "id": "a02e2141-e22f-4b45-aefc-275c8161a695",
   "metadata": {},
   "outputs": [],
   "source": [
    "import pickle"
   ]
  },
  {
   "cell_type": "code",
   "execution_count": 34,
   "id": "118b14f0-386c-4cd2-9269-31aa66226918",
   "metadata": {},
   "outputs": [],
   "source": [
    "randomForestFilName = \"RandomFOrestModel.pkl\""
   ]
  },
  {
   "cell_type": "code",
   "execution_count": 71,
   "id": "2491c12a-4d31-4a7a-92ca-e936a394afa3",
   "metadata": {},
   "outputs": [],
   "source": [
    "with open(randomForestFilName, \"wb\") as file:\n",
    "    pickle.dump(rf, file)"
   ]
  },
  {
   "cell_type": "code",
   "execution_count": 36,
   "id": "68116221-9095-428b-aadb-e37b019525af",
   "metadata": {},
   "outputs": [],
   "source": [
    "with open(randomForestFilName, \"rb\") as file:\n",
    "    pickelModel = pickle.load(file)"
   ]
  },
  {
   "cell_type": "code",
   "execution_count": 37,
   "id": "10f4c923-eb66-4737-974b-e886f9c523b0",
   "metadata": {},
   "outputs": [],
   "source": [
    "pred = pickelModel.predict(X_test)"
   ]
  },
  {
   "cell_type": "code",
   "execution_count": 38,
   "id": "650d0abc-528e-4ff8-b32a-6ece8297bdd8",
   "metadata": {},
   "outputs": [
    {
     "name": "stdout",
     "output_type": "stream",
     "text": [
      "              precision    recall  f1-score   support\n",
      "\n",
      "           0       1.00      1.00      1.00   1906351\n",
      "           1       0.97      0.74      0.84      2435\n",
      "\n",
      "    accuracy                           1.00   1908786\n",
      "   macro avg       0.99      0.87      0.92   1908786\n",
      "weighted avg       1.00      1.00      1.00   1908786\n",
      "\n"
     ]
    }
   ],
   "source": [
    "print(classification_report(y_test, pred))"
   ]
  },
  {
   "cell_type": "code",
   "execution_count": 39,
   "id": "067b12c7-3710-4072-964b-d14afed225a7",
   "metadata": {},
   "outputs": [],
   "source": [
    "fraud = df[df[\"isFraud\"] == 1]"
   ]
  },
  {
   "cell_type": "markdown",
   "id": "021c0d45-9eaf-4ec6-9c2c-8731a58e6f4c",
   "metadata": {},
   "source": [
    "### Random Predicition"
   ]
  },
  {
   "cell_type": "code",
   "execution_count": 40,
   "id": "cacb1fb6-e15d-46ff-a82d-847a4ddead68",
   "metadata": {},
   "outputs": [],
   "source": [
    "from random import randint\n",
    "randomIndex = randint(0,len(fraud))\n",
    "randomAccount = fraud.drop('isFraud', axis=1).iloc[randomIndex]"
   ]
  },
  {
   "cell_type": "code",
   "execution_count": 41,
   "id": "166309b5-5522-4cc4-ad97-e0a7b214d231",
   "metadata": {},
   "outputs": [
    {
     "data": {
      "text/plain": [
       "amount            1.586480e+06\n",
       "nameOrig          1.097002e+08\n",
       "oldbalanceOrg     1.586480e+06\n",
       "newbalanceOrig    0.000000e+00\n",
       "nameDest          5.468433e+08\n",
       "oldbalanceDest    0.000000e+00\n",
       "newbalanceDest    0.000000e+00\n",
       "CASH_OUT          0.000000e+00\n",
       "DEBIT             0.000000e+00\n",
       "PAYMENT           0.000000e+00\n",
       "TRANSFER          1.000000e+00\n",
       "Name: 2787676, dtype: float64"
      ]
     },
     "execution_count": 41,
     "metadata": {},
     "output_type": "execute_result"
    }
   ],
   "source": [
    "randomAccount"
   ]
  },
  {
   "cell_type": "code",
   "execution_count": 42,
   "id": "02fa7725-e201-42e5-a5c6-3df8d8cf8051",
   "metadata": {},
   "outputs": [
    {
     "data": {
      "text/plain": [
       "(4453834, 11)"
      ]
     },
     "execution_count": 42,
     "metadata": {},
     "output_type": "execute_result"
    }
   ],
   "source": [
    "X_train.shape"
   ]
  },
  {
   "cell_type": "code",
   "execution_count": 43,
   "id": "39f351b7-2673-4fee-bc7d-4d0a98158773",
   "metadata": {},
   "outputs": [],
   "source": [
    "randomAccount = randomAccount.values.reshape(1,11)"
   ]
  },
  {
   "cell_type": "code",
   "execution_count": 44,
   "id": "6d5448c3-740d-4840-a61d-7562a8a2620f",
   "metadata": {},
   "outputs": [
    {
     "data": {
      "text/plain": [
       "array([1])"
      ]
     },
     "execution_count": 44,
     "metadata": {},
     "output_type": "execute_result"
    }
   ],
   "source": [
    "pickelModel.predict(randomAccount)"
   ]
  },
  {
   "cell_type": "markdown",
   "id": "0014933b-7cf4-4c7b-977d-253d67b39472",
   "metadata": {},
   "source": [
    "## True Value"
   ]
  },
  {
   "cell_type": "code",
   "execution_count": 45,
   "id": "0e8a828c-8a9b-4e38-804a-4e8527766980",
   "metadata": {},
   "outputs": [
    {
     "data": {
      "text/plain": [
       "1.0"
      ]
     },
     "execution_count": 45,
     "metadata": {},
     "output_type": "execute_result"
    }
   ],
   "source": [
    "fraud.iloc[randomIndex][\"isFraud\"]"
   ]
  },
  {
   "cell_type": "code",
   "execution_count": null,
   "id": "ef3f0fa0-a184-469d-be05-937322620faa",
   "metadata": {},
   "outputs": [],
   "source": []
  },
  {
   "cell_type": "markdown",
   "id": "be7ef8c9-d99c-46a1-983f-70f93a96512e",
   "metadata": {},
   "source": [
    "### KNearest Neighbors"
   ]
  },
  {
   "cell_type": "code",
   "execution_count": 46,
   "id": "47585314-29bc-435c-b27f-321c95a0f190",
   "metadata": {},
   "outputs": [],
   "source": [
    "knn = KNeighborsClassifier(n_neighbors=2)"
   ]
  },
  {
   "cell_type": "code",
   "execution_count": 47,
   "id": "49ce95ac-d96c-48ac-914b-915398fa316b",
   "metadata": {},
   "outputs": [
    {
     "data": {
      "text/plain": [
       "KNeighborsClassifier(n_neighbors=2)"
      ]
     },
     "execution_count": 47,
     "metadata": {},
     "output_type": "execute_result"
    }
   ],
   "source": [
    "knn.fit(X_train, y_train)"
   ]
  },
  {
   "cell_type": "code",
   "execution_count": 48,
   "id": "2e402659-369d-4e2a-bbed-789dcaae4beb",
   "metadata": {},
   "outputs": [
    {
     "data": {
      "text/plain": [
       "array([0, 1])"
      ]
     },
     "execution_count": 48,
     "metadata": {},
     "output_type": "execute_result"
    }
   ],
   "source": [
    "knn.classes_"
   ]
  },
  {
   "cell_type": "code",
   "execution_count": null,
   "id": "c47f7c42-0a44-4749-a1a5-722d0e148027",
   "metadata": {},
   "outputs": [],
   "source": []
  },
  {
   "cell_type": "code",
   "execution_count": 49,
   "id": "84854bc8-fdd0-40b5-a12f-8beeff40ad84",
   "metadata": {},
   "outputs": [],
   "source": [
    "knn_pred = knn.predict(X_test)"
   ]
  },
  {
   "cell_type": "code",
   "execution_count": 50,
   "id": "54eff604-232d-4883-b00f-73aa951aeadf",
   "metadata": {},
   "outputs": [
    {
     "name": "stdout",
     "output_type": "stream",
     "text": [
      "              precision    recall  f1-score   support\n",
      "\n",
      "           0       1.00      1.00      1.00   1906351\n",
      "           1       0.00      0.00      0.00      2435\n",
      "\n",
      "    accuracy                           1.00   1908786\n",
      "   macro avg       0.50      0.50      0.50   1908786\n",
      "weighted avg       1.00      1.00      1.00   1908786\n",
      "\n"
     ]
    }
   ],
   "source": [
    "print(classification_report(y_test, knn_pred))"
   ]
  },
  {
   "cell_type": "markdown",
   "id": "6a721807-cdca-4b6a-8f9f-a65f38c11da8",
   "metadata": {},
   "source": [
    "## WE neeed to scale the data fpr the Knn classifier to improve predictions"
   ]
  },
  {
   "cell_type": "code",
   "execution_count": 51,
   "id": "04d5323f-7ec4-4f7e-a340-d8058affcf9c",
   "metadata": {},
   "outputs": [],
   "source": [
    "scalar = StandardScaler()"
   ]
  },
  {
   "cell_type": "code",
   "execution_count": 52,
   "id": "cad27e30-f1b6-43f2-b1d3-edef01a87b87",
   "metadata": {},
   "outputs": [
    {
     "data": {
      "text/plain": [
       "StandardScaler()"
      ]
     },
     "execution_count": 52,
     "metadata": {},
     "output_type": "execute_result"
    }
   ],
   "source": [
    "scalar.fit(df.drop(\"isFraud\", axis=1))"
   ]
  },
  {
   "cell_type": "code",
   "execution_count": 53,
   "id": "fe5e19c9-bb34-4c71-aa4c-e84c1eb7b911",
   "metadata": {},
   "outputs": [],
   "source": [
    "scaledData = scalar.transform(df.drop(\"isFraud\", axis=1))"
   ]
  },
  {
   "cell_type": "code",
   "execution_count": 54,
   "id": "0b91efb1-431e-4879-8a9d-470ba727349f",
   "metadata": {},
   "outputs": [],
   "source": [
    "scaledDF = pd.DataFrame(scaledData, columns=X_train.columns)"
   ]
  },
  {
   "cell_type": "code",
   "execution_count": 55,
   "id": "d2e47199-3d60-4e77-a1a9-8293870b0680",
   "metadata": {},
   "outputs": [],
   "source": [
    "X = scaledDF\n",
    "y = df[\"isFraud\"]"
   ]
  },
  {
   "cell_type": "code",
   "execution_count": 56,
   "id": "ab04253a-60e4-47fa-9415-15eea8c08b8c",
   "metadata": {},
   "outputs": [],
   "source": [
    "X_train, X_test, y_train, y_test = train_test_split(X, y, test_size=0.30, random_state=42)"
   ]
  },
  {
   "cell_type": "code",
   "execution_count": 57,
   "id": "c2c69ff6-cdb3-4935-b699-fa9b4eb68ceb",
   "metadata": {},
   "outputs": [],
   "source": [
    "kn_model = KNeighborsClassifier(n_neighbors=2)"
   ]
  },
  {
   "cell_type": "code",
   "execution_count": null,
   "id": "f55465c5-6938-474f-9042-a5c1e6826b5e",
   "metadata": {},
   "outputs": [],
   "source": [
    "kn_model.fit(X_train,y_train)"
   ]
  },
  {
   "cell_type": "code",
   "execution_count": null,
   "id": "d02089ad-0964-4a3f-bb41-daa392292f2b",
   "metadata": {},
   "outputs": [],
   "source": []
  },
  {
   "cell_type": "code",
   "execution_count": null,
   "id": "0fa820ff-9404-4c69-9d6f-c8f3f0130692",
   "metadata": {},
   "outputs": [],
   "source": [
    "predictions = kn_model.predict(X_test)"
   ]
  },
  {
   "cell_type": "code",
   "execution_count": null,
   "id": "8275e4b7-595c-4016-845d-0891be87d862",
   "metadata": {},
   "outputs": [],
   "source": []
  }
 ],
 "metadata": {
  "kernelspec": {
   "display_name": "Python 3",
   "language": "python",
   "name": "python3"
  },
  "language_info": {
   "codemirror_mode": {
    "name": "ipython",
    "version": 3
   },
   "file_extension": ".py",
   "mimetype": "text/x-python",
   "name": "python",
   "nbconvert_exporter": "python",
   "pygments_lexer": "ipython3",
   "version": "3.8.8"
  }
 },
 "nbformat": 4,
 "nbformat_minor": 5
}
