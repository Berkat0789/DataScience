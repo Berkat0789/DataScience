{
 "cells": [
  {
   "cell_type": "code",
   "execution_count": 1,
   "id": "7f587056-511a-4bc7-8e10-6d0182ac5c5b",
   "metadata": {},
   "outputs": [],
   "source": [
    "import pandas as pd\n",
    "import numpy as np\n",
    "import matplotlib.pyplot as plt\n",
    "import seaborn as sns\n",
    "from zipfile import ZipFile"
   ]
  },
  {
   "cell_type": "code",
   "execution_count": 2,
   "id": "95f0b134-c71f-4f3e-95c2-f5d697cd0946",
   "metadata": {},
   "outputs": [],
   "source": [
    "from sklearn.preprocessing import StandardScaler\n",
    "from sklearn.model_selection import train_test_split, GridSearchCV\n",
    "from sklearn.linear_model import LogisticRegression\n",
    "from sklearn.ensemble import RandomForestClassifier\n",
    "from sklearn.svm import SVC\n",
    "from sklearn.neighbors import KNeighborsClassifier\n",
    "from sklearn.cluster import KMeans\n",
    "from sklearn.metrics import classification_report, explained_variance_score"
   ]
  },
  {
   "cell_type": "code",
   "execution_count": 6,
   "id": "7035bcc2-1614-4083-98a4-fdc40855078d",
   "metadata": {},
   "outputs": [],
   "source": [
    "df= pd.read_csv(\"data.csv\")"
   ]
  },
  {
   "cell_type": "code",
   "execution_count": 8,
   "id": "9cdc7ea3-fba3-410d-9bd0-b1fce96db76f",
   "metadata": {},
   "outputs": [
    {
     "name": "stdout",
     "output_type": "stream",
     "text": [
      "<class 'pandas.core.frame.DataFrame'>\n",
      "RangeIndex: 1000 entries, 0 to 999\n",
      "Data columns (total 11 columns):\n",
      " #   Column                 Non-Null Count  Dtype  \n",
      "---  ------                 --------------  -----  \n",
      " 0   type_school            1000 non-null   object \n",
      " 1   school_accreditation   1000 non-null   object \n",
      " 2   gender                 1000 non-null   object \n",
      " 3   interest               1000 non-null   object \n",
      " 4   residence              1000 non-null   object \n",
      " 5   parent_age             1000 non-null   int64  \n",
      " 6   parent_salary          1000 non-null   int64  \n",
      " 7   house_area             1000 non-null   float64\n",
      " 8   average_grades         1000 non-null   float64\n",
      " 9   parent_was_in_college  1000 non-null   bool   \n",
      " 10  in_college             1000 non-null   bool   \n",
      "dtypes: bool(2), float64(2), int64(2), object(5)\n",
      "memory usage: 72.4+ KB\n"
     ]
    }
   ],
   "source": [
    "df.info()"
   ]
  },
  {
   "cell_type": "code",
   "execution_count": 9,
   "id": "b462cb43-cf07-46b1-8d9d-2a7d6a69895f",
   "metadata": {},
   "outputs": [
    {
     "data": {
      "text/html": [
       "<div>\n",
       "<style scoped>\n",
       "    .dataframe tbody tr th:only-of-type {\n",
       "        vertical-align: middle;\n",
       "    }\n",
       "\n",
       "    .dataframe tbody tr th {\n",
       "        vertical-align: top;\n",
       "    }\n",
       "\n",
       "    .dataframe thead th {\n",
       "        text-align: right;\n",
       "    }\n",
       "</style>\n",
       "<table border=\"1\" class=\"dataframe\">\n",
       "  <thead>\n",
       "    <tr style=\"text-align: right;\">\n",
       "      <th></th>\n",
       "      <th>parent_age</th>\n",
       "      <th>parent_salary</th>\n",
       "      <th>house_area</th>\n",
       "      <th>average_grades</th>\n",
       "    </tr>\n",
       "  </thead>\n",
       "  <tbody>\n",
       "    <tr>\n",
       "      <th>count</th>\n",
       "      <td>1000.000000</td>\n",
       "      <td>1.000000e+03</td>\n",
       "      <td>1000.000000</td>\n",
       "      <td>1000.000000</td>\n",
       "    </tr>\n",
       "    <tr>\n",
       "      <th>mean</th>\n",
       "      <td>52.208000</td>\n",
       "      <td>5.381570e+06</td>\n",
       "      <td>74.515300</td>\n",
       "      <td>86.097200</td>\n",
       "    </tr>\n",
       "    <tr>\n",
       "      <th>std</th>\n",
       "      <td>3.500427</td>\n",
       "      <td>1.397546e+06</td>\n",
       "      <td>15.293346</td>\n",
       "      <td>3.378738</td>\n",
       "    </tr>\n",
       "    <tr>\n",
       "      <th>min</th>\n",
       "      <td>40.000000</td>\n",
       "      <td>1.000000e+06</td>\n",
       "      <td>20.000000</td>\n",
       "      <td>75.000000</td>\n",
       "    </tr>\n",
       "    <tr>\n",
       "      <th>25%</th>\n",
       "      <td>50.000000</td>\n",
       "      <td>4.360000e+06</td>\n",
       "      <td>64.600000</td>\n",
       "      <td>83.737500</td>\n",
       "    </tr>\n",
       "    <tr>\n",
       "      <th>50%</th>\n",
       "      <td>52.000000</td>\n",
       "      <td>5.440000e+06</td>\n",
       "      <td>75.500000</td>\n",
       "      <td>85.575000</td>\n",
       "    </tr>\n",
       "    <tr>\n",
       "      <th>75%</th>\n",
       "      <td>54.000000</td>\n",
       "      <td>6.382500e+06</td>\n",
       "      <td>84.825000</td>\n",
       "      <td>88.262500</td>\n",
       "    </tr>\n",
       "    <tr>\n",
       "      <th>max</th>\n",
       "      <td>65.000000</td>\n",
       "      <td>1.000000e+07</td>\n",
       "      <td>120.000000</td>\n",
       "      <td>98.000000</td>\n",
       "    </tr>\n",
       "  </tbody>\n",
       "</table>\n",
       "</div>"
      ],
      "text/plain": [
       "        parent_age  parent_salary   house_area  average_grades\n",
       "count  1000.000000   1.000000e+03  1000.000000     1000.000000\n",
       "mean     52.208000   5.381570e+06    74.515300       86.097200\n",
       "std       3.500427   1.397546e+06    15.293346        3.378738\n",
       "min      40.000000   1.000000e+06    20.000000       75.000000\n",
       "25%      50.000000   4.360000e+06    64.600000       83.737500\n",
       "50%      52.000000   5.440000e+06    75.500000       85.575000\n",
       "75%      54.000000   6.382500e+06    84.825000       88.262500\n",
       "max      65.000000   1.000000e+07   120.000000       98.000000"
      ]
     },
     "execution_count": 9,
     "metadata": {},
     "output_type": "execute_result"
    }
   ],
   "source": [
    "df.describe()"
   ]
  },
  {
   "cell_type": "code",
   "execution_count": 11,
   "id": "95e95411-d559-49f6-9e1d-1402a2c4ae8f",
   "metadata": {},
   "outputs": [
    {
     "data": {
      "text/plain": [
       "['type_school',\n",
       " 'school_accreditation',\n",
       " 'gender',\n",
       " 'interest',\n",
       " 'residence',\n",
       " 'parent_age',\n",
       " 'parent_salary',\n",
       " 'house_area',\n",
       " 'average_grades',\n",
       " 'parent_was_in_college',\n",
       " 'in_college']"
      ]
     },
     "execution_count": 11,
     "metadata": {},
     "output_type": "execute_result"
    }
   ],
   "source": [
    "list(df.columns)"
   ]
  },
  {
   "cell_type": "code",
   "execution_count": 12,
   "id": "973f60a0-8b53-4ccd-a2cf-02ff5cca7b6e",
   "metadata": {},
   "outputs": [
    {
     "data": {
      "text/html": [
       "<div>\n",
       "<style scoped>\n",
       "    .dataframe tbody tr th:only-of-type {\n",
       "        vertical-align: middle;\n",
       "    }\n",
       "\n",
       "    .dataframe tbody tr th {\n",
       "        vertical-align: top;\n",
       "    }\n",
       "\n",
       "    .dataframe thead th {\n",
       "        text-align: right;\n",
       "    }\n",
       "</style>\n",
       "<table border=\"1\" class=\"dataframe\">\n",
       "  <thead>\n",
       "    <tr style=\"text-align: right;\">\n",
       "      <th></th>\n",
       "      <th>type_school</th>\n",
       "      <th>school_accreditation</th>\n",
       "      <th>gender</th>\n",
       "      <th>interest</th>\n",
       "      <th>residence</th>\n",
       "      <th>parent_age</th>\n",
       "      <th>parent_salary</th>\n",
       "      <th>house_area</th>\n",
       "      <th>average_grades</th>\n",
       "      <th>parent_was_in_college</th>\n",
       "      <th>in_college</th>\n",
       "    </tr>\n",
       "  </thead>\n",
       "  <tbody>\n",
       "    <tr>\n",
       "      <th>0</th>\n",
       "      <td>Academic</td>\n",
       "      <td>A</td>\n",
       "      <td>Male</td>\n",
       "      <td>Less Interested</td>\n",
       "      <td>Urban</td>\n",
       "      <td>56</td>\n",
       "      <td>6950000</td>\n",
       "      <td>83.0</td>\n",
       "      <td>84.09</td>\n",
       "      <td>False</td>\n",
       "      <td>True</td>\n",
       "    </tr>\n",
       "    <tr>\n",
       "      <th>1</th>\n",
       "      <td>Academic</td>\n",
       "      <td>A</td>\n",
       "      <td>Male</td>\n",
       "      <td>Less Interested</td>\n",
       "      <td>Urban</td>\n",
       "      <td>57</td>\n",
       "      <td>4410000</td>\n",
       "      <td>76.8</td>\n",
       "      <td>86.91</td>\n",
       "      <td>False</td>\n",
       "      <td>True</td>\n",
       "    </tr>\n",
       "    <tr>\n",
       "      <th>2</th>\n",
       "      <td>Academic</td>\n",
       "      <td>B</td>\n",
       "      <td>Female</td>\n",
       "      <td>Very Interested</td>\n",
       "      <td>Urban</td>\n",
       "      <td>50</td>\n",
       "      <td>6500000</td>\n",
       "      <td>80.6</td>\n",
       "      <td>87.43</td>\n",
       "      <td>False</td>\n",
       "      <td>True</td>\n",
       "    </tr>\n",
       "    <tr>\n",
       "      <th>3</th>\n",
       "      <td>Vocational</td>\n",
       "      <td>B</td>\n",
       "      <td>Male</td>\n",
       "      <td>Very Interested</td>\n",
       "      <td>Rural</td>\n",
       "      <td>49</td>\n",
       "      <td>6600000</td>\n",
       "      <td>78.2</td>\n",
       "      <td>82.12</td>\n",
       "      <td>True</td>\n",
       "      <td>True</td>\n",
       "    </tr>\n",
       "    <tr>\n",
       "      <th>4</th>\n",
       "      <td>Academic</td>\n",
       "      <td>A</td>\n",
       "      <td>Female</td>\n",
       "      <td>Very Interested</td>\n",
       "      <td>Urban</td>\n",
       "      <td>57</td>\n",
       "      <td>5250000</td>\n",
       "      <td>75.1</td>\n",
       "      <td>86.79</td>\n",
       "      <td>False</td>\n",
       "      <td>False</td>\n",
       "    </tr>\n",
       "    <tr>\n",
       "      <th>...</th>\n",
       "      <td>...</td>\n",
       "      <td>...</td>\n",
       "      <td>...</td>\n",
       "      <td>...</td>\n",
       "      <td>...</td>\n",
       "      <td>...</td>\n",
       "      <td>...</td>\n",
       "      <td>...</td>\n",
       "      <td>...</td>\n",
       "      <td>...</td>\n",
       "      <td>...</td>\n",
       "    </tr>\n",
       "    <tr>\n",
       "      <th>995</th>\n",
       "      <td>Vocational</td>\n",
       "      <td>A</td>\n",
       "      <td>Female</td>\n",
       "      <td>Very Interested</td>\n",
       "      <td>Rural</td>\n",
       "      <td>49</td>\n",
       "      <td>7420000</td>\n",
       "      <td>63.6</td>\n",
       "      <td>85.99</td>\n",
       "      <td>True</td>\n",
       "      <td>True</td>\n",
       "    </tr>\n",
       "    <tr>\n",
       "      <th>996</th>\n",
       "      <td>Academic</td>\n",
       "      <td>B</td>\n",
       "      <td>Female</td>\n",
       "      <td>Less Interested</td>\n",
       "      <td>Rural</td>\n",
       "      <td>51</td>\n",
       "      <td>7480000</td>\n",
       "      <td>84.3</td>\n",
       "      <td>89.72</td>\n",
       "      <td>True</td>\n",
       "      <td>True</td>\n",
       "    </tr>\n",
       "    <tr>\n",
       "      <th>997</th>\n",
       "      <td>Vocational</td>\n",
       "      <td>A</td>\n",
       "      <td>Male</td>\n",
       "      <td>Less Interested</td>\n",
       "      <td>Urban</td>\n",
       "      <td>49</td>\n",
       "      <td>5550000</td>\n",
       "      <td>75.2</td>\n",
       "      <td>79.56</td>\n",
       "      <td>False</td>\n",
       "      <td>True</td>\n",
       "    </tr>\n",
       "    <tr>\n",
       "      <th>998</th>\n",
       "      <td>Academic</td>\n",
       "      <td>B</td>\n",
       "      <td>Male</td>\n",
       "      <td>Uncertain</td>\n",
       "      <td>Rural</td>\n",
       "      <td>53</td>\n",
       "      <td>5840000</td>\n",
       "      <td>105.8</td>\n",
       "      <td>87.18</td>\n",
       "      <td>True</td>\n",
       "      <td>True</td>\n",
       "    </tr>\n",
       "    <tr>\n",
       "      <th>999</th>\n",
       "      <td>Academic</td>\n",
       "      <td>B</td>\n",
       "      <td>Male</td>\n",
       "      <td>Quiet Interested</td>\n",
       "      <td>Urban</td>\n",
       "      <td>50</td>\n",
       "      <td>2940000</td>\n",
       "      <td>69.1</td>\n",
       "      <td>86.13</td>\n",
       "      <td>True</td>\n",
       "      <td>False</td>\n",
       "    </tr>\n",
       "  </tbody>\n",
       "</table>\n",
       "<p>1000 rows × 11 columns</p>\n",
       "</div>"
      ],
      "text/plain": [
       "    type_school school_accreditation  gender          interest residence  \\\n",
       "0      Academic                    A    Male   Less Interested     Urban   \n",
       "1      Academic                    A    Male   Less Interested     Urban   \n",
       "2      Academic                    B  Female   Very Interested     Urban   \n",
       "3    Vocational                    B    Male   Very Interested     Rural   \n",
       "4      Academic                    A  Female   Very Interested     Urban   \n",
       "..          ...                  ...     ...               ...       ...   \n",
       "995  Vocational                    A  Female   Very Interested     Rural   \n",
       "996    Academic                    B  Female   Less Interested     Rural   \n",
       "997  Vocational                    A    Male   Less Interested     Urban   \n",
       "998    Academic                    B    Male         Uncertain     Rural   \n",
       "999    Academic                    B    Male  Quiet Interested     Urban   \n",
       "\n",
       "     parent_age  parent_salary  house_area  average_grades  \\\n",
       "0            56        6950000        83.0           84.09   \n",
       "1            57        4410000        76.8           86.91   \n",
       "2            50        6500000        80.6           87.43   \n",
       "3            49        6600000        78.2           82.12   \n",
       "4            57        5250000        75.1           86.79   \n",
       "..          ...            ...         ...             ...   \n",
       "995          49        7420000        63.6           85.99   \n",
       "996          51        7480000        84.3           89.72   \n",
       "997          49        5550000        75.2           79.56   \n",
       "998          53        5840000       105.8           87.18   \n",
       "999          50        2940000        69.1           86.13   \n",
       "\n",
       "     parent_was_in_college  in_college  \n",
       "0                    False        True  \n",
       "1                    False        True  \n",
       "2                    False        True  \n",
       "3                     True        True  \n",
       "4                    False       False  \n",
       "..                     ...         ...  \n",
       "995                   True        True  \n",
       "996                   True        True  \n",
       "997                  False        True  \n",
       "998                   True        True  \n",
       "999                   True       False  \n",
       "\n",
       "[1000 rows x 11 columns]"
      ]
     },
     "execution_count": 12,
     "metadata": {},
     "output_type": "execute_result"
    }
   ],
   "source": [
    "df"
   ]
  },
  {
   "cell_type": "code",
   "execution_count": 13,
   "id": "32910246-3c20-4f65-bac9-6aacff9c4f68",
   "metadata": {},
   "outputs": [
    {
     "data": {
      "text/plain": [
       "<AxesSubplot:xlabel='type_school', ylabel='count'>"
      ]
     },
     "execution_count": 13,
     "metadata": {},
     "output_type": "execute_result"
    },
    {
     "data": {
      "image/png": "[encoded data removed]",
      "text/plain": [
       "<Figure size 432x288 with 1 Axes>"
      ]
     },
     "metadata": {
      "needs_background": "light"
     },
     "output_type": "display_data"
    }
   ],
   "source": [
    "sns.countplot(x = df[\"type_school\"])"
   ]
  },
  {
   "cell_type": "code",
   "execution_count": 15,
   "id": "ff816270-46a7-4ad6-8bfc-207f64500a9b",
   "metadata": {},
   "outputs": [
    {
     "data": {
      "text/plain": [
       "<AxesSubplot:xlabel='gender', ylabel='count'>"
      ]
     },
     "execution_count": 15,
     "metadata": {},
     "output_type": "execute_result"
    },
    {
     "data": {
      "image/png": "[encoded data removed]",
      "text/plain": [
       "<Figure size 432x288 with 1 Axes>"
      ]
     },
     "metadata": {
      "needs_background": "light"
     },
     "output_type": "display_data"
    }
   ],
   "source": [
    "sns.countplot(x = df[\"gender\"], palette= \"magma\")"
   ]
  },
  {
   "cell_type": "code",
   "execution_count": 17,
   "id": "2317207e-ead7-457c-9c2c-2272c01478c2",
   "metadata": {},
   "outputs": [
    {
     "data": {
      "text/plain": [
       "<AxesSubplot:xlabel='residence', ylabel='count'>"
      ]
     },
     "execution_count": 17,
     "metadata": {},
     "output_type": "execute_result"
    },
    {
     "data": {
      "image/png": "[encoded data removed]",
      "text/plain": [
       "<Figure size 432x288 with 1 Axes>"
      ]
     },
     "metadata": {
      "needs_background": "light"
     },
     "output_type": "display_data"
    }
   ],
   "source": [
    "sns.countplot(x = df[\"residence\"], palette= \"coolwarm\")"
   ]
  },
  {
   "cell_type": "code",
   "execution_count": 18,
   "id": "529ccfc6-6e51-4604-9ae2-f39fd82ba643",
   "metadata": {},
   "outputs": [
    {
     "data": {
      "text/plain": [
       "<AxesSubplot:xlabel='parent_was_in_college', ylabel='count'>"
      ]
     },
     "execution_count": 18,
     "metadata": {},
     "output_type": "execute_result"
    },
    {
     "data": {
      "image/png": "[encoded data removed]",
      "text/plain": [
       "<Figure size 432x288 with 1 Axes>"
      ]
     },
     "metadata": {
      "needs_background": "light"
     },
     "output_type": "display_data"
    }
   ],
   "source": [
    "sns.countplot(x = df[\"parent_was_in_college\"], palette= \"coolwarm\")"
   ]
  },
  {
   "cell_type": "code",
   "execution_count": 19,
   "id": "24d9d16b-141b-42d3-a0cc-833ea76f37af",
   "metadata": {},
   "outputs": [
    {
     "data": {
      "text/plain": [
       "<AxesSubplot:xlabel='in_college', ylabel='count'>"
      ]
     },
     "execution_count": 19,
     "metadata": {},
     "output_type": "execute_result"
    },
    {
     "data": {
      "image/png": "[encoded data removed]",
      "text/plain": [
       "<Figure size 432x288 with 1 Axes>"
      ]
     },
     "metadata": {
      "needs_background": "light"
     },
     "output_type": "display_data"
    }
   ],
   "source": [
    "sns.countplot(x = df[\"in_college\"], palette= \"coolwarm\")"
   ]
  },
  {
   "cell_type": "code",
   "execution_count": 21,
   "id": "c9fd547a-38c6-4530-b9be-70ba52e77c48",
   "metadata": {},
   "outputs": [
    {
     "data": {
      "text/plain": [
       "<AxesSubplot:xlabel='school_accreditation', ylabel='count'>"
      ]
     },
     "execution_count": 21,
     "metadata": {},
     "output_type": "execute_result"
    },
    {
     "data": {
      "image/png": "[encoded data removed]",
      "text/plain": [
       "<Figure size 432x288 with 1 Axes>"
      ]
     },
     "metadata": {
      "needs_background": "light"
     },
     "output_type": "display_data"
    }
   ],
   "source": [
    "sns.countplot(x = df[\"school_accreditation\"], palette= \"twilight\")"
   ]
  },
  {
   "cell_type": "markdown",
   "id": "e4dc61da-6f97-4d6f-abdc-febf931d1e7d",
   "metadata": {},
   "source": [
    "## Getting dummies"
   ]
  },
  {
   "cell_type": "code",
   "execution_count": 23,
   "id": "b00c4645-2177-4d70-8985-26d3688aa8d8",
   "metadata": {},
   "outputs": [],
   "source": [
    "df[\"type_school\"] = pd.get_dummies(df[\"type_school\"], drop_first=True)"
   ]
  },
  {
   "cell_type": "code",
   "execution_count": 26,
   "id": "f433e485-4aa4-42da-91ef-9bbfd70f43b3",
   "metadata": {},
   "outputs": [],
   "source": [
    "df[\"school_accreditation\"] = pd.get_dummies(df[\"school_accreditation\"], drop_first=True)"
   ]
  },
  {
   "cell_type": "code",
   "execution_count": 28,
   "id": "6c002edb-c955-4d25-bbb6-35d5986e4019",
   "metadata": {},
   "outputs": [],
   "source": [
    "df[\"gender\"] = pd.get_dummies(df[\"gender\"], drop_first=True)"
   ]
  },
  {
   "cell_type": "code",
   "execution_count": 31,
   "id": "dcb79ca3-29cb-45b2-ac76-6856d40e2361",
   "metadata": {},
   "outputs": [],
   "source": [
    "interest =  pd.get_dummies(df[\"interest\"], drop_first=True)"
   ]
  },
  {
   "cell_type": "code",
   "execution_count": 32,
   "id": "b7974602-8f7a-46a2-9d71-2667f7796c2b",
   "metadata": {},
   "outputs": [],
   "source": [
    "df = pd.concat([df, interest], axis=1)"
   ]
  },
  {
   "cell_type": "code",
   "execution_count": 34,
   "id": "2b3aee88-6e64-41fe-9f69-3cc580504d34",
   "metadata": {},
   "outputs": [],
   "source": [
    "df.drop(\"interest\", axis=1, inplace=True)"
   ]
  },
  {
   "cell_type": "code",
   "execution_count": 37,
   "id": "927fae39-603c-43c4-b9b2-a21fb1297f6d",
   "metadata": {},
   "outputs": [],
   "source": [
    "df[\"residence\"] = pd.get_dummies(df[\"residence\"], drop_first=True)"
   ]
  },
  {
   "cell_type": "code",
   "execution_count": 39,
   "id": "89bfa876-fbf3-4320-bef3-968763d9ad6d",
   "metadata": {},
   "outputs": [],
   "source": [
    "df[\"parent_was_in_college\"] = pd.get_dummies(df[\"parent_was_in_college\"], drop_first=True)"
   ]
  },
  {
   "cell_type": "code",
   "execution_count": 41,
   "id": "7564a118-4462-4da6-9fcf-04347053ba6c",
   "metadata": {},
   "outputs": [],
   "source": [
    "df[\"in_college\"] = pd.get_dummies(df[\"in_college\"], drop_first=True)"
   ]
  },
  {
   "cell_type": "code",
   "execution_count": null,
   "id": "7beff31c-256d-4c70-a0b5-83dd7db59245",
   "metadata": {},
   "outputs": [],
   "source": []
  },
  {
   "cell_type": "code",
   "execution_count": 43,
   "id": "3b0521f9-385a-4f21-a4bb-0658d437b42e",
   "metadata": {},
   "outputs": [
    {
     "data": {
      "text/html": [
       "<div>\n",
       "<style scoped>\n",
       "    .dataframe tbody tr th:only-of-type {\n",
       "        vertical-align: middle;\n",
       "    }\n",
       "\n",
       "    .dataframe tbody tr th {\n",
       "        vertical-align: top;\n",
       "    }\n",
       "\n",
       "    .dataframe thead th {\n",
       "        text-align: right;\n",
       "    }\n",
       "</style>\n",
       "<table border=\"1\" class=\"dataframe\">\n",
       "  <thead>\n",
       "    <tr style=\"text-align: right;\">\n",
       "      <th></th>\n",
       "      <th>type_school</th>\n",
       "      <th>school_accreditation</th>\n",
       "      <th>gender</th>\n",
       "      <th>residence</th>\n",
       "      <th>parent_age</th>\n",
       "      <th>parent_salary</th>\n",
       "      <th>house_area</th>\n",
       "      <th>average_grades</th>\n",
       "      <th>parent_was_in_college</th>\n",
       "      <th>in_college</th>\n",
       "      <th>Not Interested</th>\n",
       "      <th>Quiet Interested</th>\n",
       "      <th>Uncertain</th>\n",
       "      <th>Very Interested</th>\n",
       "    </tr>\n",
       "  </thead>\n",
       "  <tbody>\n",
       "    <tr>\n",
       "      <th>type_school</th>\n",
       "      <td>1.000000</td>\n",
       "      <td>-0.020216</td>\n",
       "      <td>0.027206</td>\n",
       "      <td>-0.245634</td>\n",
       "      <td>-0.108553</td>\n",
       "      <td>0.134980</td>\n",
       "      <td>-0.039654</td>\n",
       "      <td>-0.074534</td>\n",
       "      <td>0.146354</td>\n",
       "      <td>-0.034838</td>\n",
       "      <td>0.163540</td>\n",
       "      <td>0.012979</td>\n",
       "      <td>0.153746</td>\n",
       "      <td>-0.064299</td>\n",
       "    </tr>\n",
       "    <tr>\n",
       "      <th>school_accreditation</th>\n",
       "      <td>-0.020216</td>\n",
       "      <td>1.000000</td>\n",
       "      <td>-0.049198</td>\n",
       "      <td>-0.263958</td>\n",
       "      <td>-0.165869</td>\n",
       "      <td>-0.020740</td>\n",
       "      <td>0.115532</td>\n",
       "      <td>0.159689</td>\n",
       "      <td>0.525279</td>\n",
       "      <td>-0.030022</td>\n",
       "      <td>0.123971</td>\n",
       "      <td>0.014010</td>\n",
       "      <td>0.089053</td>\n",
       "      <td>-0.073369</td>\n",
       "    </tr>\n",
       "    <tr>\n",
       "      <th>gender</th>\n",
       "      <td>0.027206</td>\n",
       "      <td>-0.049198</td>\n",
       "      <td>1.000000</td>\n",
       "      <td>0.009694</td>\n",
       "      <td>0.090292</td>\n",
       "      <td>-0.017202</td>\n",
       "      <td>-0.008192</td>\n",
       "      <td>0.027878</td>\n",
       "      <td>-0.059274</td>\n",
       "      <td>-0.034015</td>\n",
       "      <td>0.005067</td>\n",
       "      <td>0.096710</td>\n",
       "      <td>0.030001</td>\n",
       "      <td>-0.012228</td>\n",
       "    </tr>\n",
       "    <tr>\n",
       "      <th>residence</th>\n",
       "      <td>-0.245634</td>\n",
       "      <td>-0.263958</td>\n",
       "      <td>0.009694</td>\n",
       "      <td>1.000000</td>\n",
       "      <td>0.527456</td>\n",
       "      <td>-0.297498</td>\n",
       "      <td>-0.241503</td>\n",
       "      <td>-0.218412</td>\n",
       "      <td>-0.619502</td>\n",
       "      <td>0.006018</td>\n",
       "      <td>-0.217194</td>\n",
       "      <td>0.254776</td>\n",
       "      <td>-0.295445</td>\n",
       "      <td>0.040139</td>\n",
       "    </tr>\n",
       "    <tr>\n",
       "      <th>parent_age</th>\n",
       "      <td>-0.108553</td>\n",
       "      <td>-0.165869</td>\n",
       "      <td>0.090292</td>\n",
       "      <td>0.527456</td>\n",
       "      <td>1.000000</td>\n",
       "      <td>-0.286418</td>\n",
       "      <td>0.107060</td>\n",
       "      <td>-0.006077</td>\n",
       "      <td>-0.438322</td>\n",
       "      <td>0.042873</td>\n",
       "      <td>-0.097755</td>\n",
       "      <td>0.145007</td>\n",
       "      <td>-0.108873</td>\n",
       "      <td>-0.048487</td>\n",
       "    </tr>\n",
       "    <tr>\n",
       "      <th>parent_salary</th>\n",
       "      <td>0.134980</td>\n",
       "      <td>-0.020740</td>\n",
       "      <td>-0.017202</td>\n",
       "      <td>-0.297498</td>\n",
       "      <td>-0.286418</td>\n",
       "      <td>1.000000</td>\n",
       "      <td>0.138357</td>\n",
       "      <td>0.306712</td>\n",
       "      <td>0.106487</td>\n",
       "      <td>0.475693</td>\n",
       "      <td>-0.020875</td>\n",
       "      <td>-0.115539</td>\n",
       "      <td>0.096843</td>\n",
       "      <td>0.088373</td>\n",
       "    </tr>\n",
       "    <tr>\n",
       "      <th>house_area</th>\n",
       "      <td>-0.039654</td>\n",
       "      <td>0.115532</td>\n",
       "      <td>-0.008192</td>\n",
       "      <td>-0.241503</td>\n",
       "      <td>0.107060</td>\n",
       "      <td>0.138357</td>\n",
       "      <td>1.000000</td>\n",
       "      <td>0.409565</td>\n",
       "      <td>0.145186</td>\n",
       "      <td>0.467267</td>\n",
       "      <td>0.057398</td>\n",
       "      <td>-0.316381</td>\n",
       "      <td>0.158585</td>\n",
       "      <td>0.105741</td>\n",
       "    </tr>\n",
       "    <tr>\n",
       "      <th>average_grades</th>\n",
       "      <td>-0.074534</td>\n",
       "      <td>0.159689</td>\n",
       "      <td>0.027878</td>\n",
       "      <td>-0.218412</td>\n",
       "      <td>-0.006077</td>\n",
       "      <td>0.306712</td>\n",
       "      <td>0.409565</td>\n",
       "      <td>1.000000</td>\n",
       "      <td>0.236713</td>\n",
       "      <td>0.505133</td>\n",
       "      <td>0.045987</td>\n",
       "      <td>-0.111212</td>\n",
       "      <td>0.180962</td>\n",
       "      <td>0.003934</td>\n",
       "    </tr>\n",
       "    <tr>\n",
       "      <th>parent_was_in_college</th>\n",
       "      <td>0.146354</td>\n",
       "      <td>0.525279</td>\n",
       "      <td>-0.059274</td>\n",
       "      <td>-0.619502</td>\n",
       "      <td>-0.438322</td>\n",
       "      <td>0.106487</td>\n",
       "      <td>0.145186</td>\n",
       "      <td>0.236713</td>\n",
       "      <td>1.000000</td>\n",
       "      <td>0.048038</td>\n",
       "      <td>0.194760</td>\n",
       "      <td>-0.166800</td>\n",
       "      <td>0.251944</td>\n",
       "      <td>-0.091868</td>\n",
       "    </tr>\n",
       "    <tr>\n",
       "      <th>in_college</th>\n",
       "      <td>-0.034838</td>\n",
       "      <td>-0.030022</td>\n",
       "      <td>-0.034015</td>\n",
       "      <td>0.006018</td>\n",
       "      <td>0.042873</td>\n",
       "      <td>0.475693</td>\n",
       "      <td>0.467267</td>\n",
       "      <td>0.505133</td>\n",
       "      <td>0.048038</td>\n",
       "      <td>1.000000</td>\n",
       "      <td>0.021401</td>\n",
       "      <td>-0.206667</td>\n",
       "      <td>0.125233</td>\n",
       "      <td>0.119658</td>\n",
       "    </tr>\n",
       "    <tr>\n",
       "      <th>Not Interested</th>\n",
       "      <td>0.163540</td>\n",
       "      <td>0.123971</td>\n",
       "      <td>0.005067</td>\n",
       "      <td>-0.217194</td>\n",
       "      <td>-0.097755</td>\n",
       "      <td>-0.020875</td>\n",
       "      <td>0.057398</td>\n",
       "      <td>0.045987</td>\n",
       "      <td>0.194760</td>\n",
       "      <td>0.021401</td>\n",
       "      <td>1.000000</td>\n",
       "      <td>-0.102248</td>\n",
       "      <td>-0.182295</td>\n",
       "      <td>-0.212361</td>\n",
       "    </tr>\n",
       "    <tr>\n",
       "      <th>Quiet Interested</th>\n",
       "      <td>0.012979</td>\n",
       "      <td>0.014010</td>\n",
       "      <td>0.096710</td>\n",
       "      <td>0.254776</td>\n",
       "      <td>0.145007</td>\n",
       "      <td>-0.115539</td>\n",
       "      <td>-0.316381</td>\n",
       "      <td>-0.111212</td>\n",
       "      <td>-0.166800</td>\n",
       "      <td>-0.206667</td>\n",
       "      <td>-0.102248</td>\n",
       "      <td>1.000000</td>\n",
       "      <td>-0.198096</td>\n",
       "      <td>-0.230769</td>\n",
       "    </tr>\n",
       "    <tr>\n",
       "      <th>Uncertain</th>\n",
       "      <td>0.153746</td>\n",
       "      <td>0.089053</td>\n",
       "      <td>0.030001</td>\n",
       "      <td>-0.295445</td>\n",
       "      <td>-0.108873</td>\n",
       "      <td>0.096843</td>\n",
       "      <td>0.158585</td>\n",
       "      <td>0.180962</td>\n",
       "      <td>0.251944</td>\n",
       "      <td>0.125233</td>\n",
       "      <td>-0.182295</td>\n",
       "      <td>-0.198096</td>\n",
       "      <td>1.000000</td>\n",
       "      <td>-0.411431</td>\n",
       "    </tr>\n",
       "    <tr>\n",
       "      <th>Very Interested</th>\n",
       "      <td>-0.064299</td>\n",
       "      <td>-0.073369</td>\n",
       "      <td>-0.012228</td>\n",
       "      <td>0.040139</td>\n",
       "      <td>-0.048487</td>\n",
       "      <td>0.088373</td>\n",
       "      <td>0.105741</td>\n",
       "      <td>0.003934</td>\n",
       "      <td>-0.091868</td>\n",
       "      <td>0.119658</td>\n",
       "      <td>-0.212361</td>\n",
       "      <td>-0.230769</td>\n",
       "      <td>-0.411431</td>\n",
       "      <td>1.000000</td>\n",
       "    </tr>\n",
       "  </tbody>\n",
       "</table>\n",
       "</div>"
      ],
      "text/plain": [
       "                       type_school  school_accreditation    gender  residence  \\\n",
       "type_school               1.000000             -0.020216  0.027206  -0.245634   \n",
       "school_accreditation     -0.020216              1.000000 -0.049198  -0.263958   \n",
       "gender                    0.027206             -0.049198  1.000000   0.009694   \n",
       "residence                -0.245634             -0.263958  0.009694   1.000000   \n",
       "parent_age               -0.108553             -0.165869  0.090292   0.527456   \n",
       "parent_salary             0.134980             -0.020740 -0.017202  -0.297498   \n",
       "house_area               -0.039654              0.115532 -0.008192  -0.241503   \n",
       "average_grades           -0.074534              0.159689  0.027878  -0.218412   \n",
       "parent_was_in_college     0.146354              0.525279 -0.059274  -0.619502   \n",
       "in_college               -0.034838             -0.030022 -0.034015   0.006018   \n",
       "Not Interested            0.163540              0.123971  0.005067  -0.217194   \n",
       "Quiet Interested          0.012979              0.014010  0.096710   0.254776   \n",
       "Uncertain                 0.153746              0.089053  0.030001  -0.295445   \n",
       "Very Interested          -0.064299             -0.073369 -0.012228   0.040139   \n",
       "\n",
       "                       parent_age  parent_salary  house_area  average_grades  \\\n",
       "type_school             -0.108553       0.134980   -0.039654       -0.074534   \n",
       "school_accreditation    -0.165869      -0.020740    0.115532        0.159689   \n",
       "gender                   0.090292      -0.017202   -0.008192        0.027878   \n",
       "residence                0.527456      -0.297498   -0.241503       -0.218412   \n",
       "parent_age               1.000000      -0.286418    0.107060       -0.006077   \n",
       "parent_salary           -0.286418       1.000000    0.138357        0.306712   \n",
       "house_area               0.107060       0.138357    1.000000        0.409565   \n",
       "average_grades          -0.006077       0.306712    0.409565        1.000000   \n",
       "parent_was_in_college   -0.438322       0.106487    0.145186        0.236713   \n",
       "in_college               0.042873       0.475693    0.467267        0.505133   \n",
       "Not Interested          -0.097755      -0.020875    0.057398        0.045987   \n",
       "Quiet Interested         0.145007      -0.115539   -0.316381       -0.111212   \n",
       "Uncertain               -0.108873       0.096843    0.158585        0.180962   \n",
       "Very Interested         -0.048487       0.088373    0.105741        0.003934   \n",
       "\n",
       "                       parent_was_in_college  in_college  Not Interested  \\\n",
       "type_school                         0.146354   -0.034838        0.163540   \n",
       "school_accreditation                0.525279   -0.030022        0.123971   \n",
       "gender                             -0.059274   -0.034015        0.005067   \n",
       "residence                          -0.619502    0.006018       -0.217194   \n",
       "parent_age                         -0.438322    0.042873       -0.097755   \n",
       "parent_salary                       0.106487    0.475693       -0.020875   \n",
       "house_area                          0.145186    0.467267        0.057398   \n",
       "average_grades                      0.236713    0.505133        0.045987   \n",
       "parent_was_in_college               1.000000    0.048038        0.194760   \n",
       "in_college                          0.048038    1.000000        0.021401   \n",
       "Not Interested                      0.194760    0.021401        1.000000   \n",
       "Quiet Interested                   -0.166800   -0.206667       -0.102248   \n",
       "Uncertain                           0.251944    0.125233       -0.182295   \n",
       "Very Interested                    -0.091868    0.119658       -0.212361   \n",
       "\n",
       "                       Quiet Interested  Uncertain  Very Interested  \n",
       "type_school                    0.012979   0.153746        -0.064299  \n",
       "school_accreditation           0.014010   0.089053        -0.073369  \n",
       "gender                         0.096710   0.030001        -0.012228  \n",
       "residence                      0.254776  -0.295445         0.040139  \n",
       "parent_age                     0.145007  -0.108873        -0.048487  \n",
       "parent_salary                 -0.115539   0.096843         0.088373  \n",
       "house_area                    -0.316381   0.158585         0.105741  \n",
       "average_grades                -0.111212   0.180962         0.003934  \n",
       "parent_was_in_college         -0.166800   0.251944        -0.091868  \n",
       "in_college                    -0.206667   0.125233         0.119658  \n",
       "Not Interested                -0.102248  -0.182295        -0.212361  \n",
       "Quiet Interested               1.000000  -0.198096        -0.230769  \n",
       "Uncertain                     -0.198096   1.000000        -0.411431  \n",
       "Very Interested               -0.230769  -0.411431         1.000000  "
      ]
     },
     "execution_count": 43,
     "metadata": {},
     "output_type": "execute_result"
    }
   ],
   "source": [
    "df.corr()"
   ]
  },
  {
   "cell_type": "code",
   "execution_count": 44,
   "id": "76c93521-ef36-4541-bfc4-95d2589ee7b6",
   "metadata": {},
   "outputs": [
    {
     "data": {
      "text/plain": [
       "<AxesSubplot:>"
      ]
     },
     "execution_count": 44,
     "metadata": {},
     "output_type": "execute_result"
    },
    {
     "data": {
      "image/png": "[encoded data removed]",
      "text/plain": [
       "<Figure size 1152x432 with 2 Axes>"
      ]
     },
     "metadata": {
      "needs_background": "light"
     },
     "output_type": "display_data"
    }
   ],
   "source": [
    "plt.figure(figsize=(16,6))\n",
    "sns.heatmap(df.corr(), annot=True, linecolor=\"black\", linewidths=2, cmap=\"twilight\")"
   ]
  },
  {
   "cell_type": "code",
   "execution_count": 45,
   "id": "e920c27e-de17-42e9-b58a-bc70220f6830",
   "metadata": {},
   "outputs": [
    {
     "data": {
      "text/html": [
       "<div>\n",
       "<style scoped>\n",
       "    .dataframe tbody tr th:only-of-type {\n",
       "        vertical-align: middle;\n",
       "    }\n",
       "\n",
       "    .dataframe tbody tr th {\n",
       "        vertical-align: top;\n",
       "    }\n",
       "\n",
       "    .dataframe thead th {\n",
       "        text-align: right;\n",
       "    }\n",
       "</style>\n",
       "<table border=\"1\" class=\"dataframe\">\n",
       "  <thead>\n",
       "    <tr style=\"text-align: right;\">\n",
       "      <th></th>\n",
       "      <th>type_school</th>\n",
       "      <th>school_accreditation</th>\n",
       "      <th>gender</th>\n",
       "      <th>residence</th>\n",
       "      <th>parent_age</th>\n",
       "      <th>parent_salary</th>\n",
       "      <th>house_area</th>\n",
       "      <th>average_grades</th>\n",
       "      <th>parent_was_in_college</th>\n",
       "      <th>in_college</th>\n",
       "      <th>Not Interested</th>\n",
       "      <th>Quiet Interested</th>\n",
       "      <th>Uncertain</th>\n",
       "      <th>Very Interested</th>\n",
       "    </tr>\n",
       "  </thead>\n",
       "  <tbody>\n",
       "    <tr>\n",
       "      <th>0</th>\n",
       "      <td>0</td>\n",
       "      <td>0</td>\n",
       "      <td>1</td>\n",
       "      <td>1</td>\n",
       "      <td>56</td>\n",
       "      <td>6950000</td>\n",
       "      <td>83.0</td>\n",
       "      <td>84.09</td>\n",
       "      <td>0</td>\n",
       "      <td>1</td>\n",
       "      <td>0</td>\n",
       "      <td>0</td>\n",
       "      <td>0</td>\n",
       "      <td>0</td>\n",
       "    </tr>\n",
       "    <tr>\n",
       "      <th>1</th>\n",
       "      <td>0</td>\n",
       "      <td>0</td>\n",
       "      <td>1</td>\n",
       "      <td>1</td>\n",
       "      <td>57</td>\n",
       "      <td>4410000</td>\n",
       "      <td>76.8</td>\n",
       "      <td>86.91</td>\n",
       "      <td>0</td>\n",
       "      <td>1</td>\n",
       "      <td>0</td>\n",
       "      <td>0</td>\n",
       "      <td>0</td>\n",
       "      <td>0</td>\n",
       "    </tr>\n",
       "    <tr>\n",
       "      <th>2</th>\n",
       "      <td>0</td>\n",
       "      <td>1</td>\n",
       "      <td>0</td>\n",
       "      <td>1</td>\n",
       "      <td>50</td>\n",
       "      <td>6500000</td>\n",
       "      <td>80.6</td>\n",
       "      <td>87.43</td>\n",
       "      <td>0</td>\n",
       "      <td>1</td>\n",
       "      <td>0</td>\n",
       "      <td>0</td>\n",
       "      <td>0</td>\n",
       "      <td>1</td>\n",
       "    </tr>\n",
       "    <tr>\n",
       "      <th>3</th>\n",
       "      <td>1</td>\n",
       "      <td>1</td>\n",
       "      <td>1</td>\n",
       "      <td>0</td>\n",
       "      <td>49</td>\n",
       "      <td>6600000</td>\n",
       "      <td>78.2</td>\n",
       "      <td>82.12</td>\n",
       "      <td>1</td>\n",
       "      <td>1</td>\n",
       "      <td>0</td>\n",
       "      <td>0</td>\n",
       "      <td>0</td>\n",
       "      <td>1</td>\n",
       "    </tr>\n",
       "  </tbody>\n",
       "</table>\n",
       "</div>"
      ],
      "text/plain": [
       "   type_school  school_accreditation  gender  residence  parent_age  \\\n",
       "0            0                     0       1          1          56   \n",
       "1            0                     0       1          1          57   \n",
       "2            0                     1       0          1          50   \n",
       "3            1                     1       1          0          49   \n",
       "\n",
       "   parent_salary  house_area  average_grades  parent_was_in_college  \\\n",
       "0        6950000        83.0           84.09                      0   \n",
       "1        4410000        76.8           86.91                      0   \n",
       "2        6500000        80.6           87.43                      0   \n",
       "3        6600000        78.2           82.12                      1   \n",
       "\n",
       "   in_college  Not Interested  Quiet Interested  Uncertain  Very Interested  \n",
       "0           1               0                 0          0                0  \n",
       "1           1               0                 0          0                0  \n",
       "2           1               0                 0          0                1  \n",
       "3           1               0                 0          0                1  "
      ]
     },
     "execution_count": 45,
     "metadata": {},
     "output_type": "execute_result"
    }
   ],
   "source": [
    "df.head(4)"
   ]
  },
  {
   "cell_type": "code",
   "execution_count": 60,
   "id": "575b179a-f85a-4775-b39f-a765e2ff59ee",
   "metadata": {},
   "outputs": [
    {
     "data": {
      "text/plain": [
       "<seaborn.axisgrid.FacetGrid at 0x125bbefa0>"
      ]
     },
     "execution_count": 60,
     "metadata": {},
     "output_type": "execute_result"
    },
    {
     "data": {
      "image/png": "[encoded data removed]",
      "text/plain": [
       "<Figure size 922.125x432 with 1 Axes>"
      ]
     },
     "metadata": {
      "needs_background": "light"
     },
     "output_type": "display_data"
    }
   ],
   "source": [
    "sns.lmplot(x = \"average_grades\", y =\"parent_salary\", data=df, height=6, aspect=2, fit_reg=False, hue = \"in_college\")"
   ]
  },
  {
   "cell_type": "code",
   "execution_count": 66,
   "id": "8b709916-7e85-4985-a789-0f2d50cab1d7",
   "metadata": {},
   "outputs": [
    {
     "data": {
      "text/plain": [
       "<AxesSubplot:xlabel='gender', ylabel='parent_salary'>"
      ]
     },
     "execution_count": 66,
     "metadata": {},
     "output_type": "execute_result"
    },
    {
     "data": {
      "image/png": "[encoded data removed]",
      "text/plain": [
       "<Figure size 432x288 with 1 Axes>"
      ]
     },
     "metadata": {
      "needs_background": "light"
     },
     "output_type": "display_data"
    }
   ],
   "source": [
    "sns.barplot(x = \"gender\", y =\"parent_salary\", data = df, hue=\"in_college\")"
   ]
  },
  {
   "cell_type": "code",
   "execution_count": 88,
   "id": "73cfbf04-f832-4a5c-9adb-922a21770944",
   "metadata": {},
   "outputs": [
    {
     "data": {
      "text/html": [
       "<div>\n",
       "<style scoped>\n",
       "    .dataframe tbody tr th:only-of-type {\n",
       "        vertical-align: middle;\n",
       "    }\n",
       "\n",
       "    .dataframe tbody tr th {\n",
       "        vertical-align: top;\n",
       "    }\n",
       "\n",
       "    .dataframe thead th {\n",
       "        text-align: right;\n",
       "    }\n",
       "</style>\n",
       "<table border=\"1\" class=\"dataframe\">\n",
       "  <thead>\n",
       "    <tr style=\"text-align: right;\">\n",
       "      <th></th>\n",
       "      <th>type_school</th>\n",
       "      <th>school_accreditation</th>\n",
       "      <th>gender</th>\n",
       "      <th>residence</th>\n",
       "      <th>parent_age</th>\n",
       "      <th>parent_salary</th>\n",
       "      <th>house_area</th>\n",
       "      <th>average_grades</th>\n",
       "      <th>parent_was_in_college</th>\n",
       "      <th>in_college</th>\n",
       "      <th>Not Interested</th>\n",
       "      <th>Quiet Interested</th>\n",
       "      <th>Uncertain</th>\n",
       "      <th>Very Interested</th>\n",
       "    </tr>\n",
       "  </thead>\n",
       "  <tbody>\n",
       "    <tr>\n",
       "      <th>0</th>\n",
       "      <td>0</td>\n",
       "      <td>0</td>\n",
       "      <td>1</td>\n",
       "      <td>1</td>\n",
       "      <td>56</td>\n",
       "      <td>6950000</td>\n",
       "      <td>83.0</td>\n",
       "      <td>84.09</td>\n",
       "      <td>0</td>\n",
       "      <td>1</td>\n",
       "      <td>0</td>\n",
       "      <td>0</td>\n",
       "      <td>0</td>\n",
       "      <td>0</td>\n",
       "    </tr>\n",
       "    <tr>\n",
       "      <th>1</th>\n",
       "      <td>0</td>\n",
       "      <td>0</td>\n",
       "      <td>1</td>\n",
       "      <td>1</td>\n",
       "      <td>57</td>\n",
       "      <td>4410000</td>\n",
       "      <td>76.8</td>\n",
       "      <td>86.91</td>\n",
       "      <td>0</td>\n",
       "      <td>1</td>\n",
       "      <td>0</td>\n",
       "      <td>0</td>\n",
       "      <td>0</td>\n",
       "      <td>0</td>\n",
       "    </tr>\n",
       "    <tr>\n",
       "      <th>2</th>\n",
       "      <td>0</td>\n",
       "      <td>1</td>\n",
       "      <td>0</td>\n",
       "      <td>1</td>\n",
       "      <td>50</td>\n",
       "      <td>6500000</td>\n",
       "      <td>80.6</td>\n",
       "      <td>87.43</td>\n",
       "      <td>0</td>\n",
       "      <td>1</td>\n",
       "      <td>0</td>\n",
       "      <td>0</td>\n",
       "      <td>0</td>\n",
       "      <td>1</td>\n",
       "    </tr>\n",
       "  </tbody>\n",
       "</table>\n",
       "</div>"
      ],
      "text/plain": [
       "   type_school  school_accreditation  gender  residence  parent_age  \\\n",
       "0            0                     0       1          1          56   \n",
       "1            0                     0       1          1          57   \n",
       "2            0                     1       0          1          50   \n",
       "\n",
       "   parent_salary  house_area  average_grades  parent_was_in_college  \\\n",
       "0        6950000        83.0           84.09                      0   \n",
       "1        4410000        76.8           86.91                      0   \n",
       "2        6500000        80.6           87.43                      0   \n",
       "\n",
       "   in_college  Not Interested  Quiet Interested  Uncertain  Very Interested  \n",
       "0           1               0                 0          0                0  \n",
       "1           1               0                 0          0                0  \n",
       "2           1               0                 0          0                1  "
      ]
     },
     "execution_count": 88,
     "metadata": {},
     "output_type": "execute_result"
    }
   ],
   "source": [
    "df.head(3)"
   ]
  },
  {
   "cell_type": "code",
   "execution_count": 89,
   "id": "7fee8977-1ff5-4862-950b-d02d55b25700",
   "metadata": {},
   "outputs": [
    {
     "data": {
      "text/plain": [
       "Index(['type_school', 'school_accreditation', 'gender', 'residence',\n",
       "       'parent_age', 'parent_salary', 'house_area', 'average_grades',\n",
       "       'parent_was_in_college', 'in_college', 'Not Interested',\n",
       "       'Quiet Interested', 'Uncertain', 'Very Interested'],\n",
       "      dtype='object')"
      ]
     },
     "execution_count": 89,
     "metadata": {},
     "output_type": "execute_result"
    }
   ],
   "source": [
    "df.columns"
   ]
  },
  {
   "cell_type": "code",
   "execution_count": 92,
   "id": "05880165-315e-434d-a926-7e1e34d928df",
   "metadata": {},
   "outputs": [],
   "source": [
    "scalar = StandardScaler()"
   ]
  },
  {
   "cell_type": "code",
   "execution_count": 93,
   "id": "24848b87-46aa-4952-9d4e-69d87d99f3ee",
   "metadata": {},
   "outputs": [
    {
     "data": {
      "text/plain": [
       "StandardScaler()"
      ]
     },
     "execution_count": 93,
     "metadata": {},
     "output_type": "execute_result"
    }
   ],
   "source": [
    "scalar.fit(df[['parent_age', 'parent_salary', 'house_area', 'average_grades']])"
   ]
  },
  {
   "cell_type": "code",
   "execution_count": 95,
   "id": "c7379308-7cf6-48f8-8de7-b6d741154df8",
   "metadata": {},
   "outputs": [],
   "source": [
    "scaledData = scalar.transform(df[['parent_age', 'parent_salary', 'house_area', 'average_grades']])"
   ]
  },
  {
   "cell_type": "code",
   "execution_count": 98,
   "id": "60f2f9fd-b5bd-492d-b701-b96c42869c64",
   "metadata": {},
   "outputs": [],
   "source": [
    "scaled_values = pd.DataFrame(scaledData, columns= ['parent_age', 'parent_salary', 'house_area', 'average_grades'])"
   ]
  },
  {
   "cell_type": "code",
   "execution_count": 99,
   "id": "f8cb0bee-5dfd-47c5-919a-0ce4143adcb6",
   "metadata": {},
   "outputs": [],
   "source": [
    "df.drop(['parent_age', 'parent_salary', 'house_area', 'average_grades'], axis=1, inplace=True)"
   ]
  },
  {
   "cell_type": "code",
   "execution_count": 100,
   "id": "f390cf6d-4e5d-444b-9b85-065e51d659d4",
   "metadata": {},
   "outputs": [],
   "source": [
    "df = pd.concat([df, scaled_values], axis=1)"
   ]
  },
  {
   "cell_type": "code",
   "execution_count": 101,
   "id": "465424aa-bf06-44fd-a567-6ffc097ecb0a",
   "metadata": {},
   "outputs": [
    {
     "data": {
      "text/html": [
       "<div>\n",
       "<style scoped>\n",
       "    .dataframe tbody tr th:only-of-type {\n",
       "        vertical-align: middle;\n",
       "    }\n",
       "\n",
       "    .dataframe tbody tr th {\n",
       "        vertical-align: top;\n",
       "    }\n",
       "\n",
       "    .dataframe thead th {\n",
       "        text-align: right;\n",
       "    }\n",
       "</style>\n",
       "<table border=\"1\" class=\"dataframe\">\n",
       "  <thead>\n",
       "    <tr style=\"text-align: right;\">\n",
       "      <th></th>\n",
       "      <th>type_school</th>\n",
       "      <th>school_accreditation</th>\n",
       "      <th>gender</th>\n",
       "      <th>residence</th>\n",
       "      <th>parent_was_in_college</th>\n",
       "      <th>in_college</th>\n",
       "      <th>Not Interested</th>\n",
       "      <th>Quiet Interested</th>\n",
       "      <th>Uncertain</th>\n",
       "      <th>Very Interested</th>\n",
       "      <th>parent_age</th>\n",
       "      <th>parent_salary</th>\n",
       "      <th>house_area</th>\n",
       "      <th>average_grades</th>\n",
       "    </tr>\n",
       "  </thead>\n",
       "  <tbody>\n",
       "    <tr>\n",
       "      <th>0</th>\n",
       "      <td>0</td>\n",
       "      <td>0</td>\n",
       "      <td>1</td>\n",
       "      <td>1</td>\n",
       "      <td>0</td>\n",
       "      <td>1</td>\n",
       "      <td>0</td>\n",
       "      <td>0</td>\n",
       "      <td>0</td>\n",
       "      <td>0</td>\n",
       "      <td>1.083838</td>\n",
       "      <td>1.122836</td>\n",
       "      <td>0.555074</td>\n",
       "      <td>-0.594365</td>\n",
       "    </tr>\n",
       "    <tr>\n",
       "      <th>1</th>\n",
       "      <td>0</td>\n",
       "      <td>0</td>\n",
       "      <td>1</td>\n",
       "      <td>1</td>\n",
       "      <td>0</td>\n",
       "      <td>1</td>\n",
       "      <td>0</td>\n",
       "      <td>0</td>\n",
       "      <td>0</td>\n",
       "      <td>0</td>\n",
       "      <td>1.369661</td>\n",
       "      <td>-0.695545</td>\n",
       "      <td>0.149467</td>\n",
       "      <td>0.240684</td>\n",
       "    </tr>\n",
       "    <tr>\n",
       "      <th>2</th>\n",
       "      <td>0</td>\n",
       "      <td>1</td>\n",
       "      <td>0</td>\n",
       "      <td>1</td>\n",
       "      <td>0</td>\n",
       "      <td>1</td>\n",
       "      <td>0</td>\n",
       "      <td>0</td>\n",
       "      <td>0</td>\n",
       "      <td>1</td>\n",
       "      <td>-0.631096</td>\n",
       "      <td>0.800682</td>\n",
       "      <td>0.398065</td>\n",
       "      <td>0.394664</td>\n",
       "    </tr>\n",
       "    <tr>\n",
       "      <th>3</th>\n",
       "      <td>1</td>\n",
       "      <td>1</td>\n",
       "      <td>1</td>\n",
       "      <td>0</td>\n",
       "      <td>1</td>\n",
       "      <td>1</td>\n",
       "      <td>0</td>\n",
       "      <td>0</td>\n",
       "      <td>0</td>\n",
       "      <td>1</td>\n",
       "      <td>-0.916918</td>\n",
       "      <td>0.872272</td>\n",
       "      <td>0.241055</td>\n",
       "      <td>-1.177715</td>\n",
       "    </tr>\n",
       "    <tr>\n",
       "      <th>4</th>\n",
       "      <td>0</td>\n",
       "      <td>0</td>\n",
       "      <td>0</td>\n",
       "      <td>1</td>\n",
       "      <td>0</td>\n",
       "      <td>0</td>\n",
       "      <td>0</td>\n",
       "      <td>0</td>\n",
       "      <td>0</td>\n",
       "      <td>1</td>\n",
       "      <td>1.369661</td>\n",
       "      <td>-0.094191</td>\n",
       "      <td>0.038251</td>\n",
       "      <td>0.205150</td>\n",
       "    </tr>\n",
       "    <tr>\n",
       "      <th>...</th>\n",
       "      <td>...</td>\n",
       "      <td>...</td>\n",
       "      <td>...</td>\n",
       "      <td>...</td>\n",
       "      <td>...</td>\n",
       "      <td>...</td>\n",
       "      <td>...</td>\n",
       "      <td>...</td>\n",
       "      <td>...</td>\n",
       "      <td>...</td>\n",
       "      <td>...</td>\n",
       "      <td>...</td>\n",
       "      <td>...</td>\n",
       "      <td>...</td>\n",
       "    </tr>\n",
       "    <tr>\n",
       "      <th>995</th>\n",
       "      <td>1</td>\n",
       "      <td>0</td>\n",
       "      <td>0</td>\n",
       "      <td>0</td>\n",
       "      <td>1</td>\n",
       "      <td>1</td>\n",
       "      <td>0</td>\n",
       "      <td>0</td>\n",
       "      <td>0</td>\n",
       "      <td>1</td>\n",
       "      <td>-0.916918</td>\n",
       "      <td>1.459308</td>\n",
       "      <td>-0.714086</td>\n",
       "      <td>-0.031744</td>\n",
       "    </tr>\n",
       "    <tr>\n",
       "      <th>996</th>\n",
       "      <td>0</td>\n",
       "      <td>1</td>\n",
       "      <td>0</td>\n",
       "      <td>0</td>\n",
       "      <td>1</td>\n",
       "      <td>1</td>\n",
       "      <td>0</td>\n",
       "      <td>0</td>\n",
       "      <td>0</td>\n",
       "      <td>0</td>\n",
       "      <td>-0.345273</td>\n",
       "      <td>1.502262</td>\n",
       "      <td>0.640121</td>\n",
       "      <td>1.072771</td>\n",
       "    </tr>\n",
       "    <tr>\n",
       "      <th>997</th>\n",
       "      <td>1</td>\n",
       "      <td>0</td>\n",
       "      <td>1</td>\n",
       "      <td>1</td>\n",
       "      <td>0</td>\n",
       "      <td>1</td>\n",
       "      <td>0</td>\n",
       "      <td>0</td>\n",
       "      <td>0</td>\n",
       "      <td>0</td>\n",
       "      <td>-0.916918</td>\n",
       "      <td>0.120579</td>\n",
       "      <td>0.044794</td>\n",
       "      <td>-1.935773</td>\n",
       "    </tr>\n",
       "    <tr>\n",
       "      <th>998</th>\n",
       "      <td>0</td>\n",
       "      <td>1</td>\n",
       "      <td>1</td>\n",
       "      <td>0</td>\n",
       "      <td>1</td>\n",
       "      <td>1</td>\n",
       "      <td>0</td>\n",
       "      <td>0</td>\n",
       "      <td>1</td>\n",
       "      <td>0</td>\n",
       "      <td>0.226371</td>\n",
       "      <td>0.328189</td>\n",
       "      <td>2.046665</td>\n",
       "      <td>0.320635</td>\n",
       "    </tr>\n",
       "    <tr>\n",
       "      <th>999</th>\n",
       "      <td>0</td>\n",
       "      <td>1</td>\n",
       "      <td>1</td>\n",
       "      <td>1</td>\n",
       "      <td>1</td>\n",
       "      <td>0</td>\n",
       "      <td>0</td>\n",
       "      <td>1</td>\n",
       "      <td>0</td>\n",
       "      <td>0</td>\n",
       "      <td>-0.631096</td>\n",
       "      <td>-1.747915</td>\n",
       "      <td>-0.354272</td>\n",
       "      <td>0.009713</td>\n",
       "    </tr>\n",
       "  </tbody>\n",
       "</table>\n",
       "<p>1000 rows × 14 columns</p>\n",
       "</div>"
      ],
      "text/plain": [
       "     type_school  school_accreditation  gender  residence  \\\n",
       "0              0                     0       1          1   \n",
       "1              0                     0       1          1   \n",
       "2              0                     1       0          1   \n",
       "3              1                     1       1          0   \n",
       "4              0                     0       0          1   \n",
       "..           ...                   ...     ...        ...   \n",
       "995            1                     0       0          0   \n",
       "996            0                     1       0          0   \n",
       "997            1                     0       1          1   \n",
       "998            0                     1       1          0   \n",
       "999            0                     1       1          1   \n",
       "\n",
       "     parent_was_in_college  in_college  Not Interested  Quiet Interested  \\\n",
       "0                        0           1               0                 0   \n",
       "1                        0           1               0                 0   \n",
       "2                        0           1               0                 0   \n",
       "3                        1           1               0                 0   \n",
       "4                        0           0               0                 0   \n",
       "..                     ...         ...             ...               ...   \n",
       "995                      1           1               0                 0   \n",
       "996                      1           1               0                 0   \n",
       "997                      0           1               0                 0   \n",
       "998                      1           1               0                 0   \n",
       "999                      1           0               0                 1   \n",
       "\n",
       "     Uncertain  Very Interested  parent_age  parent_salary  house_area  \\\n",
       "0            0                0    1.083838       1.122836    0.555074   \n",
       "1            0                0    1.369661      -0.695545    0.149467   \n",
       "2            0                1   -0.631096       0.800682    0.398065   \n",
       "3            0                1   -0.916918       0.872272    0.241055   \n",
       "4            0                1    1.369661      -0.094191    0.038251   \n",
       "..         ...              ...         ...            ...         ...   \n",
       "995          0                1   -0.916918       1.459308   -0.714086   \n",
       "996          0                0   -0.345273       1.502262    0.640121   \n",
       "997          0                0   -0.916918       0.120579    0.044794   \n",
       "998          1                0    0.226371       0.328189    2.046665   \n",
       "999          0                0   -0.631096      -1.747915   -0.354272   \n",
       "\n",
       "     average_grades  \n",
       "0         -0.594365  \n",
       "1          0.240684  \n",
       "2          0.394664  \n",
       "3         -1.177715  \n",
       "4          0.205150  \n",
       "..              ...  \n",
       "995       -0.031744  \n",
       "996        1.072771  \n",
       "997       -1.935773  \n",
       "998        0.320635  \n",
       "999        0.009713  \n",
       "\n",
       "[1000 rows x 14 columns]"
      ]
     },
     "execution_count": 101,
     "metadata": {},
     "output_type": "execute_result"
    }
   ],
   "source": [
    "df"
   ]
  },
  {
   "cell_type": "code",
   "execution_count": null,
   "id": "b873ee4f-cf97-4cce-9311-5cff8f7e4d3f",
   "metadata": {},
   "outputs": [],
   "source": []
  },
  {
   "cell_type": "code",
   "execution_count": 102,
   "id": "7042acba-67e3-4ed3-bd94-8d35f48725b0",
   "metadata": {},
   "outputs": [],
   "source": [
    "X = df.drop(\"in_college\", axis=1)\n",
    "y = df[\"in_college\"]"
   ]
  },
  {
   "cell_type": "code",
   "execution_count": null,
   "id": "4a6050d1-e3b3-4b8a-989e-d3b4b2782fc3",
   "metadata": {},
   "outputs": [],
   "source": []
  },
  {
   "cell_type": "code",
   "execution_count": 103,
   "id": "c2c806c1-751e-41a0-84da-156ace31956c",
   "metadata": {},
   "outputs": [],
   "source": [
    "X_train, X_test, y_train, y_test = train_test_split(X, y, test_size=0.30, random_state=42)"
   ]
  },
  {
   "cell_type": "code",
   "execution_count": 104,
   "id": "ba4f82f0-b23c-4925-a168-77467d3e2b0d",
   "metadata": {},
   "outputs": [],
   "source": [
    "log_model = LogisticRegression(max_iter=500)"
   ]
  },
  {
   "cell_type": "code",
   "execution_count": 105,
   "id": "66ce7325-e0bf-465c-adc0-94fdba686208",
   "metadata": {},
   "outputs": [
    {
     "data": {
      "text/plain": [
       "LogisticRegression(max_iter=500)"
      ]
     },
     "execution_count": 105,
     "metadata": {},
     "output_type": "execute_result"
    }
   ],
   "source": [
    "log_model.fit(X_train, y_train)"
   ]
  },
  {
   "cell_type": "code",
   "execution_count": 106,
   "id": "57c8b576-c594-44b5-ba32-ccf6158b8d12",
   "metadata": {},
   "outputs": [],
   "source": [
    "predictions = log_model.predict(X_test)"
   ]
  },
  {
   "cell_type": "code",
   "execution_count": 107,
   "id": "6f807650-f5ee-4843-a785-b9273cbd335e",
   "metadata": {},
   "outputs": [
    {
     "name": "stdout",
     "output_type": "stream",
     "text": [
      "              precision    recall  f1-score   support\n",
      "\n",
      "           0       0.84      0.86      0.85       151\n",
      "           1       0.86      0.83      0.84       149\n",
      "\n",
      "    accuracy                           0.85       300\n",
      "   macro avg       0.85      0.85      0.85       300\n",
      "weighted avg       0.85      0.85      0.85       300\n",
      "\n"
     ]
    }
   ],
   "source": [
    "print(classification_report(y_test, predictions))"
   ]
  },
  {
   "cell_type": "markdown",
   "id": "671d6b22-eecb-41dd-b484-6d27aa9b27ec",
   "metadata": {},
   "source": [
    "## Lets see if we can improve with Knighbors"
   ]
  },
  {
   "cell_type": "code",
   "execution_count": 115,
   "id": "d69fb96e-9cf3-4c19-886a-07ed9819f71d",
   "metadata": {},
   "outputs": [],
   "source": [
    "kNeig = KNeighborsClassifier(n_neighbors=3)"
   ]
  },
  {
   "cell_type": "code",
   "execution_count": 116,
   "id": "74dfae97-c77a-4224-97c9-50c9021f877e",
   "metadata": {},
   "outputs": [
    {
     "data": {
      "text/plain": [
       "KNeighborsClassifier(n_neighbors=3)"
      ]
     },
     "execution_count": 116,
     "metadata": {},
     "output_type": "execute_result"
    }
   ],
   "source": [
    "kNeig.fit(X_train, y_train)"
   ]
  },
  {
   "cell_type": "code",
   "execution_count": 117,
   "id": "1c0dec53-ed9a-47e6-a670-45504a137e2d",
   "metadata": {},
   "outputs": [],
   "source": [
    "knPredictions = kNeig.predict(X_test)"
   ]
  },
  {
   "cell_type": "code",
   "execution_count": 118,
   "id": "4560a852-f422-4733-b0c3-145523b742ce",
   "metadata": {},
   "outputs": [
    {
     "name": "stdout",
     "output_type": "stream",
     "text": [
      "              precision    recall  f1-score   support\n",
      "\n",
      "           0       0.93      0.86      0.90       164\n",
      "           1       0.85      0.93      0.88       136\n",
      "\n",
      "    accuracy                           0.89       300\n",
      "   macro avg       0.89      0.89      0.89       300\n",
      "weighted avg       0.89      0.89      0.89       300\n",
      "\n"
     ]
    }
   ],
   "source": [
    "print(classification_report(knPredictions, y_test))"
   ]
  },
  {
   "cell_type": "markdown",
   "id": "d0adf510-05ab-4c7a-8855-02485dcb6924",
   "metadata": {},
   "source": [
    "## Elbow method\n",
    "- 3 looks to be the better choice for the number of neighbors to consider\n",
    "- will go back and revert to 3 in our previous model"
   ]
  },
  {
   "cell_type": "code",
   "execution_count": 112,
   "id": "53c2879b-25d7-48c7-8707-5b5d559e667b",
   "metadata": {},
   "outputs": [],
   "source": [
    "error_rate = []\n",
    "for i in range(1,10):\n",
    "    knn = KNeighborsClassifier(n_neighbors=i)\n",
    "    knn.fit(X_train, y_train)\n",
    "    pred = knn.predict(X_test)\n",
    "    error_rate.append(np.mean(pred != y_test))"
   ]
  },
  {
   "cell_type": "code",
   "execution_count": 113,
   "id": "9f118b4b-493c-484b-ad53-68520c3ee87c",
   "metadata": {},
   "outputs": [
    {
     "data": {
      "text/plain": [
       "[<matplotlib.lines.Line2D at 0x1288b2910>]"
      ]
     },
     "execution_count": 113,
     "metadata": {},
     "output_type": "execute_result"
    },
    {
     "data": {
      "image/png": "[encoded data removed]",
      "text/plain": [
       "<Figure size 432x288 with 1 Axes>"
      ]
     },
     "metadata": {
      "needs_background": "light"
     },
     "output_type": "display_data"
    }
   ],
   "source": [
    "plt.plot(range(1,10), error_rate, marker = \"o\")"
   ]
  },
  {
   "cell_type": "markdown",
   "id": "97c00136-1f19-4f71-84ef-745683be78f9",
   "metadata": {},
   "source": []
  },
  {
   "cell_type": "markdown",
   "id": "593c6856-7cc2-4b0b-af0e-bac4db0d4ce3",
   "metadata": {},
   "source": [
    "## SVM"
   ]
  },
  {
   "cell_type": "code",
   "execution_count": 119,
   "id": "8026b86e-357e-46ad-8bb5-3251dcfe5965",
   "metadata": {},
   "outputs": [],
   "source": [
    "svm = SVC()"
   ]
  },
  {
   "cell_type": "code",
   "execution_count": 120,
   "id": "0a9e14ca-8bc2-4dce-b223-64a3e091d6d8",
   "metadata": {},
   "outputs": [
    {
     "data": {
      "text/plain": [
       "SVC()"
      ]
     },
     "execution_count": 120,
     "metadata": {},
     "output_type": "execute_result"
    }
   ],
   "source": [
    "svm.fit(X_train,y_train)"
   ]
  },
  {
   "cell_type": "code",
   "execution_count": 121,
   "id": "dbb92c41-ce39-4375-be57-d7c6c771c124",
   "metadata": {},
   "outputs": [],
   "source": [
    "svmPredict = svm.predict(X_test)"
   ]
  },
  {
   "cell_type": "code",
   "execution_count": 122,
   "id": "2106bf7d-6a8a-41d5-be57-d9b71fbc5d8b",
   "metadata": {},
   "outputs": [
    {
     "name": "stdout",
     "output_type": "stream",
     "text": [
      "              precision    recall  f1-score   support\n",
      "\n",
      "           0       0.93      0.87      0.90       162\n",
      "           1       0.86      0.93      0.89       138\n",
      "\n",
      "    accuracy                           0.90       300\n",
      "   macro avg       0.90      0.90      0.90       300\n",
      "weighted avg       0.90      0.90      0.90       300\n",
      "\n"
     ]
    }
   ],
   "source": [
    "print(classification_report(svmPredict, y_test))"
   ]
  },
  {
   "cell_type": "markdown",
   "id": "711d0c5f-692d-4b7b-b1e8-c0c017a59bce",
   "metadata": {},
   "source": [
    "## Improving with Graph Search"
   ]
  },
  {
   "cell_type": "code",
   "execution_count": 123,
   "id": "fa67e95d-b7d9-4026-baab-003abecc6ab2",
   "metadata": {},
   "outputs": [],
   "source": [
    "graphParams = {\"C\": [1,10,100,1000], \"gamma\":[0.1,0.001, 0.0001, 0.00001]}"
   ]
  },
  {
   "cell_type": "code",
   "execution_count": 124,
   "id": "847ddf1e-d98f-4ef1-bb4c-acafa995a460",
   "metadata": {},
   "outputs": [],
   "source": [
    "graph = GridSearchCV(estimator=SVC(), param_grid=graphParams, verbose=3)"
   ]
  },
  {
   "cell_type": "code",
   "execution_count": 125,
   "id": "40454494-e094-4fb9-abd5-bcc309601969",
   "metadata": {},
   "outputs": [
    {
     "name": "stdout",
     "output_type": "stream",
     "text": [
      "Fitting 5 folds for each of 16 candidates, totalling 80 fits\n",
      "[CV 1/5] END .................................C=1, gamma=0.1; total time=   0.0s\n",
      "[CV 2/5] END .................................C=1, gamma=0.1; total time=   0.0s\n",
      "[CV 3/5] END .................................C=1, gamma=0.1; total time=   0.0s\n",
      "[CV 4/5] END .................................C=1, gamma=0.1; total time=   0.0s\n",
      "[CV 5/5] END .................................C=1, gamma=0.1; total time=   0.0s\n",
      "[CV 1/5] END ...............................C=1, gamma=0.001; total time=   0.0s\n",
      "[CV 2/5] END ...............................C=1, gamma=0.001; total time=   0.0s\n",
      "[CV 3/5] END ...............................C=1, gamma=0.001; total time=   0.0s\n",
      "[CV 4/5] END ...............................C=1, gamma=0.001; total time=   0.0s\n",
      "[CV 5/5] END ...............................C=1, gamma=0.001; total time=   0.0s\n",
      "[CV 1/5] END ..............................C=1, gamma=0.0001; total time=   0.0s\n",
      "[CV 2/5] END ..............................C=1, gamma=0.0001; total time=   0.0s\n",
      "[CV 3/5] END ..............................C=1, gamma=0.0001; total time=   0.0s\n",
      "[CV 4/5] END ..............................C=1, gamma=0.0001; total time=   0.0s\n",
      "[CV 5/5] END ..............................C=1, gamma=0.0001; total time=   0.0s\n",
      "[CV 1/5] END ...............................C=1, gamma=1e-05; total time=   0.0s\n",
      "[CV 2/5] END ...............................C=1, gamma=1e-05; total time=   0.0s\n",
      "[CV 3/5] END ...............................C=1, gamma=1e-05; total time=   0.0s\n",
      "[CV 4/5] END ...............................C=1, gamma=1e-05; total time=   0.0s\n",
      "[CV 5/5] END ...............................C=1, gamma=1e-05; total time=   0.0s\n",
      "[CV 1/5] END ................................C=10, gamma=0.1; total time=   0.0s\n",
      "[CV 2/5] END ................................C=10, gamma=0.1; total time=   0.0s\n",
      "[CV 3/5] END ................................C=10, gamma=0.1; total time=   0.0s\n",
      "[CV 4/5] END ................................C=10, gamma=0.1; total time=   0.0s\n",
      "[CV 5/5] END ................................C=10, gamma=0.1; total time=   0.0s\n",
      "[CV 1/5] END ..............................C=10, gamma=0.001; total time=   0.0s\n",
      "[CV 2/5] END ..............................C=10, gamma=0.001; total time=   0.0s\n",
      "[CV 3/5] END ..............................C=10, gamma=0.001; total time=   0.0s\n",
      "[CV 4/5] END ..............................C=10, gamma=0.001; total time=   0.0s\n",
      "[CV 5/5] END ..............................C=10, gamma=0.001; total time=   0.0s\n",
      "[CV 1/5] END .............................C=10, gamma=0.0001; total time=   0.0s\n",
      "[CV 2/5] END .............................C=10, gamma=0.0001; total time=   0.0s\n",
      "[CV 3/5] END .............................C=10, gamma=0.0001; total time=   0.0s\n",
      "[CV 4/5] END .............................C=10, gamma=0.0001; total time=   0.0s\n",
      "[CV 5/5] END .............................C=10, gamma=0.0001; total time=   0.0s\n",
      "[CV 1/5] END ..............................C=10, gamma=1e-05; total time=   0.0s\n",
      "[CV 2/5] END ..............................C=10, gamma=1e-05; total time=   0.0s\n",
      "[CV 3/5] END ..............................C=10, gamma=1e-05; total time=   0.0s\n",
      "[CV 4/5] END ..............................C=10, gamma=1e-05; total time=   0.0s\n",
      "[CV 5/5] END ..............................C=10, gamma=1e-05; total time=   0.0s\n",
      "[CV 1/5] END ...............................C=100, gamma=0.1; total time=   0.0s\n",
      "[CV 2/5] END ...............................C=100, gamma=0.1; total time=   0.0s\n",
      "[CV 3/5] END ...............................C=100, gamma=0.1; total time=   0.0s\n",
      "[CV 4/5] END ...............................C=100, gamma=0.1; total time=   0.0s\n",
      "[CV 5/5] END ...............................C=100, gamma=0.1; total time=   0.0s\n",
      "[CV 1/5] END .............................C=100, gamma=0.001; total time=   0.0s\n",
      "[CV 2/5] END .............................C=100, gamma=0.001; total time=   0.0s\n",
      "[CV 3/5] END .............................C=100, gamma=0.001; total time=   0.0s\n",
      "[CV 4/5] END .............................C=100, gamma=0.001; total time=   0.0s\n",
      "[CV 5/5] END .............................C=100, gamma=0.001; total time=   0.0s\n",
      "[CV 1/5] END ............................C=100, gamma=0.0001; total time=   0.0s\n",
      "[CV 2/5] END ............................C=100, gamma=0.0001; total time=   0.0s\n",
      "[CV 3/5] END ............................C=100, gamma=0.0001; total time=   0.0s\n",
      "[CV 4/5] END ............................C=100, gamma=0.0001; total time=   0.0s\n",
      "[CV 5/5] END ............................C=100, gamma=0.0001; total time=   0.0s\n",
      "[CV 1/5] END .............................C=100, gamma=1e-05; total time=   0.0s\n",
      "[CV 2/5] END .............................C=100, gamma=1e-05; total time=   0.0s\n",
      "[CV 3/5] END .............................C=100, gamma=1e-05; total time=   0.0s\n",
      "[CV 4/5] END .............................C=100, gamma=1e-05; total time=   0.0s\n",
      "[CV 5/5] END .............................C=100, gamma=1e-05; total time=   0.0s\n",
      "[CV 1/5] END ..............................C=1000, gamma=0.1; total time=   0.0s\n",
      "[CV 2/5] END ..............................C=1000, gamma=0.1; total time=   0.0s\n",
      "[CV 3/5] END ..............................C=1000, gamma=0.1; total time=   0.0s\n",
      "[CV 4/5] END ..............................C=1000, gamma=0.1; total time=   0.0s\n",
      "[CV 5/5] END ..............................C=1000, gamma=0.1; total time=   0.0s\n",
      "[CV 1/5] END ............................C=1000, gamma=0.001; total time=   0.0s\n",
      "[CV 2/5] END ............................C=1000, gamma=0.001; total time=   0.0s\n",
      "[CV 3/5] END ............................C=1000, gamma=0.001; total time=   0.0s\n",
      "[CV 4/5] END ............................C=1000, gamma=0.001; total time=   0.0s\n",
      "[CV 5/5] END ............................C=1000, gamma=0.001; total time=   0.0s\n",
      "[CV 1/5] END ...........................C=1000, gamma=0.0001; total time=   0.0s\n",
      "[CV 2/5] END ...........................C=1000, gamma=0.0001; total time=   0.0s\n",
      "[CV 3/5] END ...........................C=1000, gamma=0.0001; total time=   0.0s\n",
      "[CV 4/5] END ...........................C=1000, gamma=0.0001; total time=   0.0s\n",
      "[CV 5/5] END ...........................C=1000, gamma=0.0001; total time=   0.0s\n",
      "[CV 1/5] END ............................C=1000, gamma=1e-05; total time=   0.0s\n",
      "[CV 2/5] END ............................C=1000, gamma=1e-05; total time=   0.0s\n",
      "[CV 3/5] END ............................C=1000, gamma=1e-05; total time=   0.0s\n",
      "[CV 4/5] END ............................C=1000, gamma=1e-05; total time=   0.0s\n",
      "[CV 5/5] END ............................C=1000, gamma=1e-05; total time=   0.0s\n"
     ]
    },
    {
     "data": {
      "text/plain": [
       "GridSearchCV(estimator=SVC(),\n",
       "             param_grid={'C': [1, 10, 100, 1000],\n",
       "                         'gamma': [0.1, 0.001, 0.0001, 1e-05]},\n",
       "             verbose=3)"
      ]
     },
     "execution_count": 125,
     "metadata": {},
     "output_type": "execute_result"
    }
   ],
   "source": [
    "graph.fit(X_train, y_train)"
   ]
  },
  {
   "cell_type": "code",
   "execution_count": 126,
   "id": "31b926a1-b6dc-4fb6-9688-7ed5285e2fee",
   "metadata": {},
   "outputs": [],
   "source": [
    "graphPredictions = graph.predict(X_test)"
   ]
  },
  {
   "cell_type": "code",
   "execution_count": 127,
   "id": "00c03691-0423-44bf-ac0e-4cb01e25bdf4",
   "metadata": {},
   "outputs": [
    {
     "name": "stdout",
     "output_type": "stream",
     "text": [
      "              precision    recall  f1-score   support\n",
      "\n",
      "           0       0.93      0.87      0.90       163\n",
      "           1       0.85      0.93      0.89       137\n",
      "\n",
      "    accuracy                           0.89       300\n",
      "   macro avg       0.89      0.90      0.89       300\n",
      "weighted avg       0.90      0.89      0.89       300\n",
      "\n"
     ]
    }
   ],
   "source": [
    "print(classification_report(graphPredictions, y_test))"
   ]
  },
  {
   "cell_type": "markdown",
   "id": "1ab49fd3-e17e-44bd-b8e5-7e8759f43cc8",
   "metadata": {},
   "source": [
    "## Random Forest"
   ]
  },
  {
   "cell_type": "code",
   "execution_count": 128,
   "id": "0407c9de-5829-494b-9e08-a59290196458",
   "metadata": {},
   "outputs": [],
   "source": [
    "rf = RandomForestClassifier(n_estimators=500)"
   ]
  },
  {
   "cell_type": "code",
   "execution_count": 130,
   "id": "c0eae87c-28ef-4cfd-9c15-1a8094fe2b96",
   "metadata": {},
   "outputs": [
    {
     "data": {
      "text/plain": [
       "RandomForestClassifier(n_estimators=500)"
      ]
     },
     "execution_count": 130,
     "metadata": {},
     "output_type": "execute_result"
    }
   ],
   "source": [
    "rf.fit(X_train, y_train)"
   ]
  },
  {
   "cell_type": "code",
   "execution_count": 131,
   "id": "a0ea744c-8559-4da7-a22f-d3818fbf9eaf",
   "metadata": {},
   "outputs": [],
   "source": [
    "rfPredictions = rf.predict(X_test)"
   ]
  },
  {
   "cell_type": "code",
   "execution_count": 132,
   "id": "0b072831-d4dd-428d-bac3-c91607fd2968",
   "metadata": {},
   "outputs": [
    {
     "name": "stdout",
     "output_type": "stream",
     "text": [
      "              precision    recall  f1-score   support\n",
      "\n",
      "           0       0.93      0.86      0.90       164\n",
      "           1       0.85      0.93      0.88       136\n",
      "\n",
      "    accuracy                           0.89       300\n",
      "   macro avg       0.89      0.89      0.89       300\n",
      "weighted avg       0.89      0.89      0.89       300\n",
      "\n"
     ]
    }
   ],
   "source": [
    "print(classification_report(rfPredictions, y_test))"
   ]
  },
  {
   "cell_type": "code",
   "execution_count": null,
   "id": "1a3987b6-cf9d-4872-8cc8-a297d48fa09b",
   "metadata": {},
   "outputs": [],
   "source": []
  },
  {
   "cell_type": "code",
   "execution_count": 154,
   "id": "8cd3d674-1561-4cbf-93fd-aaaf48722b28",
   "metadata": {},
   "outputs": [],
   "source": [
    "clusterModel = KMeans(n_clusters=2)"
   ]
  },
  {
   "cell_type": "code",
   "execution_count": 155,
   "id": "a3754b84-6312-401a-b057-3808d7ecc6f4",
   "metadata": {},
   "outputs": [
    {
     "data": {
      "text/plain": [
       "KMeans(n_clusters=2)"
      ]
     },
     "execution_count": 155,
     "metadata": {},
     "output_type": "execute_result"
    }
   ],
   "source": [
    "clusterModel.fit(df.drop(\"in_college\", axis=1))"
   ]
  },
  {
   "cell_type": "code",
   "execution_count": 156,
   "id": "043638df-0aba-4baa-bec0-61f7b8afc3b6",
   "metadata": {},
   "outputs": [],
   "source": [
    "##clusterModel.transform(df.drop(\"in_college\", axis=1))"
   ]
  },
  {
   "cell_type": "code",
   "execution_count": 157,
   "id": "53613d1c-8a1e-46fa-9a3f-4584e95271d6",
   "metadata": {},
   "outputs": [
    {
     "data": {
      "text/plain": [
       "array([1, 0, 1, 1, 0, 0, 1, 1, 1, 0, 1, 1, 1, 1, 0, 1, 0, 1, 1, 0, 1, 0,\n",
       "       0, 0, 1, 0, 1, 0, 1, 1, 1, 0, 0, 1, 1, 1, 1, 1, 0, 1, 0, 0, 0, 1,\n",
       "       0, 0, 0, 1, 1, 1, 1, 0, 1, 0, 1, 1, 1, 1, 1, 1, 1, 1, 0, 1, 0, 0,\n",
       "       1, 0, 1, 1, 1, 1, 0, 0, 1, 0, 0, 1, 1, 1, 0, 1, 0, 1, 0, 0, 1, 1,\n",
       "       0, 0, 0, 0, 1, 0, 1, 1, 0, 1, 1, 1, 0, 0, 1, 0, 1, 1, 1, 1, 0, 0,\n",
       "       1, 0, 1, 0, 1, 1, 1, 1, 0, 0, 0, 1, 1, 1, 1, 0, 1, 0, 1, 0, 0, 0,\n",
       "       1, 0, 1, 1, 1, 0, 0, 0, 1, 0, 1, 1, 0, 1, 1, 0, 1, 0, 1, 1, 0, 1,\n",
       "       0, 1, 0, 0, 0, 0, 1, 1, 0, 0, 1, 1, 1, 0, 1, 0, 0, 1, 0, 1, 0, 0,\n",
       "       1, 1, 1, 0, 0, 1, 1, 1, 0, 1, 0, 0, 0, 1, 0, 1, 1, 0, 0, 0, 1, 1,\n",
       "       1, 0, 0, 0, 1, 0, 0, 0, 0, 1, 1, 0, 1, 1, 1, 1, 0, 0, 1, 1, 0, 1,\n",
       "       0, 1, 0, 1, 0, 1, 1, 1, 1, 1, 1, 1, 1, 0, 1, 0, 0, 1, 1, 0, 1, 0,\n",
       "       1, 0, 1, 1, 1, 1, 0, 1, 0, 0, 1, 0, 1, 0, 0, 1, 1, 1, 0, 0, 1, 0,\n",
       "       0, 0, 0, 1, 0, 1, 1, 1, 1, 0, 1, 1, 1, 1, 1, 0, 1, 0, 0, 0, 1, 0,\n",
       "       0, 1, 1, 1, 0, 0, 0, 0, 1, 0, 1, 0, 1, 1, 1, 0, 0, 1, 1, 1, 1, 0,\n",
       "       1, 0, 0, 0, 0, 0, 1, 1, 0, 1, 1, 0, 0, 0, 0, 0, 1, 0, 0, 0, 0, 0,\n",
       "       0, 0, 0, 0, 0, 1, 0, 1, 1, 1, 0, 0, 0, 0, 1, 0, 1, 1, 0, 1, 1, 1,\n",
       "       1, 1, 0, 0, 1, 1, 1, 0, 0, 0, 1, 1, 1, 0, 1, 0, 0, 0, 0, 0, 0, 0,\n",
       "       1, 1, 0, 1, 0, 1, 1, 0, 1, 0, 0, 1, 0, 1, 1, 1, 1, 0, 0, 0, 0, 0,\n",
       "       0, 1, 1, 1, 0, 0, 1, 0, 1, 0, 1, 1, 0, 0, 0, 1, 1, 0, 0, 0, 0, 1,\n",
       "       1, 0, 1, 1, 0, 0, 0, 0, 1, 0, 0, 0, 1, 1, 0, 0, 0, 0, 1, 1, 0, 0,\n",
       "       1, 1, 0, 0, 1, 1, 1, 1, 0, 1, 1, 1, 1, 0, 0, 1, 1, 0, 0, 1, 1, 0,\n",
       "       0, 1, 1, 1, 1, 0, 1, 0, 0, 1, 1, 0, 1, 0, 1, 1, 0, 0, 0, 1, 0, 1,\n",
       "       0, 0, 0, 0, 1, 1, 1, 1, 1, 0, 1, 1, 1, 0, 1, 1, 1, 0, 0, 1, 1, 0,\n",
       "       0, 1, 0, 1, 0, 0, 0, 0, 1, 0, 0, 1, 0, 0, 1, 0, 0, 1, 1, 0, 1, 0,\n",
       "       1, 0, 1, 0, 1, 1, 0, 0, 1, 1, 0, 1, 1, 1, 1, 0, 1, 0, 1, 1, 0, 0,\n",
       "       0, 0, 1, 1, 0, 1, 1, 0, 0, 0, 1, 0, 1, 1, 1, 1, 0, 0, 1, 1, 1, 1,\n",
       "       0, 1, 0, 1, 0, 1, 1, 1, 0, 1, 1, 1, 1, 0, 1, 1, 1, 0, 1, 0, 1, 0,\n",
       "       1, 1, 1, 1, 1, 1, 0, 1, 1, 1, 0, 0, 1, 1, 0, 0, 0, 1, 1, 1, 0, 0,\n",
       "       1, 1, 1, 0, 1, 0, 0, 1, 0, 0, 0, 0, 0, 0, 1, 0, 0, 1, 0, 1, 1, 0,\n",
       "       1, 0, 1, 0, 1, 0, 0, 0, 1, 0, 1, 0, 0, 0, 0, 1, 0, 1, 1, 0, 1, 1,\n",
       "       0, 0, 0, 0, 1, 1, 0, 1, 0, 1, 1, 1, 1, 1, 0, 0, 1, 1, 1, 1, 0, 0,\n",
       "       1, 1, 1, 0, 1, 1, 1, 1, 1, 1, 1, 0, 1, 0, 1, 1, 1, 0, 1, 1, 0, 0,\n",
       "       0, 1, 0, 0, 1, 0, 1, 0, 0, 1, 1, 1, 0, 0, 1, 0, 0, 0, 0, 1, 0, 1,\n",
       "       0, 0, 1, 0, 1, 0, 1, 1, 1, 1, 1, 0, 1, 1, 0, 1, 1, 1, 0, 1, 1, 0,\n",
       "       0, 0, 1, 1, 1, 0, 1, 1, 0, 1, 0, 0, 0, 1, 1, 1, 0, 1, 0, 0, 1, 0,\n",
       "       1, 0, 1, 1, 1, 1, 0, 1, 0, 1, 1, 1, 0, 0, 0, 1, 0, 1, 1, 0, 0, 0,\n",
       "       1, 0, 1, 1, 0, 0, 1, 1, 1, 1, 0, 0, 0, 1, 1, 0, 0, 1, 0, 0, 0, 0,\n",
       "       1, 1, 1, 1, 1, 1, 1, 1, 1, 0, 0, 1, 1, 0, 0, 0, 1, 1, 0, 1, 1, 1,\n",
       "       1, 1, 1, 1, 0, 1, 1, 1, 0, 1, 0, 0, 0, 1, 1, 1, 1, 0, 0, 0, 1, 0,\n",
       "       1, 1, 0, 1, 0, 0, 1, 1, 0, 0, 1, 0, 1, 1, 0, 0, 0, 1, 0, 0, 1, 1,\n",
       "       0, 0, 1, 0, 0, 1, 1, 1, 0, 1, 1, 1, 1, 0, 1, 0, 1, 1, 1, 0, 1, 1,\n",
       "       0, 0, 0, 1, 1, 1, 0, 1, 0, 0, 0, 0, 0, 1, 0, 1, 1, 0, 1, 1, 0, 0,\n",
       "       1, 1, 1, 0, 0, 1, 0, 0, 1, 1, 1, 0, 0, 1, 0, 0, 0, 0, 0, 0, 1, 1,\n",
       "       0, 0, 0, 0, 0, 0, 0, 1, 0, 0, 1, 1, 0, 0, 1, 0, 0, 1, 0, 1, 1, 0,\n",
       "       1, 1, 1, 0, 1, 0, 1, 1, 0, 1, 0, 0, 0, 0, 1, 1, 0, 1, 0, 1, 1, 1,\n",
       "       1, 1, 0, 0, 0, 1, 1, 0, 1, 0], dtype=int32)"
      ]
     },
     "execution_count": 157,
     "metadata": {},
     "output_type": "execute_result"
    }
   ],
   "source": [
    "clusterModel.labels_"
   ]
  },
  {
   "cell_type": "code",
   "execution_count": 158,
   "id": "f98f637e-b800-4aca-b048-a3427e52427c",
   "metadata": {},
   "outputs": [],
   "source": [
    "errorRate = []\n",
    "for i in range(1,8):\n",
    "    kmm = KMeans(n_clusters=i)\n",
    "    kmm.fit(df.drop(\"in_college\", axis=1))\n",
    "    errorRate.append(np.mean(kmm.labels_ != df[\"in_college\"]))"
   ]
  },
  {
   "cell_type": "code",
   "execution_count": 159,
   "id": "6e3647b5-4dae-4a40-b7ae-a5c4dbf860d5",
   "metadata": {},
   "outputs": [
    {
     "data": {
      "text/plain": [
       "[<matplotlib.lines.Line2D at 0x128c89490>]"
      ]
     },
     "execution_count": 159,
     "metadata": {},
     "output_type": "execute_result"
    },
    {
     "data": {
      "image/png": "[encoded data removed]",
      "text/plain": [
       "<Figure size 432x288 with 1 Axes>"
      ]
     },
     "metadata": {
      "needs_background": "light"
     },
     "output_type": "display_data"
    }
   ],
   "source": [
    "plt.plot(range(1,8), errorRate, marker = \"o\")"
   ]
  },
  {
   "cell_type": "code",
   "execution_count": null,
   "id": "5a5b99ac-1a76-484d-bd42-8c39567d5063",
   "metadata": {},
   "outputs": [],
   "source": []
  },
  {
   "cell_type": "markdown",
   "id": "b1db811d-7cf8-4429-b86d-162a3d9076d1",
   "metadata": {},
   "source": [
    "## PCA"
   ]
  },
  {
   "cell_type": "code",
   "execution_count": 234,
   "id": "38291321-2188-4eab-84df-d37060c761e6",
   "metadata": {},
   "outputs": [],
   "source": [
    "from sklearn.decomposition import PCA"
   ]
  },
  {
   "cell_type": "code",
   "execution_count": 235,
   "id": "ccc0d7b6-9ada-4cdc-96fc-4cdcf53f19bc",
   "metadata": {},
   "outputs": [],
   "source": [
    "pca = PCA(n_components=6)"
   ]
  },
  {
   "cell_type": "code",
   "execution_count": 236,
   "id": "634e2f6f-2ce3-410c-bc45-ddc0f116bfcb",
   "metadata": {},
   "outputs": [],
   "source": [
    "transformedData = pca.fit_transform(df.drop(\"in_college\", axis=1))"
   ]
  },
  {
   "cell_type": "code",
   "execution_count": 237,
   "id": "3360f695-8ab2-401f-ba37-6ecd00d04f8f",
   "metadata": {},
   "outputs": [],
   "source": [
    "pcaDF = pd.DataFrame(transformedData)"
   ]
  },
  {
   "cell_type": "code",
   "execution_count": 238,
   "id": "889fd2ea-a89e-4959-8a9c-1defbafd76e5",
   "metadata": {},
   "outputs": [
    {
     "data": {
      "text/html": [
       "<div>\n",
       "<style scoped>\n",
       "    .dataframe tbody tr th:only-of-type {\n",
       "        vertical-align: middle;\n",
       "    }\n",
       "\n",
       "    .dataframe tbody tr th {\n",
       "        vertical-align: top;\n",
       "    }\n",
       "\n",
       "    .dataframe thead th {\n",
       "        text-align: right;\n",
       "    }\n",
       "</style>\n",
       "<table border=\"1\" class=\"dataframe\">\n",
       "  <thead>\n",
       "    <tr style=\"text-align: right;\">\n",
       "      <th></th>\n",
       "      <th>0</th>\n",
       "      <th>1</th>\n",
       "      <th>2</th>\n",
       "      <th>3</th>\n",
       "      <th>4</th>\n",
       "      <th>5</th>\n",
       "      <th>6</th>\n",
       "      <th>7</th>\n",
       "      <th>8</th>\n",
       "      <th>9</th>\n",
       "      <th>10</th>\n",
       "      <th>11</th>\n",
       "      <th>12</th>\n",
       "    </tr>\n",
       "  </thead>\n",
       "  <tbody>\n",
       "    <tr>\n",
       "      <th>0</th>\n",
       "      <td>-0.028241</td>\n",
       "      <td>-0.088228</td>\n",
       "      <td>0.011083</td>\n",
       "      <td>0.215360</td>\n",
       "      <td>-0.168398</td>\n",
       "      <td>-0.018956</td>\n",
       "      <td>0.067467</td>\n",
       "      <td>-0.091271</td>\n",
       "      <td>-0.025838</td>\n",
       "      <td>0.299318</td>\n",
       "      <td>-0.521808</td>\n",
       "      <td>-0.462212</td>\n",
       "      <td>-0.571957</td>\n",
       "    </tr>\n",
       "    <tr>\n",
       "      <th>1</th>\n",
       "      <td>0.087091</td>\n",
       "      <td>0.028981</td>\n",
       "      <td>-0.037864</td>\n",
       "      <td>-0.155818</td>\n",
       "      <td>0.126110</td>\n",
       "      <td>0.013784</td>\n",
       "      <td>0.006991</td>\n",
       "      <td>0.005122</td>\n",
       "      <td>-0.004761</td>\n",
       "      <td>-0.723655</td>\n",
       "      <td>0.264818</td>\n",
       "      <td>-0.504761</td>\n",
       "      <td>-0.317933</td>\n",
       "    </tr>\n",
       "    <tr>\n",
       "      <th>2</th>\n",
       "      <td>-0.012302</td>\n",
       "      <td>0.226294</td>\n",
       "      <td>-0.044266</td>\n",
       "      <td>-0.206719</td>\n",
       "      <td>0.280723</td>\n",
       "      <td>0.056813</td>\n",
       "      <td>-0.064269</td>\n",
       "      <td>0.083114</td>\n",
       "      <td>-0.040046</td>\n",
       "      <td>-0.388813</td>\n",
       "      <td>-0.718449</td>\n",
       "      <td>0.371165</td>\n",
       "      <td>-0.064530</td>\n",
       "    </tr>\n",
       "    <tr>\n",
       "      <th>3</th>\n",
       "      <td>-0.083916</td>\n",
       "      <td>0.130493</td>\n",
       "      <td>0.040268</td>\n",
       "      <td>0.040407</td>\n",
       "      <td>0.115708</td>\n",
       "      <td>0.012048</td>\n",
       "      <td>0.092318</td>\n",
       "      <td>0.043794</td>\n",
       "      <td>-0.141137</td>\n",
       "      <td>-0.001250</td>\n",
       "      <td>-0.286380</td>\n",
       "      <td>-0.585689</td>\n",
       "      <td>0.709744</td>\n",
       "    </tr>\n",
       "    <tr>\n",
       "      <th>4</th>\n",
       "      <td>-0.428043</td>\n",
       "      <td>-0.243438</td>\n",
       "      <td>-0.122049</td>\n",
       "      <td>0.248629</td>\n",
       "      <td>-0.292050</td>\n",
       "      <td>-0.077549</td>\n",
       "      <td>-0.050052</td>\n",
       "      <td>-0.415230</td>\n",
       "      <td>0.505508</td>\n",
       "      <td>-0.332224</td>\n",
       "      <td>-0.128131</td>\n",
       "      <td>0.062961</td>\n",
       "      <td>0.168173</td>\n",
       "    </tr>\n",
       "    <tr>\n",
       "      <th>5</th>\n",
       "      <td>-0.208428</td>\n",
       "      <td>0.560966</td>\n",
       "      <td>-0.655818</td>\n",
       "      <td>0.027054</td>\n",
       "      <td>0.265884</td>\n",
       "      <td>0.019058</td>\n",
       "      <td>0.005445</td>\n",
       "      <td>-0.213484</td>\n",
       "      <td>0.120344</td>\n",
       "      <td>0.212366</td>\n",
       "      <td>0.145398</td>\n",
       "      <td>-0.067084</td>\n",
       "      <td>-0.095705</td>\n",
       "    </tr>\n",
       "  </tbody>\n",
       "</table>\n",
       "</div>"
      ],
      "text/plain": [
       "         0         1         2         3         4         5         6   \\\n",
       "0 -0.028241 -0.088228  0.011083  0.215360 -0.168398 -0.018956  0.067467   \n",
       "1  0.087091  0.028981 -0.037864 -0.155818  0.126110  0.013784  0.006991   \n",
       "2 -0.012302  0.226294 -0.044266 -0.206719  0.280723  0.056813 -0.064269   \n",
       "3 -0.083916  0.130493  0.040268  0.040407  0.115708  0.012048  0.092318   \n",
       "4 -0.428043 -0.243438 -0.122049  0.248629 -0.292050 -0.077549 -0.050052   \n",
       "5 -0.208428  0.560966 -0.655818  0.027054  0.265884  0.019058  0.005445   \n",
       "\n",
       "         7         8         9         10        11        12  \n",
       "0 -0.091271 -0.025838  0.299318 -0.521808 -0.462212 -0.571957  \n",
       "1  0.005122 -0.004761 -0.723655  0.264818 -0.504761 -0.317933  \n",
       "2  0.083114 -0.040046 -0.388813 -0.718449  0.371165 -0.064530  \n",
       "3  0.043794 -0.141137 -0.001250 -0.286380 -0.585689  0.709744  \n",
       "4 -0.415230  0.505508 -0.332224 -0.128131  0.062961  0.168173  \n",
       "5 -0.213484  0.120344  0.212366  0.145398 -0.067084 -0.095705  "
      ]
     },
     "execution_count": 238,
     "metadata": {},
     "output_type": "execute_result"
    }
   ],
   "source": [
    "pd.DataFrame(pca.components_)"
   ]
  },
  {
   "cell_type": "code",
   "execution_count": 239,
   "id": "9f052f2f-4a53-42f1-9723-6c4659dc825d",
   "metadata": {},
   "outputs": [],
   "source": [
    "pcaDF[\"target\"] = df[\"in_college\"]"
   ]
  },
  {
   "cell_type": "code",
   "execution_count": 240,
   "id": "c16b4d61-0419-4724-a633-57f918a79b50",
   "metadata": {},
   "outputs": [],
   "source": [
    "X = transformedData\n",
    "y = pcaDF[\"target\"]"
   ]
  },
  {
   "cell_type": "code",
   "execution_count": 241,
   "id": "9fee6a6c-75c0-4f03-8495-c5274fccf002",
   "metadata": {},
   "outputs": [],
   "source": [
    "X_train, X_test, y_train, y_test = train_test_split(X, y, test_size=0.30, random_state=42)"
   ]
  },
  {
   "cell_type": "code",
   "execution_count": 242,
   "id": "a17d5b28-5ebb-4733-9097-93e6b2c6605c",
   "metadata": {},
   "outputs": [],
   "source": [
    "log_mo = LogisticRegression(n_jobs=400)"
   ]
  },
  {
   "cell_type": "code",
   "execution_count": 243,
   "id": "ee1fdb61-e0ae-4b60-b13a-9a8225fa41e2",
   "metadata": {},
   "outputs": [
    {
     "data": {
      "text/plain": [
       "LogisticRegression(n_jobs=400)"
      ]
     },
     "execution_count": 243,
     "metadata": {},
     "output_type": "execute_result"
    }
   ],
   "source": [
    "log_mo.fit(X_train,y_train)"
   ]
  },
  {
   "cell_type": "code",
   "execution_count": 244,
   "id": "7ebd0881-fb39-443d-bbe1-a9d4b37d4742",
   "metadata": {},
   "outputs": [],
   "source": [
    "log_pred = log_mo.predict(X_test)"
   ]
  },
  {
   "cell_type": "code",
   "execution_count": 245,
   "id": "cc167fd1-7685-4f92-af8f-0584f01134a7",
   "metadata": {},
   "outputs": [
    {
     "name": "stdout",
     "output_type": "stream",
     "text": [
      "              precision    recall  f1-score   support\n",
      "\n",
      "           0       0.81      0.82      0.81       149\n",
      "           1       0.82      0.81      0.81       151\n",
      "\n",
      "    accuracy                           0.81       300\n",
      "   macro avg       0.81      0.81      0.81       300\n",
      "weighted avg       0.81      0.81      0.81       300\n",
      "\n"
     ]
    }
   ],
   "source": [
    "print(classification_report(log_pred, y_test))"
   ]
  },
  {
   "cell_type": "code",
   "execution_count": null,
   "id": "f13b1f2c-1d4d-4877-8e2d-f97283c4f7fd",
   "metadata": {},
   "outputs": [],
   "source": []
  },
  {
   "cell_type": "code",
   "execution_count": 252,
   "id": "fe32b50d-38f2-4a4b-aae7-772bb420fdb5",
   "metadata": {},
   "outputs": [],
   "source": [
    "K_near = KNeighborsClassifier(n_neighbors=5)"
   ]
  },
  {
   "cell_type": "code",
   "execution_count": 253,
   "id": "672516cc-d734-4364-85be-0f508cb47f38",
   "metadata": {},
   "outputs": [
    {
     "data": {
      "text/plain": [
       "KNeighborsClassifier()"
      ]
     },
     "execution_count": 253,
     "metadata": {},
     "output_type": "execute_result"
    }
   ],
   "source": [
    "K_near.fit(X_train,y_train)"
   ]
  },
  {
   "cell_type": "code",
   "execution_count": 254,
   "id": "19fe0f4b-f953-4365-a7fe-46ded5777111",
   "metadata": {},
   "outputs": [],
   "source": [
    "k_nearPred = K_near.predict(X_test)"
   ]
  },
  {
   "cell_type": "code",
   "execution_count": 255,
   "id": "a3a40828-e110-48a9-95e6-3eadec5a522e",
   "metadata": {},
   "outputs": [
    {
     "name": "stdout",
     "output_type": "stream",
     "text": [
      "              precision    recall  f1-score   support\n",
      "\n",
      "           0       0.88      0.84      0.86       159\n",
      "           1       0.83      0.87      0.85       141\n",
      "\n",
      "    accuracy                           0.85       300\n",
      "   macro avg       0.85      0.85      0.85       300\n",
      "weighted avg       0.85      0.85      0.85       300\n",
      "\n"
     ]
    }
   ],
   "source": [
    "print(classification_report(k_nearPred, y_test))"
   ]
  },
  {
   "cell_type": "code",
   "execution_count": 256,
   "id": "7000d3d2-029f-441e-a59e-5cf538f60149",
   "metadata": {},
   "outputs": [],
   "source": [
    "error_rate = []\n",
    "for i in range(1,10):\n",
    "    knn = KNeighborsClassifier(n_neighbors=i)\n",
    "    knn.fit(X_train, y_train)\n",
    "    pred = knn.predict(X_test)\n",
    "    error_rate.append(np.mean(pred != y_test))"
   ]
  },
  {
   "cell_type": "code",
   "execution_count": 257,
   "id": "45f94aa4-f0ca-47f6-aeae-2cc8e57c5c9d",
   "metadata": {},
   "outputs": [
    {
     "data": {
      "text/plain": [
       "[<matplotlib.lines.Line2D at 0x1296e3250>]"
      ]
     },
     "execution_count": 257,
     "metadata": {},
     "output_type": "execute_result"
    },
    {
     "data": {
      "image/png": "[encoded data removed]",
      "text/plain": [
       "<Figure size 432x288 with 1 Axes>"
      ]
     },
     "metadata": {
      "needs_background": "light"
     },
     "output_type": "display_data"
    }
   ],
   "source": [
    "plt.plot(range(1,10), error_rate, marker = \"o\")"
   ]
  },
  {
   "cell_type": "code",
   "execution_count": null,
   "id": "a4ef087e-2733-4cc8-b215-30477ce32791",
   "metadata": {},
   "outputs": [],
   "source": []
  },
  {
   "cell_type": "code",
   "execution_count": 258,
   "id": "6245262f-1c8b-4b83-b122-34f9f2cf7cca",
   "metadata": {},
   "outputs": [],
   "source": [
    "rand_Forest = RandomForestClassifier(n_estimators=400)"
   ]
  },
  {
   "cell_type": "code",
   "execution_count": 259,
   "id": "0dc9f93a-ccbe-4876-809d-4f06422b3398",
   "metadata": {},
   "outputs": [
    {
     "data": {
      "text/plain": [
       "RandomForestClassifier(n_estimators=400)"
      ]
     },
     "execution_count": 259,
     "metadata": {},
     "output_type": "execute_result"
    }
   ],
   "source": [
    "rand_Forest.fit(X_train,y_train)"
   ]
  },
  {
   "cell_type": "code",
   "execution_count": 260,
   "id": "49b873ab-eef0-4131-a447-b29b48e65a0d",
   "metadata": {},
   "outputs": [],
   "source": [
    "rand_pred = rand_Forest.predict(X_test)"
   ]
  },
  {
   "cell_type": "code",
   "execution_count": 261,
   "id": "5efc7c70-d9a4-46ef-96f5-a80af2b38c87",
   "metadata": {},
   "outputs": [
    {
     "name": "stdout",
     "output_type": "stream",
     "text": [
      "              precision    recall  f1-score   support\n",
      "\n",
      "           0       0.86      0.82      0.84       158\n",
      "           1       0.81      0.85      0.83       142\n",
      "\n",
      "    accuracy                           0.84       300\n",
      "   macro avg       0.84      0.84      0.84       300\n",
      "weighted avg       0.84      0.84      0.84       300\n",
      "\n"
     ]
    }
   ],
   "source": [
    "print(classification_report(rand_pred, y_test))"
   ]
  },
  {
   "cell_type": "code",
   "execution_count": null,
   "id": "2ed8c5e9-fb7e-4750-b003-d5e09ec87ba8",
   "metadata": {},
   "outputs": [],
   "source": []
  },
  {
   "cell_type": "code",
   "execution_count": 262,
   "id": "c132fc7c-400d-44b5-9248-f230e6ff7e81",
   "metadata": {},
   "outputs": [],
   "source": [
    "svm_model = SVC()"
   ]
  },
  {
   "cell_type": "code",
   "execution_count": 263,
   "id": "7d5b9401-ef9d-42da-aa81-b0a87cf0c202",
   "metadata": {},
   "outputs": [
    {
     "data": {
      "text/plain": [
       "SVC()"
      ]
     },
     "execution_count": 263,
     "metadata": {},
     "output_type": "execute_result"
    }
   ],
   "source": [
    "svm_model.fit(X_train, y_train)"
   ]
  },
  {
   "cell_type": "code",
   "execution_count": 264,
   "id": "404cf370-470a-490e-8031-11e322162089",
   "metadata": {},
   "outputs": [],
   "source": [
    "svm_pred = svm_model.predict(X_test)"
   ]
  },
  {
   "cell_type": "code",
   "execution_count": 265,
   "id": "fcc4c566-7d63-4edf-9050-d5d1d55a02dd",
   "metadata": {},
   "outputs": [
    {
     "name": "stdout",
     "output_type": "stream",
     "text": [
      "              precision    recall  f1-score   support\n",
      "\n",
      "           0       0.92      0.81      0.86       171\n",
      "           1       0.79      0.91      0.84       129\n",
      "\n",
      "    accuracy                           0.85       300\n",
      "   macro avg       0.85      0.86      0.85       300\n",
      "weighted avg       0.86      0.85      0.85       300\n",
      "\n"
     ]
    }
   ],
   "source": [
    "print(classification_report(svm_pred, y_test))"
   ]
  },
  {
   "cell_type": "code",
   "execution_count": null,
   "id": "4cfc4533-dad1-4531-a441-67c9d36b0146",
   "metadata": {},
   "outputs": [],
   "source": []
  },
  {
   "cell_type": "code",
   "execution_count": null,
   "id": "2e072825-6e8b-4889-ac83-7c37e6705f36",
   "metadata": {},
   "outputs": [],
   "source": []
  }
 ],
 "metadata": {
  "kernelspec": {
   "display_name": "Python 3",
   "language": "python",
   "name": "python3"
  },
  "language_info": {
   "codemirror_mode": {
    "name": "ipython",
    "version": 3
   },
   "file_extension": ".py",
   "mimetype": "text/x-python",
   "name": "python",
   "nbconvert_exporter": "python",
   "pygments_lexer": "ipython3",
   "version": "3.8.8"
  }
 },
 "nbformat": 4,
 "nbformat_minor": 5
}
