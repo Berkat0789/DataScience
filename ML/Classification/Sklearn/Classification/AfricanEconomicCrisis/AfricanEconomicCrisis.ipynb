{
 "cells": [
  {
   "cell_type": "code",
   "execution_count": 2,
   "id": "6864e480-4f06-447f-8b48-2586b617be6d",
   "metadata": {},
   "outputs": [],
   "source": [
    "import pandas as pd\n",
    "import numpy as np\n",
    "import matplotlib.pyplot as plt\n",
    "import seaborn as sns\n",
    "import pickle"
   ]
  },
  {
   "cell_type": "code",
   "execution_count": 34,
   "id": "4e593288-8a25-4155-8f40-539865c505dc",
   "metadata": {},
   "outputs": [],
   "source": [
    "from sklearn.metrics import classification_report, confusion_matrix, explained_variance_score\n",
    "from sklearn.preprocessing import StandardScaler\n",
    "from sklearn.linear_model import LogisticRegression\n",
    "from sklearn.neighbors import KNeighborsClassifier\n",
    "from sklearn.ensemble import RandomForestClassifier\n",
    "from sklearn.svm import SVC\n",
    "from sklearn.model_selection import train_test_split, GridSearchCV"
   ]
  },
  {
   "cell_type": "code",
   "execution_count": 4,
   "id": "06f26a06-5444-4332-b35d-931e4f1b260c",
   "metadata": {},
   "outputs": [],
   "source": [
    "df = pd.read_csv(\"african_econ_crises.csv\")"
   ]
  },
  {
   "cell_type": "code",
   "execution_count": 5,
   "id": "23cd0bee-ce3a-4da7-adc7-810d3016ec85",
   "metadata": {},
   "outputs": [
    {
     "data": {
      "text/html": [
       "<div>\n",
       "<style scoped>\n",
       "    .dataframe tbody tr th:only-of-type {\n",
       "        vertical-align: middle;\n",
       "    }\n",
       "\n",
       "    .dataframe tbody tr th {\n",
       "        vertical-align: top;\n",
       "    }\n",
       "\n",
       "    .dataframe thead th {\n",
       "        text-align: right;\n",
       "    }\n",
       "</style>\n",
       "<table border=\"1\" class=\"dataframe\">\n",
       "  <thead>\n",
       "    <tr style=\"text-align: right;\">\n",
       "      <th></th>\n",
       "      <th>case</th>\n",
       "      <th>cc3</th>\n",
       "      <th>country</th>\n",
       "      <th>year</th>\n",
       "      <th>systemic_crisis</th>\n",
       "      <th>exch_usd</th>\n",
       "      <th>domestic_debt_in_default</th>\n",
       "      <th>sovereign_external_debt_default</th>\n",
       "      <th>gdp_weighted_default</th>\n",
       "      <th>inflation_annual_cpi</th>\n",
       "      <th>independence</th>\n",
       "      <th>currency_crises</th>\n",
       "      <th>inflation_crises</th>\n",
       "      <th>banking_crisis</th>\n",
       "    </tr>\n",
       "  </thead>\n",
       "  <tbody>\n",
       "    <tr>\n",
       "      <th>0</th>\n",
       "      <td>1</td>\n",
       "      <td>DZA</td>\n",
       "      <td>Algeria</td>\n",
       "      <td>1870</td>\n",
       "      <td>1</td>\n",
       "      <td>0.052264</td>\n",
       "      <td>0</td>\n",
       "      <td>0</td>\n",
       "      <td>0.0</td>\n",
       "      <td>3.441456</td>\n",
       "      <td>0</td>\n",
       "      <td>0</td>\n",
       "      <td>0</td>\n",
       "      <td>crisis</td>\n",
       "    </tr>\n",
       "    <tr>\n",
       "      <th>1</th>\n",
       "      <td>1</td>\n",
       "      <td>DZA</td>\n",
       "      <td>Algeria</td>\n",
       "      <td>1871</td>\n",
       "      <td>0</td>\n",
       "      <td>0.052798</td>\n",
       "      <td>0</td>\n",
       "      <td>0</td>\n",
       "      <td>0.0</td>\n",
       "      <td>14.149140</td>\n",
       "      <td>0</td>\n",
       "      <td>0</td>\n",
       "      <td>0</td>\n",
       "      <td>no_crisis</td>\n",
       "    </tr>\n",
       "    <tr>\n",
       "      <th>2</th>\n",
       "      <td>1</td>\n",
       "      <td>DZA</td>\n",
       "      <td>Algeria</td>\n",
       "      <td>1872</td>\n",
       "      <td>0</td>\n",
       "      <td>0.052274</td>\n",
       "      <td>0</td>\n",
       "      <td>0</td>\n",
       "      <td>0.0</td>\n",
       "      <td>-3.718593</td>\n",
       "      <td>0</td>\n",
       "      <td>0</td>\n",
       "      <td>0</td>\n",
       "      <td>no_crisis</td>\n",
       "    </tr>\n",
       "    <tr>\n",
       "      <th>3</th>\n",
       "      <td>1</td>\n",
       "      <td>DZA</td>\n",
       "      <td>Algeria</td>\n",
       "      <td>1873</td>\n",
       "      <td>0</td>\n",
       "      <td>0.051680</td>\n",
       "      <td>0</td>\n",
       "      <td>0</td>\n",
       "      <td>0.0</td>\n",
       "      <td>11.203897</td>\n",
       "      <td>0</td>\n",
       "      <td>0</td>\n",
       "      <td>0</td>\n",
       "      <td>no_crisis</td>\n",
       "    </tr>\n",
       "    <tr>\n",
       "      <th>4</th>\n",
       "      <td>1</td>\n",
       "      <td>DZA</td>\n",
       "      <td>Algeria</td>\n",
       "      <td>1874</td>\n",
       "      <td>0</td>\n",
       "      <td>0.051308</td>\n",
       "      <td>0</td>\n",
       "      <td>0</td>\n",
       "      <td>0.0</td>\n",
       "      <td>-3.848561</td>\n",
       "      <td>0</td>\n",
       "      <td>0</td>\n",
       "      <td>0</td>\n",
       "      <td>no_crisis</td>\n",
       "    </tr>\n",
       "    <tr>\n",
       "      <th>...</th>\n",
       "      <td>...</td>\n",
       "      <td>...</td>\n",
       "      <td>...</td>\n",
       "      <td>...</td>\n",
       "      <td>...</td>\n",
       "      <td>...</td>\n",
       "      <td>...</td>\n",
       "      <td>...</td>\n",
       "      <td>...</td>\n",
       "      <td>...</td>\n",
       "      <td>...</td>\n",
       "      <td>...</td>\n",
       "      <td>...</td>\n",
       "      <td>...</td>\n",
       "    </tr>\n",
       "    <tr>\n",
       "      <th>1054</th>\n",
       "      <td>70</td>\n",
       "      <td>ZWE</td>\n",
       "      <td>Zimbabwe</td>\n",
       "      <td>2009</td>\n",
       "      <td>1</td>\n",
       "      <td>354.800000</td>\n",
       "      <td>1</td>\n",
       "      <td>1</td>\n",
       "      <td>0.0</td>\n",
       "      <td>-7.670000</td>\n",
       "      <td>1</td>\n",
       "      <td>1</td>\n",
       "      <td>0</td>\n",
       "      <td>crisis</td>\n",
       "    </tr>\n",
       "    <tr>\n",
       "      <th>1055</th>\n",
       "      <td>70</td>\n",
       "      <td>ZWE</td>\n",
       "      <td>Zimbabwe</td>\n",
       "      <td>2010</td>\n",
       "      <td>0</td>\n",
       "      <td>378.200000</td>\n",
       "      <td>1</td>\n",
       "      <td>1</td>\n",
       "      <td>0.0</td>\n",
       "      <td>3.217000</td>\n",
       "      <td>1</td>\n",
       "      <td>0</td>\n",
       "      <td>0</td>\n",
       "      <td>no_crisis</td>\n",
       "    </tr>\n",
       "    <tr>\n",
       "      <th>1056</th>\n",
       "      <td>70</td>\n",
       "      <td>ZWE</td>\n",
       "      <td>Zimbabwe</td>\n",
       "      <td>2011</td>\n",
       "      <td>0</td>\n",
       "      <td>361.900000</td>\n",
       "      <td>1</td>\n",
       "      <td>1</td>\n",
       "      <td>0.0</td>\n",
       "      <td>4.920000</td>\n",
       "      <td>1</td>\n",
       "      <td>0</td>\n",
       "      <td>0</td>\n",
       "      <td>no_crisis</td>\n",
       "    </tr>\n",
       "    <tr>\n",
       "      <th>1057</th>\n",
       "      <td>70</td>\n",
       "      <td>ZWE</td>\n",
       "      <td>Zimbabwe</td>\n",
       "      <td>2012</td>\n",
       "      <td>0</td>\n",
       "      <td>361.900000</td>\n",
       "      <td>1</td>\n",
       "      <td>1</td>\n",
       "      <td>0.0</td>\n",
       "      <td>3.720000</td>\n",
       "      <td>1</td>\n",
       "      <td>0</td>\n",
       "      <td>0</td>\n",
       "      <td>no_crisis</td>\n",
       "    </tr>\n",
       "    <tr>\n",
       "      <th>1058</th>\n",
       "      <td>70</td>\n",
       "      <td>ZWE</td>\n",
       "      <td>Zimbabwe</td>\n",
       "      <td>2013</td>\n",
       "      <td>0</td>\n",
       "      <td>361.900000</td>\n",
       "      <td>1</td>\n",
       "      <td>1</td>\n",
       "      <td>0.0</td>\n",
       "      <td>1.632000</td>\n",
       "      <td>1</td>\n",
       "      <td>0</td>\n",
       "      <td>0</td>\n",
       "      <td>no_crisis</td>\n",
       "    </tr>\n",
       "  </tbody>\n",
       "</table>\n",
       "<p>1059 rows × 14 columns</p>\n",
       "</div>"
      ],
      "text/plain": [
       "      case  cc3   country  year  systemic_crisis    exch_usd  \\\n",
       "0        1  DZA   Algeria  1870                1    0.052264   \n",
       "1        1  DZA   Algeria  1871                0    0.052798   \n",
       "2        1  DZA   Algeria  1872                0    0.052274   \n",
       "3        1  DZA   Algeria  1873                0    0.051680   \n",
       "4        1  DZA   Algeria  1874                0    0.051308   \n",
       "...    ...  ...       ...   ...              ...         ...   \n",
       "1054    70  ZWE  Zimbabwe  2009                1  354.800000   \n",
       "1055    70  ZWE  Zimbabwe  2010                0  378.200000   \n",
       "1056    70  ZWE  Zimbabwe  2011                0  361.900000   \n",
       "1057    70  ZWE  Zimbabwe  2012                0  361.900000   \n",
       "1058    70  ZWE  Zimbabwe  2013                0  361.900000   \n",
       "\n",
       "      domestic_debt_in_default  sovereign_external_debt_default  \\\n",
       "0                            0                                0   \n",
       "1                            0                                0   \n",
       "2                            0                                0   \n",
       "3                            0                                0   \n",
       "4                            0                                0   \n",
       "...                        ...                              ...   \n",
       "1054                         1                                1   \n",
       "1055                         1                                1   \n",
       "1056                         1                                1   \n",
       "1057                         1                                1   \n",
       "1058                         1                                1   \n",
       "\n",
       "      gdp_weighted_default  inflation_annual_cpi  independence  \\\n",
       "0                      0.0              3.441456             0   \n",
       "1                      0.0             14.149140             0   \n",
       "2                      0.0             -3.718593             0   \n",
       "3                      0.0             11.203897             0   \n",
       "4                      0.0             -3.848561             0   \n",
       "...                    ...                   ...           ...   \n",
       "1054                   0.0             -7.670000             1   \n",
       "1055                   0.0              3.217000             1   \n",
       "1056                   0.0              4.920000             1   \n",
       "1057                   0.0              3.720000             1   \n",
       "1058                   0.0              1.632000             1   \n",
       "\n",
       "      currency_crises  inflation_crises banking_crisis  \n",
       "0                   0                 0         crisis  \n",
       "1                   0                 0      no_crisis  \n",
       "2                   0                 0      no_crisis  \n",
       "3                   0                 0      no_crisis  \n",
       "4                   0                 0      no_crisis  \n",
       "...               ...               ...            ...  \n",
       "1054                1                 0         crisis  \n",
       "1055                0                 0      no_crisis  \n",
       "1056                0                 0      no_crisis  \n",
       "1057                0                 0      no_crisis  \n",
       "1058                0                 0      no_crisis  \n",
       "\n",
       "[1059 rows x 14 columns]"
      ]
     },
     "execution_count": 5,
     "metadata": {},
     "output_type": "execute_result"
    }
   ],
   "source": [
    "df"
   ]
  },
  {
   "cell_type": "code",
   "execution_count": 6,
   "id": "ee6a065d-5cd4-48ce-9a51-bd5d09bf9d10",
   "metadata": {},
   "outputs": [],
   "source": [
    "df.drop([\"case\", \"cc3\", \"country\", \"year\"], axis=1, inplace=True)"
   ]
  },
  {
   "cell_type": "code",
   "execution_count": 7,
   "id": "7a2f9ded-ffee-4d6b-bc14-ab581a135967",
   "metadata": {},
   "outputs": [],
   "source": [
    "df[\"banking_crisis\"] = pd.get_dummies(df[\"banking_crisis\"], drop_first=True)"
   ]
  },
  {
   "cell_type": "code",
   "execution_count": 8,
   "id": "75dcf516-cf6f-4bce-8e87-f9c1e42119b9",
   "metadata": {},
   "outputs": [
    {
     "data": {
      "text/html": [
       "<div>\n",
       "<style scoped>\n",
       "    .dataframe tbody tr th:only-of-type {\n",
       "        vertical-align: middle;\n",
       "    }\n",
       "\n",
       "    .dataframe tbody tr th {\n",
       "        vertical-align: top;\n",
       "    }\n",
       "\n",
       "    .dataframe thead th {\n",
       "        text-align: right;\n",
       "    }\n",
       "</style>\n",
       "<table border=\"1\" class=\"dataframe\">\n",
       "  <thead>\n",
       "    <tr style=\"text-align: right;\">\n",
       "      <th></th>\n",
       "      <th>systemic_crisis</th>\n",
       "      <th>exch_usd</th>\n",
       "      <th>domestic_debt_in_default</th>\n",
       "      <th>sovereign_external_debt_default</th>\n",
       "      <th>gdp_weighted_default</th>\n",
       "      <th>inflation_annual_cpi</th>\n",
       "      <th>independence</th>\n",
       "      <th>currency_crises</th>\n",
       "      <th>inflation_crises</th>\n",
       "      <th>banking_crisis</th>\n",
       "    </tr>\n",
       "  </thead>\n",
       "  <tbody>\n",
       "    <tr>\n",
       "      <th>0</th>\n",
       "      <td>1</td>\n",
       "      <td>0.052264</td>\n",
       "      <td>0</td>\n",
       "      <td>0</td>\n",
       "      <td>0.0</td>\n",
       "      <td>3.441456</td>\n",
       "      <td>0</td>\n",
       "      <td>0</td>\n",
       "      <td>0</td>\n",
       "      <td>0</td>\n",
       "    </tr>\n",
       "    <tr>\n",
       "      <th>1</th>\n",
       "      <td>0</td>\n",
       "      <td>0.052798</td>\n",
       "      <td>0</td>\n",
       "      <td>0</td>\n",
       "      <td>0.0</td>\n",
       "      <td>14.149140</td>\n",
       "      <td>0</td>\n",
       "      <td>0</td>\n",
       "      <td>0</td>\n",
       "      <td>1</td>\n",
       "    </tr>\n",
       "    <tr>\n",
       "      <th>2</th>\n",
       "      <td>0</td>\n",
       "      <td>0.052274</td>\n",
       "      <td>0</td>\n",
       "      <td>0</td>\n",
       "      <td>0.0</td>\n",
       "      <td>-3.718593</td>\n",
       "      <td>0</td>\n",
       "      <td>0</td>\n",
       "      <td>0</td>\n",
       "      <td>1</td>\n",
       "    </tr>\n",
       "    <tr>\n",
       "      <th>3</th>\n",
       "      <td>0</td>\n",
       "      <td>0.051680</td>\n",
       "      <td>0</td>\n",
       "      <td>0</td>\n",
       "      <td>0.0</td>\n",
       "      <td>11.203897</td>\n",
       "      <td>0</td>\n",
       "      <td>0</td>\n",
       "      <td>0</td>\n",
       "      <td>1</td>\n",
       "    </tr>\n",
       "    <tr>\n",
       "      <th>4</th>\n",
       "      <td>0</td>\n",
       "      <td>0.051308</td>\n",
       "      <td>0</td>\n",
       "      <td>0</td>\n",
       "      <td>0.0</td>\n",
       "      <td>-3.848561</td>\n",
       "      <td>0</td>\n",
       "      <td>0</td>\n",
       "      <td>0</td>\n",
       "      <td>1</td>\n",
       "    </tr>\n",
       "    <tr>\n",
       "      <th>...</th>\n",
       "      <td>...</td>\n",
       "      <td>...</td>\n",
       "      <td>...</td>\n",
       "      <td>...</td>\n",
       "      <td>...</td>\n",
       "      <td>...</td>\n",
       "      <td>...</td>\n",
       "      <td>...</td>\n",
       "      <td>...</td>\n",
       "      <td>...</td>\n",
       "    </tr>\n",
       "    <tr>\n",
       "      <th>1054</th>\n",
       "      <td>1</td>\n",
       "      <td>354.800000</td>\n",
       "      <td>1</td>\n",
       "      <td>1</td>\n",
       "      <td>0.0</td>\n",
       "      <td>-7.670000</td>\n",
       "      <td>1</td>\n",
       "      <td>1</td>\n",
       "      <td>0</td>\n",
       "      <td>0</td>\n",
       "    </tr>\n",
       "    <tr>\n",
       "      <th>1055</th>\n",
       "      <td>0</td>\n",
       "      <td>378.200000</td>\n",
       "      <td>1</td>\n",
       "      <td>1</td>\n",
       "      <td>0.0</td>\n",
       "      <td>3.217000</td>\n",
       "      <td>1</td>\n",
       "      <td>0</td>\n",
       "      <td>0</td>\n",
       "      <td>1</td>\n",
       "    </tr>\n",
       "    <tr>\n",
       "      <th>1056</th>\n",
       "      <td>0</td>\n",
       "      <td>361.900000</td>\n",
       "      <td>1</td>\n",
       "      <td>1</td>\n",
       "      <td>0.0</td>\n",
       "      <td>4.920000</td>\n",
       "      <td>1</td>\n",
       "      <td>0</td>\n",
       "      <td>0</td>\n",
       "      <td>1</td>\n",
       "    </tr>\n",
       "    <tr>\n",
       "      <th>1057</th>\n",
       "      <td>0</td>\n",
       "      <td>361.900000</td>\n",
       "      <td>1</td>\n",
       "      <td>1</td>\n",
       "      <td>0.0</td>\n",
       "      <td>3.720000</td>\n",
       "      <td>1</td>\n",
       "      <td>0</td>\n",
       "      <td>0</td>\n",
       "      <td>1</td>\n",
       "    </tr>\n",
       "    <tr>\n",
       "      <th>1058</th>\n",
       "      <td>0</td>\n",
       "      <td>361.900000</td>\n",
       "      <td>1</td>\n",
       "      <td>1</td>\n",
       "      <td>0.0</td>\n",
       "      <td>1.632000</td>\n",
       "      <td>1</td>\n",
       "      <td>0</td>\n",
       "      <td>0</td>\n",
       "      <td>1</td>\n",
       "    </tr>\n",
       "  </tbody>\n",
       "</table>\n",
       "<p>1059 rows × 10 columns</p>\n",
       "</div>"
      ],
      "text/plain": [
       "      systemic_crisis    exch_usd  domestic_debt_in_default  \\\n",
       "0                   1    0.052264                         0   \n",
       "1                   0    0.052798                         0   \n",
       "2                   0    0.052274                         0   \n",
       "3                   0    0.051680                         0   \n",
       "4                   0    0.051308                         0   \n",
       "...               ...         ...                       ...   \n",
       "1054                1  354.800000                         1   \n",
       "1055                0  378.200000                         1   \n",
       "1056                0  361.900000                         1   \n",
       "1057                0  361.900000                         1   \n",
       "1058                0  361.900000                         1   \n",
       "\n",
       "      sovereign_external_debt_default  gdp_weighted_default  \\\n",
       "0                                   0                   0.0   \n",
       "1                                   0                   0.0   \n",
       "2                                   0                   0.0   \n",
       "3                                   0                   0.0   \n",
       "4                                   0                   0.0   \n",
       "...                               ...                   ...   \n",
       "1054                                1                   0.0   \n",
       "1055                                1                   0.0   \n",
       "1056                                1                   0.0   \n",
       "1057                                1                   0.0   \n",
       "1058                                1                   0.0   \n",
       "\n",
       "      inflation_annual_cpi  independence  currency_crises  inflation_crises  \\\n",
       "0                 3.441456             0                0                 0   \n",
       "1                14.149140             0                0                 0   \n",
       "2                -3.718593             0                0                 0   \n",
       "3                11.203897             0                0                 0   \n",
       "4                -3.848561             0                0                 0   \n",
       "...                    ...           ...              ...               ...   \n",
       "1054             -7.670000             1                1                 0   \n",
       "1055              3.217000             1                0                 0   \n",
       "1056              4.920000             1                0                 0   \n",
       "1057              3.720000             1                0                 0   \n",
       "1058              1.632000             1                0                 0   \n",
       "\n",
       "      banking_crisis  \n",
       "0                  0  \n",
       "1                  1  \n",
       "2                  1  \n",
       "3                  1  \n",
       "4                  1  \n",
       "...              ...  \n",
       "1054               0  \n",
       "1055               1  \n",
       "1056               1  \n",
       "1057               1  \n",
       "1058               1  \n",
       "\n",
       "[1059 rows x 10 columns]"
      ]
     },
     "execution_count": 8,
     "metadata": {},
     "output_type": "execute_result"
    }
   ],
   "source": [
    "df"
   ]
  },
  {
   "cell_type": "code",
   "execution_count": 9,
   "id": "1f74d143-5ff6-4b73-ac9e-8c60dda3c00c",
   "metadata": {},
   "outputs": [
    {
     "name": "stdout",
     "output_type": "stream",
     "text": [
      "<class 'pandas.core.frame.DataFrame'>\n",
      "RangeIndex: 1059 entries, 0 to 1058\n",
      "Data columns (total 10 columns):\n",
      " #   Column                           Non-Null Count  Dtype  \n",
      "---  ------                           --------------  -----  \n",
      " 0   systemic_crisis                  1059 non-null   int64  \n",
      " 1   exch_usd                         1059 non-null   float64\n",
      " 2   domestic_debt_in_default         1059 non-null   int64  \n",
      " 3   sovereign_external_debt_default  1059 non-null   int64  \n",
      " 4   gdp_weighted_default             1059 non-null   float64\n",
      " 5   inflation_annual_cpi             1059 non-null   float64\n",
      " 6   independence                     1059 non-null   int64  \n",
      " 7   currency_crises                  1059 non-null   int64  \n",
      " 8   inflation_crises                 1059 non-null   int64  \n",
      " 9   banking_crisis                   1059 non-null   uint8  \n",
      "dtypes: float64(3), int64(6), uint8(1)\n",
      "memory usage: 75.6 KB\n"
     ]
    }
   ],
   "source": [
    "df.info()"
   ]
  },
  {
   "cell_type": "code",
   "execution_count": 10,
   "id": "011b7759-addd-4d03-9f83-c9a41bc46cb0",
   "metadata": {},
   "outputs": [
    {
     "data": {
      "text/html": [
       "<div>\n",
       "<style scoped>\n",
       "    .dataframe tbody tr th:only-of-type {\n",
       "        vertical-align: middle;\n",
       "    }\n",
       "\n",
       "    .dataframe tbody tr th {\n",
       "        vertical-align: top;\n",
       "    }\n",
       "\n",
       "    .dataframe thead th {\n",
       "        text-align: right;\n",
       "    }\n",
       "</style>\n",
       "<table border=\"1\" class=\"dataframe\">\n",
       "  <thead>\n",
       "    <tr style=\"text-align: right;\">\n",
       "      <th></th>\n",
       "      <th>systemic_crisis</th>\n",
       "      <th>exch_usd</th>\n",
       "      <th>domestic_debt_in_default</th>\n",
       "      <th>sovereign_external_debt_default</th>\n",
       "      <th>gdp_weighted_default</th>\n",
       "      <th>inflation_annual_cpi</th>\n",
       "      <th>independence</th>\n",
       "      <th>currency_crises</th>\n",
       "      <th>inflation_crises</th>\n",
       "      <th>banking_crisis</th>\n",
       "    </tr>\n",
       "  </thead>\n",
       "  <tbody>\n",
       "    <tr>\n",
       "      <th>count</th>\n",
       "      <td>1059.000000</td>\n",
       "      <td>1059.000000</td>\n",
       "      <td>1059.000000</td>\n",
       "      <td>1059.000000</td>\n",
       "      <td>1059.000000</td>\n",
       "      <td>1.059000e+03</td>\n",
       "      <td>1059.000000</td>\n",
       "      <td>1059.000000</td>\n",
       "      <td>1059.000000</td>\n",
       "      <td>1059.000000</td>\n",
       "    </tr>\n",
       "    <tr>\n",
       "      <th>mean</th>\n",
       "      <td>0.077432</td>\n",
       "      <td>43.140831</td>\n",
       "      <td>0.039660</td>\n",
       "      <td>0.152975</td>\n",
       "      <td>0.006402</td>\n",
       "      <td>2.084889e+04</td>\n",
       "      <td>0.776204</td>\n",
       "      <td>0.132200</td>\n",
       "      <td>0.129367</td>\n",
       "      <td>0.911237</td>\n",
       "    </tr>\n",
       "    <tr>\n",
       "      <th>std</th>\n",
       "      <td>0.267401</td>\n",
       "      <td>111.475380</td>\n",
       "      <td>0.195251</td>\n",
       "      <td>0.360133</td>\n",
       "      <td>0.043572</td>\n",
       "      <td>6.757274e+05</td>\n",
       "      <td>0.416984</td>\n",
       "      <td>0.349847</td>\n",
       "      <td>0.335765</td>\n",
       "      <td>0.284536</td>\n",
       "    </tr>\n",
       "    <tr>\n",
       "      <th>min</th>\n",
       "      <td>0.000000</td>\n",
       "      <td>0.000000</td>\n",
       "      <td>0.000000</td>\n",
       "      <td>0.000000</td>\n",
       "      <td>0.000000</td>\n",
       "      <td>-2.850214e+01</td>\n",
       "      <td>0.000000</td>\n",
       "      <td>0.000000</td>\n",
       "      <td>0.000000</td>\n",
       "      <td>0.000000</td>\n",
       "    </tr>\n",
       "    <tr>\n",
       "      <th>25%</th>\n",
       "      <td>0.000000</td>\n",
       "      <td>0.195350</td>\n",
       "      <td>0.000000</td>\n",
       "      <td>0.000000</td>\n",
       "      <td>0.000000</td>\n",
       "      <td>2.086162e+00</td>\n",
       "      <td>1.000000</td>\n",
       "      <td>0.000000</td>\n",
       "      <td>0.000000</td>\n",
       "      <td>1.000000</td>\n",
       "    </tr>\n",
       "    <tr>\n",
       "      <th>50%</th>\n",
       "      <td>0.000000</td>\n",
       "      <td>0.868400</td>\n",
       "      <td>0.000000</td>\n",
       "      <td>0.000000</td>\n",
       "      <td>0.000000</td>\n",
       "      <td>5.762330e+00</td>\n",
       "      <td>1.000000</td>\n",
       "      <td>0.000000</td>\n",
       "      <td>0.000000</td>\n",
       "      <td>1.000000</td>\n",
       "    </tr>\n",
       "    <tr>\n",
       "      <th>75%</th>\n",
       "      <td>0.000000</td>\n",
       "      <td>8.462750</td>\n",
       "      <td>0.000000</td>\n",
       "      <td>0.000000</td>\n",
       "      <td>0.000000</td>\n",
       "      <td>1.164405e+01</td>\n",
       "      <td>1.000000</td>\n",
       "      <td>0.000000</td>\n",
       "      <td>0.000000</td>\n",
       "      <td>1.000000</td>\n",
       "    </tr>\n",
       "    <tr>\n",
       "      <th>max</th>\n",
       "      <td>1.000000</td>\n",
       "      <td>744.306139</td>\n",
       "      <td>1.000000</td>\n",
       "      <td>1.000000</td>\n",
       "      <td>0.400000</td>\n",
       "      <td>2.198970e+07</td>\n",
       "      <td>1.000000</td>\n",
       "      <td>2.000000</td>\n",
       "      <td>1.000000</td>\n",
       "      <td>1.000000</td>\n",
       "    </tr>\n",
       "  </tbody>\n",
       "</table>\n",
       "</div>"
      ],
      "text/plain": [
       "       systemic_crisis     exch_usd  domestic_debt_in_default  \\\n",
       "count      1059.000000  1059.000000               1059.000000   \n",
       "mean          0.077432    43.140831                  0.039660   \n",
       "std           0.267401   111.475380                  0.195251   \n",
       "min           0.000000     0.000000                  0.000000   \n",
       "25%           0.000000     0.195350                  0.000000   \n",
       "50%           0.000000     0.868400                  0.000000   \n",
       "75%           0.000000     8.462750                  0.000000   \n",
       "max           1.000000   744.306139                  1.000000   \n",
       "\n",
       "       sovereign_external_debt_default  gdp_weighted_default  \\\n",
       "count                      1059.000000           1059.000000   \n",
       "mean                          0.152975              0.006402   \n",
       "std                           0.360133              0.043572   \n",
       "min                           0.000000              0.000000   \n",
       "25%                           0.000000              0.000000   \n",
       "50%                           0.000000              0.000000   \n",
       "75%                           0.000000              0.000000   \n",
       "max                           1.000000              0.400000   \n",
       "\n",
       "       inflation_annual_cpi  independence  currency_crises  inflation_crises  \\\n",
       "count          1.059000e+03   1059.000000      1059.000000       1059.000000   \n",
       "mean           2.084889e+04      0.776204         0.132200          0.129367   \n",
       "std            6.757274e+05      0.416984         0.349847          0.335765   \n",
       "min           -2.850214e+01      0.000000         0.000000          0.000000   \n",
       "25%            2.086162e+00      1.000000         0.000000          0.000000   \n",
       "50%            5.762330e+00      1.000000         0.000000          0.000000   \n",
       "75%            1.164405e+01      1.000000         0.000000          0.000000   \n",
       "max            2.198970e+07      1.000000         2.000000          1.000000   \n",
       "\n",
       "       banking_crisis  \n",
       "count     1059.000000  \n",
       "mean         0.911237  \n",
       "std          0.284536  \n",
       "min          0.000000  \n",
       "25%          1.000000  \n",
       "50%          1.000000  \n",
       "75%          1.000000  \n",
       "max          1.000000  "
      ]
     },
     "execution_count": 10,
     "metadata": {},
     "output_type": "execute_result"
    }
   ],
   "source": [
    "df.describe()"
   ]
  },
  {
   "cell_type": "code",
   "execution_count": 11,
   "id": "3812da51-8d8b-4c3a-a8fa-b46287c6e0d1",
   "metadata": {},
   "outputs": [
    {
     "data": {
      "text/html": [
       "<div>\n",
       "<style scoped>\n",
       "    .dataframe tbody tr th:only-of-type {\n",
       "        vertical-align: middle;\n",
       "    }\n",
       "\n",
       "    .dataframe tbody tr th {\n",
       "        vertical-align: top;\n",
       "    }\n",
       "\n",
       "    .dataframe thead th {\n",
       "        text-align: right;\n",
       "    }\n",
       "</style>\n",
       "<table border=\"1\" class=\"dataframe\">\n",
       "  <thead>\n",
       "    <tr style=\"text-align: right;\">\n",
       "      <th></th>\n",
       "      <th>systemic_crisis</th>\n",
       "      <th>exch_usd</th>\n",
       "      <th>domestic_debt_in_default</th>\n",
       "      <th>sovereign_external_debt_default</th>\n",
       "      <th>gdp_weighted_default</th>\n",
       "      <th>inflation_annual_cpi</th>\n",
       "      <th>independence</th>\n",
       "      <th>currency_crises</th>\n",
       "      <th>inflation_crises</th>\n",
       "      <th>banking_crisis</th>\n",
       "    </tr>\n",
       "  </thead>\n",
       "  <tbody>\n",
       "    <tr>\n",
       "      <th>systemic_crisis</th>\n",
       "      <td>1.000000</td>\n",
       "      <td>0.202687</td>\n",
       "      <td>0.122158</td>\n",
       "      <td>0.249850</td>\n",
       "      <td>0.005274</td>\n",
       "      <td>0.106452</td>\n",
       "      <td>0.147083</td>\n",
       "      <td>0.112751</td>\n",
       "      <td>0.172562</td>\n",
       "      <td>-0.853702</td>\n",
       "    </tr>\n",
       "    <tr>\n",
       "      <th>exch_usd</th>\n",
       "      <td>0.202687</td>\n",
       "      <td>1.000000</td>\n",
       "      <td>0.005253</td>\n",
       "      <td>0.422890</td>\n",
       "      <td>-0.040726</td>\n",
       "      <td>-0.011947</td>\n",
       "      <td>0.126034</td>\n",
       "      <td>-0.056472</td>\n",
       "      <td>-0.063783</td>\n",
       "      <td>-0.168775</td>\n",
       "    </tr>\n",
       "    <tr>\n",
       "      <th>domestic_debt_in_default</th>\n",
       "      <td>0.122158</td>\n",
       "      <td>0.005253</td>\n",
       "      <td>1.000000</td>\n",
       "      <td>0.464751</td>\n",
       "      <td>-0.029874</td>\n",
       "      <td>0.151832</td>\n",
       "      <td>0.109120</td>\n",
       "      <td>0.227585</td>\n",
       "      <td>0.224429</td>\n",
       "      <td>-0.225797</td>\n",
       "    </tr>\n",
       "    <tr>\n",
       "      <th>sovereign_external_debt_default</th>\n",
       "      <td>0.249850</td>\n",
       "      <td>0.422890</td>\n",
       "      <td>0.464751</td>\n",
       "      <td>1.000000</td>\n",
       "      <td>0.345919</td>\n",
       "      <td>0.072609</td>\n",
       "      <td>0.228192</td>\n",
       "      <td>0.199428</td>\n",
       "      <td>0.187930</td>\n",
       "      <td>-0.263992</td>\n",
       "    </tr>\n",
       "    <tr>\n",
       "      <th>gdp_weighted_default</th>\n",
       "      <td>0.005274</td>\n",
       "      <td>-0.040726</td>\n",
       "      <td>-0.029874</td>\n",
       "      <td>0.345919</td>\n",
       "      <td>1.000000</td>\n",
       "      <td>-0.004535</td>\n",
       "      <td>0.078936</td>\n",
       "      <td>0.016970</td>\n",
       "      <td>0.017630</td>\n",
       "      <td>-0.026545</td>\n",
       "    </tr>\n",
       "    <tr>\n",
       "      <th>inflation_annual_cpi</th>\n",
       "      <td>0.106452</td>\n",
       "      <td>-0.011947</td>\n",
       "      <td>0.151832</td>\n",
       "      <td>0.072609</td>\n",
       "      <td>-0.004535</td>\n",
       "      <td>1.000000</td>\n",
       "      <td>0.016569</td>\n",
       "      <td>0.076590</td>\n",
       "      <td>0.080060</td>\n",
       "      <td>-0.098860</td>\n",
       "    </tr>\n",
       "    <tr>\n",
       "      <th>independence</th>\n",
       "      <td>0.147083</td>\n",
       "      <td>0.126034</td>\n",
       "      <td>0.109120</td>\n",
       "      <td>0.228192</td>\n",
       "      <td>0.078936</td>\n",
       "      <td>0.016569</td>\n",
       "      <td>1.000000</td>\n",
       "      <td>0.086376</td>\n",
       "      <td>-0.022548</td>\n",
       "      <td>-0.159620</td>\n",
       "    </tr>\n",
       "    <tr>\n",
       "      <th>currency_crises</th>\n",
       "      <td>0.112751</td>\n",
       "      <td>-0.056472</td>\n",
       "      <td>0.227585</td>\n",
       "      <td>0.199428</td>\n",
       "      <td>0.016970</td>\n",
       "      <td>0.076590</td>\n",
       "      <td>0.086376</td>\n",
       "      <td>1.000000</td>\n",
       "      <td>0.393376</td>\n",
       "      <td>-0.166859</td>\n",
       "    </tr>\n",
       "    <tr>\n",
       "      <th>inflation_crises</th>\n",
       "      <td>0.172562</td>\n",
       "      <td>-0.063783</td>\n",
       "      <td>0.224429</td>\n",
       "      <td>0.187930</td>\n",
       "      <td>0.017630</td>\n",
       "      <td>0.080060</td>\n",
       "      <td>-0.022548</td>\n",
       "      <td>0.393376</td>\n",
       "      <td>1.000000</td>\n",
       "      <td>-0.235852</td>\n",
       "    </tr>\n",
       "    <tr>\n",
       "      <th>banking_crisis</th>\n",
       "      <td>-0.853702</td>\n",
       "      <td>-0.168775</td>\n",
       "      <td>-0.225797</td>\n",
       "      <td>-0.263992</td>\n",
       "      <td>-0.026545</td>\n",
       "      <td>-0.098860</td>\n",
       "      <td>-0.159620</td>\n",
       "      <td>-0.166859</td>\n",
       "      <td>-0.235852</td>\n",
       "      <td>1.000000</td>\n",
       "    </tr>\n",
       "  </tbody>\n",
       "</table>\n",
       "</div>"
      ],
      "text/plain": [
       "                                 systemic_crisis  exch_usd  \\\n",
       "systemic_crisis                         1.000000  0.202687   \n",
       "exch_usd                                0.202687  1.000000   \n",
       "domestic_debt_in_default                0.122158  0.005253   \n",
       "sovereign_external_debt_default         0.249850  0.422890   \n",
       "gdp_weighted_default                    0.005274 -0.040726   \n",
       "inflation_annual_cpi                    0.106452 -0.011947   \n",
       "independence                            0.147083  0.126034   \n",
       "currency_crises                         0.112751 -0.056472   \n",
       "inflation_crises                        0.172562 -0.063783   \n",
       "banking_crisis                         -0.853702 -0.168775   \n",
       "\n",
       "                                 domestic_debt_in_default  \\\n",
       "systemic_crisis                                  0.122158   \n",
       "exch_usd                                         0.005253   \n",
       "domestic_debt_in_default                         1.000000   \n",
       "sovereign_external_debt_default                  0.464751   \n",
       "gdp_weighted_default                            -0.029874   \n",
       "inflation_annual_cpi                             0.151832   \n",
       "independence                                     0.109120   \n",
       "currency_crises                                  0.227585   \n",
       "inflation_crises                                 0.224429   \n",
       "banking_crisis                                  -0.225797   \n",
       "\n",
       "                                 sovereign_external_debt_default  \\\n",
       "systemic_crisis                                         0.249850   \n",
       "exch_usd                                                0.422890   \n",
       "domestic_debt_in_default                                0.464751   \n",
       "sovereign_external_debt_default                         1.000000   \n",
       "gdp_weighted_default                                    0.345919   \n",
       "inflation_annual_cpi                                    0.072609   \n",
       "independence                                            0.228192   \n",
       "currency_crises                                         0.199428   \n",
       "inflation_crises                                        0.187930   \n",
       "banking_crisis                                         -0.263992   \n",
       "\n",
       "                                 gdp_weighted_default  inflation_annual_cpi  \\\n",
       "systemic_crisis                              0.005274              0.106452   \n",
       "exch_usd                                    -0.040726             -0.011947   \n",
       "domestic_debt_in_default                    -0.029874              0.151832   \n",
       "sovereign_external_debt_default              0.345919              0.072609   \n",
       "gdp_weighted_default                         1.000000             -0.004535   \n",
       "inflation_annual_cpi                        -0.004535              1.000000   \n",
       "independence                                 0.078936              0.016569   \n",
       "currency_crises                              0.016970              0.076590   \n",
       "inflation_crises                             0.017630              0.080060   \n",
       "banking_crisis                              -0.026545             -0.098860   \n",
       "\n",
       "                                 independence  currency_crises  \\\n",
       "systemic_crisis                      0.147083         0.112751   \n",
       "exch_usd                             0.126034        -0.056472   \n",
       "domestic_debt_in_default             0.109120         0.227585   \n",
       "sovereign_external_debt_default      0.228192         0.199428   \n",
       "gdp_weighted_default                 0.078936         0.016970   \n",
       "inflation_annual_cpi                 0.016569         0.076590   \n",
       "independence                         1.000000         0.086376   \n",
       "currency_crises                      0.086376         1.000000   \n",
       "inflation_crises                    -0.022548         0.393376   \n",
       "banking_crisis                      -0.159620        -0.166859   \n",
       "\n",
       "                                 inflation_crises  banking_crisis  \n",
       "systemic_crisis                          0.172562       -0.853702  \n",
       "exch_usd                                -0.063783       -0.168775  \n",
       "domestic_debt_in_default                 0.224429       -0.225797  \n",
       "sovereign_external_debt_default          0.187930       -0.263992  \n",
       "gdp_weighted_default                     0.017630       -0.026545  \n",
       "inflation_annual_cpi                     0.080060       -0.098860  \n",
       "independence                            -0.022548       -0.159620  \n",
       "currency_crises                          0.393376       -0.166859  \n",
       "inflation_crises                         1.000000       -0.235852  \n",
       "banking_crisis                          -0.235852        1.000000  "
      ]
     },
     "execution_count": 11,
     "metadata": {},
     "output_type": "execute_result"
    }
   ],
   "source": [
    "df.corr()"
   ]
  },
  {
   "cell_type": "code",
   "execution_count": 12,
   "id": "016562dc-cb7a-4eb6-baac-60add15ab120",
   "metadata": {},
   "outputs": [
    {
     "data": {
      "text/plain": [
       "<AxesSubplot:>"
      ]
     },
     "execution_count": 12,
     "metadata": {},
     "output_type": "execute_result"
    },
    {
     "data": {
      "image/png": "[encoded data removed]",
      "text/plain": [
       "<Figure size 1152x432 with 2 Axes>"
      ]
     },
     "metadata": {
      "needs_background": "light"
     },
     "output_type": "display_data"
    }
   ],
   "source": [
    "plt.figure(figsize=(16,6))\n",
    "sns.heatmap(df.corr(), annot=True, linecolor=\"black\", linewidths=2, cmap=\"twilight\")"
   ]
  },
  {
   "cell_type": "code",
   "execution_count": 14,
   "id": "4b3ac89b-d6ca-481f-a51a-6420b3363a04",
   "metadata": {},
   "outputs": [
    {
     "data": {
      "text/html": [
       "<div>\n",
       "<style scoped>\n",
       "    .dataframe tbody tr th:only-of-type {\n",
       "        vertical-align: middle;\n",
       "    }\n",
       "\n",
       "    .dataframe tbody tr th {\n",
       "        vertical-align: top;\n",
       "    }\n",
       "\n",
       "    .dataframe thead th {\n",
       "        text-align: right;\n",
       "    }\n",
       "</style>\n",
       "<table border=\"1\" class=\"dataframe\">\n",
       "  <thead>\n",
       "    <tr style=\"text-align: right;\">\n",
       "      <th></th>\n",
       "      <th>systemic_crisis</th>\n",
       "      <th>exch_usd</th>\n",
       "      <th>domestic_debt_in_default</th>\n",
       "      <th>sovereign_external_debt_default</th>\n",
       "      <th>gdp_weighted_default</th>\n",
       "      <th>inflation_annual_cpi</th>\n",
       "      <th>independence</th>\n",
       "      <th>currency_crises</th>\n",
       "      <th>inflation_crises</th>\n",
       "      <th>banking_crisis</th>\n",
       "    </tr>\n",
       "  </thead>\n",
       "  <tbody>\n",
       "    <tr>\n",
       "      <th>0</th>\n",
       "      <td>1</td>\n",
       "      <td>0.052264</td>\n",
       "      <td>0</td>\n",
       "      <td>0</td>\n",
       "      <td>0.0</td>\n",
       "      <td>3.441456</td>\n",
       "      <td>0</td>\n",
       "      <td>0</td>\n",
       "      <td>0</td>\n",
       "      <td>0</td>\n",
       "    </tr>\n",
       "    <tr>\n",
       "      <th>1</th>\n",
       "      <td>0</td>\n",
       "      <td>0.052798</td>\n",
       "      <td>0</td>\n",
       "      <td>0</td>\n",
       "      <td>0.0</td>\n",
       "      <td>14.149140</td>\n",
       "      <td>0</td>\n",
       "      <td>0</td>\n",
       "      <td>0</td>\n",
       "      <td>1</td>\n",
       "    </tr>\n",
       "    <tr>\n",
       "      <th>2</th>\n",
       "      <td>0</td>\n",
       "      <td>0.052274</td>\n",
       "      <td>0</td>\n",
       "      <td>0</td>\n",
       "      <td>0.0</td>\n",
       "      <td>-3.718593</td>\n",
       "      <td>0</td>\n",
       "      <td>0</td>\n",
       "      <td>0</td>\n",
       "      <td>1</td>\n",
       "    </tr>\n",
       "    <tr>\n",
       "      <th>3</th>\n",
       "      <td>0</td>\n",
       "      <td>0.051680</td>\n",
       "      <td>0</td>\n",
       "      <td>0</td>\n",
       "      <td>0.0</td>\n",
       "      <td>11.203897</td>\n",
       "      <td>0</td>\n",
       "      <td>0</td>\n",
       "      <td>0</td>\n",
       "      <td>1</td>\n",
       "    </tr>\n",
       "    <tr>\n",
       "      <th>4</th>\n",
       "      <td>0</td>\n",
       "      <td>0.051308</td>\n",
       "      <td>0</td>\n",
       "      <td>0</td>\n",
       "      <td>0.0</td>\n",
       "      <td>-3.848561</td>\n",
       "      <td>0</td>\n",
       "      <td>0</td>\n",
       "      <td>0</td>\n",
       "      <td>1</td>\n",
       "    </tr>\n",
       "    <tr>\n",
       "      <th>...</th>\n",
       "      <td>...</td>\n",
       "      <td>...</td>\n",
       "      <td>...</td>\n",
       "      <td>...</td>\n",
       "      <td>...</td>\n",
       "      <td>...</td>\n",
       "      <td>...</td>\n",
       "      <td>...</td>\n",
       "      <td>...</td>\n",
       "      <td>...</td>\n",
       "    </tr>\n",
       "    <tr>\n",
       "      <th>1054</th>\n",
       "      <td>1</td>\n",
       "      <td>354.800000</td>\n",
       "      <td>1</td>\n",
       "      <td>1</td>\n",
       "      <td>0.0</td>\n",
       "      <td>-7.670000</td>\n",
       "      <td>1</td>\n",
       "      <td>1</td>\n",
       "      <td>0</td>\n",
       "      <td>0</td>\n",
       "    </tr>\n",
       "    <tr>\n",
       "      <th>1055</th>\n",
       "      <td>0</td>\n",
       "      <td>378.200000</td>\n",
       "      <td>1</td>\n",
       "      <td>1</td>\n",
       "      <td>0.0</td>\n",
       "      <td>3.217000</td>\n",
       "      <td>1</td>\n",
       "      <td>0</td>\n",
       "      <td>0</td>\n",
       "      <td>1</td>\n",
       "    </tr>\n",
       "    <tr>\n",
       "      <th>1056</th>\n",
       "      <td>0</td>\n",
       "      <td>361.900000</td>\n",
       "      <td>1</td>\n",
       "      <td>1</td>\n",
       "      <td>0.0</td>\n",
       "      <td>4.920000</td>\n",
       "      <td>1</td>\n",
       "      <td>0</td>\n",
       "      <td>0</td>\n",
       "      <td>1</td>\n",
       "    </tr>\n",
       "    <tr>\n",
       "      <th>1057</th>\n",
       "      <td>0</td>\n",
       "      <td>361.900000</td>\n",
       "      <td>1</td>\n",
       "      <td>1</td>\n",
       "      <td>0.0</td>\n",
       "      <td>3.720000</td>\n",
       "      <td>1</td>\n",
       "      <td>0</td>\n",
       "      <td>0</td>\n",
       "      <td>1</td>\n",
       "    </tr>\n",
       "    <tr>\n",
       "      <th>1058</th>\n",
       "      <td>0</td>\n",
       "      <td>361.900000</td>\n",
       "      <td>1</td>\n",
       "      <td>1</td>\n",
       "      <td>0.0</td>\n",
       "      <td>1.632000</td>\n",
       "      <td>1</td>\n",
       "      <td>0</td>\n",
       "      <td>0</td>\n",
       "      <td>1</td>\n",
       "    </tr>\n",
       "  </tbody>\n",
       "</table>\n",
       "<p>1059 rows × 10 columns</p>\n",
       "</div>"
      ],
      "text/plain": [
       "      systemic_crisis    exch_usd  domestic_debt_in_default  \\\n",
       "0                   1    0.052264                         0   \n",
       "1                   0    0.052798                         0   \n",
       "2                   0    0.052274                         0   \n",
       "3                   0    0.051680                         0   \n",
       "4                   0    0.051308                         0   \n",
       "...               ...         ...                       ...   \n",
       "1054                1  354.800000                         1   \n",
       "1055                0  378.200000                         1   \n",
       "1056                0  361.900000                         1   \n",
       "1057                0  361.900000                         1   \n",
       "1058                0  361.900000                         1   \n",
       "\n",
       "      sovereign_external_debt_default  gdp_weighted_default  \\\n",
       "0                                   0                   0.0   \n",
       "1                                   0                   0.0   \n",
       "2                                   0                   0.0   \n",
       "3                                   0                   0.0   \n",
       "4                                   0                   0.0   \n",
       "...                               ...                   ...   \n",
       "1054                                1                   0.0   \n",
       "1055                                1                   0.0   \n",
       "1056                                1                   0.0   \n",
       "1057                                1                   0.0   \n",
       "1058                                1                   0.0   \n",
       "\n",
       "      inflation_annual_cpi  independence  currency_crises  inflation_crises  \\\n",
       "0                 3.441456             0                0                 0   \n",
       "1                14.149140             0                0                 0   \n",
       "2                -3.718593             0                0                 0   \n",
       "3                11.203897             0                0                 0   \n",
       "4                -3.848561             0                0                 0   \n",
       "...                    ...           ...              ...               ...   \n",
       "1054             -7.670000             1                1                 0   \n",
       "1055              3.217000             1                0                 0   \n",
       "1056              4.920000             1                0                 0   \n",
       "1057              3.720000             1                0                 0   \n",
       "1058              1.632000             1                0                 0   \n",
       "\n",
       "      banking_crisis  \n",
       "0                  0  \n",
       "1                  1  \n",
       "2                  1  \n",
       "3                  1  \n",
       "4                  1  \n",
       "...              ...  \n",
       "1054               0  \n",
       "1055               1  \n",
       "1056               1  \n",
       "1057               1  \n",
       "1058               1  \n",
       "\n",
       "[1059 rows x 10 columns]"
      ]
     },
     "execution_count": 14,
     "metadata": {},
     "output_type": "execute_result"
    }
   ],
   "source": [
    "df"
   ]
  },
  {
   "cell_type": "code",
   "execution_count": 15,
   "id": "9b100881-8520-4f9f-b206-c67eb05d8131",
   "metadata": {},
   "outputs": [],
   "source": [
    "df[\"target\"] = df[\"systemic_crisis\"]"
   ]
  },
  {
   "cell_type": "code",
   "execution_count": 16,
   "id": "82a5fcc6-ad89-4d83-af92-9b79539b79f2",
   "metadata": {},
   "outputs": [],
   "source": [
    "df.drop(\"systemic_crisis\", axis=1, inplace=True)"
   ]
  },
  {
   "cell_type": "code",
   "execution_count": 17,
   "id": "7e17944c-ee33-484b-890b-51b1546cb4d0",
   "metadata": {},
   "outputs": [
    {
     "data": {
      "text/html": [
       "<div>\n",
       "<style scoped>\n",
       "    .dataframe tbody tr th:only-of-type {\n",
       "        vertical-align: middle;\n",
       "    }\n",
       "\n",
       "    .dataframe tbody tr th {\n",
       "        vertical-align: top;\n",
       "    }\n",
       "\n",
       "    .dataframe thead th {\n",
       "        text-align: right;\n",
       "    }\n",
       "</style>\n",
       "<table border=\"1\" class=\"dataframe\">\n",
       "  <thead>\n",
       "    <tr style=\"text-align: right;\">\n",
       "      <th></th>\n",
       "      <th>exch_usd</th>\n",
       "      <th>domestic_debt_in_default</th>\n",
       "      <th>sovereign_external_debt_default</th>\n",
       "      <th>gdp_weighted_default</th>\n",
       "      <th>inflation_annual_cpi</th>\n",
       "      <th>independence</th>\n",
       "      <th>currency_crises</th>\n",
       "      <th>inflation_crises</th>\n",
       "      <th>banking_crisis</th>\n",
       "      <th>target</th>\n",
       "    </tr>\n",
       "  </thead>\n",
       "  <tbody>\n",
       "    <tr>\n",
       "      <th>0</th>\n",
       "      <td>0.052264</td>\n",
       "      <td>0</td>\n",
       "      <td>0</td>\n",
       "      <td>0.0</td>\n",
       "      <td>3.441456</td>\n",
       "      <td>0</td>\n",
       "      <td>0</td>\n",
       "      <td>0</td>\n",
       "      <td>0</td>\n",
       "      <td>1</td>\n",
       "    </tr>\n",
       "    <tr>\n",
       "      <th>1</th>\n",
       "      <td>0.052798</td>\n",
       "      <td>0</td>\n",
       "      <td>0</td>\n",
       "      <td>0.0</td>\n",
       "      <td>14.149140</td>\n",
       "      <td>0</td>\n",
       "      <td>0</td>\n",
       "      <td>0</td>\n",
       "      <td>1</td>\n",
       "      <td>0</td>\n",
       "    </tr>\n",
       "    <tr>\n",
       "      <th>2</th>\n",
       "      <td>0.052274</td>\n",
       "      <td>0</td>\n",
       "      <td>0</td>\n",
       "      <td>0.0</td>\n",
       "      <td>-3.718593</td>\n",
       "      <td>0</td>\n",
       "      <td>0</td>\n",
       "      <td>0</td>\n",
       "      <td>1</td>\n",
       "      <td>0</td>\n",
       "    </tr>\n",
       "    <tr>\n",
       "      <th>3</th>\n",
       "      <td>0.051680</td>\n",
       "      <td>0</td>\n",
       "      <td>0</td>\n",
       "      <td>0.0</td>\n",
       "      <td>11.203897</td>\n",
       "      <td>0</td>\n",
       "      <td>0</td>\n",
       "      <td>0</td>\n",
       "      <td>1</td>\n",
       "      <td>0</td>\n",
       "    </tr>\n",
       "    <tr>\n",
       "      <th>4</th>\n",
       "      <td>0.051308</td>\n",
       "      <td>0</td>\n",
       "      <td>0</td>\n",
       "      <td>0.0</td>\n",
       "      <td>-3.848561</td>\n",
       "      <td>0</td>\n",
       "      <td>0</td>\n",
       "      <td>0</td>\n",
       "      <td>1</td>\n",
       "      <td>0</td>\n",
       "    </tr>\n",
       "    <tr>\n",
       "      <th>...</th>\n",
       "      <td>...</td>\n",
       "      <td>...</td>\n",
       "      <td>...</td>\n",
       "      <td>...</td>\n",
       "      <td>...</td>\n",
       "      <td>...</td>\n",
       "      <td>...</td>\n",
       "      <td>...</td>\n",
       "      <td>...</td>\n",
       "      <td>...</td>\n",
       "    </tr>\n",
       "    <tr>\n",
       "      <th>1054</th>\n",
       "      <td>354.800000</td>\n",
       "      <td>1</td>\n",
       "      <td>1</td>\n",
       "      <td>0.0</td>\n",
       "      <td>-7.670000</td>\n",
       "      <td>1</td>\n",
       "      <td>1</td>\n",
       "      <td>0</td>\n",
       "      <td>0</td>\n",
       "      <td>1</td>\n",
       "    </tr>\n",
       "    <tr>\n",
       "      <th>1055</th>\n",
       "      <td>378.200000</td>\n",
       "      <td>1</td>\n",
       "      <td>1</td>\n",
       "      <td>0.0</td>\n",
       "      <td>3.217000</td>\n",
       "      <td>1</td>\n",
       "      <td>0</td>\n",
       "      <td>0</td>\n",
       "      <td>1</td>\n",
       "      <td>0</td>\n",
       "    </tr>\n",
       "    <tr>\n",
       "      <th>1056</th>\n",
       "      <td>361.900000</td>\n",
       "      <td>1</td>\n",
       "      <td>1</td>\n",
       "      <td>0.0</td>\n",
       "      <td>4.920000</td>\n",
       "      <td>1</td>\n",
       "      <td>0</td>\n",
       "      <td>0</td>\n",
       "      <td>1</td>\n",
       "      <td>0</td>\n",
       "    </tr>\n",
       "    <tr>\n",
       "      <th>1057</th>\n",
       "      <td>361.900000</td>\n",
       "      <td>1</td>\n",
       "      <td>1</td>\n",
       "      <td>0.0</td>\n",
       "      <td>3.720000</td>\n",
       "      <td>1</td>\n",
       "      <td>0</td>\n",
       "      <td>0</td>\n",
       "      <td>1</td>\n",
       "      <td>0</td>\n",
       "    </tr>\n",
       "    <tr>\n",
       "      <th>1058</th>\n",
       "      <td>361.900000</td>\n",
       "      <td>1</td>\n",
       "      <td>1</td>\n",
       "      <td>0.0</td>\n",
       "      <td>1.632000</td>\n",
       "      <td>1</td>\n",
       "      <td>0</td>\n",
       "      <td>0</td>\n",
       "      <td>1</td>\n",
       "      <td>0</td>\n",
       "    </tr>\n",
       "  </tbody>\n",
       "</table>\n",
       "<p>1059 rows × 10 columns</p>\n",
       "</div>"
      ],
      "text/plain": [
       "        exch_usd  domestic_debt_in_default  sovereign_external_debt_default  \\\n",
       "0       0.052264                         0                                0   \n",
       "1       0.052798                         0                                0   \n",
       "2       0.052274                         0                                0   \n",
       "3       0.051680                         0                                0   \n",
       "4       0.051308                         0                                0   \n",
       "...          ...                       ...                              ...   \n",
       "1054  354.800000                         1                                1   \n",
       "1055  378.200000                         1                                1   \n",
       "1056  361.900000                         1                                1   \n",
       "1057  361.900000                         1                                1   \n",
       "1058  361.900000                         1                                1   \n",
       "\n",
       "      gdp_weighted_default  inflation_annual_cpi  independence  \\\n",
       "0                      0.0              3.441456             0   \n",
       "1                      0.0             14.149140             0   \n",
       "2                      0.0             -3.718593             0   \n",
       "3                      0.0             11.203897             0   \n",
       "4                      0.0             -3.848561             0   \n",
       "...                    ...                   ...           ...   \n",
       "1054                   0.0             -7.670000             1   \n",
       "1055                   0.0              3.217000             1   \n",
       "1056                   0.0              4.920000             1   \n",
       "1057                   0.0              3.720000             1   \n",
       "1058                   0.0              1.632000             1   \n",
       "\n",
       "      currency_crises  inflation_crises  banking_crisis  target  \n",
       "0                   0                 0               0       1  \n",
       "1                   0                 0               1       0  \n",
       "2                   0                 0               1       0  \n",
       "3                   0                 0               1       0  \n",
       "4                   0                 0               1       0  \n",
       "...               ...               ...             ...     ...  \n",
       "1054                1                 0               0       1  \n",
       "1055                0                 0               1       0  \n",
       "1056                0                 0               1       0  \n",
       "1057                0                 0               1       0  \n",
       "1058                0                 0               1       0  \n",
       "\n",
       "[1059 rows x 10 columns]"
      ]
     },
     "execution_count": 17,
     "metadata": {},
     "output_type": "execute_result"
    }
   ],
   "source": [
    "df"
   ]
  },
  {
   "cell_type": "code",
   "execution_count": 21,
   "id": "d2a1e6a5-9b6d-4b2c-bd39-27fe99e6b5d6",
   "metadata": {},
   "outputs": [
    {
     "data": {
      "text/plain": [
       "<AxesSubplot:xlabel='target', ylabel='count'>"
      ]
     },
     "execution_count": 21,
     "metadata": {},
     "output_type": "execute_result"
    },
    {
     "data": {
      "image/png": "[encoded data removed]",
      "text/plain": [
       "<Figure size 432x288 with 1 Axes>"
      ]
     },
     "metadata": {
      "needs_background": "light"
     },
     "output_type": "display_data"
    }
   ],
   "source": [
    "sns.countplot(x = df[\"target\"], hue= \"independence\", data=df)"
   ]
  },
  {
   "cell_type": "code",
   "execution_count": 25,
   "id": "9ab32cbd-b4ba-4b42-a0a0-c7914b6922e4",
   "metadata": {},
   "outputs": [],
   "source": [
    "X = df.drop(\"target\", axis=1)\n",
    "y = df[\"target\"]"
   ]
  },
  {
   "cell_type": "code",
   "execution_count": 27,
   "id": "fe9277d1-a27f-42a9-ad5d-3afd0b976cea",
   "metadata": {},
   "outputs": [],
   "source": [
    "X_train, X_test, y_train, y_test = train_test_split(X, y, test_size=0.30, random_state=42)"
   ]
  },
  {
   "cell_type": "code",
   "execution_count": 28,
   "id": "6b72b5e5-2365-4e88-812c-74f0ae6ee16c",
   "metadata": {},
   "outputs": [],
   "source": [
    "log_model = LogisticRegression(n_jobs=200)"
   ]
  },
  {
   "cell_type": "code",
   "execution_count": 29,
   "id": "f4a4c8fa-e1cb-46a4-9dd4-43c0ee7f53d1",
   "metadata": {},
   "outputs": [
    {
     "data": {
      "text/plain": [
       "LogisticRegression(n_jobs=200)"
      ]
     },
     "execution_count": 29,
     "metadata": {},
     "output_type": "execute_result"
    }
   ],
   "source": [
    "log_model.fit(X_train,y_train)"
   ]
  },
  {
   "cell_type": "code",
   "execution_count": 30,
   "id": "8d83a43b-0c88-490d-af07-87e2dc168f72",
   "metadata": {},
   "outputs": [],
   "source": [
    "log_predictions = log_model.predict(X_test)"
   ]
  },
  {
   "cell_type": "code",
   "execution_count": 32,
   "id": "6ced8ee3-038d-4053-87a7-ed3bac5c61cc",
   "metadata": {},
   "outputs": [
    {
     "name": "stdout",
     "output_type": "stream",
     "text": [
      "              precision    recall  f1-score   support\n",
      "\n",
      "           0       0.99      0.99      0.99       293\n",
      "           1       0.92      0.88      0.90        25\n",
      "\n",
      "    accuracy                           0.98       318\n",
      "   macro avg       0.95      0.94      0.94       318\n",
      "weighted avg       0.98      0.98      0.98       318\n",
      "\n"
     ]
    }
   ],
   "source": [
    "print(classification_report(log_predictions, y_test))"
   ]
  },
  {
   "cell_type": "code",
   "execution_count": 33,
   "id": "a28159f0-57f4-4a14-9be6-b585b96f48f5",
   "metadata": {},
   "outputs": [
    {
     "name": "stdout",
     "output_type": "stream",
     "text": [
      "[[291   2]\n",
      " [  3  22]]\n"
     ]
    }
   ],
   "source": [
    "print(confusion_matrix(log_predictions, y_test))"
   ]
  },
  {
   "cell_type": "code",
   "execution_count": null,
   "id": "c199aafc-d757-46ca-944f-01ba0978932d",
   "metadata": {},
   "outputs": [],
   "source": []
  },
  {
   "cell_type": "code",
   "execution_count": 35,
   "id": "b27f6a8a-8c1d-48b0-b9eb-e52e702d4f4e",
   "metadata": {},
   "outputs": [],
   "source": [
    "kNear_Model = KNeighborsClassifier(n_neighbors=3, n_jobs=300)"
   ]
  },
  {
   "cell_type": "code",
   "execution_count": 36,
   "id": "8ed14529-a831-4a61-87ae-733af621d039",
   "metadata": {},
   "outputs": [
    {
     "data": {
      "text/plain": [
       "KNeighborsClassifier(n_jobs=300, n_neighbors=3)"
      ]
     },
     "execution_count": 36,
     "metadata": {},
     "output_type": "execute_result"
    }
   ],
   "source": [
    "kNear_Model.fit(X_train, y_train)"
   ]
  },
  {
   "cell_type": "code",
   "execution_count": 37,
   "id": "9f5171e3-9d41-4920-8a97-6a9bfed65b21",
   "metadata": {},
   "outputs": [],
   "source": [
    "kn_pred = kNear_Model.predict(X_test)"
   ]
  },
  {
   "cell_type": "code",
   "execution_count": 38,
   "id": "f83bcff8-9582-40ba-bee3-3769c625e3b9",
   "metadata": {},
   "outputs": [
    {
     "name": "stdout",
     "output_type": "stream",
     "text": [
      "              precision    recall  f1-score   support\n",
      "\n",
      "           0       0.97      0.94      0.95       303\n",
      "           1       0.25      0.40      0.31        15\n",
      "\n",
      "    accuracy                           0.92       318\n",
      "   macro avg       0.61      0.67      0.63       318\n",
      "weighted avg       0.94      0.92      0.92       318\n",
      "\n"
     ]
    }
   ],
   "source": [
    "print(classification_report(kn_pred, y_test))"
   ]
  },
  {
   "cell_type": "code",
   "execution_count": null,
   "id": "a5d1d997-6a70-4e60-963f-dbb4f4b80b67",
   "metadata": {},
   "outputs": [],
   "source": []
  },
  {
   "cell_type": "code",
   "execution_count": 39,
   "id": "4943aa74-a5a4-4f93-a432-8f41e3c2567c",
   "metadata": {},
   "outputs": [],
   "source": [
    "error_rate = []\n",
    "\n",
    "for i in range(1,10):\n",
    "    kn = KNeighborsClassifier(n_neighbors=i, n_jobs=300)\n",
    "    kn.fit(X_train,y_train)\n",
    "    pred = kn.predict(X_test)\n",
    "    error_rate.append(np.mean(pred != y_test))"
   ]
  },
  {
   "cell_type": "code",
   "execution_count": 40,
   "id": "516e8ae2-4e6c-407e-8d04-47ffe882234d",
   "metadata": {},
   "outputs": [
    {
     "data": {
      "text/plain": [
       "[<matplotlib.lines.Line2D at 0x128de9970>]"
      ]
     },
     "execution_count": 40,
     "metadata": {},
     "output_type": "execute_result"
    },
    {
     "data": {
      "image/png": "[encoded data removed]",
      "text/plain": [
       "<Figure size 1152x432 with 1 Axes>"
      ]
     },
     "metadata": {
      "needs_background": "light"
     },
     "output_type": "display_data"
    }
   ],
   "source": [
    "plt.figure(figsize=(16,6))\n",
    "plt.plot(range(1,10), error_rate, marker = \"o\", mfc = \"r\", ls = \"--\")"
   ]
  },
  {
   "cell_type": "code",
   "execution_count": 67,
   "id": "62dc505e-994f-42e5-83ba-59007a7e2fe0",
   "metadata": {},
   "outputs": [],
   "source": [
    "kNear_Model = KNeighborsClassifier(n_neighbors=5, n_jobs=700)\n",
    "kNear_Model.fit(X_train, y_train)\n",
    "kn_pred = kNear_Model.predict(X_test)"
   ]
  },
  {
   "cell_type": "code",
   "execution_count": 68,
   "id": "896efb11-08b5-4768-ad57-847d8e767bf2",
   "metadata": {},
   "outputs": [
    {
     "name": "stdout",
     "output_type": "stream",
     "text": [
      "              precision    recall  f1-score   support\n",
      "\n",
      "           0       0.99      0.94      0.96       308\n",
      "           1       0.25      0.60      0.35        10\n",
      "\n",
      "    accuracy                           0.93       318\n",
      "   macro avg       0.62      0.77      0.66       318\n",
      "weighted avg       0.96      0.93      0.94       318\n",
      "\n"
     ]
    }
   ],
   "source": [
    "print(classification_report(kn_pred, y_test))"
   ]
  },
  {
   "cell_type": "code",
   "execution_count": null,
   "id": "2163ded9-2eea-45cf-9171-aa51b0e56866",
   "metadata": {},
   "outputs": [],
   "source": []
  },
  {
   "cell_type": "markdown",
   "id": "97e28322-8b7a-4f3a-a470-8aba0e0747d0",
   "metadata": {},
   "source": [
    "## Scaling Data"
   ]
  },
  {
   "cell_type": "code",
   "execution_count": 47,
   "id": "a2962f56-8b98-4463-91d4-b546af33b744",
   "metadata": {},
   "outputs": [],
   "source": [
    "scalar = StandardScaler()"
   ]
  },
  {
   "cell_type": "code",
   "execution_count": 49,
   "id": "8ab77d45-7140-4a9c-a5df-7b8ae893d7c6",
   "metadata": {},
   "outputs": [
    {
     "data": {
      "text/plain": [
       "StandardScaler()"
      ]
     },
     "execution_count": 49,
     "metadata": {},
     "output_type": "execute_result"
    }
   ],
   "source": [
    "scalar.fit(df.drop(\"target\", axis=1))"
   ]
  },
  {
   "cell_type": "code",
   "execution_count": 50,
   "id": "2eea53d4-8ff0-4b4e-8847-5b783feda27e",
   "metadata": {},
   "outputs": [],
   "source": [
    "scaledData = scalar.transform(df.drop(\"target\", axis=1))"
   ]
  },
  {
   "cell_type": "code",
   "execution_count": 53,
   "id": "b312df20-1611-4d16-8b14-a6f5630bd76f",
   "metadata": {},
   "outputs": [],
   "source": [
    "scaled_df = pd.DataFrame(scaledData, columns=X_train.columns)"
   ]
  },
  {
   "cell_type": "code",
   "execution_count": 55,
   "id": "3e5fcc9f-345a-4814-9072-a51fbd3fa194",
   "metadata": {},
   "outputs": [],
   "source": [
    "X = scaled_df\n",
    "y = df[\"target\"]"
   ]
  },
  {
   "cell_type": "code",
   "execution_count": 56,
   "id": "8d8308ba-cfa6-47b6-93c0-0e4570a88cae",
   "metadata": {},
   "outputs": [],
   "source": [
    "X_train, X_test, y_train, y_test = train_test_split(X, y, test_size=0.33, random_state=42)"
   ]
  },
  {
   "cell_type": "code",
   "execution_count": null,
   "id": "228e33f4-382a-47de-a752-e6f173d8dfec",
   "metadata": {},
   "outputs": [],
   "source": []
  },
  {
   "cell_type": "code",
   "execution_count": 57,
   "id": "ff80d028-3a8f-463e-a911-645d2bf2a20d",
   "metadata": {},
   "outputs": [],
   "source": [
    "svm_Model = SVC()"
   ]
  },
  {
   "cell_type": "code",
   "execution_count": 58,
   "id": "8836a374-2817-4a4c-afa7-87d99e4a468e",
   "metadata": {},
   "outputs": [
    {
     "data": {
      "text/plain": [
       "SVC()"
      ]
     },
     "execution_count": 58,
     "metadata": {},
     "output_type": "execute_result"
    }
   ],
   "source": [
    "svm_Model.fit(X_train, y_train)"
   ]
  },
  {
   "cell_type": "code",
   "execution_count": 59,
   "id": "cc6ff692-7e6e-4a10-bc79-53d41db3d9fb",
   "metadata": {},
   "outputs": [],
   "source": [
    "svm_pred = svm_Model.predict(X_test)"
   ]
  },
  {
   "cell_type": "code",
   "execution_count": 60,
   "id": "e7fbde55-9e29-43bf-a4f6-c67251b9fc54",
   "metadata": {},
   "outputs": [
    {
     "name": "stdout",
     "output_type": "stream",
     "text": [
      "              precision    recall  f1-score   support\n",
      "\n",
      "           0       0.99      0.99      0.99       323\n",
      "           1       0.86      0.89      0.87        27\n",
      "\n",
      "    accuracy                           0.98       350\n",
      "   macro avg       0.92      0.94      0.93       350\n",
      "weighted avg       0.98      0.98      0.98       350\n",
      "\n"
     ]
    }
   ],
   "source": [
    "print(classification_report(svm_pred, y_test))"
   ]
  },
  {
   "cell_type": "code",
   "execution_count": null,
   "id": "cf45d066-bb40-42a1-874d-834d547a992f",
   "metadata": {},
   "outputs": [],
   "source": []
  },
  {
   "cell_type": "code",
   "execution_count": null,
   "id": "a71f9477-f051-4624-9e35-0859c02aa3ca",
   "metadata": {},
   "outputs": [],
   "source": []
  },
  {
   "cell_type": "markdown",
   "id": "a3d48604-06f9-4a67-a865-302781cdf726",
   "metadata": {},
   "source": [
    "## Reverting to non scaled data for now"
   ]
  },
  {
   "cell_type": "code",
   "execution_count": 61,
   "id": "74796c48-f938-40d6-96f5-ec0287afe640",
   "metadata": {},
   "outputs": [],
   "source": [
    "X = df.drop(\"target\", axis=1)\n",
    "y = df[\"target\"]"
   ]
  },
  {
   "cell_type": "code",
   "execution_count": 62,
   "id": "cacd7962-bd64-4cbf-b578-8349fb727bc0",
   "metadata": {},
   "outputs": [],
   "source": [
    " X_train, X_test, y_train, y_test = train_test_split(X, y, test_size=0.30, random_state=42)"
   ]
  },
  {
   "cell_type": "code",
   "execution_count": 63,
   "id": "0cc5c36f-d845-48b2-8c63-e7924ebd0c23",
   "metadata": {},
   "outputs": [],
   "source": [
    "rf_model = RandomForestClassifier(n_estimators=200)"
   ]
  },
  {
   "cell_type": "code",
   "execution_count": 64,
   "id": "29172eb9-4aec-4169-8a8c-0ffbf7c9de7c",
   "metadata": {},
   "outputs": [
    {
     "data": {
      "text/plain": [
       "RandomForestClassifier(n_estimators=200)"
      ]
     },
     "execution_count": 64,
     "metadata": {},
     "output_type": "execute_result"
    }
   ],
   "source": [
    "rf_model.fit(X_train, y_train)"
   ]
  },
  {
   "cell_type": "code",
   "execution_count": 65,
   "id": "47fedb07-af7f-4f7a-a0c1-e7d2cd5c1f92",
   "metadata": {},
   "outputs": [],
   "source": [
    "rf_predictions = rf_model.predict(X_test)"
   ]
  },
  {
   "cell_type": "code",
   "execution_count": 66,
   "id": "5731a426-f530-4496-9d74-d9a4dfa76ca8",
   "metadata": {},
   "outputs": [
    {
     "name": "stdout",
     "output_type": "stream",
     "text": [
      "              precision    recall  f1-score   support\n",
      "\n",
      "           0       0.99      0.98      0.99       298\n",
      "           1       0.75      0.90      0.82        20\n",
      "\n",
      "    accuracy                           0.97       318\n",
      "   macro avg       0.87      0.94      0.90       318\n",
      "weighted avg       0.98      0.97      0.98       318\n",
      "\n"
     ]
    }
   ],
   "source": [
    "print(classification_report(rf_predictions, y_test))"
   ]
  },
  {
   "cell_type": "code",
   "execution_count": null,
   "id": "d7e2794d-c3b5-4e96-9837-1f1f852db9db",
   "metadata": {},
   "outputs": [],
   "source": []
  },
  {
   "cell_type": "markdown",
   "id": "75f0bfa6-ddc2-4c8e-bee7-4afea6542844",
   "metadata": {},
   "source": [
    "## k means clustering"
   ]
  },
  {
   "cell_type": "code",
   "execution_count": 76,
   "id": "b00f8d4f-aca1-491c-a033-78c0860e4240",
   "metadata": {},
   "outputs": [],
   "source": [
    "scalar = StandardScaler()\n",
    "scalar.fit(df.drop(\"target\", axis=1))\n",
    "scaledData = scalar.transform(df.drop(\"target\", axis=1))\n",
    "scaled_df = pd.DataFrame(scaledData, columns=X_train.columns)"
   ]
  },
  {
   "cell_type": "code",
   "execution_count": 77,
   "id": "c081621c-1828-407c-8938-07f5d42e5446",
   "metadata": {},
   "outputs": [],
   "source": [
    "X = scaled_df\n",
    "y = df[\"target\"]"
   ]
  },
  {
   "cell_type": "code",
   "execution_count": 78,
   "id": "e5494e4b-147e-4b2a-aeb6-3af14fa26d94",
   "metadata": {},
   "outputs": [],
   "source": [
    "X_train, X_test, y_train, y_test = train_test_split(X, y, test_size=0.33, random_state=42)"
   ]
  },
  {
   "cell_type": "code",
   "execution_count": null,
   "id": "6e8432c9-49c8-4ec5-af9b-b731dad5db51",
   "metadata": {},
   "outputs": [],
   "source": []
  },
  {
   "cell_type": "code",
   "execution_count": null,
   "id": "6f1eded8-6169-41f6-86a6-d9237d2617be",
   "metadata": {},
   "outputs": [],
   "source": []
  },
  {
   "cell_type": "code",
   "execution_count": 87,
   "id": "868a5c0d-7eaf-4ae6-92c5-4e28c5f45682",
   "metadata": {},
   "outputs": [],
   "source": [
    "from sklearn.cluster import KMeans"
   ]
  },
  {
   "cell_type": "code",
   "execution_count": 92,
   "id": "5b89ce7b-9198-4575-b800-88e42d601f9d",
   "metadata": {},
   "outputs": [],
   "source": [
    "km_cluster = KMeans(n_clusters=2)"
   ]
  },
  {
   "cell_type": "code",
   "execution_count": 93,
   "id": "219b805c-858a-4cd1-970a-45baa64d5486",
   "metadata": {},
   "outputs": [
    {
     "data": {
      "text/plain": [
       "KMeans(n_clusters=2)"
      ]
     },
     "execution_count": 93,
     "metadata": {},
     "output_type": "execute_result"
    }
   ],
   "source": [
    "km_cluster.fit(df.drop(\"target\", axis=1))"
   ]
  },
  {
   "cell_type": "code",
   "execution_count": 94,
   "id": "801f3959-41aa-4e25-aa7a-f9ced0d5b78f",
   "metadata": {},
   "outputs": [
    {
     "data": {
      "text/plain": [
       "array([0, 0, 0, ..., 0, 0, 0], dtype=int32)"
      ]
     },
     "execution_count": 94,
     "metadata": {},
     "output_type": "execute_result"
    }
   ],
   "source": [
    "km_cluster.labels_"
   ]
  },
  {
   "cell_type": "code",
   "execution_count": 95,
   "id": "7a43514a-0f64-4a40-a1c7-9caedf6d9987",
   "metadata": {},
   "outputs": [
    {
     "name": "stdout",
     "output_type": "stream",
     "text": [
      "              precision    recall  f1-score   support\n",
      "\n",
      "           0       1.00      0.92      0.96      1058\n",
      "           1       0.01      1.00      0.02         1\n",
      "\n",
      "    accuracy                           0.92      1059\n",
      "   macro avg       0.51      0.96      0.49      1059\n",
      "weighted avg       1.00      0.92      0.96      1059\n",
      "\n"
     ]
    }
   ],
   "source": [
    "print(classification_report(km_cluster.labels_, df[\"target\"]))"
   ]
  },
  {
   "cell_type": "markdown",
   "id": "b031a9f7-f953-42d5-bf43-8b246fc7c697",
   "metadata": {},
   "source": [
    " ## Lets try to improve with different K values"
   ]
  },
  {
   "cell_type": "code",
   "execution_count": 84,
   "id": "6c977a06-31de-471a-a4b9-3297786ae0ed",
   "metadata": {},
   "outputs": [],
   "source": [
    "errorRate = []\n",
    "for i in range(1,5):\n",
    "    kmc = KMeans(n_clusters=i)\n",
    "    kmc.fit(df.drop(\"target\", axis=1))\n",
    "    errorRate.append(np.mean(kmc.labels_ != df[\"target\"]))"
   ]
  },
  {
   "cell_type": "code",
   "execution_count": 86,
   "id": "4f9b57d1-19a4-485a-bc8d-0ccba1431f49",
   "metadata": {},
   "outputs": [
    {
     "data": {
      "text/plain": [
       "[<matplotlib.lines.Line2D at 0x129e811c0>]"
      ]
     },
     "execution_count": 86,
     "metadata": {},
     "output_type": "execute_result"
    },
    {
     "data": {
      "image/png": "[encoded data removed]",
      "text/plain": [
       "<Figure size 1152x432 with 1 Axes>"
      ]
     },
     "metadata": {
      "needs_background": "light"
     },
     "output_type": "display_data"
    }
   ],
   "source": [
    "plt.figure(figsize=(16,6))\n",
    "plt.plot(range(1,5), errorRate, marker = \"o\", mfc = \"r\", ls = \"--\")"
   ]
  },
  {
   "cell_type": "code",
   "execution_count": null,
   "id": "c38835ba-1e27-4e43-a3ae-e68271a1aba9",
   "metadata": {},
   "outputs": [],
   "source": []
  }
 ],
 "metadata": {
  "kernelspec": {
   "display_name": "Python 3",
   "language": "python",
   "name": "python3"
  },
  "language_info": {
   "codemirror_mode": {
    "name": "ipython",
    "version": 3
   },
   "file_extension": ".py",
   "mimetype": "text/x-python",
   "name": "python",
   "nbconvert_exporter": "python",
   "pygments_lexer": "ipython3",
   "version": "3.8.8"
  }
 },
 "nbformat": 4,
 "nbformat_minor": 5
}
