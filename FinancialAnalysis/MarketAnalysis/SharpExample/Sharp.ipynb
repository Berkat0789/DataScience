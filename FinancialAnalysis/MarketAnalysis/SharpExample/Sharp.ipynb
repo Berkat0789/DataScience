{
 "cells": [
  {
   "cell_type": "code",
   "execution_count": 115,
   "id": "6578df4e-d7b5-46ae-a047-bc69bbfc57e5",
   "metadata": {},
   "outputs": [],
   "source": [
    "import pandas as pd\n",
    "import numpy as np\n",
    "import matplotlib.pyplot as plt\n",
    "import seaborn as sns\n",
    "from pandas_datareader import data as web\n",
    "import datetime"
   ]
  },
  {
   "cell_type": "code",
   "execution_count": 116,
   "id": "b2b2d7d6-e5c3-494f-a36b-bc615bce3687",
   "metadata": {},
   "outputs": [],
   "source": [
    "start = \"2021-1-1\"\n",
    "end = \"2022-1-1\""
   ]
  },
  {
   "cell_type": "code",
   "execution_count": 117,
   "id": "c35d8df3-2314-44c6-91d3-ccc3992eefe0",
   "metadata": {},
   "outputs": [],
   "source": [
    "tickers = [\"AAPL\",\"GE\"]"
   ]
  },
  {
   "cell_type": "code",
   "execution_count": null,
   "id": "696081f0-5e7c-4cd7-9812-5b285c657022",
   "metadata": {},
   "outputs": [],
   "source": []
  },
  {
   "cell_type": "code",
   "execution_count": 118,
   "id": "eb688bde-24f8-4703-be27-68e82f9193f0",
   "metadata": {},
   "outputs": [],
   "source": [
    "df = pd.DataFrame()\n",
    "for x in tickers:\n",
    "    df[x] = web.DataReader(name = x, data_source=\"yahoo\", start=start)[\"Adj Close\"]"
   ]
  },
  {
   "cell_type": "code",
   "execution_count": 119,
   "id": "81b2b7e1-32e1-4280-959d-50e43ac3d9ca",
   "metadata": {},
   "outputs": [
    {
     "data": {
      "text/html": [
       "<div>\n",
       "<style scoped>\n",
       "    .dataframe tbody tr th:only-of-type {\n",
       "        vertical-align: middle;\n",
       "    }\n",
       "\n",
       "    .dataframe tbody tr th {\n",
       "        vertical-align: top;\n",
       "    }\n",
       "\n",
       "    .dataframe thead th {\n",
       "        text-align: right;\n",
       "    }\n",
       "</style>\n",
       "<table border=\"1\" class=\"dataframe\">\n",
       "  <thead>\n",
       "    <tr style=\"text-align: right;\">\n",
       "      <th></th>\n",
       "      <th>AAPL</th>\n",
       "      <th>GE</th>\n",
       "    </tr>\n",
       "    <tr>\n",
       "      <th>Date</th>\n",
       "      <th></th>\n",
       "      <th></th>\n",
       "    </tr>\n",
       "  </thead>\n",
       "  <tbody>\n",
       "    <tr>\n",
       "      <th>2021-01-04</th>\n",
       "      <td>128.617096</td>\n",
       "      <td>83.496544</td>\n",
       "    </tr>\n",
       "    <tr>\n",
       "      <th>2021-01-05</th>\n",
       "      <td>130.207306</td>\n",
       "      <td>85.889000</td>\n",
       "    </tr>\n",
       "    <tr>\n",
       "      <th>2021-01-06</th>\n",
       "      <td>125.824318</td>\n",
       "      <td>90.594139</td>\n",
       "    </tr>\n",
       "    <tr>\n",
       "      <th>2021-01-07</th>\n",
       "      <td>130.117844</td>\n",
       "      <td>89.876411</td>\n",
       "    </tr>\n",
       "    <tr>\n",
       "      <th>2021-01-08</th>\n",
       "      <td>131.240921</td>\n",
       "      <td>90.434654</td>\n",
       "    </tr>\n",
       "  </tbody>\n",
       "</table>\n",
       "</div>"
      ],
      "text/plain": [
       "                  AAPL         GE\n",
       "Date                             \n",
       "2021-01-04  128.617096  83.496544\n",
       "2021-01-05  130.207306  85.889000\n",
       "2021-01-06  125.824318  90.594139\n",
       "2021-01-07  130.117844  89.876411\n",
       "2021-01-08  131.240921  90.434654"
      ]
     },
     "execution_count": 119,
     "metadata": {},
     "output_type": "execute_result"
    }
   ],
   "source": [
    "df.head()"
   ]
  },
  {
   "cell_type": "markdown",
   "id": "7869c6a3-acd8-41ba-b06f-afedf0363a78",
   "metadata": {},
   "source": [
    "### Calculating Normalized returns for portfolio"
   ]
  },
  {
   "cell_type": "code",
   "execution_count": null,
   "id": "55112ab7-5105-4d98-b50f-5554ba865f0e",
   "metadata": {},
   "outputs": [],
   "source": []
  },
  {
   "cell_type": "code",
   "execution_count": 120,
   "id": "e09664f0-b410-45a2-adf2-541e443f6a37",
   "metadata": {},
   "outputs": [],
   "source": [
    "for x in tickers:\n",
    "    df[f\"{x} normalized\"] = df[x] / df[x].iloc[0]"
   ]
  },
  {
   "cell_type": "code",
   "execution_count": 121,
   "id": "95453a9a-a4e5-49fa-a5b3-6f5af8b6c04e",
   "metadata": {},
   "outputs": [
    {
     "data": {
      "text/html": [
       "<div>\n",
       "<style scoped>\n",
       "    .dataframe tbody tr th:only-of-type {\n",
       "        vertical-align: middle;\n",
       "    }\n",
       "\n",
       "    .dataframe tbody tr th {\n",
       "        vertical-align: top;\n",
       "    }\n",
       "\n",
       "    .dataframe thead th {\n",
       "        text-align: right;\n",
       "    }\n",
       "</style>\n",
       "<table border=\"1\" class=\"dataframe\">\n",
       "  <thead>\n",
       "    <tr style=\"text-align: right;\">\n",
       "      <th></th>\n",
       "      <th>AAPL</th>\n",
       "      <th>GE</th>\n",
       "      <th>AAPL normalized</th>\n",
       "      <th>GE normalized</th>\n",
       "    </tr>\n",
       "    <tr>\n",
       "      <th>Date</th>\n",
       "      <th></th>\n",
       "      <th></th>\n",
       "      <th></th>\n",
       "      <th></th>\n",
       "    </tr>\n",
       "  </thead>\n",
       "  <tbody>\n",
       "    <tr>\n",
       "      <th>2021-01-04</th>\n",
       "      <td>128.617096</td>\n",
       "      <td>83.496544</td>\n",
       "      <td>1.000000</td>\n",
       "      <td>1.000000</td>\n",
       "    </tr>\n",
       "    <tr>\n",
       "      <th>2021-01-05</th>\n",
       "      <td>130.207306</td>\n",
       "      <td>85.889000</td>\n",
       "      <td>1.012364</td>\n",
       "      <td>1.028653</td>\n",
       "    </tr>\n",
       "    <tr>\n",
       "      <th>2021-01-06</th>\n",
       "      <td>125.824318</td>\n",
       "      <td>90.594139</td>\n",
       "      <td>0.978286</td>\n",
       "      <td>1.085005</td>\n",
       "    </tr>\n",
       "    <tr>\n",
       "      <th>2021-01-07</th>\n",
       "      <td>130.117844</td>\n",
       "      <td>89.876411</td>\n",
       "      <td>1.011668</td>\n",
       "      <td>1.076409</td>\n",
       "    </tr>\n",
       "    <tr>\n",
       "      <th>2021-01-08</th>\n",
       "      <td>131.240921</td>\n",
       "      <td>90.434654</td>\n",
       "      <td>1.020400</td>\n",
       "      <td>1.083095</td>\n",
       "    </tr>\n",
       "    <tr>\n",
       "      <th>...</th>\n",
       "      <td>...</td>\n",
       "      <td>...</td>\n",
       "      <td>...</td>\n",
       "      <td>...</td>\n",
       "    </tr>\n",
       "    <tr>\n",
       "      <th>2022-01-04</th>\n",
       "      <td>179.699997</td>\n",
       "      <td>99.370003</td>\n",
       "      <td>1.397170</td>\n",
       "      <td>1.190109</td>\n",
       "    </tr>\n",
       "    <tr>\n",
       "      <th>2022-01-05</th>\n",
       "      <td>174.919998</td>\n",
       "      <td>99.370003</td>\n",
       "      <td>1.360006</td>\n",
       "      <td>1.190109</td>\n",
       "    </tr>\n",
       "    <tr>\n",
       "      <th>2022-01-06</th>\n",
       "      <td>172.000000</td>\n",
       "      <td>99.949997</td>\n",
       "      <td>1.337303</td>\n",
       "      <td>1.197055</td>\n",
       "    </tr>\n",
       "    <tr>\n",
       "      <th>2022-01-07</th>\n",
       "      <td>172.169998</td>\n",
       "      <td>101.400002</td>\n",
       "      <td>1.338625</td>\n",
       "      <td>1.214422</td>\n",
       "    </tr>\n",
       "    <tr>\n",
       "      <th>2022-01-10</th>\n",
       "      <td>172.190002</td>\n",
       "      <td>99.419998</td>\n",
       "      <td>1.338780</td>\n",
       "      <td>1.190708</td>\n",
       "    </tr>\n",
       "  </tbody>\n",
       "</table>\n",
       "<p>258 rows × 4 columns</p>\n",
       "</div>"
      ],
      "text/plain": [
       "                  AAPL          GE  AAPL normalized  GE normalized\n",
       "Date                                                              \n",
       "2021-01-04  128.617096   83.496544         1.000000       1.000000\n",
       "2021-01-05  130.207306   85.889000         1.012364       1.028653\n",
       "2021-01-06  125.824318   90.594139         0.978286       1.085005\n",
       "2021-01-07  130.117844   89.876411         1.011668       1.076409\n",
       "2021-01-08  131.240921   90.434654         1.020400       1.083095\n",
       "...                ...         ...              ...            ...\n",
       "2022-01-04  179.699997   99.370003         1.397170       1.190109\n",
       "2022-01-05  174.919998   99.370003         1.360006       1.190109\n",
       "2022-01-06  172.000000   99.949997         1.337303       1.197055\n",
       "2022-01-07  172.169998  101.400002         1.338625       1.214422\n",
       "2022-01-10  172.190002   99.419998         1.338780       1.190708\n",
       "\n",
       "[258 rows x 4 columns]"
      ]
     },
     "execution_count": 121,
     "metadata": {},
     "output_type": "execute_result"
    }
   ],
   "source": [
    "df"
   ]
  },
  {
   "cell_type": "markdown",
   "id": "9fbdaa53-3efb-4e4f-849b-dbc0abfae9a4",
   "metadata": {},
   "source": [
    "## Allocation\n",
    "- 50% in appl, 30 in ford, 20 % in GE"
   ]
  },
  {
   "cell_type": "code",
   "execution_count": 122,
   "id": "446d3c82-89e0-4ec6-9f99-b7560c4ba719",
   "metadata": {},
   "outputs": [
    {
     "data": {
      "text/plain": [
       "[('AAPL', 0.8), ('GE', 0.2)]"
      ]
     },
     "execution_count": 122,
     "metadata": {},
     "output_type": "execute_result"
    }
   ],
   "source": [
    "list(zip(tickers, [.8,.2]))"
   ]
  },
  {
   "cell_type": "code",
   "execution_count": 123,
   "id": "d8123660-acb8-4a58-96c3-fc8c4da57b6e",
   "metadata": {},
   "outputs": [],
   "source": [
    "for stock, allo in zip(tickers, [.8,.2]):\n",
    "    df[f\"{stock} allocation\"] = df[f\"{stock} normalized\"] * allo"
   ]
  },
  {
   "cell_type": "code",
   "execution_count": 124,
   "id": "d61643ba-bbca-46c5-ab02-17697fd1b8b0",
   "metadata": {},
   "outputs": [
    {
     "data": {
      "text/html": [
       "<div>\n",
       "<style scoped>\n",
       "    .dataframe tbody tr th:only-of-type {\n",
       "        vertical-align: middle;\n",
       "    }\n",
       "\n",
       "    .dataframe tbody tr th {\n",
       "        vertical-align: top;\n",
       "    }\n",
       "\n",
       "    .dataframe thead th {\n",
       "        text-align: right;\n",
       "    }\n",
       "</style>\n",
       "<table border=\"1\" class=\"dataframe\">\n",
       "  <thead>\n",
       "    <tr style=\"text-align: right;\">\n",
       "      <th></th>\n",
       "      <th>AAPL</th>\n",
       "      <th>GE</th>\n",
       "      <th>AAPL normalized</th>\n",
       "      <th>GE normalized</th>\n",
       "      <th>AAPL allocation</th>\n",
       "      <th>GE allocation</th>\n",
       "    </tr>\n",
       "    <tr>\n",
       "      <th>Date</th>\n",
       "      <th></th>\n",
       "      <th></th>\n",
       "      <th></th>\n",
       "      <th></th>\n",
       "      <th></th>\n",
       "      <th></th>\n",
       "    </tr>\n",
       "  </thead>\n",
       "  <tbody>\n",
       "    <tr>\n",
       "      <th>2021-01-04</th>\n",
       "      <td>128.617096</td>\n",
       "      <td>83.496544</td>\n",
       "      <td>1.000000</td>\n",
       "      <td>1.000000</td>\n",
       "      <td>0.800000</td>\n",
       "      <td>0.200000</td>\n",
       "    </tr>\n",
       "    <tr>\n",
       "      <th>2021-01-05</th>\n",
       "      <td>130.207306</td>\n",
       "      <td>85.889000</td>\n",
       "      <td>1.012364</td>\n",
       "      <td>1.028653</td>\n",
       "      <td>0.809891</td>\n",
       "      <td>0.205731</td>\n",
       "    </tr>\n",
       "    <tr>\n",
       "      <th>2021-01-06</th>\n",
       "      <td>125.824318</td>\n",
       "      <td>90.594139</td>\n",
       "      <td>0.978286</td>\n",
       "      <td>1.085005</td>\n",
       "      <td>0.782629</td>\n",
       "      <td>0.217001</td>\n",
       "    </tr>\n",
       "    <tr>\n",
       "      <th>2021-01-07</th>\n",
       "      <td>130.117844</td>\n",
       "      <td>89.876411</td>\n",
       "      <td>1.011668</td>\n",
       "      <td>1.076409</td>\n",
       "      <td>0.809335</td>\n",
       "      <td>0.215282</td>\n",
       "    </tr>\n",
       "    <tr>\n",
       "      <th>2021-01-08</th>\n",
       "      <td>131.240921</td>\n",
       "      <td>90.434654</td>\n",
       "      <td>1.020400</td>\n",
       "      <td>1.083095</td>\n",
       "      <td>0.816320</td>\n",
       "      <td>0.216619</td>\n",
       "    </tr>\n",
       "    <tr>\n",
       "      <th>...</th>\n",
       "      <td>...</td>\n",
       "      <td>...</td>\n",
       "      <td>...</td>\n",
       "      <td>...</td>\n",
       "      <td>...</td>\n",
       "      <td>...</td>\n",
       "    </tr>\n",
       "    <tr>\n",
       "      <th>2022-01-04</th>\n",
       "      <td>179.699997</td>\n",
       "      <td>99.370003</td>\n",
       "      <td>1.397170</td>\n",
       "      <td>1.190109</td>\n",
       "      <td>1.117736</td>\n",
       "      <td>0.238022</td>\n",
       "    </tr>\n",
       "    <tr>\n",
       "      <th>2022-01-05</th>\n",
       "      <td>174.919998</td>\n",
       "      <td>99.370003</td>\n",
       "      <td>1.360006</td>\n",
       "      <td>1.190109</td>\n",
       "      <td>1.088005</td>\n",
       "      <td>0.238022</td>\n",
       "    </tr>\n",
       "    <tr>\n",
       "      <th>2022-01-06</th>\n",
       "      <td>172.000000</td>\n",
       "      <td>99.949997</td>\n",
       "      <td>1.337303</td>\n",
       "      <td>1.197055</td>\n",
       "      <td>1.069842</td>\n",
       "      <td>0.239411</td>\n",
       "    </tr>\n",
       "    <tr>\n",
       "      <th>2022-01-07</th>\n",
       "      <td>172.169998</td>\n",
       "      <td>101.400002</td>\n",
       "      <td>1.338625</td>\n",
       "      <td>1.214422</td>\n",
       "      <td>1.070900</td>\n",
       "      <td>0.242884</td>\n",
       "    </tr>\n",
       "    <tr>\n",
       "      <th>2022-01-10</th>\n",
       "      <td>172.190002</td>\n",
       "      <td>99.419998</td>\n",
       "      <td>1.338780</td>\n",
       "      <td>1.190708</td>\n",
       "      <td>1.071024</td>\n",
       "      <td>0.238142</td>\n",
       "    </tr>\n",
       "  </tbody>\n",
       "</table>\n",
       "<p>258 rows × 6 columns</p>\n",
       "</div>"
      ],
      "text/plain": [
       "                  AAPL          GE  AAPL normalized  GE normalized  \\\n",
       "Date                                                                 \n",
       "2021-01-04  128.617096   83.496544         1.000000       1.000000   \n",
       "2021-01-05  130.207306   85.889000         1.012364       1.028653   \n",
       "2021-01-06  125.824318   90.594139         0.978286       1.085005   \n",
       "2021-01-07  130.117844   89.876411         1.011668       1.076409   \n",
       "2021-01-08  131.240921   90.434654         1.020400       1.083095   \n",
       "...                ...         ...              ...            ...   \n",
       "2022-01-04  179.699997   99.370003         1.397170       1.190109   \n",
       "2022-01-05  174.919998   99.370003         1.360006       1.190109   \n",
       "2022-01-06  172.000000   99.949997         1.337303       1.197055   \n",
       "2022-01-07  172.169998  101.400002         1.338625       1.214422   \n",
       "2022-01-10  172.190002   99.419998         1.338780       1.190708   \n",
       "\n",
       "            AAPL allocation  GE allocation  \n",
       "Date                                        \n",
       "2021-01-04         0.800000       0.200000  \n",
       "2021-01-05         0.809891       0.205731  \n",
       "2021-01-06         0.782629       0.217001  \n",
       "2021-01-07         0.809335       0.215282  \n",
       "2021-01-08         0.816320       0.216619  \n",
       "...                     ...            ...  \n",
       "2022-01-04         1.117736       0.238022  \n",
       "2022-01-05         1.088005       0.238022  \n",
       "2022-01-06         1.069842       0.239411  \n",
       "2022-01-07         1.070900       0.242884  \n",
       "2022-01-10         1.071024       0.238142  \n",
       "\n",
       "[258 rows x 6 columns]"
      ]
     },
     "execution_count": 124,
     "metadata": {},
     "output_type": "execute_result"
    }
   ],
   "source": [
    "df"
   ]
  },
  {
   "cell_type": "markdown",
   "id": "a31c286a-410d-4e8d-9a2e-90d02429a857",
   "metadata": {},
   "source": [
    "### Caculating Positon \n",
    "- with an invetment of 20000"
   ]
  },
  {
   "cell_type": "code",
   "execution_count": 125,
   "id": "b7ca23fa-5904-4c3e-bf97-cc58e551de04",
   "metadata": {},
   "outputs": [],
   "source": [
    "for x in tickers: \n",
    "    df[f\"{x} positon\"] = df[f\"{x} allocation\"] * 20000"
   ]
  },
  {
   "cell_type": "code",
   "execution_count": 126,
   "id": "aebdcded-41a1-4579-8143-82ff72cb3c4d",
   "metadata": {},
   "outputs": [],
   "source": [
    "df[\"total position\"] = df[[\"AAPL positon\", \"GE positon\"]].sum(axis = 1)"
   ]
  },
  {
   "cell_type": "code",
   "execution_count": 127,
   "id": "912e89d7-c5a1-4099-9dbe-54d50ea7e2d4",
   "metadata": {},
   "outputs": [
    {
     "data": {
      "text/plain": [
       "<AxesSubplot:xlabel='Date'>"
      ]
     },
     "execution_count": 127,
     "metadata": {},
     "output_type": "execute_result"
    },
    {
     "data": {
      "image/png": "[encoded data removed]",
      "text/plain": [
       "<Figure size 432x288 with 1 Axes>"
      ]
     },
     "metadata": {
      "needs_background": "light"
     },
     "output_type": "display_data"
    }
   ],
   "source": [
    "df[\"total position\"].plot()"
   ]
  },
  {
   "cell_type": "code",
   "execution_count": 128,
   "id": "5518cc56-e7a2-4e3f-a2f5-6811a9732108",
   "metadata": {},
   "outputs": [
    {
     "data": {
      "text/html": [
       "<div>\n",
       "<style scoped>\n",
       "    .dataframe tbody tr th:only-of-type {\n",
       "        vertical-align: middle;\n",
       "    }\n",
       "\n",
       "    .dataframe tbody tr th {\n",
       "        vertical-align: top;\n",
       "    }\n",
       "\n",
       "    .dataframe thead th {\n",
       "        text-align: right;\n",
       "    }\n",
       "</style>\n",
       "<table border=\"1\" class=\"dataframe\">\n",
       "  <thead>\n",
       "    <tr style=\"text-align: right;\">\n",
       "      <th></th>\n",
       "      <th>AAPL</th>\n",
       "      <th>GE</th>\n",
       "      <th>AAPL normalized</th>\n",
       "      <th>GE normalized</th>\n",
       "      <th>AAPL allocation</th>\n",
       "      <th>GE allocation</th>\n",
       "      <th>AAPL positon</th>\n",
       "      <th>GE positon</th>\n",
       "      <th>total position</th>\n",
       "    </tr>\n",
       "    <tr>\n",
       "      <th>Date</th>\n",
       "      <th></th>\n",
       "      <th></th>\n",
       "      <th></th>\n",
       "      <th></th>\n",
       "      <th></th>\n",
       "      <th></th>\n",
       "      <th></th>\n",
       "      <th></th>\n",
       "      <th></th>\n",
       "    </tr>\n",
       "  </thead>\n",
       "  <tbody>\n",
       "    <tr>\n",
       "      <th>2021-01-04</th>\n",
       "      <td>128.617096</td>\n",
       "      <td>83.496544</td>\n",
       "      <td>1.000000</td>\n",
       "      <td>1.000000</td>\n",
       "      <td>0.800000</td>\n",
       "      <td>0.200000</td>\n",
       "      <td>16000.000000</td>\n",
       "      <td>4000.000000</td>\n",
       "      <td>20000.000000</td>\n",
       "    </tr>\n",
       "    <tr>\n",
       "      <th>2021-01-05</th>\n",
       "      <td>130.207306</td>\n",
       "      <td>85.889000</td>\n",
       "      <td>1.012364</td>\n",
       "      <td>1.028653</td>\n",
       "      <td>0.809891</td>\n",
       "      <td>0.205731</td>\n",
       "      <td>16197.822530</td>\n",
       "      <td>4114.613417</td>\n",
       "      <td>20312.435948</td>\n",
       "    </tr>\n",
       "    <tr>\n",
       "      <th>2021-01-06</th>\n",
       "      <td>125.824318</td>\n",
       "      <td>90.594139</td>\n",
       "      <td>0.978286</td>\n",
       "      <td>1.085005</td>\n",
       "      <td>0.782629</td>\n",
       "      <td>0.217001</td>\n",
       "      <td>15652.577693</td>\n",
       "      <td>4340.018635</td>\n",
       "      <td>19992.596327</td>\n",
       "    </tr>\n",
       "    <tr>\n",
       "      <th>2021-01-07</th>\n",
       "      <td>130.117844</td>\n",
       "      <td>89.876411</td>\n",
       "      <td>1.011668</td>\n",
       "      <td>1.076409</td>\n",
       "      <td>0.809335</td>\n",
       "      <td>0.215282</td>\n",
       "      <td>16186.693400</td>\n",
       "      <td>4305.635048</td>\n",
       "      <td>20492.328448</td>\n",
       "    </tr>\n",
       "    <tr>\n",
       "      <th>2021-01-08</th>\n",
       "      <td>131.240921</td>\n",
       "      <td>90.434654</td>\n",
       "      <td>1.020400</td>\n",
       "      <td>1.083095</td>\n",
       "      <td>0.816320</td>\n",
       "      <td>0.216619</td>\n",
       "      <td>16326.404518</td>\n",
       "      <td>4332.378325</td>\n",
       "      <td>20658.782843</td>\n",
       "    </tr>\n",
       "  </tbody>\n",
       "</table>\n",
       "</div>"
      ],
      "text/plain": [
       "                  AAPL         GE  AAPL normalized  GE normalized  \\\n",
       "Date                                                                \n",
       "2021-01-04  128.617096  83.496544         1.000000       1.000000   \n",
       "2021-01-05  130.207306  85.889000         1.012364       1.028653   \n",
       "2021-01-06  125.824318  90.594139         0.978286       1.085005   \n",
       "2021-01-07  130.117844  89.876411         1.011668       1.076409   \n",
       "2021-01-08  131.240921  90.434654         1.020400       1.083095   \n",
       "\n",
       "            AAPL allocation  GE allocation  AAPL positon   GE positon  \\\n",
       "Date                                                                    \n",
       "2021-01-04         0.800000       0.200000  16000.000000  4000.000000   \n",
       "2021-01-05         0.809891       0.205731  16197.822530  4114.613417   \n",
       "2021-01-06         0.782629       0.217001  15652.577693  4340.018635   \n",
       "2021-01-07         0.809335       0.215282  16186.693400  4305.635048   \n",
       "2021-01-08         0.816320       0.216619  16326.404518  4332.378325   \n",
       "\n",
       "            total position  \n",
       "Date                        \n",
       "2021-01-04    20000.000000  \n",
       "2021-01-05    20312.435948  \n",
       "2021-01-06    19992.596327  \n",
       "2021-01-07    20492.328448  \n",
       "2021-01-08    20658.782843  "
      ]
     },
     "execution_count": 128,
     "metadata": {},
     "output_type": "execute_result"
    }
   ],
   "source": [
    "df.head()"
   ]
  },
  {
   "cell_type": "code",
   "execution_count": 129,
   "id": "4c15a733-e48d-4bed-b94a-be41d640b610",
   "metadata": {},
   "outputs": [],
   "source": [
    "df[\"daily return\"] = df[\"total position\"].pct_change(1)"
   ]
  },
  {
   "cell_type": "code",
   "execution_count": 130,
   "id": "ae73deb7-b73a-4033-ab00-6a407f0ab330",
   "metadata": {},
   "outputs": [
    {
     "data": {
      "text/html": [
       "<div>\n",
       "<style scoped>\n",
       "    .dataframe tbody tr th:only-of-type {\n",
       "        vertical-align: middle;\n",
       "    }\n",
       "\n",
       "    .dataframe tbody tr th {\n",
       "        vertical-align: top;\n",
       "    }\n",
       "\n",
       "    .dataframe thead th {\n",
       "        text-align: right;\n",
       "    }\n",
       "</style>\n",
       "<table border=\"1\" class=\"dataframe\">\n",
       "  <thead>\n",
       "    <tr style=\"text-align: right;\">\n",
       "      <th></th>\n",
       "      <th>AAPL</th>\n",
       "      <th>GE</th>\n",
       "      <th>AAPL normalized</th>\n",
       "      <th>GE normalized</th>\n",
       "      <th>AAPL allocation</th>\n",
       "      <th>GE allocation</th>\n",
       "      <th>AAPL positon</th>\n",
       "      <th>GE positon</th>\n",
       "      <th>total position</th>\n",
       "      <th>daily return</th>\n",
       "    </tr>\n",
       "    <tr>\n",
       "      <th>Date</th>\n",
       "      <th></th>\n",
       "      <th></th>\n",
       "      <th></th>\n",
       "      <th></th>\n",
       "      <th></th>\n",
       "      <th></th>\n",
       "      <th></th>\n",
       "      <th></th>\n",
       "      <th></th>\n",
       "      <th></th>\n",
       "    </tr>\n",
       "  </thead>\n",
       "  <tbody>\n",
       "    <tr>\n",
       "      <th>2021-01-04</th>\n",
       "      <td>128.617096</td>\n",
       "      <td>83.496544</td>\n",
       "      <td>1.000000</td>\n",
       "      <td>1.000000</td>\n",
       "      <td>0.800000</td>\n",
       "      <td>0.200000</td>\n",
       "      <td>16000.000000</td>\n",
       "      <td>4000.000000</td>\n",
       "      <td>20000.000000</td>\n",
       "      <td>NaN</td>\n",
       "    </tr>\n",
       "    <tr>\n",
       "      <th>2021-01-05</th>\n",
       "      <td>130.207306</td>\n",
       "      <td>85.889000</td>\n",
       "      <td>1.012364</td>\n",
       "      <td>1.028653</td>\n",
       "      <td>0.809891</td>\n",
       "      <td>0.205731</td>\n",
       "      <td>16197.822530</td>\n",
       "      <td>4114.613417</td>\n",
       "      <td>20312.435948</td>\n",
       "      <td>0.015622</td>\n",
       "    </tr>\n",
       "    <tr>\n",
       "      <th>2021-01-06</th>\n",
       "      <td>125.824318</td>\n",
       "      <td>90.594139</td>\n",
       "      <td>0.978286</td>\n",
       "      <td>1.085005</td>\n",
       "      <td>0.782629</td>\n",
       "      <td>0.217001</td>\n",
       "      <td>15652.577693</td>\n",
       "      <td>4340.018635</td>\n",
       "      <td>19992.596327</td>\n",
       "      <td>-0.015746</td>\n",
       "    </tr>\n",
       "    <tr>\n",
       "      <th>2021-01-07</th>\n",
       "      <td>130.117844</td>\n",
       "      <td>89.876411</td>\n",
       "      <td>1.011668</td>\n",
       "      <td>1.076409</td>\n",
       "      <td>0.809335</td>\n",
       "      <td>0.215282</td>\n",
       "      <td>16186.693400</td>\n",
       "      <td>4305.635048</td>\n",
       "      <td>20492.328448</td>\n",
       "      <td>0.024996</td>\n",
       "    </tr>\n",
       "    <tr>\n",
       "      <th>2021-01-08</th>\n",
       "      <td>131.240921</td>\n",
       "      <td>90.434654</td>\n",
       "      <td>1.020400</td>\n",
       "      <td>1.083095</td>\n",
       "      <td>0.816320</td>\n",
       "      <td>0.216619</td>\n",
       "      <td>16326.404518</td>\n",
       "      <td>4332.378325</td>\n",
       "      <td>20658.782843</td>\n",
       "      <td>0.008123</td>\n",
       "    </tr>\n",
       "    <tr>\n",
       "      <th>...</th>\n",
       "      <td>...</td>\n",
       "      <td>...</td>\n",
       "      <td>...</td>\n",
       "      <td>...</td>\n",
       "      <td>...</td>\n",
       "      <td>...</td>\n",
       "      <td>...</td>\n",
       "      <td>...</td>\n",
       "      <td>...</td>\n",
       "      <td>...</td>\n",
       "    </tr>\n",
       "    <tr>\n",
       "      <th>2022-01-04</th>\n",
       "      <td>179.699997</td>\n",
       "      <td>99.370003</td>\n",
       "      <td>1.397170</td>\n",
       "      <td>1.190109</td>\n",
       "      <td>1.117736</td>\n",
       "      <td>0.238022</td>\n",
       "      <td>22354.726096</td>\n",
       "      <td>4760.436690</td>\n",
       "      <td>27115.162786</td>\n",
       "      <td>-0.005042</td>\n",
       "    </tr>\n",
       "    <tr>\n",
       "      <th>2022-01-05</th>\n",
       "      <td>174.919998</td>\n",
       "      <td>99.370003</td>\n",
       "      <td>1.360006</td>\n",
       "      <td>1.190109</td>\n",
       "      <td>1.088005</td>\n",
       "      <td>0.238022</td>\n",
       "      <td>21760.093012</td>\n",
       "      <td>4760.436690</td>\n",
       "      <td>26520.529702</td>\n",
       "      <td>-0.021930</td>\n",
       "    </tr>\n",
       "    <tr>\n",
       "      <th>2022-01-06</th>\n",
       "      <td>172.000000</td>\n",
       "      <td>99.949997</td>\n",
       "      <td>1.337303</td>\n",
       "      <td>1.197055</td>\n",
       "      <td>1.069842</td>\n",
       "      <td>0.239411</td>\n",
       "      <td>21396.844484</td>\n",
       "      <td>4788.221993</td>\n",
       "      <td>26185.066478</td>\n",
       "      <td>-0.012649</td>\n",
       "    </tr>\n",
       "    <tr>\n",
       "      <th>2022-01-07</th>\n",
       "      <td>172.169998</td>\n",
       "      <td>101.400002</td>\n",
       "      <td>1.338625</td>\n",
       "      <td>1.214422</td>\n",
       "      <td>1.070900</td>\n",
       "      <td>0.242884</td>\n",
       "      <td>21417.992300</td>\n",
       "      <td>4857.686166</td>\n",
       "      <td>26275.678466</td>\n",
       "      <td>0.003460</td>\n",
       "    </tr>\n",
       "    <tr>\n",
       "      <th>2022-01-10</th>\n",
       "      <td>172.190002</td>\n",
       "      <td>99.419998</td>\n",
       "      <td>1.338780</td>\n",
       "      <td>1.190708</td>\n",
       "      <td>1.071024</td>\n",
       "      <td>0.238142</td>\n",
       "      <td>21420.480837</td>\n",
       "      <td>4762.831779</td>\n",
       "      <td>26183.312616</td>\n",
       "      <td>-0.003515</td>\n",
       "    </tr>\n",
       "  </tbody>\n",
       "</table>\n",
       "<p>258 rows × 10 columns</p>\n",
       "</div>"
      ],
      "text/plain": [
       "                  AAPL          GE  AAPL normalized  GE normalized  \\\n",
       "Date                                                                 \n",
       "2021-01-04  128.617096   83.496544         1.000000       1.000000   \n",
       "2021-01-05  130.207306   85.889000         1.012364       1.028653   \n",
       "2021-01-06  125.824318   90.594139         0.978286       1.085005   \n",
       "2021-01-07  130.117844   89.876411         1.011668       1.076409   \n",
       "2021-01-08  131.240921   90.434654         1.020400       1.083095   \n",
       "...                ...         ...              ...            ...   \n",
       "2022-01-04  179.699997   99.370003         1.397170       1.190109   \n",
       "2022-01-05  174.919998   99.370003         1.360006       1.190109   \n",
       "2022-01-06  172.000000   99.949997         1.337303       1.197055   \n",
       "2022-01-07  172.169998  101.400002         1.338625       1.214422   \n",
       "2022-01-10  172.190002   99.419998         1.338780       1.190708   \n",
       "\n",
       "            AAPL allocation  GE allocation  AAPL positon   GE positon  \\\n",
       "Date                                                                    \n",
       "2021-01-04         0.800000       0.200000  16000.000000  4000.000000   \n",
       "2021-01-05         0.809891       0.205731  16197.822530  4114.613417   \n",
       "2021-01-06         0.782629       0.217001  15652.577693  4340.018635   \n",
       "2021-01-07         0.809335       0.215282  16186.693400  4305.635048   \n",
       "2021-01-08         0.816320       0.216619  16326.404518  4332.378325   \n",
       "...                     ...            ...           ...          ...   \n",
       "2022-01-04         1.117736       0.238022  22354.726096  4760.436690   \n",
       "2022-01-05         1.088005       0.238022  21760.093012  4760.436690   \n",
       "2022-01-06         1.069842       0.239411  21396.844484  4788.221993   \n",
       "2022-01-07         1.070900       0.242884  21417.992300  4857.686166   \n",
       "2022-01-10         1.071024       0.238142  21420.480837  4762.831779   \n",
       "\n",
       "            total position  daily return  \n",
       "Date                                      \n",
       "2021-01-04    20000.000000           NaN  \n",
       "2021-01-05    20312.435948      0.015622  \n",
       "2021-01-06    19992.596327     -0.015746  \n",
       "2021-01-07    20492.328448      0.024996  \n",
       "2021-01-08    20658.782843      0.008123  \n",
       "...                    ...           ...  \n",
       "2022-01-04    27115.162786     -0.005042  \n",
       "2022-01-05    26520.529702     -0.021930  \n",
       "2022-01-06    26185.066478     -0.012649  \n",
       "2022-01-07    26275.678466      0.003460  \n",
       "2022-01-10    26183.312616     -0.003515  \n",
       "\n",
       "[258 rows x 10 columns]"
      ]
     },
     "execution_count": 130,
     "metadata": {},
     "output_type": "execute_result"
    }
   ],
   "source": [
    "df"
   ]
  },
  {
   "cell_type": "code",
   "execution_count": 131,
   "id": "7cfe598c-230d-46b3-94e4-7855b91f1c74",
   "metadata": {},
   "outputs": [],
   "source": [
    "averagDailyReturn = df[\"daily return\"].mean()"
   ]
  },
  {
   "cell_type": "code",
   "execution_count": 132,
   "id": "edfdd02e-c543-4ac1-a67f-068d7e04be76",
   "metadata": {},
   "outputs": [
    {
     "data": {
      "text/plain": [
       "0.0011414905707817485"
      ]
     },
     "execution_count": 132,
     "metadata": {},
     "output_type": "execute_result"
    }
   ],
   "source": [
    "averagDailyReturn"
   ]
  },
  {
   "cell_type": "code",
   "execution_count": 133,
   "id": "9cf78c78-4c7f-4af6-a8cd-97618246cb0c",
   "metadata": {},
   "outputs": [],
   "source": [
    "std = df[\"daily return\"].std()"
   ]
  },
  {
   "cell_type": "code",
   "execution_count": 134,
   "id": "79f2e065-1292-4e40-a6dc-fa7c319159fa",
   "metadata": {},
   "outputs": [
    {
     "data": {
      "text/plain": [
       "0.013644518940651424"
      ]
     },
     "execution_count": 134,
     "metadata": {},
     "output_type": "execute_result"
    }
   ],
   "source": [
    "std"
   ]
  },
  {
   "cell_type": "markdown",
   "id": "8d907603-4919-431f-9dfc-db9daa24aceb",
   "metadata": {},
   "source": [
    "### Cumulative return"
   ]
  },
  {
   "cell_type": "code",
   "execution_count": 135,
   "id": "86f50abf-de3b-4832-aa4e-d5efa98f3c2d",
   "metadata": {},
   "outputs": [],
   "source": [
    "cumulativeReturn = 100 * (df[\"total position\"][-1] /df[\"total position\"][0] - 1)"
   ]
  },
  {
   "cell_type": "code",
   "execution_count": 136,
   "id": "993c8c81-6cd0-40b5-9c11-989b80428807",
   "metadata": {},
   "outputs": [
    {
     "data": {
      "text/plain": [
       "30.91656308214652"
      ]
     },
     "execution_count": 136,
     "metadata": {},
     "output_type": "execute_result"
    }
   ],
   "source": [
    "cumulativeReturn"
   ]
  },
  {
   "cell_type": "code",
   "execution_count": 137,
   "id": "8c596ab9-5dc4-473c-9b35-ef0abce029f4",
   "metadata": {},
   "outputs": [
    {
     "data": {
      "text/plain": [
       "26183.312616429303"
      ]
     },
     "execution_count": 137,
     "metadata": {},
     "output_type": "execute_result"
    }
   ],
   "source": [
    "df[\"total position\"][-1] "
   ]
  },
  {
   "cell_type": "markdown",
   "id": "0a9b66ed-42b5-45ea-a153-97546f701a98",
   "metadata": {},
   "source": [
    "### Sharp Ratio"
   ]
  },
  {
   "cell_type": "code",
   "execution_count": 138,
   "id": "f4fe0b37-fca6-4a23-99e7-2c69d5aeeead",
   "metadata": {},
   "outputs": [],
   "source": [
    "sr = df[\"daily return\"].mean() / df[\"daily return\"].std()"
   ]
  },
  {
   "cell_type": "code",
   "execution_count": 139,
   "id": "da5d57eb-db2f-4e36-90b8-818c52f38644",
   "metadata": {},
   "outputs": [
    {
     "data": {
      "text/plain": [
       "0.08365927562172087"
      ]
     },
     "execution_count": 139,
     "metadata": {},
     "output_type": "execute_result"
    }
   ],
   "source": [
    "sr"
   ]
  },
  {
   "cell_type": "markdown",
   "id": "1accfd59-6ef5-4fbf-a387-4544a6706828",
   "metadata": {},
   "source": [
    "### Annual Ahsrt Ratio"
   ]
  },
  {
   "cell_type": "code",
   "execution_count": 140,
   "id": "115b941f-21b1-4fdd-b02a-c930ee861bdc",
   "metadata": {},
   "outputs": [],
   "source": [
    "asr = (252 ** .5) * sr"
   ]
  },
  {
   "cell_type": "code",
   "execution_count": 141,
   "id": "b50e6924-4b22-47f7-b3d2-8d8f841c1759",
   "metadata": {},
   "outputs": [
    {
     "data": {
      "text/plain": [
       "1.3280498289532918"
      ]
     },
     "execution_count": 141,
     "metadata": {},
     "output_type": "execute_result"
    }
   ],
   "source": [
    "asr"
   ]
  },
  {
   "cell_type": "code",
   "execution_count": null,
   "id": "af5fe182-1575-4fa7-bc3b-1d12a784be01",
   "metadata": {},
   "outputs": [],
   "source": []
  }
 ],
 "metadata": {
  "kernelspec": {
   "display_name": "Python 3",
   "language": "python",
   "name": "python3"
  },
  "language_info": {
   "codemirror_mode": {
    "name": "ipython",
    "version": 3
   },
   "file_extension": ".py",
   "mimetype": "text/x-python",
   "name": "python",
   "nbconvert_exporter": "python",
   "pygments_lexer": "ipython3",
   "version": "3.8.8"
  }
 },
 "nbformat": 4,
 "nbformat_minor": 5
}
