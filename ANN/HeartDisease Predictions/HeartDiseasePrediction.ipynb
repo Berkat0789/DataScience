{
 "cells": [
  {
   "cell_type": "code",
   "execution_count": 347,
   "id": "a61cefb1",
   "metadata": {},
   "outputs": [],
   "source": [
    "import pandas as pd\n",
    "import numpy as np\n",
    "import matplotlib.pyplot as plt\n",
    "import seaborn as sns"
   ]
  },
  {
   "cell_type": "code",
   "execution_count": 348,
   "id": "e5619342",
   "metadata": {},
   "outputs": [],
   "source": [
    "df = pd.read_csv(\"heart_disease.csv\")"
   ]
  },
  {
   "cell_type": "code",
   "execution_count": 349,
   "id": "9a9f200b",
   "metadata": {},
   "outputs": [
    {
     "name": "stdout",
     "output_type": "stream",
     "text": [
      "<class 'pandas.core.frame.DataFrame'>\n",
      "RangeIndex: 4238 entries, 0 to 4237\n",
      "Data columns (total 16 columns):\n",
      " #   Column           Non-Null Count  Dtype  \n",
      "---  ------           --------------  -----  \n",
      " 0   Gender           4238 non-null   object \n",
      " 1   age              4238 non-null   int64  \n",
      " 2   education        4133 non-null   object \n",
      " 3   currentSmoker    4238 non-null   int64  \n",
      " 4   cigsPerDay       4209 non-null   float64\n",
      " 5   BPMeds           4185 non-null   float64\n",
      " 6   prevalentStroke  4238 non-null   object \n",
      " 7   prevalentHyp     4238 non-null   int64  \n",
      " 8   diabetes         4238 non-null   int64  \n",
      " 9   totChol          4188 non-null   float64\n",
      " 10  sysBP            4238 non-null   float64\n",
      " 11  diaBP            4238 non-null   float64\n",
      " 12  BMI              4219 non-null   float64\n",
      " 13  heartRate        4237 non-null   float64\n",
      " 14  glucose          3850 non-null   float64\n",
      " 15  Heart_ stroke    4238 non-null   object \n",
      "dtypes: float64(8), int64(4), object(4)\n",
      "memory usage: 529.9+ KB\n"
     ]
    }
   ],
   "source": [
    "df.info()"
   ]
  },
  {
   "cell_type": "code",
   "execution_count": 350,
   "id": "14f8267f",
   "metadata": {},
   "outputs": [
    {
     "data": {
      "text/html": [
       "<div>\n",
       "<style scoped>\n",
       "    .dataframe tbody tr th:only-of-type {\n",
       "        vertical-align: middle;\n",
       "    }\n",
       "\n",
       "    .dataframe tbody tr th {\n",
       "        vertical-align: top;\n",
       "    }\n",
       "\n",
       "    .dataframe thead th {\n",
       "        text-align: right;\n",
       "    }\n",
       "</style>\n",
       "<table border=\"1\" class=\"dataframe\">\n",
       "  <thead>\n",
       "    <tr style=\"text-align: right;\">\n",
       "      <th></th>\n",
       "      <th>count</th>\n",
       "      <th>mean</th>\n",
       "      <th>std</th>\n",
       "      <th>min</th>\n",
       "      <th>25%</th>\n",
       "      <th>50%</th>\n",
       "      <th>75%</th>\n",
       "      <th>max</th>\n",
       "    </tr>\n",
       "  </thead>\n",
       "  <tbody>\n",
       "    <tr>\n",
       "      <th>age</th>\n",
       "      <td>4238.0</td>\n",
       "      <td>49.584946</td>\n",
       "      <td>8.572160</td>\n",
       "      <td>32.00</td>\n",
       "      <td>42.00</td>\n",
       "      <td>49.0</td>\n",
       "      <td>56.000</td>\n",
       "      <td>70.0</td>\n",
       "    </tr>\n",
       "    <tr>\n",
       "      <th>currentSmoker</th>\n",
       "      <td>4238.0</td>\n",
       "      <td>0.494101</td>\n",
       "      <td>0.500024</td>\n",
       "      <td>0.00</td>\n",
       "      <td>0.00</td>\n",
       "      <td>0.0</td>\n",
       "      <td>1.000</td>\n",
       "      <td>1.0</td>\n",
       "    </tr>\n",
       "    <tr>\n",
       "      <th>cigsPerDay</th>\n",
       "      <td>4209.0</td>\n",
       "      <td>9.003089</td>\n",
       "      <td>11.920094</td>\n",
       "      <td>0.00</td>\n",
       "      <td>0.00</td>\n",
       "      <td>0.0</td>\n",
       "      <td>20.000</td>\n",
       "      <td>70.0</td>\n",
       "    </tr>\n",
       "    <tr>\n",
       "      <th>BPMeds</th>\n",
       "      <td>4185.0</td>\n",
       "      <td>0.029630</td>\n",
       "      <td>0.169584</td>\n",
       "      <td>0.00</td>\n",
       "      <td>0.00</td>\n",
       "      <td>0.0</td>\n",
       "      <td>0.000</td>\n",
       "      <td>1.0</td>\n",
       "    </tr>\n",
       "    <tr>\n",
       "      <th>prevalentHyp</th>\n",
       "      <td>4238.0</td>\n",
       "      <td>0.310524</td>\n",
       "      <td>0.462763</td>\n",
       "      <td>0.00</td>\n",
       "      <td>0.00</td>\n",
       "      <td>0.0</td>\n",
       "      <td>1.000</td>\n",
       "      <td>1.0</td>\n",
       "    </tr>\n",
       "    <tr>\n",
       "      <th>diabetes</th>\n",
       "      <td>4238.0</td>\n",
       "      <td>0.025720</td>\n",
       "      <td>0.158316</td>\n",
       "      <td>0.00</td>\n",
       "      <td>0.00</td>\n",
       "      <td>0.0</td>\n",
       "      <td>0.000</td>\n",
       "      <td>1.0</td>\n",
       "    </tr>\n",
       "    <tr>\n",
       "      <th>totChol</th>\n",
       "      <td>4188.0</td>\n",
       "      <td>236.721585</td>\n",
       "      <td>44.590334</td>\n",
       "      <td>107.00</td>\n",
       "      <td>206.00</td>\n",
       "      <td>234.0</td>\n",
       "      <td>263.000</td>\n",
       "      <td>696.0</td>\n",
       "    </tr>\n",
       "    <tr>\n",
       "      <th>sysBP</th>\n",
       "      <td>4238.0</td>\n",
       "      <td>132.352407</td>\n",
       "      <td>22.038097</td>\n",
       "      <td>83.50</td>\n",
       "      <td>117.00</td>\n",
       "      <td>128.0</td>\n",
       "      <td>144.000</td>\n",
       "      <td>295.0</td>\n",
       "    </tr>\n",
       "    <tr>\n",
       "      <th>diaBP</th>\n",
       "      <td>4238.0</td>\n",
       "      <td>82.893464</td>\n",
       "      <td>11.910850</td>\n",
       "      <td>48.00</td>\n",
       "      <td>75.00</td>\n",
       "      <td>82.0</td>\n",
       "      <td>89.875</td>\n",
       "      <td>142.5</td>\n",
       "    </tr>\n",
       "    <tr>\n",
       "      <th>BMI</th>\n",
       "      <td>4219.0</td>\n",
       "      <td>25.802008</td>\n",
       "      <td>4.080111</td>\n",
       "      <td>15.54</td>\n",
       "      <td>23.07</td>\n",
       "      <td>25.4</td>\n",
       "      <td>28.040</td>\n",
       "      <td>56.8</td>\n",
       "    </tr>\n",
       "    <tr>\n",
       "      <th>heartRate</th>\n",
       "      <td>4237.0</td>\n",
       "      <td>75.878924</td>\n",
       "      <td>12.026596</td>\n",
       "      <td>44.00</td>\n",
       "      <td>68.00</td>\n",
       "      <td>75.0</td>\n",
       "      <td>83.000</td>\n",
       "      <td>143.0</td>\n",
       "    </tr>\n",
       "    <tr>\n",
       "      <th>glucose</th>\n",
       "      <td>3850.0</td>\n",
       "      <td>81.966753</td>\n",
       "      <td>23.959998</td>\n",
       "      <td>40.00</td>\n",
       "      <td>71.00</td>\n",
       "      <td>78.0</td>\n",
       "      <td>87.000</td>\n",
       "      <td>394.0</td>\n",
       "    </tr>\n",
       "  </tbody>\n",
       "</table>\n",
       "</div>"
      ],
      "text/plain": [
       "                count        mean        std     min     25%    50%      75%  \\\n",
       "age            4238.0   49.584946   8.572160   32.00   42.00   49.0   56.000   \n",
       "currentSmoker  4238.0    0.494101   0.500024    0.00    0.00    0.0    1.000   \n",
       "cigsPerDay     4209.0    9.003089  11.920094    0.00    0.00    0.0   20.000   \n",
       "BPMeds         4185.0    0.029630   0.169584    0.00    0.00    0.0    0.000   \n",
       "prevalentHyp   4238.0    0.310524   0.462763    0.00    0.00    0.0    1.000   \n",
       "diabetes       4238.0    0.025720   0.158316    0.00    0.00    0.0    0.000   \n",
       "totChol        4188.0  236.721585  44.590334  107.00  206.00  234.0  263.000   \n",
       "sysBP          4238.0  132.352407  22.038097   83.50  117.00  128.0  144.000   \n",
       "diaBP          4238.0   82.893464  11.910850   48.00   75.00   82.0   89.875   \n",
       "BMI            4219.0   25.802008   4.080111   15.54   23.07   25.4   28.040   \n",
       "heartRate      4237.0   75.878924  12.026596   44.00   68.00   75.0   83.000   \n",
       "glucose        3850.0   81.966753  23.959998   40.00   71.00   78.0   87.000   \n",
       "\n",
       "                 max  \n",
       "age             70.0  \n",
       "currentSmoker    1.0  \n",
       "cigsPerDay      70.0  \n",
       "BPMeds           1.0  \n",
       "prevalentHyp     1.0  \n",
       "diabetes         1.0  \n",
       "totChol        696.0  \n",
       "sysBP          295.0  \n",
       "diaBP          142.5  \n",
       "BMI             56.8  \n",
       "heartRate      143.0  \n",
       "glucose        394.0  "
      ]
     },
     "execution_count": 350,
     "metadata": {},
     "output_type": "execute_result"
    }
   ],
   "source": [
    "df.describe().transpose()"
   ]
  },
  {
   "cell_type": "code",
   "execution_count": 351,
   "id": "f8e18e37",
   "metadata": {},
   "outputs": [
    {
     "data": {
      "text/plain": [
       "Index(['Gender', 'age', 'education', 'currentSmoker', 'cigsPerDay', 'BPMeds',\n",
       "       'prevalentStroke', 'prevalentHyp', 'diabetes', 'totChol', 'sysBP',\n",
       "       'diaBP', 'BMI', 'heartRate', 'glucose', 'Heart_ stroke'],\n",
       "      dtype='object')"
      ]
     },
     "execution_count": 351,
     "metadata": {},
     "output_type": "execute_result"
    }
   ],
   "source": [
    "df.columns"
   ]
  },
  {
   "cell_type": "code",
   "execution_count": 352,
   "id": "82b6e069",
   "metadata": {},
   "outputs": [],
   "source": [
    "targetColumn = \"Heart_ stroke\""
   ]
  },
  {
   "cell_type": "code",
   "execution_count": 353,
   "id": "5b1eb684",
   "metadata": {},
   "outputs": [
    {
     "data": {
      "text/plain": [
       "<AxesSubplot:>"
      ]
     },
     "execution_count": 353,
     "metadata": {},
     "output_type": "execute_result"
    },
    {
     "data": {
      "image/png": "[encoded data removed]",
      "text/plain": [
       "<Figure size 640x480 with 2 Axes>"
      ]
     },
     "metadata": {},
     "output_type": "display_data"
    }
   ],
   "source": [
    "sns.heatmap(df.isnull())"
   ]
  },
  {
   "cell_type": "code",
   "execution_count": 354,
   "id": "6e535c00",
   "metadata": {},
   "outputs": [
    {
     "data": {
      "text/plain": [
       "<AxesSubplot:xlabel='education', ylabel='age'>"
      ]
     },
     "execution_count": 354,
     "metadata": {},
     "output_type": "execute_result"
    },
    {
     "data": {
      "image/png": "[encoded data removed]",
      "text/plain": [
       "<Figure size 640x480 with 1 Axes>"
      ]
     },
     "metadata": {},
     "output_type": "display_data"
    }
   ],
   "source": [
    "sns.boxplot(x = \"education\", y = \"age\", data = df)"
   ]
  },
  {
   "cell_type": "code",
   "execution_count": 355,
   "id": "6e3d756c",
   "metadata": {},
   "outputs": [
    {
     "data": {
      "text/plain": [
       "array(['postgraduate', 'primaryschool', 'uneducated', 'graduate', nan],\n",
       "      dtype=object)"
      ]
     },
     "execution_count": 355,
     "metadata": {},
     "output_type": "execute_result"
    }
   ],
   "source": [
    "df[\"education\"].unique()"
   ]
  },
  {
   "cell_type": "code",
   "execution_count": 356,
   "id": "3c3d52c7",
   "metadata": {},
   "outputs": [],
   "source": [
    "def replaceMissingEd(columns):\n",
    "    Age = columns[0]\n",
    "    Ed = columns[1]\n",
    "    \n",
    "    if pd.isnull(Ed):\n",
    "        if Age >=47:\n",
    "            return \"postgraduate\"\n",
    "        elif Age <= 45:\n",
    "            return \"primaryschool\"\n",
    "        elif Age >=52:\n",
    "            return \"uneducated\"\n",
    "        else: \n",
    "            return \"graduate\"\n",
    "    else:\n",
    "        return Ed"
   ]
  },
  {
   "cell_type": "code",
   "execution_count": 357,
   "id": "5cf8018a",
   "metadata": {},
   "outputs": [],
   "source": [
    "df[\"education\"] = df[[\"age\", \"education\"]].apply(replaceMissingEd, axis=1)"
   ]
  },
  {
   "cell_type": "code",
   "execution_count": 358,
   "id": "57a9ce25",
   "metadata": {},
   "outputs": [
    {
     "data": {
      "text/plain": [
       "0        postgraduate\n",
       "1       primaryschool\n",
       "2          uneducated\n",
       "3            graduate\n",
       "4            graduate\n",
       "            ...      \n",
       "4233       uneducated\n",
       "4234         graduate\n",
       "4235    primaryschool\n",
       "4236       uneducated\n",
       "4237    primaryschool\n",
       "Name: education, Length: 4238, dtype: object"
      ]
     },
     "execution_count": 358,
     "metadata": {},
     "output_type": "execute_result"
    }
   ],
   "source": [
    "df[\"education\"]"
   ]
  },
  {
   "cell_type": "code",
   "execution_count": 359,
   "id": "17c3edb4",
   "metadata": {},
   "outputs": [
    {
     "data": {
      "text/plain": [
       "<AxesSubplot:>"
      ]
     },
     "execution_count": 359,
     "metadata": {},
     "output_type": "execute_result"
    },
    {
     "data": {
      "image/png": "[encoded data removed]",
      "text/plain": [
       "<Figure size 640x480 with 2 Axes>"
      ]
     },
     "metadata": {},
     "output_type": "display_data"
    }
   ],
   "source": [
    "sns.heatmap(df.isnull())"
   ]
  },
  {
   "cell_type": "markdown",
   "id": "7a7ff152",
   "metadata": {},
   "source": [
    "## Replacing missing glucose with average per age"
   ]
  },
  {
   "cell_type": "code",
   "execution_count": 360,
   "id": "37112261",
   "metadata": {},
   "outputs": [
    {
     "data": {
      "text/plain": [
       "<AxesSubplot:xlabel='diabetes', ylabel='count'>"
      ]
     },
     "execution_count": 360,
     "metadata": {},
     "output_type": "execute_result"
    },
    {
     "data": {
      "image/png": "[encoded data removed]",
      "text/plain": [
       "<Figure size 640x480 with 1 Axes>"
      ]
     },
     "metadata": {},
     "output_type": "display_data"
    }
   ],
   "source": [
    "sns.countplot(x = df[\"diabetes\"])"
   ]
  },
  {
   "cell_type": "code",
   "execution_count": 361,
   "id": "d8047d6a",
   "metadata": {},
   "outputs": [
    {
     "data": {
      "text/plain": [
       "glucose          1.000000\n",
       "diabetes         0.617627\n",
       "sysBP            0.140621\n",
       "age              0.122256\n",
       "heartRate        0.094500\n",
       "BMI              0.087377\n",
       "prevalentHyp     0.086834\n",
       "diaBP            0.061231\n",
       "BPMeds           0.051176\n",
       "totChol          0.046408\n",
       "currentSmoker   -0.056826\n",
       "cigsPerDay      -0.058960\n",
       "dtype: float64"
      ]
     },
     "execution_count": 361,
     "metadata": {},
     "output_type": "execute_result"
    }
   ],
   "source": [
    "df.corrwith(df[\"glucose\"]).sort_values(ascending = False)"
   ]
  },
  {
   "cell_type": "code",
   "execution_count": 362,
   "id": "deb6e0c0",
   "metadata": {},
   "outputs": [
    {
     "data": {
      "text/plain": [
       "{0: 79.48918558077436, 1: 170.33333333333334}"
      ]
     },
     "execution_count": 362,
     "metadata": {},
     "output_type": "execute_result"
    }
   ],
   "source": [
    "dict(df.groupby(df[\"diabetes\"]).mean()[\"glucose\"])"
   ]
  },
  {
   "cell_type": "code",
   "execution_count": 363,
   "id": "43ee2514",
   "metadata": {},
   "outputs": [],
   "source": [
    "def replaceGlucose(columns):\n",
    "    Diab = columns[0]\n",
    "    Glucose = columns[1]\n",
    "    \n",
    "    if pd.isnull(Glucose):\n",
    "        if Diab == 1:\n",
    "            return 170\n",
    "        else:\n",
    "            return 79\n",
    "    else:\n",
    "        return Glucose"
   ]
  },
  {
   "cell_type": "code",
   "execution_count": 364,
   "id": "e59ef00a",
   "metadata": {},
   "outputs": [],
   "source": [
    "df[\"glucose\"] = df[[\"diabetes\", \"glucose\"]].apply(replaceGlucose, axis=1)"
   ]
  },
  {
   "cell_type": "code",
   "execution_count": 365,
   "id": "ea8a2a9f",
   "metadata": {},
   "outputs": [
    {
     "data": {
      "text/plain": [
       "<AxesSubplot:>"
      ]
     },
     "execution_count": 365,
     "metadata": {},
     "output_type": "execute_result"
    },
    {
     "data": {
      "image/png": "[encoded data removed]",
      "text/plain": [
       "<Figure size 640x480 with 2 Axes>"
      ]
     },
     "metadata": {},
     "output_type": "display_data"
    }
   ],
   "source": [
    "sns.heatmap(df.isnull())"
   ]
  },
  {
   "cell_type": "code",
   "execution_count": 366,
   "id": "86f3b95a",
   "metadata": {},
   "outputs": [],
   "source": [
    "## Dropping other missing items\n",
    "## not too many that will effect the data too much "
   ]
  },
  {
   "cell_type": "code",
   "execution_count": 367,
   "id": "d16ff69e",
   "metadata": {},
   "outputs": [],
   "source": [
    "df.dropna(axis=1, inplace=True)"
   ]
  },
  {
   "cell_type": "code",
   "execution_count": 368,
   "id": "2ac1d6b6",
   "metadata": {},
   "outputs": [
    {
     "data": {
      "text/plain": [
       "<AxesSubplot:>"
      ]
     },
     "execution_count": 368,
     "metadata": {},
     "output_type": "execute_result"
    },
    {
     "data": {
      "image/png": "[encoded data removed]",
      "text/plain": [
       "<Figure size 640x480 with 2 Axes>"
      ]
     },
     "metadata": {},
     "output_type": "display_data"
    }
   ],
   "source": [
    "sns.heatmap(df.isnull())"
   ]
  },
  {
   "cell_type": "code",
   "execution_count": 369,
   "id": "87ed5b46",
   "metadata": {},
   "outputs": [],
   "source": [
    "df[\"Gender\"] = pd.get_dummies(df[\"Gender\"], drop_first=True)"
   ]
  },
  {
   "cell_type": "code",
   "execution_count": 370,
   "id": "97788f5b",
   "metadata": {},
   "outputs": [],
   "source": [
    "educ = pd.get_dummies(df[\"education\"], drop_first=True)"
   ]
  },
  {
   "cell_type": "code",
   "execution_count": 371,
   "id": "cc630f68",
   "metadata": {},
   "outputs": [],
   "source": [
    "df = pd.concat([df, educ], axis=1)"
   ]
  },
  {
   "cell_type": "code",
   "execution_count": 372,
   "id": "d7fd023c",
   "metadata": {},
   "outputs": [],
   "source": [
    "df.drop(\"education\", axis=1, inplace=True)"
   ]
  },
  {
   "cell_type": "code",
   "execution_count": 373,
   "id": "6facee34",
   "metadata": {},
   "outputs": [],
   "source": [
    "df[\"prevalentStroke\"] = pd.get_dummies(df[\"prevalentStroke\"], drop_first=True)"
   ]
  },
  {
   "cell_type": "code",
   "execution_count": 374,
   "id": "7de7dca3",
   "metadata": {},
   "outputs": [],
   "source": [
    "df[\"Heart_ stroke\"] = pd.get_dummies(df[\"Heart_ stroke\"], drop_first=True)"
   ]
  },
  {
   "cell_type": "code",
   "execution_count": 375,
   "id": "5ace27af",
   "metadata": {},
   "outputs": [
    {
     "name": "stdout",
     "output_type": "stream",
     "text": [
      "<class 'pandas.core.frame.DataFrame'>\n",
      "RangeIndex: 4238 entries, 0 to 4237\n",
      "Data columns (total 13 columns):\n",
      " #   Column           Non-Null Count  Dtype  \n",
      "---  ------           --------------  -----  \n",
      " 0   Gender           4238 non-null   uint8  \n",
      " 1   age              4238 non-null   int64  \n",
      " 2   currentSmoker    4238 non-null   int64  \n",
      " 3   prevalentStroke  4238 non-null   uint8  \n",
      " 4   prevalentHyp     4238 non-null   int64  \n",
      " 5   diabetes         4238 non-null   int64  \n",
      " 6   sysBP            4238 non-null   float64\n",
      " 7   diaBP            4238 non-null   float64\n",
      " 8   glucose          4238 non-null   float64\n",
      " 9   Heart_ stroke    4238 non-null   uint8  \n",
      " 10  postgraduate     4238 non-null   uint8  \n",
      " 11  primaryschool    4238 non-null   uint8  \n",
      " 12  uneducated       4238 non-null   uint8  \n",
      "dtypes: float64(3), int64(4), uint8(6)\n",
      "memory usage: 256.7 KB\n"
     ]
    }
   ],
   "source": [
    "df.info()"
   ]
  },
  {
   "cell_type": "code",
   "execution_count": 230,
   "id": "432212c6",
   "metadata": {},
   "outputs": [],
   "source": [
    "X = df.drop(targetColumn, axis=1).values\n",
    "y = df[targetColumn].values"
   ]
  },
  {
   "cell_type": "code",
   "execution_count": 231,
   "id": "5c222f6f",
   "metadata": {},
   "outputs": [],
   "source": [
    "from sklearn.model_selection import train_test_split"
   ]
  },
  {
   "cell_type": "code",
   "execution_count": 232,
   "id": "cf2b06cf",
   "metadata": {},
   "outputs": [],
   "source": [
    "X_train, X_test, y_train, y_test = train_test_split(X, y, test_size=0.30, random_state=42)"
   ]
  },
  {
   "cell_type": "code",
   "execution_count": 233,
   "id": "c4fbeecd",
   "metadata": {},
   "outputs": [
    {
     "data": {
      "text/plain": [
       "(2966, 12)"
      ]
     },
     "execution_count": 233,
     "metadata": {},
     "output_type": "execute_result"
    }
   ],
   "source": [
    "X_train.shape"
   ]
  },
  {
   "cell_type": "code",
   "execution_count": 58,
   "id": "64ade307",
   "metadata": {},
   "outputs": [
    {
     "data": {
      "text/plain": [
       "(1272, 12)"
      ]
     },
     "execution_count": 58,
     "metadata": {},
     "output_type": "execute_result"
    }
   ],
   "source": [
    "X_test.shape"
   ]
  },
  {
   "cell_type": "code",
   "execution_count": 59,
   "id": "cf32dc48",
   "metadata": {},
   "outputs": [],
   "source": [
    "from tensorflow.keras.models import Sequential\n",
    "from tensorflow.keras.layers import Dense, Flatten, Dropout\n",
    "from tensorflow.keras.optimizers import Adam\n",
    "from tensorflow.keras.losses import BinaryCrossentropy"
   ]
  },
  {
   "cell_type": "code",
   "execution_count": 61,
   "id": "7f7844d3",
   "metadata": {},
   "outputs": [
    {
     "data": {
      "text/plain": [
       "(2966, 12)"
      ]
     },
     "execution_count": 61,
     "metadata": {},
     "output_type": "execute_result"
    }
   ],
   "source": [
    "X_train.shape"
   ]
  },
  {
   "cell_type": "code",
   "execution_count": null,
   "id": "8492c189",
   "metadata": {},
   "outputs": [],
   "source": []
  },
  {
   "cell_type": "code",
   "execution_count": 71,
   "id": "ca0b1b86",
   "metadata": {},
   "outputs": [],
   "source": [
    "model = Sequential()\n",
    "model.add(Dense(units=200, activation=\"relu\"))\n",
    "model.add(Dropout(0.2))\n",
    "model.add(Dense(units=160, activation=\"relu\"))\n",
    "model.add(Dropout(0.5))\n",
    "model.add(Dense(units=130, activation=\"relu\"))\n",
    "model.add(Dropout(0.2))\n",
    "model.add(Dense(units=130, activation=\"relu\"))\n",
    "model.add(Dropout(0.5))\n",
    "model.add(Dense(units=120, activation=\"relu\"))\n",
    "model.add(Dense(units=120, activation=\"relu\"))\n",
    "model.add(Dense(units=1, activation=\"sigmoid\"))\n",
    "\n",
    "model.compile(loss = BinaryCrossentropy(), optimizer = Adam(), metrics = [\"accuracy\"])"
   ]
  },
  {
   "cell_type": "code",
   "execution_count": 72,
   "id": "1b8d7bff",
   "metadata": {},
   "outputs": [],
   "source": [
    "from tensorflow.keras.callbacks import EarlyStopping"
   ]
  },
  {
   "cell_type": "code",
   "execution_count": 73,
   "id": "0cea0e0d",
   "metadata": {},
   "outputs": [],
   "source": [
    "stop = EarlyStopping(patience=30)"
   ]
  },
  {
   "cell_type": "code",
   "execution_count": 74,
   "id": "7f7ccb40",
   "metadata": {},
   "outputs": [
    {
     "name": "stdout",
     "output_type": "stream",
     "text": [
      "Train on 2966 samples, validate on 1272 samples\n",
      "Epoch 1/300\n",
      "2966/2966 [==============================] - 3s 1ms/sample - loss: 0.8140 - accuracy: 0.7748 - val_loss: 0.5540 - val_accuracy: 0.8522\n",
      "Epoch 2/300\n",
      "2966/2966 [==============================] - 2s 658us/sample - loss: 0.5164 - accuracy: 0.8318 - val_loss: 0.5287 - val_accuracy: 0.8522\n",
      "Epoch 3/300\n",
      "2966/2966 [==============================] - 2s 567us/sample - loss: 0.4909 - accuracy: 0.8399 - val_loss: 0.5224 - val_accuracy: 0.8522\n",
      "Epoch 4/300\n",
      "2966/2966 [==============================] - 2s 544us/sample - loss: 0.4801 - accuracy: 0.8439 - val_loss: 0.4760 - val_accuracy: 0.8522\n",
      "Epoch 5/300\n",
      "2966/2966 [==============================] - 2s 531us/sample - loss: 0.4738 - accuracy: 0.8446 - val_loss: 0.4829 - val_accuracy: 0.8522\n",
      "Epoch 6/300\n",
      "2966/2966 [==============================] - 2s 550us/sample - loss: 0.4646 - accuracy: 0.8446 - val_loss: 0.4480 - val_accuracy: 0.8522\n",
      "Epoch 7/300\n",
      "2966/2966 [==============================] - 2s 590us/sample - loss: 0.4551 - accuracy: 0.8463 - val_loss: 0.4264 - val_accuracy: 0.8522\n",
      "Epoch 8/300\n",
      "2966/2966 [==============================] - 2s 567us/sample - loss: 0.4461 - accuracy: 0.8463 - val_loss: 0.4427 - val_accuracy: 0.8522\n",
      "Epoch 9/300\n",
      "2966/2966 [==============================] - 2s 576us/sample - loss: 0.4504 - accuracy: 0.8463 - val_loss: 0.4294 - val_accuracy: 0.8522\n",
      "Epoch 10/300\n",
      "2966/2966 [==============================] - 2s 651us/sample - loss: 0.4419 - accuracy: 0.8463 - val_loss: 0.4226 - val_accuracy: 0.8522\n",
      "Epoch 11/300\n",
      "2966/2966 [==============================] - 2s 591us/sample - loss: 0.4349 - accuracy: 0.8463 - val_loss: 0.4205 - val_accuracy: 0.8522\n",
      "Epoch 12/300\n",
      "2966/2966 [==============================] - 2s 539us/sample - loss: 0.4363 - accuracy: 0.8463 - val_loss: 0.4189 - val_accuracy: 0.8522\n",
      "Epoch 13/300\n",
      "2966/2966 [==============================] - 2s 594us/sample - loss: 0.4326 - accuracy: 0.8466 - val_loss: 0.4203 - val_accuracy: 0.8522\n",
      "Epoch 14/300\n",
      "2966/2966 [==============================] - 2s 540us/sample - loss: 0.4305 - accuracy: 0.8463 - val_loss: 0.4183 - val_accuracy: 0.8522\n",
      "Epoch 15/300\n",
      "2966/2966 [==============================] - 2s 525us/sample - loss: 0.4315 - accuracy: 0.8469 - val_loss: 0.4200 - val_accuracy: 0.8522\n",
      "Epoch 16/300\n",
      "2966/2966 [==============================] - 2s 570us/sample - loss: 0.4280 - accuracy: 0.8476 - val_loss: 0.4177 - val_accuracy: 0.8522\n",
      "Epoch 17/300\n",
      "2966/2966 [==============================] - 2s 530us/sample - loss: 0.4304 - accuracy: 0.8463 - val_loss: 0.4210 - val_accuracy: 0.8522\n",
      "Epoch 18/300\n",
      "2966/2966 [==============================] - 2s 598us/sample - loss: 0.4280 - accuracy: 0.8469 - val_loss: 0.4158 - val_accuracy: 0.8506\n",
      "Epoch 19/300\n",
      "2966/2966 [==============================] - 2s 584us/sample - loss: 0.4300 - accuracy: 0.8466 - val_loss: 0.4172 - val_accuracy: 0.8498\n",
      "Epoch 20/300\n",
      "2966/2966 [==============================] - 2s 745us/sample - loss: 0.4287 - accuracy: 0.8463 - val_loss: 0.4189 - val_accuracy: 0.8522\n",
      "Epoch 21/300\n",
      "2966/2966 [==============================] - 2s 558us/sample - loss: 0.4245 - accuracy: 0.8476 - val_loss: 0.4193 - val_accuracy: 0.8498\n",
      "Epoch 22/300\n",
      "2966/2966 [==============================] - 2s 553us/sample - loss: 0.4267 - accuracy: 0.8469 - val_loss: 0.4183 - val_accuracy: 0.8522\n",
      "Epoch 23/300\n",
      "2966/2966 [==============================] - 2s 548us/sample - loss: 0.4276 - accuracy: 0.8469 - val_loss: 0.4206 - val_accuracy: 0.8506\n",
      "Epoch 24/300\n",
      "2966/2966 [==============================] - 2s 626us/sample - loss: 0.4222 - accuracy: 0.8483 - val_loss: 0.4202 - val_accuracy: 0.8498\n",
      "Epoch 25/300\n",
      "2966/2966 [==============================] - 2s 560us/sample - loss: 0.4246 - accuracy: 0.8452 - val_loss: 0.4185 - val_accuracy: 0.8506\n",
      "Epoch 26/300\n",
      "2966/2966 [==============================] - 2s 589us/sample - loss: 0.4232 - accuracy: 0.8483 - val_loss: 0.4205 - val_accuracy: 0.8506\n",
      "Epoch 27/300\n",
      "2966/2966 [==============================] - 2s 543us/sample - loss: 0.4210 - accuracy: 0.8486 - val_loss: 0.4249 - val_accuracy: 0.8522\n",
      "Epoch 28/300\n",
      "2966/2966 [==============================] - 2s 585us/sample - loss: 0.4241 - accuracy: 0.8459 - val_loss: 0.4147 - val_accuracy: 0.8506\n",
      "Epoch 29/300\n",
      "2966/2966 [==============================] - 2s 723us/sample - loss: 0.4212 - accuracy: 0.8496 - val_loss: 0.4195 - val_accuracy: 0.8498\n",
      "Epoch 30/300\n",
      "2966/2966 [==============================] - 2s 566us/sample - loss: 0.4238 - accuracy: 0.8486 - val_loss: 0.4136 - val_accuracy: 0.8522\n",
      "Epoch 31/300\n",
      "2966/2966 [==============================] - 2s 562us/sample - loss: 0.4243 - accuracy: 0.8473 - val_loss: 0.4096 - val_accuracy: 0.8522\n",
      "Epoch 32/300\n",
      "2966/2966 [==============================] - 2s 528us/sample - loss: 0.4246 - accuracy: 0.8466 - val_loss: 0.4162 - val_accuracy: 0.8514\n",
      "Epoch 33/300\n",
      "2966/2966 [==============================] - 2s 576us/sample - loss: 0.4253 - accuracy: 0.8473 - val_loss: 0.4143 - val_accuracy: 0.8522\n",
      "Epoch 34/300\n",
      "2966/2966 [==============================] - 2s 531us/sample - loss: 0.4221 - accuracy: 0.8476 - val_loss: 0.4132 - val_accuracy: 0.8522\n",
      "Epoch 35/300\n",
      "2966/2966 [==============================] - 2s 568us/sample - loss: 0.4250 - accuracy: 0.8473 - val_loss: 0.4147 - val_accuracy: 0.8506\n",
      "Epoch 36/300\n",
      "2966/2966 [==============================] - 2s 590us/sample - loss: 0.4279 - accuracy: 0.8466 - val_loss: 0.4116 - val_accuracy: 0.8522\n",
      "Epoch 37/300\n",
      "2966/2966 [==============================] - 2s 594us/sample - loss: 0.4159 - accuracy: 0.8479 - val_loss: 0.4184 - val_accuracy: 0.8514\n",
      "Epoch 38/300\n",
      "2966/2966 [==============================] - 2s 701us/sample - loss: 0.4250 - accuracy: 0.8456 - val_loss: 0.4206 - val_accuracy: 0.8506\n",
      "Epoch 39/300\n",
      "2966/2966 [==============================] - 2s 581us/sample - loss: 0.4208 - accuracy: 0.8473 - val_loss: 0.4106 - val_accuracy: 0.8506\n",
      "Epoch 40/300\n",
      "2966/2966 [==============================] - 2s 581us/sample - loss: 0.4211 - accuracy: 0.8469 - val_loss: 0.4091 - val_accuracy: 0.8506\n",
      "Epoch 41/300\n",
      "2966/2966 [==============================] - 2s 635us/sample - loss: 0.4159 - accuracy: 0.8483 - val_loss: 0.4052 - val_accuracy: 0.8506\n",
      "Epoch 42/300\n",
      "2966/2966 [==============================] - 2s 559us/sample - loss: 0.4183 - accuracy: 0.8463 - val_loss: 0.4068 - val_accuracy: 0.8506\n",
      "Epoch 43/300\n",
      "2966/2966 [==============================] - 2s 583us/sample - loss: 0.4192 - accuracy: 0.8483 - val_loss: 0.4083 - val_accuracy: 0.8506\n",
      "Epoch 44/300\n",
      "2966/2966 [==============================] - 2s 536us/sample - loss: 0.4198 - accuracy: 0.8473 - val_loss: 0.4085 - val_accuracy: 0.8506\n",
      "Epoch 45/300\n",
      "2966/2966 [==============================] - 2s 620us/sample - loss: 0.4148 - accuracy: 0.8496 - val_loss: 0.4130 - val_accuracy: 0.8522\n",
      "Epoch 46/300\n",
      "2966/2966 [==============================] - 2s 551us/sample - loss: 0.4145 - accuracy: 0.8486 - val_loss: 0.4028 - val_accuracy: 0.8514\n",
      "Epoch 47/300\n",
      "2966/2966 [==============================] - 2s 671us/sample - loss: 0.4178 - accuracy: 0.8469 - val_loss: 0.4099 - val_accuracy: 0.8498\n",
      "Epoch 48/300\n",
      "2966/2966 [==============================] - 2s 616us/sample - loss: 0.4158 - accuracy: 0.8479 - val_loss: 0.4162 - val_accuracy: 0.8506\n",
      "Epoch 49/300\n",
      "2966/2966 [==============================] - 2s 577us/sample - loss: 0.4178 - accuracy: 0.8483 - val_loss: 0.4138 - val_accuracy: 0.8506\n",
      "Epoch 50/300\n",
      "2966/2966 [==============================] - 2s 645us/sample - loss: 0.4201 - accuracy: 0.8493 - val_loss: 0.4073 - val_accuracy: 0.8522\n",
      "Epoch 51/300\n",
      "2966/2966 [==============================] - 2s 629us/sample - loss: 0.4112 - accuracy: 0.8476 - val_loss: 0.4093 - val_accuracy: 0.8506\n",
      "Epoch 52/300\n",
      "2966/2966 [==============================] - 2s 547us/sample - loss: 0.4114 - accuracy: 0.8469 - val_loss: 0.3976 - val_accuracy: 0.8522\n",
      "Epoch 53/300\n",
      "2966/2966 [==============================] - 2s 548us/sample - loss: 0.4113 - accuracy: 0.8483 - val_loss: 0.4036 - val_accuracy: 0.8506\n",
      "Epoch 54/300\n",
      "2966/2966 [==============================] - 2s 531us/sample - loss: 0.4097 - accuracy: 0.8479 - val_loss: 0.4154 - val_accuracy: 0.8522\n",
      "Epoch 55/300\n"
     ]
    },
    {
     "name": "stdout",
     "output_type": "stream",
     "text": [
      "2966/2966 [==============================] - 2s 542us/sample - loss: 0.4093 - accuracy: 0.8486 - val_loss: 0.4020 - val_accuracy: 0.8506\n",
      "Epoch 56/300\n",
      "2966/2966 [==============================] - 2s 764us/sample - loss: 0.4104 - accuracy: 0.8479 - val_loss: 0.4210 - val_accuracy: 0.8506\n",
      "Epoch 57/300\n",
      "2966/2966 [==============================] - 2s 654us/sample - loss: 0.4129 - accuracy: 0.8483 - val_loss: 0.4060 - val_accuracy: 0.8506\n",
      "Epoch 58/300\n",
      "2966/2966 [==============================] - 2s 643us/sample - loss: 0.4092 - accuracy: 0.8490 - val_loss: 0.4001 - val_accuracy: 0.8506\n",
      "Epoch 59/300\n",
      "2966/2966 [==============================] - 2s 606us/sample - loss: 0.4106 - accuracy: 0.8483 - val_loss: 0.3945 - val_accuracy: 0.8498\n",
      "Epoch 60/300\n",
      "2966/2966 [==============================] - 2s 594us/sample - loss: 0.4089 - accuracy: 0.8476 - val_loss: 0.4168 - val_accuracy: 0.8522\n",
      "Epoch 61/300\n",
      "2966/2966 [==============================] - 2s 528us/sample - loss: 0.4119 - accuracy: 0.8479 - val_loss: 0.3958 - val_accuracy: 0.8506\n",
      "Epoch 62/300\n",
      "2966/2966 [==============================] - 2s 627us/sample - loss: 0.4084 - accuracy: 0.8493 - val_loss: 0.4167 - val_accuracy: 0.8506\n",
      "Epoch 63/300\n",
      "2966/2966 [==============================] - 2s 580us/sample - loss: 0.4118 - accuracy: 0.8483 - val_loss: 0.4024 - val_accuracy: 0.8522\n",
      "Epoch 64/300\n",
      "2966/2966 [==============================] - 2s 551us/sample - loss: 0.4102 - accuracy: 0.8469 - val_loss: 0.4016 - val_accuracy: 0.8498\n",
      "Epoch 65/300\n",
      "2966/2966 [==============================] - 3s 871us/sample - loss: 0.4079 - accuracy: 0.8463 - val_loss: 0.4096 - val_accuracy: 0.8506\n",
      "Epoch 66/300\n",
      "2966/2966 [==============================] - 2s 826us/sample - loss: 0.4089 - accuracy: 0.8476 - val_loss: 0.4040 - val_accuracy: 0.8506\n",
      "Epoch 67/300\n",
      "2966/2966 [==============================] - 2s 711us/sample - loss: 0.4098 - accuracy: 0.8486 - val_loss: 0.4022 - val_accuracy: 0.8522\n",
      "Epoch 68/300\n",
      "2966/2966 [==============================] - 2s 688us/sample - loss: 0.4054 - accuracy: 0.8490 - val_loss: 0.3942 - val_accuracy: 0.8506\n",
      "Epoch 69/300\n",
      "2966/2966 [==============================] - 2s 757us/sample - loss: 0.4080 - accuracy: 0.8490 - val_loss: 0.4076 - val_accuracy: 0.8506\n",
      "Epoch 70/300\n",
      "2966/2966 [==============================] - 2s 657us/sample - loss: 0.4046 - accuracy: 0.8476 - val_loss: 0.4046 - val_accuracy: 0.8506\n",
      "Epoch 71/300\n",
      "2966/2966 [==============================] - 2s 705us/sample - loss: 0.4028 - accuracy: 0.8490 - val_loss: 0.3967 - val_accuracy: 0.8522\n",
      "Epoch 72/300\n",
      "2966/2966 [==============================] - 3s 862us/sample - loss: 0.4088 - accuracy: 0.8476 - val_loss: 0.3987 - val_accuracy: 0.8498\n",
      "Epoch 73/300\n",
      "2966/2966 [==============================] - 2s 711us/sample - loss: 0.4066 - accuracy: 0.8486 - val_loss: 0.3968 - val_accuracy: 0.8498\n",
      "Epoch 74/300\n",
      "2966/2966 [==============================] - 2s 707us/sample - loss: 0.4083 - accuracy: 0.8473 - val_loss: 0.3951 - val_accuracy: 0.8506\n",
      "Epoch 75/300\n",
      "2966/2966 [==============================] - 2s 721us/sample - loss: 0.4083 - accuracy: 0.8500 - val_loss: 0.3958 - val_accuracy: 0.8522\n",
      "Epoch 76/300\n",
      "2966/2966 [==============================] - 2s 748us/sample - loss: 0.4084 - accuracy: 0.8476 - val_loss: 0.3994 - val_accuracy: 0.8506\n",
      "Epoch 77/300\n",
      "2966/2966 [==============================] - 2s 714us/sample - loss: 0.4019 - accuracy: 0.8500 - val_loss: 0.4086 - val_accuracy: 0.8506\n",
      "Epoch 78/300\n",
      "2966/2966 [==============================] - 2s 722us/sample - loss: 0.4050 - accuracy: 0.8493 - val_loss: 0.3944 - val_accuracy: 0.8506\n",
      "Epoch 79/300\n",
      "2966/2966 [==============================] - 2s 771us/sample - loss: 0.4070 - accuracy: 0.8476 - val_loss: 0.3904 - val_accuracy: 0.8498\n",
      "Epoch 80/300\n",
      "2966/2966 [==============================] - 2s 840us/sample - loss: 0.4137 - accuracy: 0.8496 - val_loss: 0.4023 - val_accuracy: 0.8514\n",
      "Epoch 81/300\n",
      "2966/2966 [==============================] - 2s 692us/sample - loss: 0.4082 - accuracy: 0.8479 - val_loss: 0.4010 - val_accuracy: 0.8498\n",
      "Epoch 82/300\n",
      "2966/2966 [==============================] - 2s 675us/sample - loss: 0.4082 - accuracy: 0.8496 - val_loss: 0.3952 - val_accuracy: 0.8506\n",
      "Epoch 83/300\n",
      "2966/2966 [==============================] - 2s 634us/sample - loss: 0.4094 - accuracy: 0.8469 - val_loss: 0.3948 - val_accuracy: 0.8506\n",
      "Epoch 84/300\n",
      "2966/2966 [==============================] - 2s 719us/sample - loss: 0.4091 - accuracy: 0.8466 - val_loss: 0.3988 - val_accuracy: 0.8506\n",
      "Epoch 85/300\n",
      "2966/2966 [==============================] - 2s 709us/sample - loss: 0.4036 - accuracy: 0.8476 - val_loss: 0.3952 - val_accuracy: 0.8522\n",
      "Epoch 86/300\n",
      "2966/2966 [==============================] - 2s 728us/sample - loss: 0.4062 - accuracy: 0.8486 - val_loss: 0.3933 - val_accuracy: 0.8514\n",
      "Epoch 87/300\n",
      "2966/2966 [==============================] - 2s 817us/sample - loss: 0.4066 - accuracy: 0.8476 - val_loss: 0.3975 - val_accuracy: 0.8506\n",
      "Epoch 88/300\n",
      "2966/2966 [==============================] - 2s 682us/sample - loss: 0.4050 - accuracy: 0.8490 - val_loss: 0.3994 - val_accuracy: 0.8514\n",
      "Epoch 89/300\n",
      "2966/2966 [==============================] - 2s 676us/sample - loss: 0.4065 - accuracy: 0.8466 - val_loss: 0.3981 - val_accuracy: 0.8506\n",
      "Epoch 90/300\n",
      "2966/2966 [==============================] - 2s 746us/sample - loss: 0.4014 - accuracy: 0.8473 - val_loss: 0.3979 - val_accuracy: 0.8506\n",
      "Epoch 91/300\n",
      "2966/2966 [==============================] - 2s 680us/sample - loss: 0.4037 - accuracy: 0.8490 - val_loss: 0.4197 - val_accuracy: 0.8506\n",
      "Epoch 92/300\n",
      "2966/2966 [==============================] - 2s 703us/sample - loss: 0.4064 - accuracy: 0.8483 - val_loss: 0.3975 - val_accuracy: 0.8522\n",
      "Epoch 93/300\n",
      "2966/2966 [==============================] - 2s 695us/sample - loss: 0.4067 - accuracy: 0.8469 - val_loss: 0.3924 - val_accuracy: 0.8506\n",
      "Epoch 94/300\n",
      "2966/2966 [==============================] - 2s 820us/sample - loss: 0.4049 - accuracy: 0.8496 - val_loss: 0.3944 - val_accuracy: 0.8514\n",
      "Epoch 95/300\n",
      "2966/2966 [==============================] - 2s 796us/sample - loss: 0.4075 - accuracy: 0.8466 - val_loss: 0.4059 - val_accuracy: 0.8506\n",
      "Epoch 96/300\n",
      "2966/2966 [==============================] - 2s 663us/sample - loss: 0.4028 - accuracy: 0.8483 - val_loss: 0.3940 - val_accuracy: 0.8506\n",
      "Epoch 97/300\n",
      "2966/2966 [==============================] - 2s 673us/sample - loss: 0.4037 - accuracy: 0.8479 - val_loss: 0.3977 - val_accuracy: 0.8498\n",
      "Epoch 98/300\n",
      "2966/2966 [==============================] - 2s 661us/sample - loss: 0.4034 - accuracy: 0.8490 - val_loss: 0.3993 - val_accuracy: 0.8506\n",
      "Epoch 99/300\n",
      "2966/2966 [==============================] - 2s 712us/sample - loss: 0.4024 - accuracy: 0.8500 - val_loss: 0.4023 - val_accuracy: 0.8506\n",
      "Epoch 100/300\n",
      "2966/2966 [==============================] - 2s 655us/sample - loss: 0.4043 - accuracy: 0.8500 - val_loss: 0.4043 - val_accuracy: 0.8514\n",
      "Epoch 101/300\n",
      "2966/2966 [==============================] - 2s 674us/sample - loss: 0.4037 - accuracy: 0.8486 - val_loss: 0.4070 - val_accuracy: 0.8506\n",
      "Epoch 102/300\n",
      "2966/2966 [==============================] - 2s 823us/sample - loss: 0.3994 - accuracy: 0.8479 - val_loss: 0.3950 - val_accuracy: 0.8506\n",
      "Epoch 103/300\n",
      "2966/2966 [==============================] - 2s 670us/sample - loss: 0.4054 - accuracy: 0.8490 - val_loss: 0.4016 - val_accuracy: 0.8506\n",
      "Epoch 104/300\n",
      "2966/2966 [==============================] - 2s 689us/sample - loss: 0.4075 - accuracy: 0.8473 - val_loss: 0.4013 - val_accuracy: 0.8506\n",
      "Epoch 105/300\n",
      "2966/2966 [==============================] - 2s 644us/sample - loss: 0.4019 - accuracy: 0.8496 - val_loss: 0.3935 - val_accuracy: 0.8506\n",
      "Epoch 106/300\n",
      "2966/2966 [==============================] - 2s 668us/sample - loss: 0.4032 - accuracy: 0.8486 - val_loss: 0.3960 - val_accuracy: 0.8522\n",
      "Epoch 107/300\n",
      "2966/2966 [==============================] - 2s 667us/sample - loss: 0.4016 - accuracy: 0.8500 - val_loss: 0.3960 - val_accuracy: 0.8514\n",
      "Epoch 108/300\n",
      "2966/2966 [==============================] - 2s 636us/sample - loss: 0.4031 - accuracy: 0.8493 - val_loss: 0.3933 - val_accuracy: 0.8506\n",
      "Epoch 109/300\n"
     ]
    },
    {
     "name": "stdout",
     "output_type": "stream",
     "text": [
      "2966/2966 [==============================] - 2s 734us/sample - loss: 0.4069 - accuracy: 0.8476 - val_loss: 0.3988 - val_accuracy: 0.8522\n"
     ]
    },
    {
     "data": {
      "text/plain": [
       "<tensorflow.python.keras.callbacks.History at 0x7f8b051b2dd0>"
      ]
     },
     "execution_count": 74,
     "metadata": {},
     "output_type": "execute_result"
    }
   ],
   "source": [
    "model.fit(X_train,y_train, epochs = 300, validation_data = (X_test, y_test), callbacks = [stop])"
   ]
  },
  {
   "cell_type": "code",
   "execution_count": 75,
   "id": "6ada2d89",
   "metadata": {},
   "outputs": [
    {
     "data": {
      "text/plain": [
       "<AxesSubplot:>"
      ]
     },
     "execution_count": 75,
     "metadata": {},
     "output_type": "execute_result"
    },
    {
     "data": {
      "image/png": "[encoded data removed]",
      "text/plain": [
       "<Figure size 640x480 with 1 Axes>"
      ]
     },
     "metadata": {},
     "output_type": "display_data"
    }
   ],
   "source": [
    "pd.DataFrame(model.history.history)[[\"loss\", \"val_loss\"]].plot()"
   ]
  },
  {
   "cell_type": "code",
   "execution_count": 77,
   "id": "77f91626",
   "metadata": {},
   "outputs": [
    {
     "data": {
      "text/plain": [
       "<AxesSubplot:>"
      ]
     },
     "execution_count": 77,
     "metadata": {},
     "output_type": "execute_result"
    },
    {
     "data": {
      "image/png": "[encoded data removed]",
      "text/plain": [
       "<Figure size 640x480 with 1 Axes>"
      ]
     },
     "metadata": {},
     "output_type": "display_data"
    }
   ],
   "source": [
    "pd.DataFrame(model.history.history)[[\"accuracy\", \"val_accuracy\"]].plot()"
   ]
  },
  {
   "cell_type": "code",
   "execution_count": 78,
   "id": "71efb2ca",
   "metadata": {},
   "outputs": [],
   "source": [
    "predictions = model.predict_classes(X_test)"
   ]
  },
  {
   "cell_type": "code",
   "execution_count": 79,
   "id": "dfebcc0f",
   "metadata": {},
   "outputs": [
    {
     "data": {
      "text/plain": [
       "array([[0],\n",
       "       [0],\n",
       "       [0],\n",
       "       ...,\n",
       "       [0],\n",
       "       [0],\n",
       "       [0]], dtype=int32)"
      ]
     },
     "execution_count": 79,
     "metadata": {},
     "output_type": "execute_result"
    }
   ],
   "source": [
    "predictions"
   ]
  },
  {
   "cell_type": "code",
   "execution_count": 80,
   "id": "d5df140b",
   "metadata": {},
   "outputs": [],
   "source": [
    "from sklearn.metrics import classification_report, confusion_matrix, explained_variance_score"
   ]
  },
  {
   "cell_type": "markdown",
   "id": "1da8064e",
   "metadata": {},
   "source": [
    "## Poor predictions on 1(heart disease)\n",
    "- this is certainly reladted to an unbalanced Data set\n",
    "- We may need to sample out and create a balanced data set\n",
    "- below we will use an autoencoder to try to improve this"
   ]
  },
  {
   "cell_type": "code",
   "execution_count": 81,
   "id": "bd3f5863",
   "metadata": {},
   "outputs": [
    {
     "name": "stdout",
     "output_type": "stream",
     "text": [
      "              precision    recall  f1-score   support\n",
      "\n",
      "           0       1.00      0.85      0.92      1266\n",
      "           1       0.02      0.50      0.03         6\n",
      "\n",
      "    accuracy                           0.85      1272\n",
      "   macro avg       0.51      0.68      0.48      1272\n",
      "weighted avg       0.99      0.85      0.92      1272\n",
      "\n"
     ]
    }
   ],
   "source": [
    "print(classification_report(predictions, y_test))"
   ]
  },
  {
   "cell_type": "code",
   "execution_count": 121,
   "id": "e713c7c5",
   "metadata": {},
   "outputs": [],
   "source": [
    "encoder = Sequential()\n",
    "encoder.add(Dense(units=6, activation=\"relu\", input_shape = [12]))\n"
   ]
  },
  {
   "cell_type": "code",
   "execution_count": 122,
   "id": "ede9341b",
   "metadata": {},
   "outputs": [],
   "source": [
    "decoder = Sequential()\n",
    "decoder.add(Dense(units=12, activation=\"relu\", input_shape = [6]))"
   ]
  },
  {
   "cell_type": "code",
   "execution_count": 123,
   "id": "7f5377b5",
   "metadata": {},
   "outputs": [],
   "source": [
    "autoEncoder = Sequential([encoder, decoder])"
   ]
  },
  {
   "cell_type": "code",
   "execution_count": 124,
   "id": "6f0971f6",
   "metadata": {},
   "outputs": [],
   "source": [
    "autoEncoder.compile(loss = BinaryCrossentropy(), optimiser = Adam())"
   ]
  },
  {
   "cell_type": "code",
   "execution_count": 125,
   "id": "c81713f6",
   "metadata": {},
   "outputs": [
    {
     "data": {
      "text/plain": [
       "(4238, 12)"
      ]
     },
     "execution_count": 125,
     "metadata": {},
     "output_type": "execute_result"
    }
   ],
   "source": [
    "X.shape"
   ]
  },
  {
   "cell_type": "code",
   "execution_count": 126,
   "id": "bc41471a",
   "metadata": {},
   "outputs": [
    {
     "name": "stdout",
     "output_type": "stream",
     "text": [
      "Train on 4238 samples\n",
      "Epoch 1/10\n",
      "4238/4238 [==============================] - 1s 137us/sample - loss: 30.8794\n",
      "Epoch 2/10\n",
      "4238/4238 [==============================] - 0s 36us/sample - loss: -10.7307\n",
      "Epoch 3/10\n",
      "4238/4238 [==============================] - 0s 36us/sample - loss: -14.4968\n",
      "Epoch 4/10\n",
      "4238/4238 [==============================] - 0s 40us/sample - loss: -14.7378\n",
      "Epoch 5/10\n",
      "4238/4238 [==============================] - 0s 39us/sample - loss: -14.8542\n",
      "Epoch 6/10\n",
      "4238/4238 [==============================] - 0s 40us/sample - loss: -14.7597\n",
      "Epoch 7/10\n",
      "4238/4238 [==============================] - 0s 40us/sample - loss: -14.7960\n",
      "Epoch 8/10\n",
      "4238/4238 [==============================] - 0s 41us/sample - loss: -14.9025\n",
      "Epoch 9/10\n",
      "4238/4238 [==============================] - 0s 39us/sample - loss: -14.9663\n",
      "Epoch 10/10\n",
      "4238/4238 [==============================] - 0s 42us/sample - loss: -14.9334\n"
     ]
    },
    {
     "data": {
      "text/plain": [
       "<tensorflow.python.keras.callbacks.History at 0x7f8ad6f75590>"
      ]
     },
     "execution_count": 126,
     "metadata": {},
     "output_type": "execute_result"
    }
   ],
   "source": [
    "autoEncoder.fit(X,X, epochs =10)"
   ]
  },
  {
   "cell_type": "code",
   "execution_count": 127,
   "id": "2effcef0",
   "metadata": {},
   "outputs": [
    {
     "data": {
      "text/plain": [
       "<AxesSubplot:>"
      ]
     },
     "execution_count": 127,
     "metadata": {},
     "output_type": "execute_result"
    },
    {
     "data": {
      "image/png": "[encoded data removed]",
      "text/plain": [
       "<Figure size 640x480 with 1 Axes>"
      ]
     },
     "metadata": {},
     "output_type": "display_data"
    }
   ],
   "source": [
    "pd.DataFrame(autoEncoder.history.history).plot()"
   ]
  },
  {
   "cell_type": "code",
   "execution_count": 128,
   "id": "2d84706e",
   "metadata": {},
   "outputs": [],
   "source": [
    "encoderPredicitons = encoder.predict(X)"
   ]
  },
  {
   "cell_type": "code",
   "execution_count": 130,
   "id": "e4a7a884",
   "metadata": {},
   "outputs": [
    {
     "data": {
      "text/plain": [
       "(4238, 6)"
      ]
     },
     "execution_count": 130,
     "metadata": {},
     "output_type": "execute_result"
    }
   ],
   "source": [
    "encoderPredicitons.shape"
   ]
  },
  {
   "cell_type": "code",
   "execution_count": 135,
   "id": "87565716",
   "metadata": {},
   "outputs": [],
   "source": [
    "ecoDF = pd.DataFrame(encoderPredicitons)[[1,5]]"
   ]
  },
  {
   "cell_type": "code",
   "execution_count": 167,
   "id": "5bd86cf6",
   "metadata": {},
   "outputs": [],
   "source": [
    "ecoDF[\"target\"] = df[\"Heart_ stroke\"]"
   ]
  },
  {
   "cell_type": "code",
   "execution_count": 168,
   "id": "c24a7f6a",
   "metadata": {},
   "outputs": [
    {
     "data": {
      "text/html": [
       "<div>\n",
       "<style scoped>\n",
       "    .dataframe tbody tr th:only-of-type {\n",
       "        vertical-align: middle;\n",
       "    }\n",
       "\n",
       "    .dataframe tbody tr th {\n",
       "        vertical-align: top;\n",
       "    }\n",
       "\n",
       "    .dataframe thead th {\n",
       "        text-align: right;\n",
       "    }\n",
       "</style>\n",
       "<table border=\"1\" class=\"dataframe\">\n",
       "  <thead>\n",
       "    <tr style=\"text-align: right;\">\n",
       "      <th></th>\n",
       "      <th>1</th>\n",
       "      <th>5</th>\n",
       "      <th>target</th>\n",
       "    </tr>\n",
       "  </thead>\n",
       "  <tbody>\n",
       "    <tr>\n",
       "      <th>0</th>\n",
       "      <td>33.858246</td>\n",
       "      <td>18.587290</td>\n",
       "      <td>0</td>\n",
       "    </tr>\n",
       "    <tr>\n",
       "      <th>1</th>\n",
       "      <td>34.048580</td>\n",
       "      <td>20.003056</td>\n",
       "      <td>0</td>\n",
       "    </tr>\n",
       "    <tr>\n",
       "      <th>2</th>\n",
       "      <td>29.986753</td>\n",
       "      <td>20.039352</td>\n",
       "      <td>0</td>\n",
       "    </tr>\n",
       "    <tr>\n",
       "      <th>3</th>\n",
       "      <td>49.321789</td>\n",
       "      <td>28.686628</td>\n",
       "      <td>1</td>\n",
       "    </tr>\n",
       "    <tr>\n",
       "      <th>4</th>\n",
       "      <td>36.747150</td>\n",
       "      <td>20.385021</td>\n",
       "      <td>0</td>\n",
       "    </tr>\n",
       "    <tr>\n",
       "      <th>...</th>\n",
       "      <td>...</td>\n",
       "      <td>...</td>\n",
       "      <td>...</td>\n",
       "    </tr>\n",
       "    <tr>\n",
       "      <th>4233</th>\n",
       "      <td>25.458544</td>\n",
       "      <td>15.701841</td>\n",
       "      <td>1</td>\n",
       "    </tr>\n",
       "    <tr>\n",
       "      <th>4234</th>\n",
       "      <td>31.728964</td>\n",
       "      <td>21.585451</td>\n",
       "      <td>0</td>\n",
       "    </tr>\n",
       "    <tr>\n",
       "      <th>4235</th>\n",
       "      <td>39.040302</td>\n",
       "      <td>20.163141</td>\n",
       "      <td>0</td>\n",
       "    </tr>\n",
       "    <tr>\n",
       "      <th>4236</th>\n",
       "      <td>32.575607</td>\n",
       "      <td>19.403822</td>\n",
       "      <td>0</td>\n",
       "    </tr>\n",
       "    <tr>\n",
       "      <th>4237</th>\n",
       "      <td>50.359970</td>\n",
       "      <td>25.106756</td>\n",
       "      <td>0</td>\n",
       "    </tr>\n",
       "  </tbody>\n",
       "</table>\n",
       "<p>4238 rows × 3 columns</p>\n",
       "</div>"
      ],
      "text/plain": [
       "              1          5  target\n",
       "0     33.858246  18.587290       0\n",
       "1     34.048580  20.003056       0\n",
       "2     29.986753  20.039352       0\n",
       "3     49.321789  28.686628       1\n",
       "4     36.747150  20.385021       0\n",
       "...         ...        ...     ...\n",
       "4233  25.458544  15.701841       1\n",
       "4234  31.728964  21.585451       0\n",
       "4235  39.040302  20.163141       0\n",
       "4236  32.575607  19.403822       0\n",
       "4237  50.359970  25.106756       0\n",
       "\n",
       "[4238 rows x 3 columns]"
      ]
     },
     "execution_count": 168,
     "metadata": {},
     "output_type": "execute_result"
    }
   ],
   "source": [
    "ecoDF"
   ]
  },
  {
   "cell_type": "code",
   "execution_count": 169,
   "id": "8279a958",
   "metadata": {},
   "outputs": [],
   "source": [
    "X = ecoDF.drop(\"target\", axis=1).values\n",
    "y = ecoDF[\"target\"].values"
   ]
  },
  {
   "cell_type": "code",
   "execution_count": 171,
   "id": "0b1a3411",
   "metadata": {},
   "outputs": [],
   "source": [
    "X_train, X_test, y_train, y_test = train_test_split(X, y, test_size=0.30, random_state=42)"
   ]
  },
  {
   "cell_type": "code",
   "execution_count": 172,
   "id": "53e3ec02",
   "metadata": {},
   "outputs": [],
   "source": [
    "from sklearn.preprocessing import MinMaxScaler"
   ]
  },
  {
   "cell_type": "code",
   "execution_count": 173,
   "id": "fe2350f0",
   "metadata": {},
   "outputs": [],
   "source": [
    "scalar = MinMaxScaler()"
   ]
  },
  {
   "cell_type": "code",
   "execution_count": 174,
   "id": "72a477dc",
   "metadata": {},
   "outputs": [],
   "source": [
    "X_train = scalar.fit_transform(X_train)"
   ]
  },
  {
   "cell_type": "code",
   "execution_count": 175,
   "id": "4a4099a5",
   "metadata": {},
   "outputs": [],
   "source": [
    "X_test = scalar.transform(X_test)"
   ]
  },
  {
   "cell_type": "code",
   "execution_count": 178,
   "id": "df2afe6e",
   "metadata": {},
   "outputs": [],
   "source": [
    "model = Sequential()\n",
    "model.add(Dense(units=200, activation=\"relu\"))\n",
    "model.add(Dropout(0.2))\n",
    "model.add(Dense(units=160, activation=\"relu\"))\n",
    "model.add(Dropout(0.5))\n",
    "model.add(Dense(units=130, activation=\"relu\"))\n",
    "model.add(Dropout(0.2))\n",
    "model.add(Dense(units=130, activation=\"relu\"))\n",
    "model.add(Dropout(0.5))\n",
    "model.add(Dense(units=120, activation=\"relu\"))\n",
    "model.add(Dense(units=120, activation=\"relu\"))\n",
    "model.add(Dense(units=1, activation=\"sigmoid\"))\n",
    "\n",
    "model.compile(loss = BinaryCrossentropy(), optimizer = Adam(), metrics = [\"accuracy\"])"
   ]
  },
  {
   "cell_type": "code",
   "execution_count": 179,
   "id": "bddea365",
   "metadata": {},
   "outputs": [],
   "source": [
    "from tensorflow.keras.callbacks import EarlyStopping"
   ]
  },
  {
   "cell_type": "code",
   "execution_count": 180,
   "id": "55d667f7",
   "metadata": {},
   "outputs": [],
   "source": [
    "stop = EarlyStopping(patience=30)"
   ]
  },
  {
   "cell_type": "code",
   "execution_count": 181,
   "id": "a6c78f8f",
   "metadata": {},
   "outputs": [
    {
     "name": "stdout",
     "output_type": "stream",
     "text": [
      "Train on 2966 samples, validate on 1272 samples\n",
      "Epoch 1/300\n",
      "2966/2966 [==============================] - 3s 1ms/sample - loss: 0.4772 - accuracy: 0.8385 - val_loss: 0.4410 - val_accuracy: 0.8522\n",
      "Epoch 2/300\n",
      "2966/2966 [==============================] - 2s 628us/sample - loss: 0.4361 - accuracy: 0.8463 - val_loss: 0.4165 - val_accuracy: 0.8522\n",
      "Epoch 3/300\n",
      "2966/2966 [==============================] - 2s 670us/sample - loss: 0.4295 - accuracy: 0.8463 - val_loss: 0.4096 - val_accuracy: 0.8522\n",
      "Epoch 4/300\n",
      "2966/2966 [==============================] - 2s 581us/sample - loss: 0.4230 - accuracy: 0.8463 - val_loss: 0.4152 - val_accuracy: 0.8522\n",
      "Epoch 5/300\n",
      "2966/2966 [==============================] - 2s 555us/sample - loss: 0.4285 - accuracy: 0.8463 - val_loss: 0.4085 - val_accuracy: 0.8522\n",
      "Epoch 6/300\n",
      "2966/2966 [==============================] - 2s 564us/sample - loss: 0.4215 - accuracy: 0.8463 - val_loss: 0.4144 - val_accuracy: 0.8522\n",
      "Epoch 7/300\n",
      "2966/2966 [==============================] - 2s 616us/sample - loss: 0.4222 - accuracy: 0.8463 - val_loss: 0.4079 - val_accuracy: 0.8522\n",
      "Epoch 8/300\n",
      "2966/2966 [==============================] - 2s 551us/sample - loss: 0.4242 - accuracy: 0.8463 - val_loss: 0.4096 - val_accuracy: 0.8522\n",
      "Epoch 9/300\n",
      "2966/2966 [==============================] - 2s 656us/sample - loss: 0.4174 - accuracy: 0.8473 - val_loss: 0.4095 - val_accuracy: 0.8491\n",
      "Epoch 10/300\n",
      "2966/2966 [==============================] - 2s 606us/sample - loss: 0.4237 - accuracy: 0.8479 - val_loss: 0.4194 - val_accuracy: 0.8506\n",
      "Epoch 11/300\n",
      "2966/2966 [==============================] - 2s 595us/sample - loss: 0.4161 - accuracy: 0.8476 - val_loss: 0.4092 - val_accuracy: 0.8506\n",
      "Epoch 12/300\n",
      "2966/2966 [==============================] - 2s 607us/sample - loss: 0.4179 - accuracy: 0.8479 - val_loss: 0.4066 - val_accuracy: 0.8522\n",
      "Epoch 13/300\n",
      "2966/2966 [==============================] - 2s 678us/sample - loss: 0.4113 - accuracy: 0.8490 - val_loss: 0.4095 - val_accuracy: 0.8522\n",
      "Epoch 14/300\n",
      "2966/2966 [==============================] - 2s 598us/sample - loss: 0.4155 - accuracy: 0.8490 - val_loss: 0.4099 - val_accuracy: 0.8514\n",
      "Epoch 15/300\n",
      "2966/2966 [==============================] - 2s 608us/sample - loss: 0.4145 - accuracy: 0.8490 - val_loss: 0.4085 - val_accuracy: 0.8491\n",
      "Epoch 16/300\n",
      "2966/2966 [==============================] - 2s 549us/sample - loss: 0.4149 - accuracy: 0.8486 - val_loss: 0.4087 - val_accuracy: 0.8514\n",
      "Epoch 17/300\n",
      "2966/2966 [==============================] - 2s 552us/sample - loss: 0.4124 - accuracy: 0.8486 - val_loss: 0.4111 - val_accuracy: 0.8506\n",
      "Epoch 18/300\n",
      "2966/2966 [==============================] - 2s 738us/sample - loss: 0.4141 - accuracy: 0.8496 - val_loss: 0.4073 - val_accuracy: 0.8522\n",
      "Epoch 19/300\n",
      "2966/2966 [==============================] - 2s 559us/sample - loss: 0.4135 - accuracy: 0.8496 - val_loss: 0.4079 - val_accuracy: 0.8522\n",
      "Epoch 20/300\n",
      "2966/2966 [==============================] - 2s 553us/sample - loss: 0.4101 - accuracy: 0.8479 - val_loss: 0.4111 - val_accuracy: 0.8522\n",
      "Epoch 21/300\n",
      "2966/2966 [==============================] - 2s 563us/sample - loss: 0.4121 - accuracy: 0.8490 - val_loss: 0.4072 - val_accuracy: 0.8514\n",
      "Epoch 22/300\n",
      "2966/2966 [==============================] - 2s 592us/sample - loss: 0.4122 - accuracy: 0.8496 - val_loss: 0.4063 - val_accuracy: 0.8522\n",
      "Epoch 23/300\n",
      "2966/2966 [==============================] - 2s 549us/sample - loss: 0.4140 - accuracy: 0.8493 - val_loss: 0.4203 - val_accuracy: 0.8514\n",
      "Epoch 24/300\n",
      "2966/2966 [==============================] - 2s 540us/sample - loss: 0.4119 - accuracy: 0.8473 - val_loss: 0.4066 - val_accuracy: 0.8514\n",
      "Epoch 25/300\n",
      "2966/2966 [==============================] - 2s 628us/sample - loss: 0.4109 - accuracy: 0.8486 - val_loss: 0.4044 - val_accuracy: 0.8522\n",
      "Epoch 26/300\n",
      "2966/2966 [==============================] - 2s 670us/sample - loss: 0.4118 - accuracy: 0.8490 - val_loss: 0.4081 - val_accuracy: 0.8514\n",
      "Epoch 27/300\n",
      "2966/2966 [==============================] - 2s 718us/sample - loss: 0.4112 - accuracy: 0.8479 - val_loss: 0.4046 - val_accuracy: 0.8514\n",
      "Epoch 28/300\n",
      "2966/2966 [==============================] - 2s 628us/sample - loss: 0.4137 - accuracy: 0.8479 - val_loss: 0.4074 - val_accuracy: 0.8506\n",
      "Epoch 29/300\n",
      "2966/2966 [==============================] - 2s 578us/sample - loss: 0.4113 - accuracy: 0.8486 - val_loss: 0.4098 - val_accuracy: 0.8514\n",
      "Epoch 30/300\n",
      "2966/2966 [==============================] - 2s 541us/sample - loss: 0.4127 - accuracy: 0.8483 - val_loss: 0.4052 - val_accuracy: 0.8498\n",
      "Epoch 31/300\n",
      "2966/2966 [==============================] - 2s 575us/sample - loss: 0.4132 - accuracy: 0.8483 - val_loss: 0.4136 - val_accuracy: 0.8514\n",
      "Epoch 32/300\n",
      "2966/2966 [==============================] - 2s 604us/sample - loss: 0.4089 - accuracy: 0.8479 - val_loss: 0.4057 - val_accuracy: 0.8522\n",
      "Epoch 33/300\n",
      "2966/2966 [==============================] - 2s 554us/sample - loss: 0.4096 - accuracy: 0.8493 - val_loss: 0.4062 - val_accuracy: 0.8498\n",
      "Epoch 34/300\n",
      "2966/2966 [==============================] - 2s 573us/sample - loss: 0.4101 - accuracy: 0.8486 - val_loss: 0.4082 - val_accuracy: 0.8522\n",
      "Epoch 35/300\n",
      "2966/2966 [==============================] - 2s 601us/sample - loss: 0.4138 - accuracy: 0.8496 - val_loss: 0.4065 - val_accuracy: 0.8506\n",
      "Epoch 36/300\n",
      "2966/2966 [==============================] - 2s 833us/sample - loss: 0.4123 - accuracy: 0.8469 - val_loss: 0.4051 - val_accuracy: 0.8491\n",
      "Epoch 37/300\n",
      "2966/2966 [==============================] - 2s 579us/sample - loss: 0.4114 - accuracy: 0.8490 - val_loss: 0.4039 - val_accuracy: 0.8514\n",
      "Epoch 38/300\n",
      "2966/2966 [==============================] - 2s 562us/sample - loss: 0.4094 - accuracy: 0.8479 - val_loss: 0.4026 - val_accuracy: 0.8514\n",
      "Epoch 39/300\n",
      "2966/2966 [==============================] - 2s 530us/sample - loss: 0.4101 - accuracy: 0.8473 - val_loss: 0.4074 - val_accuracy: 0.8514\n",
      "Epoch 40/300\n",
      "2966/2966 [==============================] - 2s 560us/sample - loss: 0.4115 - accuracy: 0.8486 - val_loss: 0.4042 - val_accuracy: 0.8514\n",
      "Epoch 41/300\n",
      "2966/2966 [==============================] - 2s 559us/sample - loss: 0.4122 - accuracy: 0.8496 - val_loss: 0.4041 - val_accuracy: 0.8514\n",
      "Epoch 42/300\n",
      "2966/2966 [==============================] - 2s 529us/sample - loss: 0.4075 - accuracy: 0.8483 - val_loss: 0.4050 - val_accuracy: 0.8514\n",
      "Epoch 43/300\n",
      "2966/2966 [==============================] - 2s 579us/sample - loss: 0.4109 - accuracy: 0.8479 - val_loss: 0.4035 - val_accuracy: 0.8514\n",
      "Epoch 44/300\n",
      "2966/2966 [==============================] - 2s 580us/sample - loss: 0.4123 - accuracy: 0.8490 - val_loss: 0.4046 - val_accuracy: 0.8514\n",
      "Epoch 45/300\n",
      "2966/2966 [==============================] - 2s 593us/sample - loss: 0.4089 - accuracy: 0.8483 - val_loss: 0.4022 - val_accuracy: 0.8522\n",
      "Epoch 46/300\n",
      "2966/2966 [==============================] - 2s 684us/sample - loss: 0.4101 - accuracy: 0.8486 - val_loss: 0.4062 - val_accuracy: 0.8514\n",
      "Epoch 47/300\n",
      "2966/2966 [==============================] - 2s 591us/sample - loss: 0.4075 - accuracy: 0.8483 - val_loss: 0.4190 - val_accuracy: 0.8522\n",
      "Epoch 48/300\n",
      "2966/2966 [==============================] - 2s 641us/sample - loss: 0.4119 - accuracy: 0.8490 - val_loss: 0.4043 - val_accuracy: 0.8522\n",
      "Epoch 49/300\n",
      "2966/2966 [==============================] - 2s 576us/sample - loss: 0.4097 - accuracy: 0.8479 - val_loss: 0.4061 - val_accuracy: 0.8522\n",
      "Epoch 50/300\n",
      "2966/2966 [==============================] - 2s 564us/sample - loss: 0.4103 - accuracy: 0.8486 - val_loss: 0.4032 - val_accuracy: 0.8514\n",
      "Epoch 51/300\n",
      "2966/2966 [==============================] - 2s 545us/sample - loss: 0.4077 - accuracy: 0.8490 - val_loss: 0.4049 - val_accuracy: 0.8514\n",
      "Epoch 52/300\n",
      "2966/2966 [==============================] - 2s 607us/sample - loss: 0.4076 - accuracy: 0.8483 - val_loss: 0.4051 - val_accuracy: 0.8522\n",
      "Epoch 53/300\n",
      "2966/2966 [==============================] - 2s 643us/sample - loss: 0.4141 - accuracy: 0.8479 - val_loss: 0.4026 - val_accuracy: 0.8522\n",
      "Epoch 54/300\n",
      "2966/2966 [==============================] - 2s 709us/sample - loss: 0.4111 - accuracy: 0.8493 - val_loss: 0.4048 - val_accuracy: 0.8522\n",
      "Epoch 55/300\n"
     ]
    },
    {
     "name": "stdout",
     "output_type": "stream",
     "text": [
      "2966/2966 [==============================] - 2s 638us/sample - loss: 0.4107 - accuracy: 0.8493 - val_loss: 0.4041 - val_accuracy: 0.8514\n",
      "Epoch 56/300\n",
      "2966/2966 [==============================] - 2s 597us/sample - loss: 0.4071 - accuracy: 0.8486 - val_loss: 0.4025 - val_accuracy: 0.8522\n",
      "Epoch 57/300\n",
      "2966/2966 [==============================] - 2s 574us/sample - loss: 0.4126 - accuracy: 0.8469 - val_loss: 0.4033 - val_accuracy: 0.8514\n",
      "Epoch 58/300\n",
      "2966/2966 [==============================] - 2s 591us/sample - loss: 0.4104 - accuracy: 0.8483 - val_loss: 0.4021 - val_accuracy: 0.8514\n",
      "Epoch 59/300\n",
      "2966/2966 [==============================] - 2s 598us/sample - loss: 0.4076 - accuracy: 0.8490 - val_loss: 0.4049 - val_accuracy: 0.8522\n",
      "Epoch 60/300\n",
      "2966/2966 [==============================] - 2s 602us/sample - loss: 0.4108 - accuracy: 0.8490 - val_loss: 0.4039 - val_accuracy: 0.8522\n",
      "Epoch 61/300\n",
      "2966/2966 [==============================] - 2s 573us/sample - loss: 0.4097 - accuracy: 0.8496 - val_loss: 0.4072 - val_accuracy: 0.8506\n",
      "Epoch 62/300\n",
      "2966/2966 [==============================] - 2s 583us/sample - loss: 0.4136 - accuracy: 0.8486 - val_loss: 0.4035 - val_accuracy: 0.8522\n",
      "Epoch 63/300\n",
      "2966/2966 [==============================] - 2s 707us/sample - loss: 0.4107 - accuracy: 0.8486 - val_loss: 0.4087 - val_accuracy: 0.8522\n",
      "Epoch 64/300\n",
      "2966/2966 [==============================] - 2s 615us/sample - loss: 0.4089 - accuracy: 0.8476 - val_loss: 0.4033 - val_accuracy: 0.8514\n",
      "Epoch 65/300\n",
      "2966/2966 [==============================] - 2s 592us/sample - loss: 0.4122 - accuracy: 0.8493 - val_loss: 0.4039 - val_accuracy: 0.8522\n",
      "Epoch 66/300\n",
      "2966/2966 [==============================] - 2s 578us/sample - loss: 0.4069 - accuracy: 0.8496 - val_loss: 0.4081 - val_accuracy: 0.8514\n",
      "Epoch 67/300\n",
      "2966/2966 [==============================] - 2s 545us/sample - loss: 0.4083 - accuracy: 0.8486 - val_loss: 0.4033 - val_accuracy: 0.8514\n",
      "Epoch 68/300\n",
      "2966/2966 [==============================] - 2s 599us/sample - loss: 0.4057 - accuracy: 0.8493 - val_loss: 0.4037 - val_accuracy: 0.8522\n",
      "Epoch 69/300\n",
      "2966/2966 [==============================] - 2s 587us/sample - loss: 0.4095 - accuracy: 0.8483 - val_loss: 0.4038 - val_accuracy: 0.8514\n",
      "Epoch 70/300\n",
      "2966/2966 [==============================] - 2s 595us/sample - loss: 0.4091 - accuracy: 0.8493 - val_loss: 0.4056 - val_accuracy: 0.8522\n",
      "Epoch 71/300\n",
      "2966/2966 [==============================] - 2s 580us/sample - loss: 0.4103 - accuracy: 0.8486 - val_loss: 0.4069 - val_accuracy: 0.8514\n",
      "Epoch 72/300\n",
      "2966/2966 [==============================] - 2s 705us/sample - loss: 0.4053 - accuracy: 0.8490 - val_loss: 0.4140 - val_accuracy: 0.8514\n",
      "Epoch 73/300\n",
      "2966/2966 [==============================] - 2s 601us/sample - loss: 0.4108 - accuracy: 0.8500 - val_loss: 0.4087 - val_accuracy: 0.8522\n",
      "Epoch 74/300\n",
      "2966/2966 [==============================] - 2s 598us/sample - loss: 0.4100 - accuracy: 0.8496 - val_loss: 0.4077 - val_accuracy: 0.8522\n",
      "Epoch 75/300\n",
      "2966/2966 [==============================] - 2s 603us/sample - loss: 0.4079 - accuracy: 0.8490 - val_loss: 0.4123 - val_accuracy: 0.8514\n",
      "Epoch 76/300\n",
      "2966/2966 [==============================] - 2s 604us/sample - loss: 0.4135 - accuracy: 0.8490 - val_loss: 0.4036 - val_accuracy: 0.8514\n",
      "Epoch 77/300\n",
      "2966/2966 [==============================] - 2s 574us/sample - loss: 0.4075 - accuracy: 0.8506 - val_loss: 0.4052 - val_accuracy: 0.8522\n",
      "Epoch 78/300\n",
      "2966/2966 [==============================] - 2s 605us/sample - loss: 0.4106 - accuracy: 0.8483 - val_loss: 0.4081 - val_accuracy: 0.8506\n",
      "Epoch 79/300\n",
      "2966/2966 [==============================] - 2s 549us/sample - loss: 0.4078 - accuracy: 0.8483 - val_loss: 0.4030 - val_accuracy: 0.8514\n",
      "Epoch 80/300\n",
      "2966/2966 [==============================] - 2s 609us/sample - loss: 0.4089 - accuracy: 0.8490 - val_loss: 0.4053 - val_accuracy: 0.8514\n",
      "Epoch 81/300\n",
      "2966/2966 [==============================] - 2s 730us/sample - loss: 0.4090 - accuracy: 0.8493 - val_loss: 0.4046 - val_accuracy: 0.8514\n",
      "Epoch 82/300\n",
      "2966/2966 [==============================] - 2s 530us/sample - loss: 0.4087 - accuracy: 0.8490 - val_loss: 0.4092 - val_accuracy: 0.8522\n",
      "Epoch 83/300\n",
      "2966/2966 [==============================] - 2s 572us/sample - loss: 0.4104 - accuracy: 0.8490 - val_loss: 0.4055 - val_accuracy: 0.8514\n",
      "Epoch 84/300\n",
      "2966/2966 [==============================] - 2s 579us/sample - loss: 0.4073 - accuracy: 0.8500 - val_loss: 0.4079 - val_accuracy: 0.8514\n",
      "Epoch 85/300\n",
      "2966/2966 [==============================] - 2s 558us/sample - loss: 0.4078 - accuracy: 0.8490 - val_loss: 0.4039 - val_accuracy: 0.8522\n",
      "Epoch 86/300\n",
      "2966/2966 [==============================] - 2s 578us/sample - loss: 0.4087 - accuracy: 0.8490 - val_loss: 0.4045 - val_accuracy: 0.8506\n",
      "Epoch 87/300\n",
      "2966/2966 [==============================] - 2s 566us/sample - loss: 0.4099 - accuracy: 0.8483 - val_loss: 0.4069 - val_accuracy: 0.8522\n",
      "Epoch 88/300\n",
      "2966/2966 [==============================] - 2s 598us/sample - loss: 0.4087 - accuracy: 0.8490 - val_loss: 0.4024 - val_accuracy: 0.8514\n"
     ]
    },
    {
     "data": {
      "text/plain": [
       "<tensorflow.python.keras.callbacks.History at 0x7f8ad79fc710>"
      ]
     },
     "execution_count": 181,
     "metadata": {},
     "output_type": "execute_result"
    }
   ],
   "source": [
    "model.fit(X_train,y_train, epochs = 300, validation_data = (X_test, y_test), callbacks = [stop])"
   ]
  },
  {
   "cell_type": "code",
   "execution_count": 182,
   "id": "667dc3dd",
   "metadata": {},
   "outputs": [
    {
     "data": {
      "text/plain": [
       "<AxesSubplot:>"
      ]
     },
     "execution_count": 182,
     "metadata": {},
     "output_type": "execute_result"
    },
    {
     "data": {
      "image/png": "[encoded data removed]",
      "text/plain": [
       "<Figure size 640x480 with 1 Axes>"
      ]
     },
     "metadata": {},
     "output_type": "display_data"
    }
   ],
   "source": [
    "pd.DataFrame(model.history.history)[[\"loss\", \"val_loss\"]].plot()"
   ]
  },
  {
   "cell_type": "code",
   "execution_count": 183,
   "id": "4631c515",
   "metadata": {},
   "outputs": [
    {
     "data": {
      "text/plain": [
       "<AxesSubplot:>"
      ]
     },
     "execution_count": 183,
     "metadata": {},
     "output_type": "execute_result"
    },
    {
     "data": {
      "image/png": "[encoded data removed]",
      "text/plain": [
       "<Figure size 640x480 with 1 Axes>"
      ]
     },
     "metadata": {},
     "output_type": "display_data"
    }
   ],
   "source": [
    "pd.DataFrame(model.history.history)[[\"accuracy\", \"val_accuracy\"]].plot()"
   ]
  },
  {
   "cell_type": "code",
   "execution_count": 184,
   "id": "92e5f2e5",
   "metadata": {},
   "outputs": [],
   "source": [
    "predictions = model.predict_classes(X_test)"
   ]
  },
  {
   "cell_type": "code",
   "execution_count": 185,
   "id": "5ca693ec",
   "metadata": {},
   "outputs": [
    {
     "name": "stdout",
     "output_type": "stream",
     "text": [
      "              precision    recall  f1-score   support\n",
      "\n",
      "           0       1.00      0.85      0.92      1267\n",
      "           1       0.01      0.40      0.02         5\n",
      "\n",
      "    accuracy                           0.85      1272\n",
      "   macro avg       0.50      0.63      0.47      1272\n",
      "weighted avg       0.99      0.85      0.92      1272\n",
      "\n"
     ]
    }
   ],
   "source": [
    "print(classification_report(predictions, y_test))"
   ]
  },
  {
   "cell_type": "code",
   "execution_count": 186,
   "id": "122f466e",
   "metadata": {},
   "outputs": [
    {
     "name": "stdout",
     "output_type": "stream",
     "text": [
      "[[1081  186]\n",
      " [   3    2]]\n"
     ]
    }
   ],
   "source": [
    "print(confusion_matrix(predictions, y_test))"
   ]
  },
  {
   "cell_type": "code",
   "execution_count": 187,
   "id": "7b70176f",
   "metadata": {},
   "outputs": [
    {
     "name": "stdout",
     "output_type": "stream",
     "text": [
      "-31.662825572217834\n"
     ]
    }
   ],
   "source": [
    "print(explained_variance_score(predictions, y_test))"
   ]
  },
  {
   "cell_type": "markdown",
   "id": "556a7671",
   "metadata": {},
   "source": [
    "## Sampling"
   ]
  },
  {
   "cell_type": "code",
   "execution_count": 376,
   "id": "42941692",
   "metadata": {},
   "outputs": [],
   "source": [
    "heartDisease = df[df[\"Heart_ stroke\"] ==1].reset_index()"
   ]
  },
  {
   "cell_type": "code",
   "execution_count": 377,
   "id": "f14487fe",
   "metadata": {},
   "outputs": [
    {
     "data": {
      "text/plain": [
       "(644, 14)"
      ]
     },
     "execution_count": 377,
     "metadata": {},
     "output_type": "execute_result"
    }
   ],
   "source": [
    "heartDisease.shape"
   ]
  },
  {
   "cell_type": "code",
   "execution_count": 378,
   "id": "20772d8f",
   "metadata": {},
   "outputs": [],
   "source": [
    "notHD = df[df[\"Heart_ stroke\"] == 0].reset_index()"
   ]
  },
  {
   "cell_type": "code",
   "execution_count": 379,
   "id": "5dcd7140",
   "metadata": {},
   "outputs": [],
   "source": [
    "df = pd.concat([positiveHeart, NoHeartDeseast], axis=0)"
   ]
  },
  {
   "cell_type": "code",
   "execution_count": 380,
   "id": "a2fbda36",
   "metadata": {},
   "outputs": [
    {
     "data": {
      "text/html": [
       "<div>\n",
       "<style scoped>\n",
       "    .dataframe tbody tr th:only-of-type {\n",
       "        vertical-align: middle;\n",
       "    }\n",
       "\n",
       "    .dataframe tbody tr th {\n",
       "        vertical-align: top;\n",
       "    }\n",
       "\n",
       "    .dataframe thead th {\n",
       "        text-align: right;\n",
       "    }\n",
       "</style>\n",
       "<table border=\"1\" class=\"dataframe\">\n",
       "  <thead>\n",
       "    <tr style=\"text-align: right;\">\n",
       "      <th></th>\n",
       "      <th>Gender</th>\n",
       "      <th>age</th>\n",
       "      <th>currentSmoker</th>\n",
       "      <th>prevalentStroke</th>\n",
       "      <th>prevalentHyp</th>\n",
       "      <th>diabetes</th>\n",
       "      <th>sysBP</th>\n",
       "      <th>diaBP</th>\n",
       "      <th>glucose</th>\n",
       "      <th>Heart_ stroke</th>\n",
       "      <th>postgraduate</th>\n",
       "      <th>primaryschool</th>\n",
       "      <th>uneducated</th>\n",
       "    </tr>\n",
       "  </thead>\n",
       "  <tbody>\n",
       "    <tr>\n",
       "      <th>3</th>\n",
       "      <td>0</td>\n",
       "      <td>61</td>\n",
       "      <td>1</td>\n",
       "      <td>0</td>\n",
       "      <td>1</td>\n",
       "      <td>0</td>\n",
       "      <td>150.0</td>\n",
       "      <td>95.0</td>\n",
       "      <td>103.0</td>\n",
       "      <td>1</td>\n",
       "      <td>0</td>\n",
       "      <td>0</td>\n",
       "      <td>0</td>\n",
       "    </tr>\n",
       "    <tr>\n",
       "      <th>6</th>\n",
       "      <td>0</td>\n",
       "      <td>63</td>\n",
       "      <td>0</td>\n",
       "      <td>0</td>\n",
       "      <td>0</td>\n",
       "      <td>0</td>\n",
       "      <td>138.0</td>\n",
       "      <td>71.0</td>\n",
       "      <td>85.0</td>\n",
       "      <td>1</td>\n",
       "      <td>0</td>\n",
       "      <td>0</td>\n",
       "      <td>1</td>\n",
       "    </tr>\n",
       "    <tr>\n",
       "      <th>15</th>\n",
       "      <td>0</td>\n",
       "      <td>38</td>\n",
       "      <td>1</td>\n",
       "      <td>0</td>\n",
       "      <td>1</td>\n",
       "      <td>0</td>\n",
       "      <td>140.0</td>\n",
       "      <td>90.0</td>\n",
       "      <td>70.0</td>\n",
       "      <td>1</td>\n",
       "      <td>0</td>\n",
       "      <td>1</td>\n",
       "      <td>0</td>\n",
       "    </tr>\n",
       "    <tr>\n",
       "      <th>17</th>\n",
       "      <td>0</td>\n",
       "      <td>46</td>\n",
       "      <td>1</td>\n",
       "      <td>0</td>\n",
       "      <td>0</td>\n",
       "      <td>0</td>\n",
       "      <td>112.0</td>\n",
       "      <td>78.0</td>\n",
       "      <td>89.0</td>\n",
       "      <td>1</td>\n",
       "      <td>0</td>\n",
       "      <td>1</td>\n",
       "      <td>0</td>\n",
       "    </tr>\n",
       "    <tr>\n",
       "      <th>25</th>\n",
       "      <td>1</td>\n",
       "      <td>47</td>\n",
       "      <td>1</td>\n",
       "      <td>0</td>\n",
       "      <td>0</td>\n",
       "      <td>0</td>\n",
       "      <td>102.0</td>\n",
       "      <td>68.0</td>\n",
       "      <td>66.0</td>\n",
       "      <td>1</td>\n",
       "      <td>1</td>\n",
       "      <td>0</td>\n",
       "      <td>0</td>\n",
       "    </tr>\n",
       "    <tr>\n",
       "      <th>...</th>\n",
       "      <td>...</td>\n",
       "      <td>...</td>\n",
       "      <td>...</td>\n",
       "      <td>...</td>\n",
       "      <td>...</td>\n",
       "      <td>...</td>\n",
       "      <td>...</td>\n",
       "      <td>...</td>\n",
       "      <td>...</td>\n",
       "      <td>...</td>\n",
       "      <td>...</td>\n",
       "      <td>...</td>\n",
       "      <td>...</td>\n",
       "    </tr>\n",
       "    <tr>\n",
       "      <th>769</th>\n",
       "      <td>0</td>\n",
       "      <td>37</td>\n",
       "      <td>0</td>\n",
       "      <td>0</td>\n",
       "      <td>0</td>\n",
       "      <td>0</td>\n",
       "      <td>105.0</td>\n",
       "      <td>73.0</td>\n",
       "      <td>80.0</td>\n",
       "      <td>0</td>\n",
       "      <td>0</td>\n",
       "      <td>0</td>\n",
       "      <td>0</td>\n",
       "    </tr>\n",
       "    <tr>\n",
       "      <th>770</th>\n",
       "      <td>1</td>\n",
       "      <td>38</td>\n",
       "      <td>1</td>\n",
       "      <td>0</td>\n",
       "      <td>0</td>\n",
       "      <td>0</td>\n",
       "      <td>123.0</td>\n",
       "      <td>69.0</td>\n",
       "      <td>70.0</td>\n",
       "      <td>0</td>\n",
       "      <td>0</td>\n",
       "      <td>1</td>\n",
       "      <td>0</td>\n",
       "    </tr>\n",
       "    <tr>\n",
       "      <th>772</th>\n",
       "      <td>1</td>\n",
       "      <td>40</td>\n",
       "      <td>1</td>\n",
       "      <td>0</td>\n",
       "      <td>0</td>\n",
       "      <td>0</td>\n",
       "      <td>141.0</td>\n",
       "      <td>102.0</td>\n",
       "      <td>67.0</td>\n",
       "      <td>0</td>\n",
       "      <td>0</td>\n",
       "      <td>1</td>\n",
       "      <td>0</td>\n",
       "    </tr>\n",
       "    <tr>\n",
       "      <th>774</th>\n",
       "      <td>0</td>\n",
       "      <td>54</td>\n",
       "      <td>0</td>\n",
       "      <td>0</td>\n",
       "      <td>0</td>\n",
       "      <td>0</td>\n",
       "      <td>118.0</td>\n",
       "      <td>84.0</td>\n",
       "      <td>82.0</td>\n",
       "      <td>0</td>\n",
       "      <td>0</td>\n",
       "      <td>1</td>\n",
       "      <td>0</td>\n",
       "    </tr>\n",
       "    <tr>\n",
       "      <th>775</th>\n",
       "      <td>0</td>\n",
       "      <td>67</td>\n",
       "      <td>0</td>\n",
       "      <td>0</td>\n",
       "      <td>1</td>\n",
       "      <td>0</td>\n",
       "      <td>160.0</td>\n",
       "      <td>100.0</td>\n",
       "      <td>71.0</td>\n",
       "      <td>0</td>\n",
       "      <td>0</td>\n",
       "      <td>0</td>\n",
       "      <td>1</td>\n",
       "    </tr>\n",
       "  </tbody>\n",
       "</table>\n",
       "<p>1289 rows × 13 columns</p>\n",
       "</div>"
      ],
      "text/plain": [
       "     Gender  age  currentSmoker  prevalentStroke  prevalentHyp  diabetes  \\\n",
       "3         0   61              1                0             1         0   \n",
       "6         0   63              0                0             0         0   \n",
       "15        0   38              1                0             1         0   \n",
       "17        0   46              1                0             0         0   \n",
       "25        1   47              1                0             0         0   \n",
       "..      ...  ...            ...              ...           ...       ...   \n",
       "769       0   37              0                0             0         0   \n",
       "770       1   38              1                0             0         0   \n",
       "772       1   40              1                0             0         0   \n",
       "774       0   54              0                0             0         0   \n",
       "775       0   67              0                0             1         0   \n",
       "\n",
       "     sysBP  diaBP  glucose  Heart_ stroke  postgraduate  primaryschool  \\\n",
       "3    150.0   95.0    103.0              1             0              0   \n",
       "6    138.0   71.0     85.0              1             0              0   \n",
       "15   140.0   90.0     70.0              1             0              1   \n",
       "17   112.0   78.0     89.0              1             0              1   \n",
       "25   102.0   68.0     66.0              1             1              0   \n",
       "..     ...    ...      ...            ...           ...            ...   \n",
       "769  105.0   73.0     80.0              0             0              0   \n",
       "770  123.0   69.0     70.0              0             0              1   \n",
       "772  141.0  102.0     67.0              0             0              1   \n",
       "774  118.0   84.0     82.0              0             0              1   \n",
       "775  160.0  100.0     71.0              0             0              0   \n",
       "\n",
       "     uneducated  \n",
       "3             0  \n",
       "6             1  \n",
       "15            0  \n",
       "17            0  \n",
       "25            0  \n",
       "..          ...  \n",
       "769           0  \n",
       "770           0  \n",
       "772           0  \n",
       "774           0  \n",
       "775           1  \n",
       "\n",
       "[1289 rows x 13 columns]"
      ]
     },
     "execution_count": 380,
     "metadata": {},
     "output_type": "execute_result"
    }
   ],
   "source": [
    "df"
   ]
  },
  {
   "cell_type": "code",
   "execution_count": 381,
   "id": "f0b5fe58",
   "metadata": {},
   "outputs": [
    {
     "data": {
      "text/plain": [
       "<AxesSubplot:xlabel='Heart_ stroke', ylabel='count'>"
      ]
     },
     "execution_count": 381,
     "metadata": {},
     "output_type": "execute_result"
    },
    {
     "data": {
      "image/png": "[encoded data removed]",
      "text/plain": [
       "<Figure size 640x480 with 1 Axes>"
      ]
     },
     "metadata": {},
     "output_type": "display_data"
    }
   ],
   "source": [
    "sns.countplot(x = df[\"Heart_ stroke\"])"
   ]
  },
  {
   "cell_type": "code",
   "execution_count": null,
   "id": "999d4bf0",
   "metadata": {},
   "outputs": [],
   "source": []
  },
  {
   "cell_type": "code",
   "execution_count": 696,
   "id": "421fb694",
   "metadata": {},
   "outputs": [],
   "source": [
    "X = df.drop(targetColumn, axis=1).values\n",
    "y = df[targetColumn].values"
   ]
  },
  {
   "cell_type": "code",
   "execution_count": 697,
   "id": "7ae8b9e4",
   "metadata": {},
   "outputs": [],
   "source": [
    "X_train, X_test, y_train, y_test = train_test_split(X, y, test_size=0.20, random_state=42)"
   ]
  },
  {
   "cell_type": "code",
   "execution_count": null,
   "id": "7109b9be",
   "metadata": {},
   "outputs": [],
   "source": []
  },
  {
   "cell_type": "code",
   "execution_count": 698,
   "id": "5107bf9a",
   "metadata": {},
   "outputs": [],
   "source": [
    "scalar = MinMaxScaler()"
   ]
  },
  {
   "cell_type": "code",
   "execution_count": 699,
   "id": "97c09f59",
   "metadata": {},
   "outputs": [],
   "source": [
    "trainScaledVaules = scalar.fit_transform(pd.DataFrame(X_train)[[1,6,7,8]].values)"
   ]
  },
  {
   "cell_type": "code",
   "execution_count": 700,
   "id": "6a19de52",
   "metadata": {},
   "outputs": [
    {
     "data": {
      "text/plain": [
       "array([[0.75675676, 0.29230769, 0.38043478, 0.05649718],\n",
       "       [0.51351351, 0.45846154, 0.54347826, 0.52259887],\n",
       "       [0.72972973, 0.27384615, 0.23913043, 0.12429379],\n",
       "       ...,\n",
       "       [0.51351351, 0.61230769, 0.7173913 , 0.12146893],\n",
       "       [0.45945946, 0.24307692, 0.40217391, 0.15254237],\n",
       "       [0.10810811, 0.20307692, 0.4076087 , 0.11864407]])"
      ]
     },
     "execution_count": 700,
     "metadata": {},
     "output_type": "execute_result"
    }
   ],
   "source": [
    "trainScaledVaules"
   ]
  },
  {
   "cell_type": "code",
   "execution_count": 701,
   "id": "e451c2c5",
   "metadata": {},
   "outputs": [],
   "source": [
    "xtrainDF = pd.DataFrame(X_train)"
   ]
  },
  {
   "cell_type": "code",
   "execution_count": 702,
   "id": "10dda630",
   "metadata": {},
   "outputs": [],
   "source": [
    "xtrainDF = pd.concat([xtrainDF, pd.DataFrame(trainScaledVaules, columns=[12,13,14,15])], axis=1)"
   ]
  },
  {
   "cell_type": "code",
   "execution_count": 703,
   "id": "36929e6f",
   "metadata": {},
   "outputs": [],
   "source": [
    "xtrainDF.drop([1,6,7,8], axis=1, inplace=True)"
   ]
  },
  {
   "cell_type": "code",
   "execution_count": 704,
   "id": "51a0b3e2",
   "metadata": {},
   "outputs": [],
   "source": [
    "X_train = xtrainDF.values"
   ]
  },
  {
   "cell_type": "code",
   "execution_count": 705,
   "id": "4e7166ce",
   "metadata": {},
   "outputs": [],
   "source": [
    "testScaledVaules = scalar.transform(pd.DataFrame(X_test)[[1,6,7,8]].values)"
   ]
  },
  {
   "cell_type": "code",
   "execution_count": 706,
   "id": "b82c5326",
   "metadata": {},
   "outputs": [],
   "source": [
    "xtestDF = pd.DataFrame(X_test)"
   ]
  },
  {
   "cell_type": "code",
   "execution_count": 707,
   "id": "5f99ac21",
   "metadata": {},
   "outputs": [],
   "source": [
    "xtestDF = pd.concat([xtestDF, pd.DataFrame(testScaledVaules, columns=[12,13,14,15])], axis=1)"
   ]
  },
  {
   "cell_type": "code",
   "execution_count": 708,
   "id": "3bac33b9",
   "metadata": {},
   "outputs": [
    {
     "data": {
      "text/html": [
       "<div>\n",
       "<style scoped>\n",
       "    .dataframe tbody tr th:only-of-type {\n",
       "        vertical-align: middle;\n",
       "    }\n",
       "\n",
       "    .dataframe tbody tr th {\n",
       "        vertical-align: top;\n",
       "    }\n",
       "\n",
       "    .dataframe thead th {\n",
       "        text-align: right;\n",
       "    }\n",
       "</style>\n",
       "<table border=\"1\" class=\"dataframe\">\n",
       "  <thead>\n",
       "    <tr style=\"text-align: right;\">\n",
       "      <th></th>\n",
       "      <th>0</th>\n",
       "      <th>1</th>\n",
       "      <th>2</th>\n",
       "      <th>3</th>\n",
       "      <th>4</th>\n",
       "      <th>5</th>\n",
       "      <th>6</th>\n",
       "      <th>7</th>\n",
       "      <th>8</th>\n",
       "      <th>9</th>\n",
       "      <th>10</th>\n",
       "      <th>11</th>\n",
       "      <th>12</th>\n",
       "      <th>13</th>\n",
       "      <th>14</th>\n",
       "      <th>15</th>\n",
       "    </tr>\n",
       "  </thead>\n",
       "  <tbody>\n",
       "    <tr>\n",
       "      <th>0</th>\n",
       "      <td>0.0</td>\n",
       "      <td>37.0</td>\n",
       "      <td>1.0</td>\n",
       "      <td>0.0</td>\n",
       "      <td>0.0</td>\n",
       "      <td>0.0</td>\n",
       "      <td>115.0</td>\n",
       "      <td>79.0</td>\n",
       "      <td>79.0</td>\n",
       "      <td>0.0</td>\n",
       "      <td>1.0</td>\n",
       "      <td>0.0</td>\n",
       "      <td>0.108108</td>\n",
       "      <td>0.181538</td>\n",
       "      <td>0.336957</td>\n",
       "      <td>0.110169</td>\n",
       "    </tr>\n",
       "    <tr>\n",
       "      <th>1</th>\n",
       "      <td>1.0</td>\n",
       "      <td>40.0</td>\n",
       "      <td>1.0</td>\n",
       "      <td>0.0</td>\n",
       "      <td>0.0</td>\n",
       "      <td>0.0</td>\n",
       "      <td>129.0</td>\n",
       "      <td>73.0</td>\n",
       "      <td>80.0</td>\n",
       "      <td>0.0</td>\n",
       "      <td>0.0</td>\n",
       "      <td>0.0</td>\n",
       "      <td>0.189189</td>\n",
       "      <td>0.267692</td>\n",
       "      <td>0.271739</td>\n",
       "      <td>0.112994</td>\n",
       "    </tr>\n",
       "    <tr>\n",
       "      <th>2</th>\n",
       "      <td>1.0</td>\n",
       "      <td>61.0</td>\n",
       "      <td>0.0</td>\n",
       "      <td>0.0</td>\n",
       "      <td>0.0</td>\n",
       "      <td>0.0</td>\n",
       "      <td>124.5</td>\n",
       "      <td>80.0</td>\n",
       "      <td>76.0</td>\n",
       "      <td>0.0</td>\n",
       "      <td>0.0</td>\n",
       "      <td>1.0</td>\n",
       "      <td>0.756757</td>\n",
       "      <td>0.240000</td>\n",
       "      <td>0.347826</td>\n",
       "      <td>0.101695</td>\n",
       "    </tr>\n",
       "    <tr>\n",
       "      <th>3</th>\n",
       "      <td>0.0</td>\n",
       "      <td>64.0</td>\n",
       "      <td>0.0</td>\n",
       "      <td>0.0</td>\n",
       "      <td>1.0</td>\n",
       "      <td>0.0</td>\n",
       "      <td>295.0</td>\n",
       "      <td>135.0</td>\n",
       "      <td>70.0</td>\n",
       "      <td>0.0</td>\n",
       "      <td>0.0</td>\n",
       "      <td>1.0</td>\n",
       "      <td>0.837838</td>\n",
       "      <td>1.289231</td>\n",
       "      <td>0.945652</td>\n",
       "      <td>0.084746</td>\n",
       "    </tr>\n",
       "    <tr>\n",
       "      <th>4</th>\n",
       "      <td>0.0</td>\n",
       "      <td>58.0</td>\n",
       "      <td>0.0</td>\n",
       "      <td>0.0</td>\n",
       "      <td>1.0</td>\n",
       "      <td>0.0</td>\n",
       "      <td>158.0</td>\n",
       "      <td>101.0</td>\n",
       "      <td>77.0</td>\n",
       "      <td>0.0</td>\n",
       "      <td>0.0</td>\n",
       "      <td>1.0</td>\n",
       "      <td>0.675676</td>\n",
       "      <td>0.446154</td>\n",
       "      <td>0.576087</td>\n",
       "      <td>0.104520</td>\n",
       "    </tr>\n",
       "    <tr>\n",
       "      <th>...</th>\n",
       "      <td>...</td>\n",
       "      <td>...</td>\n",
       "      <td>...</td>\n",
       "      <td>...</td>\n",
       "      <td>...</td>\n",
       "      <td>...</td>\n",
       "      <td>...</td>\n",
       "      <td>...</td>\n",
       "      <td>...</td>\n",
       "      <td>...</td>\n",
       "      <td>...</td>\n",
       "      <td>...</td>\n",
       "      <td>...</td>\n",
       "      <td>...</td>\n",
       "      <td>...</td>\n",
       "      <td>...</td>\n",
       "    </tr>\n",
       "    <tr>\n",
       "      <th>253</th>\n",
       "      <td>1.0</td>\n",
       "      <td>52.0</td>\n",
       "      <td>1.0</td>\n",
       "      <td>0.0</td>\n",
       "      <td>1.0</td>\n",
       "      <td>0.0</td>\n",
       "      <td>134.0</td>\n",
       "      <td>98.0</td>\n",
       "      <td>89.0</td>\n",
       "      <td>0.0</td>\n",
       "      <td>0.0</td>\n",
       "      <td>1.0</td>\n",
       "      <td>0.513514</td>\n",
       "      <td>0.298462</td>\n",
       "      <td>0.543478</td>\n",
       "      <td>0.138418</td>\n",
       "    </tr>\n",
       "    <tr>\n",
       "      <th>254</th>\n",
       "      <td>0.0</td>\n",
       "      <td>38.0</td>\n",
       "      <td>1.0</td>\n",
       "      <td>0.0</td>\n",
       "      <td>0.0</td>\n",
       "      <td>0.0</td>\n",
       "      <td>112.0</td>\n",
       "      <td>68.5</td>\n",
       "      <td>67.0</td>\n",
       "      <td>0.0</td>\n",
       "      <td>0.0</td>\n",
       "      <td>1.0</td>\n",
       "      <td>0.135135</td>\n",
       "      <td>0.163077</td>\n",
       "      <td>0.222826</td>\n",
       "      <td>0.076271</td>\n",
       "    </tr>\n",
       "    <tr>\n",
       "      <th>255</th>\n",
       "      <td>1.0</td>\n",
       "      <td>38.0</td>\n",
       "      <td>1.0</td>\n",
       "      <td>0.0</td>\n",
       "      <td>1.0</td>\n",
       "      <td>0.0</td>\n",
       "      <td>145.5</td>\n",
       "      <td>87.0</td>\n",
       "      <td>89.0</td>\n",
       "      <td>0.0</td>\n",
       "      <td>1.0</td>\n",
       "      <td>0.0</td>\n",
       "      <td>0.135135</td>\n",
       "      <td>0.369231</td>\n",
       "      <td>0.423913</td>\n",
       "      <td>0.138418</td>\n",
       "    </tr>\n",
       "    <tr>\n",
       "      <th>256</th>\n",
       "      <td>0.0</td>\n",
       "      <td>49.0</td>\n",
       "      <td>1.0</td>\n",
       "      <td>0.0</td>\n",
       "      <td>0.0</td>\n",
       "      <td>0.0</td>\n",
       "      <td>109.0</td>\n",
       "      <td>70.0</td>\n",
       "      <td>73.0</td>\n",
       "      <td>0.0</td>\n",
       "      <td>0.0</td>\n",
       "      <td>1.0</td>\n",
       "      <td>0.432432</td>\n",
       "      <td>0.144615</td>\n",
       "      <td>0.239130</td>\n",
       "      <td>0.093220</td>\n",
       "    </tr>\n",
       "    <tr>\n",
       "      <th>257</th>\n",
       "      <td>1.0</td>\n",
       "      <td>41.0</td>\n",
       "      <td>1.0</td>\n",
       "      <td>0.0</td>\n",
       "      <td>0.0</td>\n",
       "      <td>0.0</td>\n",
       "      <td>139.0</td>\n",
       "      <td>80.0</td>\n",
       "      <td>62.0</td>\n",
       "      <td>0.0</td>\n",
       "      <td>1.0</td>\n",
       "      <td>0.0</td>\n",
       "      <td>0.216216</td>\n",
       "      <td>0.329231</td>\n",
       "      <td>0.347826</td>\n",
       "      <td>0.062147</td>\n",
       "    </tr>\n",
       "  </tbody>\n",
       "</table>\n",
       "<p>258 rows × 16 columns</p>\n",
       "</div>"
      ],
      "text/plain": [
       "      0     1    2    3    4    5      6      7     8    9    10   11  \\\n",
       "0    0.0  37.0  1.0  0.0  0.0  0.0  115.0   79.0  79.0  0.0  1.0  0.0   \n",
       "1    1.0  40.0  1.0  0.0  0.0  0.0  129.0   73.0  80.0  0.0  0.0  0.0   \n",
       "2    1.0  61.0  0.0  0.0  0.0  0.0  124.5   80.0  76.0  0.0  0.0  1.0   \n",
       "3    0.0  64.0  0.0  0.0  1.0  0.0  295.0  135.0  70.0  0.0  0.0  1.0   \n",
       "4    0.0  58.0  0.0  0.0  1.0  0.0  158.0  101.0  77.0  0.0  0.0  1.0   \n",
       "..   ...   ...  ...  ...  ...  ...    ...    ...   ...  ...  ...  ...   \n",
       "253  1.0  52.0  1.0  0.0  1.0  0.0  134.0   98.0  89.0  0.0  0.0  1.0   \n",
       "254  0.0  38.0  1.0  0.0  0.0  0.0  112.0   68.5  67.0  0.0  0.0  1.0   \n",
       "255  1.0  38.0  1.0  0.0  1.0  0.0  145.5   87.0  89.0  0.0  1.0  0.0   \n",
       "256  0.0  49.0  1.0  0.0  0.0  0.0  109.0   70.0  73.0  0.0  0.0  1.0   \n",
       "257  1.0  41.0  1.0  0.0  0.0  0.0  139.0   80.0  62.0  0.0  1.0  0.0   \n",
       "\n",
       "           12        13        14        15  \n",
       "0    0.108108  0.181538  0.336957  0.110169  \n",
       "1    0.189189  0.267692  0.271739  0.112994  \n",
       "2    0.756757  0.240000  0.347826  0.101695  \n",
       "3    0.837838  1.289231  0.945652  0.084746  \n",
       "4    0.675676  0.446154  0.576087  0.104520  \n",
       "..        ...       ...       ...       ...  \n",
       "253  0.513514  0.298462  0.543478  0.138418  \n",
       "254  0.135135  0.163077  0.222826  0.076271  \n",
       "255  0.135135  0.369231  0.423913  0.138418  \n",
       "256  0.432432  0.144615  0.239130  0.093220  \n",
       "257  0.216216  0.329231  0.347826  0.062147  \n",
       "\n",
       "[258 rows x 16 columns]"
      ]
     },
     "execution_count": 708,
     "metadata": {},
     "output_type": "execute_result"
    }
   ],
   "source": [
    "xtestDF"
   ]
  },
  {
   "cell_type": "code",
   "execution_count": 709,
   "id": "1d924c28",
   "metadata": {},
   "outputs": [],
   "source": [
    "xtestDF.drop([1,6,7,8], axis=1, inplace=True)"
   ]
  },
  {
   "cell_type": "code",
   "execution_count": 710,
   "id": "f9b66b5b",
   "metadata": {},
   "outputs": [],
   "source": [
    "X_test = xtestDF.values"
   ]
  },
  {
   "cell_type": "code",
   "execution_count": null,
   "id": "2ecd74b7",
   "metadata": {},
   "outputs": [],
   "source": []
  },
  {
   "cell_type": "code",
   "execution_count": 711,
   "id": "691c49a9",
   "metadata": {},
   "outputs": [],
   "source": [
    "model = Sequential()\n",
    "model.add(Dense(units=200, activation=\"relu\"))\n",
    "model.add(Dense(units=160, activation=\"relu\"))\n",
    "model.add(Dense(units=130, activation=\"relu\"))\n",
    "model.add(Dense(units=130, activation=\"relu\"))\n",
    "model.add(Dense(units=120, activation=\"relu\"))\n",
    "model.add(Dense(units=120, activation=\"relu\"))\n",
    "model.add(Dense(units=80, activation=\"relu\"))\n",
    "model.add(Dense(units=70, activation=\"relu\"))\n",
    "model.add(Dense(units=60, activation=\"relu\"))\n",
    "model.add(Dense(units=50, activation=\"relu\"))\n",
    "model.add(Dense(units=40, activation=\"relu\"))\n",
    "model.add(Dense(units=10, activation=\"relu\"))\n",
    "model.add(Dense(units=1, activation=\"sigmoid\"))\n",
    "\n",
    "model.compile(loss = BinaryCrossentropy(), optimizer = Adam(), metrics = [\"accuracy\"])"
   ]
  },
  {
   "cell_type": "code",
   "execution_count": 712,
   "id": "a401ca72",
   "metadata": {},
   "outputs": [],
   "source": [
    "stop = EarlyStopping(patience=30)"
   ]
  },
  {
   "cell_type": "code",
   "execution_count": 713,
   "id": "c9540c68",
   "metadata": {},
   "outputs": [
    {
     "name": "stdout",
     "output_type": "stream",
     "text": [
      "Train on 1031 samples, validate on 258 samples\n",
      "Epoch 1/300\n",
      "1031/1031 [==============================] - 2s 2ms/sample - loss: 0.6870 - accuracy: 0.5422 - val_loss: 0.6413 - val_accuracy: 0.6434\n",
      "Epoch 2/300\n",
      "1031/1031 [==============================] - 1s 906us/sample - loss: 0.6607 - accuracy: 0.6314 - val_loss: 0.6145 - val_accuracy: 0.6473\n",
      "Epoch 3/300\n",
      "1031/1031 [==============================] - 1s 930us/sample - loss: 0.6451 - accuracy: 0.6547 - val_loss: 0.6232 - val_accuracy: 0.6628\n",
      "Epoch 4/300\n",
      "1031/1031 [==============================] - 1s 854us/sample - loss: 0.6249 - accuracy: 0.6605 - val_loss: 0.6065 - val_accuracy: 0.6628\n",
      "Epoch 5/300\n",
      "1031/1031 [==============================] - 1s 793us/sample - loss: 0.6127 - accuracy: 0.6654 - val_loss: 0.6046 - val_accuracy: 0.6589\n",
      "Epoch 6/300\n",
      "1031/1031 [==============================] - 1s 806us/sample - loss: 0.6233 - accuracy: 0.6508 - val_loss: 0.6166 - val_accuracy: 0.6512\n",
      "Epoch 7/300\n",
      "1031/1031 [==============================] - 1s 1ms/sample - loss: 0.6131 - accuracy: 0.6751 - val_loss: 0.6162 - val_accuracy: 0.6744\n",
      "Epoch 8/300\n",
      "1031/1031 [==============================] - 1s 787us/sample - loss: 0.6063 - accuracy: 0.6848 - val_loss: 0.5984 - val_accuracy: 0.6667\n",
      "Epoch 9/300\n",
      "1031/1031 [==============================] - 1s 769us/sample - loss: 0.6220 - accuracy: 0.6596 - val_loss: 0.6013 - val_accuracy: 0.6667\n",
      "Epoch 10/300\n",
      "1031/1031 [==============================] - 1s 751us/sample - loss: 0.6010 - accuracy: 0.6760 - val_loss: 0.6005 - val_accuracy: 0.6434\n",
      "Epoch 11/300\n",
      "1031/1031 [==============================] - 1s 836us/sample - loss: 0.6019 - accuracy: 0.6887 - val_loss: 0.6052 - val_accuracy: 0.6744\n",
      "Epoch 12/300\n",
      "1031/1031 [==============================] - 1s 796us/sample - loss: 0.6038 - accuracy: 0.6857 - val_loss: 0.6122 - val_accuracy: 0.6589\n",
      "Epoch 13/300\n",
      "1031/1031 [==============================] - 1s 816us/sample - loss: 0.6045 - accuracy: 0.6760 - val_loss: 0.6130 - val_accuracy: 0.6589\n",
      "Epoch 14/300\n",
      "1031/1031 [==============================] - 1s 759us/sample - loss: 0.5986 - accuracy: 0.6828 - val_loss: 0.6018 - val_accuracy: 0.6744\n",
      "Epoch 15/300\n",
      "1031/1031 [==============================] - 1s 780us/sample - loss: 0.5921 - accuracy: 0.6896 - val_loss: 0.6270 - val_accuracy: 0.6512\n",
      "Epoch 16/300\n",
      "1031/1031 [==============================] - 1s 746us/sample - loss: 0.6046 - accuracy: 0.6605 - val_loss: 0.5996 - val_accuracy: 0.6783\n",
      "Epoch 17/300\n",
      "1031/1031 [==============================] - 1s 773us/sample - loss: 0.6000 - accuracy: 0.6770 - val_loss: 0.6166 - val_accuracy: 0.6512\n",
      "Epoch 18/300\n",
      "1031/1031 [==============================] - 1s 747us/sample - loss: 0.5936 - accuracy: 0.6770 - val_loss: 0.6088 - val_accuracy: 0.6667\n",
      "Epoch 19/300\n",
      "1031/1031 [==============================] - 1s 738us/sample - loss: 0.5886 - accuracy: 0.6906 - val_loss: 0.6243 - val_accuracy: 0.6667\n",
      "Epoch 20/300\n",
      "1031/1031 [==============================] - 1s 824us/sample - loss: 0.5940 - accuracy: 0.6790 - val_loss: 0.6174 - val_accuracy: 0.6744\n",
      "Epoch 21/300\n",
      "1031/1031 [==============================] - 1s 761us/sample - loss: 0.5835 - accuracy: 0.6877 - val_loss: 0.6298 - val_accuracy: 0.6628\n",
      "Epoch 22/300\n",
      "1031/1031 [==============================] - 1s 752us/sample - loss: 0.5824 - accuracy: 0.6867 - val_loss: 0.6375 - val_accuracy: 0.6550\n",
      "Epoch 23/300\n",
      "1031/1031 [==============================] - 1s 864us/sample - loss: 0.5734 - accuracy: 0.6916 - val_loss: 0.6299 - val_accuracy: 0.6628\n",
      "Epoch 24/300\n",
      "1031/1031 [==============================] - 1s 872us/sample - loss: 0.5738 - accuracy: 0.6974 - val_loss: 0.6470 - val_accuracy: 0.6434\n",
      "Epoch 25/300\n",
      "1031/1031 [==============================] - 1s 856us/sample - loss: 0.5779 - accuracy: 0.6954 - val_loss: 0.6372 - val_accuracy: 0.6667\n",
      "Epoch 26/300\n",
      "1031/1031 [==============================] - 1s 1ms/sample - loss: 0.5692 - accuracy: 0.7003 - val_loss: 0.6630 - val_accuracy: 0.6667\n",
      "Epoch 27/300\n",
      "1031/1031 [==============================] - 1s 808us/sample - loss: 0.5801 - accuracy: 0.6857 - val_loss: 0.6613 - val_accuracy: 0.6705\n",
      "Epoch 28/300\n",
      "1031/1031 [==============================] - 1s 887us/sample - loss: 0.5647 - accuracy: 0.7061 - val_loss: 0.6237 - val_accuracy: 0.6899\n",
      "Epoch 29/300\n",
      "1031/1031 [==============================] - 1s 777us/sample - loss: 0.5646 - accuracy: 0.6993 - val_loss: 0.6457 - val_accuracy: 0.6744\n",
      "Epoch 30/300\n",
      "1031/1031 [==============================] - 1s 943us/sample - loss: 0.5695 - accuracy: 0.7051 - val_loss: 0.6476 - val_accuracy: 0.6783\n",
      "Epoch 31/300\n",
      "1031/1031 [==============================] - 1s 858us/sample - loss: 0.5638 - accuracy: 0.6964 - val_loss: 0.6686 - val_accuracy: 0.6744\n",
      "Epoch 32/300\n",
      "1031/1031 [==============================] - 1s 871us/sample - loss: 0.5613 - accuracy: 0.6964 - val_loss: 0.6928 - val_accuracy: 0.6434\n",
      "Epoch 33/300\n",
      "1031/1031 [==============================] - 1s 842us/sample - loss: 0.5570 - accuracy: 0.6877 - val_loss: 0.7061 - val_accuracy: 0.6667\n",
      "Epoch 34/300\n",
      "1031/1031 [==============================] - 1s 811us/sample - loss: 0.5798 - accuracy: 0.6935 - val_loss: 0.6638 - val_accuracy: 0.6822\n",
      "Epoch 35/300\n",
      "1031/1031 [==============================] - 1s 828us/sample - loss: 0.5581 - accuracy: 0.7013 - val_loss: 0.7171 - val_accuracy: 0.6783\n",
      "Epoch 36/300\n",
      "1031/1031 [==============================] - 1s 740us/sample - loss: 0.5572 - accuracy: 0.7051 - val_loss: 0.7380 - val_accuracy: 0.6318\n",
      "Epoch 37/300\n",
      "1031/1031 [==============================] - 1s 1ms/sample - loss: 0.5546 - accuracy: 0.7022 - val_loss: 0.7489 - val_accuracy: 0.6667\n",
      "Epoch 38/300\n",
      "1031/1031 [==============================] - 1s 853us/sample - loss: 0.5480 - accuracy: 0.7129 - val_loss: 0.7566 - val_accuracy: 0.6628\n"
     ]
    },
    {
     "data": {
      "text/plain": [
       "<tensorflow.python.keras.callbacks.History at 0x7f8a9680e610>"
      ]
     },
     "execution_count": 713,
     "metadata": {},
     "output_type": "execute_result"
    }
   ],
   "source": [
    "model.fit(X_train,y_train, epochs = 300, validation_data = (X_test, y_test), callbacks = [stop])"
   ]
  },
  {
   "cell_type": "code",
   "execution_count": 714,
   "id": "f00ac713",
   "metadata": {},
   "outputs": [
    {
     "data": {
      "text/plain": [
       "<AxesSubplot:>"
      ]
     },
     "execution_count": 714,
     "metadata": {},
     "output_type": "execute_result"
    },
    {
     "data": {
      "image/png": "[encoded data removed]",
      "text/plain": [
       "<Figure size 640x480 with 1 Axes>"
      ]
     },
     "metadata": {},
     "output_type": "display_data"
    }
   ],
   "source": [
    "pd.DataFrame(model.history.history)[[\"loss\", \"val_loss\"]].plot()"
   ]
  },
  {
   "cell_type": "code",
   "execution_count": 715,
   "id": "845909ce",
   "metadata": {},
   "outputs": [
    {
     "data": {
      "text/plain": [
       "<AxesSubplot:>"
      ]
     },
     "execution_count": 715,
     "metadata": {},
     "output_type": "execute_result"
    },
    {
     "data": {
      "image/png": "[encoded data removed]",
      "text/plain": [
       "<Figure size 640x480 with 1 Axes>"
      ]
     },
     "metadata": {},
     "output_type": "display_data"
    }
   ],
   "source": [
    "pd.DataFrame(model.history.history)[[\"accuracy\", \"val_accuracy\"]].plot()"
   ]
  },
  {
   "cell_type": "code",
   "execution_count": 716,
   "id": "2ef34f7b",
   "metadata": {},
   "outputs": [],
   "source": [
    "preds = model.predict_classes(X_test)"
   ]
  },
  {
   "cell_type": "code",
   "execution_count": 717,
   "id": "ea06b85f",
   "metadata": {},
   "outputs": [
    {
     "name": "stdout",
     "output_type": "stream",
     "text": [
      "              precision    recall  f1-score   support\n",
      "\n",
      "           0       0.62      0.70      0.66       119\n",
      "           1       0.71      0.63      0.67       139\n",
      "\n",
      "    accuracy                           0.66       258\n",
      "   macro avg       0.66      0.67      0.66       258\n",
      "weighted avg       0.67      0.66      0.66       258\n",
      "\n"
     ]
    }
   ],
   "source": [
    "print(classification_report(y_test, preds))"
   ]
  },
  {
   "cell_type": "code",
   "execution_count": 718,
   "id": "1eb184c3",
   "metadata": {},
   "outputs": [
    {
     "name": "stdout",
     "output_type": "stream",
     "text": [
      "[[83 36]\n",
      " [51 88]]\n"
     ]
    }
   ],
   "source": [
    "print(confusion_matrix(y_test, preds))"
   ]
  },
  {
   "cell_type": "code",
   "execution_count": 719,
   "id": "7be7c78f",
   "metadata": {},
   "outputs": [
    {
     "name": "stdout",
     "output_type": "stream",
     "text": [
      "-0.3433891542228402\n"
     ]
    }
   ],
   "source": [
    "print(explained_variance_score(y_test, preds))"
   ]
  },
  {
   "cell_type": "code",
   "execution_count": 723,
   "id": "6806cfe1",
   "metadata": {},
   "outputs": [],
   "source": [
    "encoder = Sequential()\n",
    "encoder.add(Dense(units=6, activation=\"relu\", input_shape = [12]))"
   ]
  },
  {
   "cell_type": "code",
   "execution_count": 724,
   "id": "6ccd6305",
   "metadata": {},
   "outputs": [],
   "source": [
    "decoder = Sequential()\n",
    "decoder.add(Dense(units=12, activation=\"relu\", input_shape = [6]))"
   ]
  },
  {
   "cell_type": "code",
   "execution_count": 725,
   "id": "3525371d",
   "metadata": {},
   "outputs": [],
   "source": [
    "autoencoder = Sequential([encoder, decoder])"
   ]
  },
  {
   "cell_type": "code",
   "execution_count": 726,
   "id": "8d649434",
   "metadata": {},
   "outputs": [],
   "source": [
    "autoencoder.compile(loss = BinaryCrossentropy(), optimizer = Adam())"
   ]
  },
  {
   "cell_type": "code",
   "execution_count": 727,
   "id": "5318c1c3",
   "metadata": {},
   "outputs": [
    {
     "name": "stdout",
     "output_type": "stream",
     "text": [
      "Train on 1289 samples\n",
      "Epoch 1/500\n",
      "1289/1289 [==============================] - 0s 314us/sample - loss: 2.9502\n",
      "Epoch 2/500\n",
      "1289/1289 [==============================] - 0s 38us/sample - loss: 2.8988\n",
      "Epoch 3/500\n",
      "1289/1289 [==============================] - 0s 38us/sample - loss: 2.8522\n",
      "Epoch 4/500\n",
      "1289/1289 [==============================] - 0s 37us/sample - loss: 2.7933\n",
      "Epoch 5/500\n",
      "1289/1289 [==============================] - 0s 36us/sample - loss: 2.7005\n",
      "Epoch 6/500\n",
      "1289/1289 [==============================] - 0s 36us/sample - loss: 2.6581\n",
      "Epoch 7/500\n",
      "1289/1289 [==============================] - 0s 37us/sample - loss: 2.6323\n",
      "Epoch 8/500\n",
      "1289/1289 [==============================] - 0s 36us/sample - loss: 2.6018\n",
      "Epoch 9/500\n",
      "1289/1289 [==============================] - 0s 35us/sample - loss: 2.4529\n",
      "Epoch 10/500\n",
      "1289/1289 [==============================] - 0s 37us/sample - loss: 2.1859\n",
      "Epoch 11/500\n",
      "1289/1289 [==============================] - 0s 35us/sample - loss: 2.1237\n",
      "Epoch 12/500\n",
      "1289/1289 [==============================] - 0s 37us/sample - loss: 2.0809\n",
      "Epoch 13/500\n",
      "1289/1289 [==============================] - 0s 36us/sample - loss: 1.9966\n",
      "Epoch 14/500\n",
      "1289/1289 [==============================] - 0s 38us/sample - loss: 1.7407\n",
      "Epoch 15/500\n",
      "1289/1289 [==============================] - 0s 36us/sample - loss: 1.4658\n",
      "Epoch 16/500\n",
      "1289/1289 [==============================] - 0s 36us/sample - loss: 1.4273\n",
      "Epoch 17/500\n",
      "1289/1289 [==============================] - 0s 36us/sample - loss: 1.3866\n",
      "Epoch 18/500\n",
      "1289/1289 [==============================] - 0s 37us/sample - loss: 1.2973\n",
      "Epoch 19/500\n",
      "1289/1289 [==============================] - 0s 36us/sample - loss: 1.1228\n",
      "Epoch 20/500\n",
      "1289/1289 [==============================] - 0s 36us/sample - loss: 1.0772\n",
      "Epoch 21/500\n",
      "1289/1289 [==============================] - 0s 36us/sample - loss: 1.0685\n",
      "Epoch 22/500\n",
      "1289/1289 [==============================] - 0s 36us/sample - loss: 1.0615\n",
      "Epoch 23/500\n",
      "1289/1289 [==============================] - 0s 37us/sample - loss: 1.0546\n",
      "Epoch 24/500\n",
      "1289/1289 [==============================] - 0s 36us/sample - loss: 1.0472\n",
      "Epoch 25/500\n",
      "1289/1289 [==============================] - 0s 36us/sample - loss: 1.0403\n",
      "Epoch 26/500\n",
      "1289/1289 [==============================] - 0s 38us/sample - loss: 1.0338\n",
      "Epoch 27/500\n",
      "1289/1289 [==============================] - 0s 36us/sample - loss: 1.0271\n",
      "Epoch 28/500\n",
      "1289/1289 [==============================] - 0s 36us/sample - loss: 1.0198\n",
      "Epoch 29/500\n",
      "1289/1289 [==============================] - 0s 35us/sample - loss: 0.9669\n",
      "Epoch 30/500\n",
      "1289/1289 [==============================] - 0s 36us/sample - loss: 0.5779\n",
      "Epoch 31/500\n",
      "1289/1289 [==============================] - 0s 37us/sample - loss: 0.4541\n",
      "Epoch 32/500\n",
      "1289/1289 [==============================] - 0s 35us/sample - loss: 0.4438\n",
      "Epoch 33/500\n",
      "1289/1289 [==============================] - 0s 36us/sample - loss: 0.4352\n",
      "Epoch 34/500\n",
      "1289/1289 [==============================] - 0s 36us/sample - loss: 0.4278\n",
      "Epoch 35/500\n",
      "1289/1289 [==============================] - 0s 36us/sample - loss: 0.4202\n",
      "Epoch 36/500\n",
      "1289/1289 [==============================] - 0s 37us/sample - loss: 0.4130\n",
      "Epoch 37/500\n",
      "1289/1289 [==============================] - 0s 44us/sample - loss: 0.4072\n",
      "Epoch 38/500\n",
      "1289/1289 [==============================] - 0s 36us/sample - loss: 0.3969\n",
      "Epoch 39/500\n",
      "1289/1289 [==============================] - 0s 36us/sample - loss: 0.3853\n",
      "Epoch 40/500\n",
      "1289/1289 [==============================] - 0s 37us/sample - loss: 0.3771\n",
      "Epoch 41/500\n",
      "1289/1289 [==============================] - 0s 37us/sample - loss: 0.3711\n",
      "Epoch 42/500\n",
      "1289/1289 [==============================] - 0s 35us/sample - loss: 0.3659\n",
      "Epoch 43/500\n",
      "1289/1289 [==============================] - 0s 38us/sample - loss: 0.3588\n",
      "Epoch 44/500\n",
      "1289/1289 [==============================] - 0s 35us/sample - loss: 0.3522\n",
      "Epoch 45/500\n",
      "1289/1289 [==============================] - 0s 38us/sample - loss: 0.3477\n",
      "Epoch 46/500\n",
      "1289/1289 [==============================] - 0s 35us/sample - loss: 0.3435\n",
      "Epoch 47/500\n",
      "1289/1289 [==============================] - 0s 35us/sample - loss: 0.3386\n",
      "Epoch 48/500\n",
      "1289/1289 [==============================] - 0s 38us/sample - loss: 0.3274\n",
      "Epoch 49/500\n",
      "1289/1289 [==============================] - 0s 36us/sample - loss: 0.3224\n",
      "Epoch 50/500\n",
      "1289/1289 [==============================] - 0s 36us/sample - loss: 0.3189\n",
      "Epoch 51/500\n",
      "1289/1289 [==============================] - 0s 35us/sample - loss: 0.3175\n",
      "Epoch 52/500\n",
      "1289/1289 [==============================] - 0s 36us/sample - loss: 0.3141\n",
      "Epoch 53/500\n",
      "1289/1289 [==============================] - 0s 36us/sample - loss: 0.3110\n",
      "Epoch 54/500\n",
      "1289/1289 [==============================] - 0s 36us/sample - loss: 0.3063\n",
      "Epoch 55/500\n",
      "1289/1289 [==============================] - 0s 36us/sample - loss: 0.2993\n",
      "Epoch 56/500\n",
      "1289/1289 [==============================] - 0s 36us/sample - loss: 0.2957\n",
      "Epoch 57/500\n",
      "1289/1289 [==============================] - 0s 36us/sample - loss: 0.2929\n",
      "Epoch 58/500\n",
      "1289/1289 [==============================] - 0s 37us/sample - loss: 0.2904\n",
      "Epoch 59/500\n",
      "1289/1289 [==============================] - 0s 36us/sample - loss: 0.2881\n",
      "Epoch 60/500\n",
      "1289/1289 [==============================] - 0s 36us/sample - loss: 0.2859\n",
      "Epoch 61/500\n",
      "1289/1289 [==============================] - 0s 36us/sample - loss: 0.2837\n",
      "Epoch 62/500\n",
      "1289/1289 [==============================] - 0s 38us/sample - loss: 0.2815\n",
      "Epoch 63/500\n",
      "1289/1289 [==============================] - 0s 37us/sample - loss: 0.2794\n",
      "Epoch 64/500\n",
      "1289/1289 [==============================] - 0s 37us/sample - loss: 0.2774\n",
      "Epoch 65/500\n",
      "1289/1289 [==============================] - 0s 36us/sample - loss: 0.2754\n",
      "Epoch 66/500\n",
      "1289/1289 [==============================] - 0s 37us/sample - loss: 0.2735\n",
      "Epoch 67/500\n",
      "1289/1289 [==============================] - 0s 37us/sample - loss: 0.2714\n",
      "Epoch 68/500\n",
      "1289/1289 [==============================] - 0s 35us/sample - loss: 0.2693\n",
      "Epoch 69/500\n",
      "1289/1289 [==============================] - 0s 36us/sample - loss: 0.2675\n",
      "Epoch 70/500\n",
      "1289/1289 [==============================] - 0s 36us/sample - loss: 0.2657\n",
      "Epoch 71/500\n",
      "1289/1289 [==============================] - 0s 35us/sample - loss: 0.2639\n",
      "Epoch 72/500\n",
      "1289/1289 [==============================] - 0s 36us/sample - loss: 0.2620\n",
      "Epoch 73/500\n",
      "1289/1289 [==============================] - 0s 37us/sample - loss: 0.2601\n",
      "Epoch 74/500\n",
      "1289/1289 [==============================] - 0s 39us/sample - loss: 0.2581\n",
      "Epoch 75/500\n",
      "1289/1289 [==============================] - 0s 37us/sample - loss: 0.2559\n",
      "Epoch 76/500\n",
      "1289/1289 [==============================] - 0s 39us/sample - loss: 0.2540\n",
      "Epoch 77/500\n",
      "1289/1289 [==============================] - 0s 35us/sample - loss: 0.2523\n",
      "Epoch 78/500\n",
      "1289/1289 [==============================] - 0s 35us/sample - loss: 0.2507\n",
      "Epoch 79/500\n",
      "1289/1289 [==============================] - 0s 35us/sample - loss: 0.2491\n",
      "Epoch 80/500\n",
      "1289/1289 [==============================] - 0s 35us/sample - loss: 0.2476\n",
      "Epoch 81/500\n",
      "1289/1289 [==============================] - 0s 36us/sample - loss: 0.2461\n",
      "Epoch 82/500\n",
      "1289/1289 [==============================] - 0s 36us/sample - loss: 0.2445\n",
      "Epoch 83/500\n",
      "1289/1289 [==============================] - 0s 37us/sample - loss: 0.2431\n",
      "Epoch 84/500\n",
      "1289/1289 [==============================] - 0s 37us/sample - loss: 0.2417\n",
      "Epoch 85/500\n",
      "1289/1289 [==============================] - 0s 36us/sample - loss: 0.2404\n",
      "Epoch 86/500\n",
      "1289/1289 [==============================] - 0s 37us/sample - loss: 0.2391\n",
      "Epoch 87/500\n",
      "1289/1289 [==============================] - 0s 37us/sample - loss: 0.2379\n",
      "Epoch 88/500\n",
      "1289/1289 [==============================] - 0s 35us/sample - loss: 0.2368\n",
      "Epoch 89/500\n",
      "1289/1289 [==============================] - 0s 37us/sample - loss: 0.2357\n",
      "Epoch 90/500\n",
      "1289/1289 [==============================] - 0s 37us/sample - loss: 0.2347\n",
      "Epoch 91/500\n",
      "1289/1289 [==============================] - 0s 38us/sample - loss: 0.2338\n",
      "Epoch 92/500\n",
      "1289/1289 [==============================] - 0s 37us/sample - loss: 0.2329\n",
      "Epoch 93/500\n",
      "1289/1289 [==============================] - 0s 37us/sample - loss: 0.2321\n"
     ]
    },
    {
     "name": "stdout",
     "output_type": "stream",
     "text": [
      "Epoch 94/500\n",
      "1289/1289 [==============================] - 0s 37us/sample - loss: 0.2314\n",
      "Epoch 95/500\n",
      "1289/1289 [==============================] - 0s 36us/sample - loss: 0.2306\n",
      "Epoch 96/500\n",
      "1289/1289 [==============================] - 0s 35us/sample - loss: 0.2298\n",
      "Epoch 97/500\n",
      "1289/1289 [==============================] - 0s 36us/sample - loss: 0.2291\n",
      "Epoch 98/500\n",
      "1289/1289 [==============================] - 0s 37us/sample - loss: 0.2284\n",
      "Epoch 99/500\n",
      "1289/1289 [==============================] - 0s 35us/sample - loss: 0.2276\n",
      "Epoch 100/500\n",
      "1289/1289 [==============================] - 0s 35us/sample - loss: 0.2275\n",
      "Epoch 101/500\n",
      "1289/1289 [==============================] - 0s 36us/sample - loss: 0.2267\n",
      "Epoch 102/500\n",
      "1289/1289 [==============================] - 0s 39us/sample - loss: 0.2260\n",
      "Epoch 103/500\n",
      "1289/1289 [==============================] - 0s 42us/sample - loss: 0.2248\n",
      "Epoch 104/500\n",
      "1289/1289 [==============================] - 0s 39us/sample - loss: 0.2250\n",
      "Epoch 105/500\n",
      "1289/1289 [==============================] - 0s 44us/sample - loss: 0.2235\n",
      "Epoch 106/500\n",
      "1289/1289 [==============================] - 0s 37us/sample - loss: 0.2227\n",
      "Epoch 107/500\n",
      "1289/1289 [==============================] - 0s 36us/sample - loss: 0.2219\n",
      "Epoch 108/500\n",
      "1289/1289 [==============================] - 0s 36us/sample - loss: 0.2212\n",
      "Epoch 109/500\n",
      "1289/1289 [==============================] - 0s 37us/sample - loss: 0.2205\n",
      "Epoch 110/500\n",
      "1289/1289 [==============================] - 0s 37us/sample - loss: 0.2199\n",
      "Epoch 111/500\n",
      "1289/1289 [==============================] - 0s 37us/sample - loss: 0.2195\n",
      "Epoch 112/500\n",
      "1289/1289 [==============================] - 0s 36us/sample - loss: 0.2189\n",
      "Epoch 113/500\n",
      "1289/1289 [==============================] - 0s 38us/sample - loss: 0.2182\n",
      "Epoch 114/500\n",
      "1289/1289 [==============================] - 0s 37us/sample - loss: 0.2175\n",
      "Epoch 115/500\n",
      "1289/1289 [==============================] - 0s 38us/sample - loss: 0.2169\n",
      "Epoch 116/500\n",
      "1289/1289 [==============================] - 0s 36us/sample - loss: 0.2163\n",
      "Epoch 117/500\n",
      "1289/1289 [==============================] - 0s 34us/sample - loss: 0.2157\n",
      "Epoch 118/500\n",
      "1289/1289 [==============================] - 0s 34us/sample - loss: 0.2151\n",
      "Epoch 119/500\n",
      "1289/1289 [==============================] - 0s 35us/sample - loss: 0.2145\n",
      "Epoch 120/500\n",
      "1289/1289 [==============================] - 0s 34us/sample - loss: 0.2139\n",
      "Epoch 121/500\n",
      "1289/1289 [==============================] - 0s 34us/sample - loss: 0.2133\n",
      "Epoch 122/500\n",
      "1289/1289 [==============================] - 0s 36us/sample - loss: 0.2127\n",
      "Epoch 123/500\n",
      "1289/1289 [==============================] - 0s 35us/sample - loss: 0.2121\n",
      "Epoch 124/500\n",
      "1289/1289 [==============================] - 0s 35us/sample - loss: 0.2115\n",
      "Epoch 125/500\n",
      "1289/1289 [==============================] - 0s 35us/sample - loss: 0.2108\n",
      "Epoch 126/500\n",
      "1289/1289 [==============================] - 0s 34us/sample - loss: 0.2102\n",
      "Epoch 127/500\n",
      "1289/1289 [==============================] - 0s 35us/sample - loss: 0.2096\n",
      "Epoch 128/500\n",
      "1289/1289 [==============================] - 0s 36us/sample - loss: 0.2089\n",
      "Epoch 129/500\n",
      "1289/1289 [==============================] - 0s 35us/sample - loss: 0.2083\n",
      "Epoch 130/500\n",
      "1289/1289 [==============================] - 0s 35us/sample - loss: 0.2077\n",
      "Epoch 131/500\n",
      "1289/1289 [==============================] - 0s 35us/sample - loss: 0.2070\n",
      "Epoch 132/500\n",
      "1289/1289 [==============================] - 0s 35us/sample - loss: 0.2064\n",
      "Epoch 133/500\n",
      "1289/1289 [==============================] - 0s 34us/sample - loss: 0.2058\n",
      "Epoch 134/500\n",
      "1289/1289 [==============================] - 0s 36us/sample - loss: 0.2052\n",
      "Epoch 135/500\n",
      "1289/1289 [==============================] - 0s 36us/sample - loss: 0.2046\n",
      "Epoch 136/500\n",
      "1289/1289 [==============================] - 0s 35us/sample - loss: 0.2040\n",
      "Epoch 137/500\n",
      "1289/1289 [==============================] - 0s 36us/sample - loss: 0.2034\n",
      "Epoch 138/500\n",
      "1289/1289 [==============================] - 0s 36us/sample - loss: 0.2028\n",
      "Epoch 139/500\n",
      "1289/1289 [==============================] - 0s 36us/sample - loss: 0.2022\n",
      "Epoch 140/500\n",
      "1289/1289 [==============================] - 0s 35us/sample - loss: 0.2017\n",
      "Epoch 141/500\n",
      "1289/1289 [==============================] - 0s 36us/sample - loss: 0.2011\n",
      "Epoch 142/500\n",
      "1289/1289 [==============================] - 0s 35us/sample - loss: 0.2005\n",
      "Epoch 143/500\n",
      "1289/1289 [==============================] - 0s 36us/sample - loss: 0.2000\n",
      "Epoch 144/500\n",
      "1289/1289 [==============================] - 0s 35us/sample - loss: 0.1994\n",
      "Epoch 145/500\n",
      "1289/1289 [==============================] - 0s 36us/sample - loss: 0.1989\n",
      "Epoch 146/500\n",
      "1289/1289 [==============================] - 0s 35us/sample - loss: 0.1984\n",
      "Epoch 147/500\n",
      "1289/1289 [==============================] - 0s 36us/sample - loss: 0.1979\n",
      "Epoch 148/500\n",
      "1289/1289 [==============================] - 0s 34us/sample - loss: 0.1975\n",
      "Epoch 149/500\n",
      "1289/1289 [==============================] - 0s 35us/sample - loss: 0.1970\n",
      "Epoch 150/500\n",
      "1289/1289 [==============================] - 0s 35us/sample - loss: 0.1965\n",
      "Epoch 151/500\n",
      "1289/1289 [==============================] - 0s 35us/sample - loss: 0.1961\n",
      "Epoch 152/500\n",
      "1289/1289 [==============================] - 0s 35us/sample - loss: 0.1957\n",
      "Epoch 153/500\n",
      "1289/1289 [==============================] - 0s 35us/sample - loss: 0.1953\n",
      "Epoch 154/500\n",
      "1289/1289 [==============================] - 0s 36us/sample - loss: 0.1949\n",
      "Epoch 155/500\n",
      "1289/1289 [==============================] - 0s 36us/sample - loss: 0.1945\n",
      "Epoch 156/500\n",
      "1289/1289 [==============================] - 0s 36us/sample - loss: 0.1942\n",
      "Epoch 157/500\n",
      "1289/1289 [==============================] - 0s 35us/sample - loss: 0.1939\n",
      "Epoch 158/500\n",
      "1289/1289 [==============================] - 0s 35us/sample - loss: 0.1936\n",
      "Epoch 159/500\n",
      "1289/1289 [==============================] - 0s 36us/sample - loss: 0.1933\n",
      "Epoch 160/500\n",
      "1289/1289 [==============================] - 0s 35us/sample - loss: 0.1930\n",
      "Epoch 161/500\n",
      "1289/1289 [==============================] - 0s 35us/sample - loss: 0.1928\n",
      "Epoch 162/500\n",
      "1289/1289 [==============================] - 0s 34us/sample - loss: 0.1925\n",
      "Epoch 163/500\n",
      "1289/1289 [==============================] - 0s 35us/sample - loss: 0.1923\n",
      "Epoch 164/500\n",
      "1289/1289 [==============================] - 0s 35us/sample - loss: 0.1921\n",
      "Epoch 165/500\n",
      "1289/1289 [==============================] - 0s 35us/sample - loss: 0.1919\n",
      "Epoch 166/500\n",
      "1289/1289 [==============================] - 0s 35us/sample - loss: 0.1917\n",
      "Epoch 167/500\n",
      "1289/1289 [==============================] - 0s 35us/sample - loss: 0.1915\n",
      "Epoch 168/500\n",
      "1289/1289 [==============================] - 0s 35us/sample - loss: 0.1913\n",
      "Epoch 169/500\n",
      "1289/1289 [==============================] - 0s 36us/sample - loss: 0.1912\n",
      "Epoch 170/500\n",
      "1289/1289 [==============================] - 0s 35us/sample - loss: 0.1910\n",
      "Epoch 171/500\n",
      "1289/1289 [==============================] - 0s 35us/sample - loss: 0.1909\n",
      "Epoch 172/500\n",
      "1289/1289 [==============================] - 0s 36us/sample - loss: 0.1907\n",
      "Epoch 173/500\n",
      "1289/1289 [==============================] - 0s 34us/sample - loss: 0.1906\n",
      "Epoch 174/500\n",
      "1289/1289 [==============================] - 0s 35us/sample - loss: 0.1904\n",
      "Epoch 175/500\n",
      "1289/1289 [==============================] - 0s 35us/sample - loss: 0.1903\n",
      "Epoch 176/500\n",
      "1289/1289 [==============================] - 0s 36us/sample - loss: 0.1902\n",
      "Epoch 177/500\n",
      "1289/1289 [==============================] - 0s 36us/sample - loss: 0.1901\n",
      "Epoch 178/500\n",
      "1289/1289 [==============================] - 0s 35us/sample - loss: 0.1900\n",
      "Epoch 179/500\n",
      "1289/1289 [==============================] - 0s 36us/sample - loss: 0.1899\n",
      "Epoch 180/500\n",
      "1289/1289 [==============================] - 0s 35us/sample - loss: 0.1898\n",
      "Epoch 181/500\n",
      "1289/1289 [==============================] - 0s 35us/sample - loss: 0.1897\n",
      "Epoch 182/500\n",
      "1289/1289 [==============================] - 0s 34us/sample - loss: 0.1896\n",
      "Epoch 183/500\n",
      "1289/1289 [==============================] - 0s 36us/sample - loss: 0.1895\n",
      "Epoch 184/500\n",
      "1289/1289 [==============================] - 0s 35us/sample - loss: 0.1894\n",
      "Epoch 185/500\n",
      "1289/1289 [==============================] - 0s 36us/sample - loss: 0.1893\n",
      "Epoch 186/500\n"
     ]
    },
    {
     "name": "stdout",
     "output_type": "stream",
     "text": [
      "1289/1289 [==============================] - 0s 35us/sample - loss: 0.1892\n",
      "Epoch 187/500\n",
      "1289/1289 [==============================] - 0s 35us/sample - loss: 0.1891\n",
      "Epoch 188/500\n",
      "1289/1289 [==============================] - 0s 35us/sample - loss: 0.1891\n",
      "Epoch 189/500\n",
      "1289/1289 [==============================] - 0s 34us/sample - loss: 0.1890\n",
      "Epoch 190/500\n",
      "1289/1289 [==============================] - 0s 35us/sample - loss: 0.1889\n",
      "Epoch 191/500\n",
      "1289/1289 [==============================] - 0s 35us/sample - loss: 0.1888\n",
      "Epoch 192/500\n",
      "1289/1289 [==============================] - 0s 34us/sample - loss: 0.1887\n",
      "Epoch 193/500\n",
      "1289/1289 [==============================] - 0s 34us/sample - loss: 0.1886\n",
      "Epoch 194/500\n",
      "1289/1289 [==============================] - 0s 35us/sample - loss: 0.1886\n",
      "Epoch 195/500\n",
      "1289/1289 [==============================] - 0s 35us/sample - loss: 0.1885\n",
      "Epoch 196/500\n",
      "1289/1289 [==============================] - 0s 35us/sample - loss: 0.1884\n",
      "Epoch 197/500\n",
      "1289/1289 [==============================] - 0s 35us/sample - loss: 0.1884\n",
      "Epoch 198/500\n",
      "1289/1289 [==============================] - 0s 34us/sample - loss: 0.1883\n",
      "Epoch 199/500\n",
      "1289/1289 [==============================] - 0s 41us/sample - loss: 0.1882\n",
      "Epoch 200/500\n",
      "1289/1289 [==============================] - 0s 35us/sample - loss: 0.1882\n",
      "Epoch 201/500\n",
      "1289/1289 [==============================] - 0s 35us/sample - loss: 0.1881\n",
      "Epoch 202/500\n",
      "1289/1289 [==============================] - 0s 35us/sample - loss: 0.1880\n",
      "Epoch 203/500\n",
      "1289/1289 [==============================] - 0s 34us/sample - loss: 0.1879\n",
      "Epoch 204/500\n",
      "1289/1289 [==============================] - 0s 34us/sample - loss: 0.1878\n",
      "Epoch 205/500\n",
      "1289/1289 [==============================] - 0s 36us/sample - loss: 0.1877\n",
      "Epoch 206/500\n",
      "1289/1289 [==============================] - 0s 35us/sample - loss: 0.1877\n",
      "Epoch 207/500\n",
      "1289/1289 [==============================] - 0s 35us/sample - loss: 0.1875\n",
      "Epoch 208/500\n",
      "1289/1289 [==============================] - 0s 35us/sample - loss: 0.1875\n",
      "Epoch 209/500\n",
      "1289/1289 [==============================] - 0s 35us/sample - loss: 0.1874\n",
      "Epoch 210/500\n",
      "1289/1289 [==============================] - 0s 34us/sample - loss: 0.1873\n",
      "Epoch 211/500\n",
      "1289/1289 [==============================] - 0s 34us/sample - loss: 0.1872\n",
      "Epoch 212/500\n",
      "1289/1289 [==============================] - 0s 35us/sample - loss: 0.1871\n",
      "Epoch 213/500\n",
      "1289/1289 [==============================] - 0s 35us/sample - loss: 0.1870\n",
      "Epoch 214/500\n",
      "1289/1289 [==============================] - 0s 35us/sample - loss: 0.1869\n",
      "Epoch 215/500\n",
      "1289/1289 [==============================] - 0s 36us/sample - loss: 0.1868\n",
      "Epoch 216/500\n",
      "1289/1289 [==============================] - 0s 35us/sample - loss: 0.1867\n",
      "Epoch 217/500\n",
      "1289/1289 [==============================] - 0s 35us/sample - loss: 0.1867\n",
      "Epoch 218/500\n",
      "1289/1289 [==============================] - 0s 35us/sample - loss: 0.1866\n",
      "Epoch 219/500\n",
      "1289/1289 [==============================] - 0s 36us/sample - loss: 0.1865\n",
      "Epoch 220/500\n",
      "1289/1289 [==============================] - 0s 35us/sample - loss: 0.1864\n",
      "Epoch 221/500\n",
      "1289/1289 [==============================] - 0s 35us/sample - loss: 0.1864\n",
      "Epoch 222/500\n",
      "1289/1289 [==============================] - 0s 36us/sample - loss: 0.1863\n",
      "Epoch 223/500\n",
      "1289/1289 [==============================] - 0s 35us/sample - loss: 0.1862\n",
      "Epoch 224/500\n",
      "1289/1289 [==============================] - 0s 36us/sample - loss: 0.1861\n",
      "Epoch 225/500\n",
      "1289/1289 [==============================] - 0s 35us/sample - loss: 0.1860\n",
      "Epoch 226/500\n",
      "1289/1289 [==============================] - 0s 36us/sample - loss: 0.1860\n",
      "Epoch 227/500\n",
      "1289/1289 [==============================] - 0s 39us/sample - loss: 0.1859\n",
      "Epoch 228/500\n",
      "1289/1289 [==============================] - 0s 38us/sample - loss: 0.1858\n",
      "Epoch 229/500\n",
      "1289/1289 [==============================] - 0s 38us/sample - loss: 0.1857\n",
      "Epoch 230/500\n",
      "1289/1289 [==============================] - 0s 36us/sample - loss: 0.1856\n",
      "Epoch 231/500\n",
      "1289/1289 [==============================] - 0s 36us/sample - loss: 0.1855\n",
      "Epoch 232/500\n",
      "1289/1289 [==============================] - 0s 35us/sample - loss: 0.1854\n",
      "Epoch 233/500\n",
      "1289/1289 [==============================] - 0s 35us/sample - loss: 0.1853\n",
      "Epoch 234/500\n",
      "1289/1289 [==============================] - 0s 35us/sample - loss: 0.1852\n",
      "Epoch 235/500\n",
      "1289/1289 [==============================] - 0s 36us/sample - loss: 0.1851\n",
      "Epoch 236/500\n",
      "1289/1289 [==============================] - 0s 35us/sample - loss: 0.1850\n",
      "Epoch 237/500\n",
      "1289/1289 [==============================] - 0s 36us/sample - loss: 0.1849\n",
      "Epoch 238/500\n",
      "1289/1289 [==============================] - 0s 36us/sample - loss: 0.1848\n",
      "Epoch 239/500\n",
      "1289/1289 [==============================] - 0s 36us/sample - loss: 0.1847\n",
      "Epoch 240/500\n",
      "1289/1289 [==============================] - 0s 35us/sample - loss: 0.1847\n",
      "Epoch 241/500\n",
      "1289/1289 [==============================] - 0s 37us/sample - loss: 0.1846\n",
      "Epoch 242/500\n",
      "1289/1289 [==============================] - 0s 35us/sample - loss: 0.1845\n",
      "Epoch 243/500\n",
      "1289/1289 [==============================] - 0s 36us/sample - loss: 0.1844\n",
      "Epoch 244/500\n",
      "1289/1289 [==============================] - 0s 35us/sample - loss: 0.1843\n",
      "Epoch 245/500\n",
      "1289/1289 [==============================] - 0s 35us/sample - loss: 0.1842\n",
      "Epoch 246/500\n",
      "1289/1289 [==============================] - 0s 35us/sample - loss: 0.1841\n",
      "Epoch 247/500\n",
      "1289/1289 [==============================] - 0s 34us/sample - loss: 0.1841\n",
      "Epoch 248/500\n",
      "1289/1289 [==============================] - 0s 35us/sample - loss: 0.1840\n",
      "Epoch 249/500\n",
      "1289/1289 [==============================] - 0s 35us/sample - loss: 0.1839\n",
      "Epoch 250/500\n",
      "1289/1289 [==============================] - 0s 36us/sample - loss: 0.1839\n",
      "Epoch 251/500\n",
      "1289/1289 [==============================] - 0s 36us/sample - loss: 0.1839\n",
      "Epoch 252/500\n",
      "1289/1289 [==============================] - 0s 35us/sample - loss: 0.1838\n",
      "Epoch 253/500\n",
      "1289/1289 [==============================] - 0s 36us/sample - loss: 0.1837\n",
      "Epoch 254/500\n",
      "1289/1289 [==============================] - 0s 36us/sample - loss: 0.1836\n",
      "Epoch 255/500\n",
      "1289/1289 [==============================] - 0s 35us/sample - loss: 0.1835\n",
      "Epoch 256/500\n",
      "1289/1289 [==============================] - 0s 36us/sample - loss: 0.1834\n",
      "Epoch 257/500\n",
      "1289/1289 [==============================] - 0s 36us/sample - loss: 0.1834\n",
      "Epoch 258/500\n",
      "1289/1289 [==============================] - 0s 35us/sample - loss: 0.1833\n",
      "Epoch 259/500\n",
      "1289/1289 [==============================] - 0s 42us/sample - loss: 0.1833\n",
      "Epoch 260/500\n",
      "1289/1289 [==============================] - 0s 36us/sample - loss: 0.1832\n",
      "Epoch 261/500\n",
      "1289/1289 [==============================] - 0s 36us/sample - loss: 0.1832\n",
      "Epoch 262/500\n",
      "1289/1289 [==============================] - 0s 36us/sample - loss: 0.1831\n",
      "Epoch 263/500\n",
      "1289/1289 [==============================] - 0s 37us/sample - loss: 0.1830\n",
      "Epoch 264/500\n",
      "1289/1289 [==============================] - 0s 36us/sample - loss: 0.1830\n",
      "Epoch 265/500\n",
      "1289/1289 [==============================] - 0s 36us/sample - loss: 0.1829\n",
      "Epoch 266/500\n",
      "1289/1289 [==============================] - 0s 35us/sample - loss: 0.1828\n",
      "Epoch 267/500\n",
      "1289/1289 [==============================] - 0s 35us/sample - loss: 0.1828\n",
      "Epoch 268/500\n",
      "1289/1289 [==============================] - 0s 36us/sample - loss: 0.1827\n",
      "Epoch 269/500\n",
      "1289/1289 [==============================] - 0s 36us/sample - loss: 0.1827\n",
      "Epoch 270/500\n",
      "1289/1289 [==============================] - 0s 35us/sample - loss: 0.1826\n",
      "Epoch 271/500\n",
      "1289/1289 [==============================] - 0s 38us/sample - loss: 0.1825\n",
      "Epoch 272/500\n",
      "1289/1289 [==============================] - 0s 38us/sample - loss: 0.1825\n",
      "Epoch 273/500\n",
      "1289/1289 [==============================] - 0s 36us/sample - loss: 0.1825\n",
      "Epoch 274/500\n",
      "1289/1289 [==============================] - 0s 36us/sample - loss: 0.1824\n",
      "Epoch 275/500\n",
      "1289/1289 [==============================] - 0s 36us/sample - loss: 0.1824\n",
      "Epoch 276/500\n",
      "1289/1289 [==============================] - 0s 35us/sample - loss: 0.1823\n",
      "Epoch 277/500\n",
      "1289/1289 [==============================] - 0s 35us/sample - loss: 0.1825\n",
      "Epoch 278/500\n"
     ]
    },
    {
     "name": "stdout",
     "output_type": "stream",
     "text": [
      "1289/1289 [==============================] - 0s 35us/sample - loss: 0.1823\n",
      "Epoch 279/500\n",
      "1289/1289 [==============================] - 0s 36us/sample - loss: 0.1821\n",
      "Epoch 280/500\n",
      "1289/1289 [==============================] - 0s 35us/sample - loss: 0.1821\n",
      "Epoch 281/500\n",
      "1289/1289 [==============================] - 0s 35us/sample - loss: 0.1821\n",
      "Epoch 282/500\n",
      "1289/1289 [==============================] - 0s 35us/sample - loss: 0.1820\n",
      "Epoch 283/500\n",
      "1289/1289 [==============================] - 0s 36us/sample - loss: 0.1820\n",
      "Epoch 284/500\n",
      "1289/1289 [==============================] - 0s 35us/sample - loss: 0.1819\n",
      "Epoch 285/500\n",
      "1289/1289 [==============================] - 0s 35us/sample - loss: 0.1820\n",
      "Epoch 286/500\n",
      "1289/1289 [==============================] - 0s 35us/sample - loss: 0.1819\n",
      "Epoch 287/500\n",
      "1289/1289 [==============================] - 0s 35us/sample - loss: 0.1818\n",
      "Epoch 288/500\n",
      "1289/1289 [==============================] - 0s 35us/sample - loss: 0.1817\n",
      "Epoch 289/500\n",
      "1289/1289 [==============================] - 0s 35us/sample - loss: 0.1818\n",
      "Epoch 290/500\n",
      "1289/1289 [==============================] - 0s 35us/sample - loss: 0.1818\n",
      "Epoch 291/500\n",
      "1289/1289 [==============================] - 0s 35us/sample - loss: 0.1817\n",
      "Epoch 292/500\n",
      "1289/1289 [==============================] - 0s 35us/sample - loss: 0.1818\n",
      "Epoch 293/500\n",
      "1289/1289 [==============================] - 0s 34us/sample - loss: 0.1818\n",
      "Epoch 294/500\n",
      "1289/1289 [==============================] - 0s 35us/sample - loss: 0.1817\n",
      "Epoch 295/500\n",
      "1289/1289 [==============================] - 0s 36us/sample - loss: 0.1816\n",
      "Epoch 296/500\n",
      "1289/1289 [==============================] - 0s 37us/sample - loss: 0.1817\n",
      "Epoch 297/500\n",
      "1289/1289 [==============================] - 0s 37us/sample - loss: 0.1815\n",
      "Epoch 298/500\n",
      "1289/1289 [==============================] - 0s 37us/sample - loss: 0.1816\n",
      "Epoch 299/500\n",
      "1289/1289 [==============================] - 0s 35us/sample - loss: 0.1816\n",
      "Epoch 300/500\n",
      "1289/1289 [==============================] - 0s 36us/sample - loss: 0.1815\n",
      "Epoch 301/500\n",
      "1289/1289 [==============================] - 0s 36us/sample - loss: 0.1815\n",
      "Epoch 302/500\n",
      "1289/1289 [==============================] - 0s 36us/sample - loss: 0.1815\n",
      "Epoch 303/500\n",
      "1289/1289 [==============================] - 0s 35us/sample - loss: 0.1815\n",
      "Epoch 304/500\n",
      "1289/1289 [==============================] - 0s 36us/sample - loss: 0.1814\n",
      "Epoch 305/500\n",
      "1289/1289 [==============================] - 0s 36us/sample - loss: 0.1814\n",
      "Epoch 306/500\n",
      "1289/1289 [==============================] - 0s 35us/sample - loss: 0.1815\n",
      "Epoch 307/500\n",
      "1289/1289 [==============================] - 0s 36us/sample - loss: 0.1814\n",
      "Epoch 308/500\n",
      "1289/1289 [==============================] - 0s 36us/sample - loss: 0.1813\n",
      "Epoch 309/500\n",
      "1289/1289 [==============================] - 0s 36us/sample - loss: 0.1813\n",
      "Epoch 310/500\n",
      "1289/1289 [==============================] - 0s 35us/sample - loss: 0.1813\n",
      "Epoch 311/500\n",
      "1289/1289 [==============================] - 0s 35us/sample - loss: 0.1813\n",
      "Epoch 312/500\n",
      "1289/1289 [==============================] - 0s 35us/sample - loss: 0.1813\n",
      "Epoch 313/500\n",
      "1289/1289 [==============================] - 0s 35us/sample - loss: 0.1813\n",
      "Epoch 314/500\n",
      "1289/1289 [==============================] - 0s 35us/sample - loss: 0.1813\n",
      "Epoch 315/500\n",
      "1289/1289 [==============================] - 0s 36us/sample - loss: 0.1813\n",
      "Epoch 316/500\n",
      "1289/1289 [==============================] - 0s 35us/sample - loss: 0.1812\n",
      "Epoch 317/500\n",
      "1289/1289 [==============================] - 0s 35us/sample - loss: 0.1812\n",
      "Epoch 318/500\n",
      "1289/1289 [==============================] - 0s 35us/sample - loss: 0.1811\n",
      "Epoch 319/500\n",
      "1289/1289 [==============================] - 0s 36us/sample - loss: 0.1811\n",
      "Epoch 320/500\n",
      "1289/1289 [==============================] - 0s 35us/sample - loss: 0.1811\n",
      "Epoch 321/500\n",
      "1289/1289 [==============================] - 0s 34us/sample - loss: 0.1811\n",
      "Epoch 322/500\n",
      "1289/1289 [==============================] - 0s 37us/sample - loss: 0.1811\n",
      "Epoch 323/500\n",
      "1289/1289 [==============================] - 0s 36us/sample - loss: 0.1810\n",
      "Epoch 324/500\n",
      "1289/1289 [==============================] - 0s 37us/sample - loss: 0.1810\n",
      "Epoch 325/500\n",
      "1289/1289 [==============================] - 0s 36us/sample - loss: 0.1810\n",
      "Epoch 326/500\n",
      "1289/1289 [==============================] - 0s 35us/sample - loss: 0.1810\n",
      "Epoch 327/500\n",
      "1289/1289 [==============================] - 0s 36us/sample - loss: 0.1810\n",
      "Epoch 328/500\n",
      "1289/1289 [==============================] - 0s 35us/sample - loss: 0.1810\n",
      "Epoch 329/500\n",
      "1289/1289 [==============================] - 0s 35us/sample - loss: 0.1810\n",
      "Epoch 330/500\n",
      "1289/1289 [==============================] - 0s 35us/sample - loss: 0.1809\n",
      "Epoch 331/500\n",
      "1289/1289 [==============================] - 0s 36us/sample - loss: 0.1810\n",
      "Epoch 332/500\n",
      "1289/1289 [==============================] - 0s 35us/sample - loss: 0.1810\n",
      "Epoch 333/500\n",
      "1289/1289 [==============================] - 0s 35us/sample - loss: 0.1810\n",
      "Epoch 334/500\n",
      "1289/1289 [==============================] - 0s 35us/sample - loss: 0.1809\n",
      "Epoch 335/500\n",
      "1289/1289 [==============================] - 0s 35us/sample - loss: 0.1809\n",
      "Epoch 336/500\n",
      "1289/1289 [==============================] - 0s 35us/sample - loss: 0.1808\n",
      "Epoch 337/500\n",
      "1289/1289 [==============================] - 0s 36us/sample - loss: 0.1809\n",
      "Epoch 338/500\n",
      "1289/1289 [==============================] - 0s 35us/sample - loss: 0.1809\n",
      "Epoch 339/500\n",
      "1289/1289 [==============================] - 0s 34us/sample - loss: 0.1808\n",
      "Epoch 340/500\n",
      "1289/1289 [==============================] - 0s 36us/sample - loss: 0.1809\n",
      "Epoch 341/500\n",
      "1289/1289 [==============================] - 0s 36us/sample - loss: 0.1808\n",
      "Epoch 342/500\n",
      "1289/1289 [==============================] - 0s 36us/sample - loss: 0.1808\n",
      "Epoch 343/500\n",
      "1289/1289 [==============================] - 0s 36us/sample - loss: 0.1808\n",
      "Epoch 344/500\n",
      "1289/1289 [==============================] - 0s 36us/sample - loss: 0.1808\n",
      "Epoch 345/500\n",
      "1289/1289 [==============================] - 0s 35us/sample - loss: 0.1807\n",
      "Epoch 346/500\n",
      "1289/1289 [==============================] - 0s 36us/sample - loss: 0.1808\n",
      "Epoch 347/500\n",
      "1289/1289 [==============================] - 0s 35us/sample - loss: 0.1807\n",
      "Epoch 348/500\n",
      "1289/1289 [==============================] - 0s 36us/sample - loss: 0.1807\n",
      "Epoch 349/500\n",
      "1289/1289 [==============================] - 0s 35us/sample - loss: 0.1807\n",
      "Epoch 350/500\n",
      "1289/1289 [==============================] - 0s 36us/sample - loss: 0.1807\n",
      "Epoch 351/500\n",
      "1289/1289 [==============================] - 0s 35us/sample - loss: 0.1807\n",
      "Epoch 352/500\n",
      "1289/1289 [==============================] - 0s 42us/sample - loss: 0.1807\n",
      "Epoch 353/500\n",
      "1289/1289 [==============================] - 0s 36us/sample - loss: 0.1807\n",
      "Epoch 354/500\n",
      "1289/1289 [==============================] - 0s 35us/sample - loss: 0.1806\n",
      "Epoch 355/500\n",
      "1289/1289 [==============================] - 0s 36us/sample - loss: 0.1807\n",
      "Epoch 356/500\n",
      "1289/1289 [==============================] - 0s 35us/sample - loss: 0.1806\n",
      "Epoch 357/500\n",
      "1289/1289 [==============================] - 0s 36us/sample - loss: 0.1806\n",
      "Epoch 358/500\n",
      "1289/1289 [==============================] - 0s 37us/sample - loss: 0.1806\n",
      "Epoch 359/500\n",
      "1289/1289 [==============================] - 0s 38us/sample - loss: 0.1806\n",
      "Epoch 360/500\n",
      "1289/1289 [==============================] - 0s 37us/sample - loss: 0.1806\n",
      "Epoch 361/500\n",
      "1289/1289 [==============================] - 0s 36us/sample - loss: 0.1805\n",
      "Epoch 362/500\n",
      "1289/1289 [==============================] - 0s 36us/sample - loss: 0.1806\n",
      "Epoch 363/500\n",
      "1289/1289 [==============================] - 0s 36us/sample - loss: 0.1805\n",
      "Epoch 364/500\n",
      "1289/1289 [==============================] - 0s 36us/sample - loss: 0.1805\n",
      "Epoch 365/500\n",
      "1289/1289 [==============================] - 0s 36us/sample - loss: 0.1805\n",
      "Epoch 366/500\n",
      "1289/1289 [==============================] - 0s 35us/sample - loss: 0.1806\n",
      "Epoch 367/500\n",
      "1289/1289 [==============================] - 0s 35us/sample - loss: 0.1805\n",
      "Epoch 368/500\n",
      "1289/1289 [==============================] - 0s 35us/sample - loss: 0.1805\n",
      "Epoch 369/500\n",
      "1289/1289 [==============================] - 0s 35us/sample - loss: 0.1805\n",
      "Epoch 370/500\n"
     ]
    },
    {
     "name": "stdout",
     "output_type": "stream",
     "text": [
      "1289/1289 [==============================] - 0s 35us/sample - loss: 0.1808\n",
      "Epoch 371/500\n",
      "1289/1289 [==============================] - 0s 36us/sample - loss: 0.1805\n",
      "Epoch 372/500\n",
      "1289/1289 [==============================] - 0s 36us/sample - loss: 0.1805\n",
      "Epoch 373/500\n",
      "1289/1289 [==============================] - 0s 34us/sample - loss: 0.1805\n",
      "Epoch 374/500\n",
      "1289/1289 [==============================] - 0s 35us/sample - loss: 0.1805\n",
      "Epoch 375/500\n",
      "1289/1289 [==============================] - 0s 36us/sample - loss: 0.1805\n",
      "Epoch 376/500\n",
      "1289/1289 [==============================] - 0s 36us/sample - loss: 0.1804\n",
      "Epoch 377/500\n",
      "1289/1289 [==============================] - 0s 37us/sample - loss: 0.1804\n",
      "Epoch 378/500\n",
      "1289/1289 [==============================] - 0s 34us/sample - loss: 0.1804\n",
      "Epoch 379/500\n",
      "1289/1289 [==============================] - 0s 35us/sample - loss: 0.1804\n",
      "Epoch 380/500\n",
      "1289/1289 [==============================] - 0s 36us/sample - loss: 0.1804\n",
      "Epoch 381/500\n",
      "1289/1289 [==============================] - 0s 35us/sample - loss: 0.1804\n",
      "Epoch 382/500\n",
      "1289/1289 [==============================] - 0s 36us/sample - loss: 0.1804\n",
      "Epoch 383/500\n",
      "1289/1289 [==============================] - 0s 35us/sample - loss: 0.1804\n",
      "Epoch 384/500\n",
      "1289/1289 [==============================] - 0s 35us/sample - loss: 0.1805\n",
      "Epoch 385/500\n",
      "1289/1289 [==============================] - 0s 35us/sample - loss: 0.1803\n",
      "Epoch 386/500\n",
      "1289/1289 [==============================] - 0s 36us/sample - loss: 0.1803\n",
      "Epoch 387/500\n",
      "1289/1289 [==============================] - 0s 35us/sample - loss: 0.1803\n",
      "Epoch 388/500\n",
      "1289/1289 [==============================] - 0s 35us/sample - loss: 0.1803\n",
      "Epoch 389/500\n",
      "1289/1289 [==============================] - 0s 35us/sample - loss: 0.1803\n",
      "Epoch 390/500\n",
      "1289/1289 [==============================] - 0s 35us/sample - loss: 0.1803\n",
      "Epoch 391/500\n",
      "1289/1289 [==============================] - 0s 36us/sample - loss: 0.1803\n",
      "Epoch 392/500\n",
      "1289/1289 [==============================] - 0s 35us/sample - loss: 0.1803\n",
      "Epoch 393/500\n",
      "1289/1289 [==============================] - 0s 35us/sample - loss: 0.1803\n",
      "Epoch 394/500\n",
      "1289/1289 [==============================] - 0s 35us/sample - loss: 0.1803\n",
      "Epoch 395/500\n",
      "1289/1289 [==============================] - 0s 36us/sample - loss: 0.1803\n",
      "Epoch 396/500\n",
      "1289/1289 [==============================] - 0s 35us/sample - loss: 0.1802\n",
      "Epoch 397/500\n",
      "1289/1289 [==============================] - 0s 35us/sample - loss: 0.1803\n",
      "Epoch 398/500\n",
      "1289/1289 [==============================] - 0s 36us/sample - loss: 0.1802\n",
      "Epoch 399/500\n",
      "1289/1289 [==============================] - 0s 35us/sample - loss: 0.1802\n",
      "Epoch 400/500\n",
      "1289/1289 [==============================] - 0s 36us/sample - loss: 0.1802\n",
      "Epoch 401/500\n",
      "1289/1289 [==============================] - 0s 36us/sample - loss: 0.1802\n",
      "Epoch 402/500\n",
      "1289/1289 [==============================] - 0s 35us/sample - loss: 0.1802\n",
      "Epoch 403/500\n",
      "1289/1289 [==============================] - 0s 35us/sample - loss: 0.1802\n",
      "Epoch 404/500\n",
      "1289/1289 [==============================] - 0s 35us/sample - loss: 0.1802\n",
      "Epoch 405/500\n",
      "1289/1289 [==============================] - 0s 35us/sample - loss: 0.1801\n",
      "Epoch 406/500\n",
      "1289/1289 [==============================] - 0s 35us/sample - loss: 0.1802\n",
      "Epoch 407/500\n",
      "1289/1289 [==============================] - 0s 37us/sample - loss: 0.1802\n",
      "Epoch 408/500\n",
      "1289/1289 [==============================] - 0s 35us/sample - loss: 0.1802\n",
      "Epoch 409/500\n",
      "1289/1289 [==============================] - 0s 36us/sample - loss: 0.1801\n",
      "Epoch 410/500\n",
      "1289/1289 [==============================] - 0s 35us/sample - loss: 0.1801\n",
      "Epoch 411/500\n",
      "1289/1289 [==============================] - 0s 35us/sample - loss: 0.1801\n",
      "Epoch 412/500\n",
      "1289/1289 [==============================] - 0s 35us/sample - loss: 0.1801\n",
      "Epoch 413/500\n",
      "1289/1289 [==============================] - 0s 35us/sample - loss: 0.1801\n",
      "Epoch 414/500\n",
      "1289/1289 [==============================] - 0s 35us/sample - loss: 0.1801\n",
      "Epoch 415/500\n",
      "1289/1289 [==============================] - 0s 37us/sample - loss: 0.1801\n",
      "Epoch 416/500\n",
      "1289/1289 [==============================] - 0s 36us/sample - loss: 0.1801\n",
      "Epoch 417/500\n",
      "1289/1289 [==============================] - 0s 36us/sample - loss: 0.1802\n",
      "Epoch 418/500\n",
      "1289/1289 [==============================] - 0s 35us/sample - loss: 0.1801\n",
      "Epoch 419/500\n",
      "1289/1289 [==============================] - 0s 35us/sample - loss: 0.1801\n",
      "Epoch 420/500\n",
      "1289/1289 [==============================] - 0s 36us/sample - loss: 0.1801\n",
      "Epoch 421/500\n",
      "1289/1289 [==============================] - 0s 35us/sample - loss: 0.1801\n",
      "Epoch 422/500\n",
      "1289/1289 [==============================] - 0s 36us/sample - loss: 0.1801\n",
      "Epoch 423/500\n",
      "1289/1289 [==============================] - 0s 35us/sample - loss: 0.1800\n",
      "Epoch 424/500\n",
      "1289/1289 [==============================] - 0s 35us/sample - loss: 0.1801\n",
      "Epoch 425/500\n",
      "1289/1289 [==============================] - 0s 36us/sample - loss: 0.1800\n",
      "Epoch 426/500\n",
      "1289/1289 [==============================] - 0s 37us/sample - loss: 0.1800\n",
      "Epoch 427/500\n",
      "1289/1289 [==============================] - 0s 36us/sample - loss: 0.1800\n",
      "Epoch 428/500\n",
      "1289/1289 [==============================] - 0s 35us/sample - loss: 0.1800\n",
      "Epoch 429/500\n",
      "1289/1289 [==============================] - 0s 35us/sample - loss: 0.1800\n",
      "Epoch 430/500\n",
      "1289/1289 [==============================] - 0s 35us/sample - loss: 0.1800\n",
      "Epoch 431/500\n",
      "1289/1289 [==============================] - 0s 35us/sample - loss: 0.1800\n",
      "Epoch 432/500\n",
      "1289/1289 [==============================] - 0s 35us/sample - loss: 0.1800\n",
      "Epoch 433/500\n",
      "1289/1289 [==============================] - 0s 36us/sample - loss: 0.1800\n",
      "Epoch 434/500\n",
      "1289/1289 [==============================] - 0s 35us/sample - loss: 0.1799\n",
      "Epoch 435/500\n",
      "1289/1289 [==============================] - 0s 38us/sample - loss: 0.1799\n",
      "Epoch 436/500\n",
      "1289/1289 [==============================] - 0s 37us/sample - loss: 0.1799\n",
      "Epoch 437/500\n",
      "1289/1289 [==============================] - 0s 38us/sample - loss: 0.1800\n",
      "Epoch 438/500\n",
      "1289/1289 [==============================] - 0s 37us/sample - loss: 0.1800\n",
      "Epoch 439/500\n",
      "1289/1289 [==============================] - 0s 36us/sample - loss: 0.1799\n",
      "Epoch 440/500\n",
      "1289/1289 [==============================] - 0s 35us/sample - loss: 0.1799\n",
      "Epoch 441/500\n",
      "1289/1289 [==============================] - 0s 38us/sample - loss: 0.1799\n",
      "Epoch 442/500\n",
      "1289/1289 [==============================] - 0s 37us/sample - loss: 0.1799\n",
      "Epoch 443/500\n",
      "1289/1289 [==============================] - 0s 37us/sample - loss: 0.1799\n",
      "Epoch 444/500\n",
      "1289/1289 [==============================] - 0s 37us/sample - loss: 0.1799\n",
      "Epoch 445/500\n",
      "1289/1289 [==============================] - 0s 36us/sample - loss: 0.1799\n",
      "Epoch 446/500\n",
      "1289/1289 [==============================] - 0s 38us/sample - loss: 0.1799\n",
      "Epoch 447/500\n",
      "1289/1289 [==============================] - 0s 38us/sample - loss: 0.1799\n",
      "Epoch 448/500\n",
      "1289/1289 [==============================] - 0s 44us/sample - loss: 0.1799\n",
      "Epoch 449/500\n",
      "1289/1289 [==============================] - 0s 35us/sample - loss: 0.1799\n",
      "Epoch 450/500\n",
      "1289/1289 [==============================] - 0s 37us/sample - loss: 0.1799\n",
      "Epoch 451/500\n",
      "1289/1289 [==============================] - 0s 36us/sample - loss: 0.1798\n",
      "Epoch 452/500\n",
      "1289/1289 [==============================] - 0s 37us/sample - loss: 0.1799\n",
      "Epoch 453/500\n",
      "1289/1289 [==============================] - 0s 40us/sample - loss: 0.1799\n",
      "Epoch 454/500\n",
      "1289/1289 [==============================] - 0s 40us/sample - loss: 0.1798\n",
      "Epoch 455/500\n",
      "1289/1289 [==============================] - 0s 40us/sample - loss: 0.1799\n",
      "Epoch 456/500\n",
      "1289/1289 [==============================] - 0s 39us/sample - loss: 0.1798\n",
      "Epoch 457/500\n",
      "1289/1289 [==============================] - 0s 42us/sample - loss: 0.1798\n",
      "Epoch 458/500\n",
      "1289/1289 [==============================] - 0s 38us/sample - loss: 0.1798\n",
      "Epoch 459/500\n",
      "1289/1289 [==============================] - 0s 38us/sample - loss: 0.1798\n",
      "Epoch 460/500\n",
      "1289/1289 [==============================] - 0s 36us/sample - loss: 0.1798\n",
      "Epoch 461/500\n",
      "1289/1289 [==============================] - 0s 38us/sample - loss: 0.1798\n",
      "Epoch 462/500\n"
     ]
    },
    {
     "name": "stdout",
     "output_type": "stream",
     "text": [
      "1289/1289 [==============================] - 0s 37us/sample - loss: 0.1798\n",
      "Epoch 463/500\n",
      "1289/1289 [==============================] - 0s 38us/sample - loss: 0.1798\n",
      "Epoch 464/500\n",
      "1289/1289 [==============================] - 0s 37us/sample - loss: 0.1798\n",
      "Epoch 465/500\n",
      "1289/1289 [==============================] - 0s 36us/sample - loss: 0.1798\n",
      "Epoch 466/500\n",
      "1289/1289 [==============================] - 0s 36us/sample - loss: 0.1798\n",
      "Epoch 467/500\n",
      "1289/1289 [==============================] - 0s 37us/sample - loss: 0.1797\n",
      "Epoch 468/500\n",
      "1289/1289 [==============================] - 0s 36us/sample - loss: 0.1797\n",
      "Epoch 469/500\n",
      "1289/1289 [==============================] - 0s 36us/sample - loss: 0.1797\n",
      "Epoch 470/500\n",
      "1289/1289 [==============================] - 0s 36us/sample - loss: 0.1797\n",
      "Epoch 471/500\n",
      "1289/1289 [==============================] - 0s 37us/sample - loss: 0.1797\n",
      "Epoch 472/500\n",
      "1289/1289 [==============================] - 0s 36us/sample - loss: 0.1797\n",
      "Epoch 473/500\n",
      "1289/1289 [==============================] - 0s 36us/sample - loss: 0.1797\n",
      "Epoch 474/500\n",
      "1289/1289 [==============================] - 0s 35us/sample - loss: 0.1797\n",
      "Epoch 475/500\n",
      "1289/1289 [==============================] - 0s 36us/sample - loss: 0.1797\n",
      "Epoch 476/500\n",
      "1289/1289 [==============================] - 0s 35us/sample - loss: 0.1797\n",
      "Epoch 477/500\n",
      "1289/1289 [==============================] - 0s 35us/sample - loss: 0.1797\n",
      "Epoch 478/500\n",
      "1289/1289 [==============================] - 0s 35us/sample - loss: 0.1797\n",
      "Epoch 479/500\n",
      "1289/1289 [==============================] - 0s 35us/sample - loss: 0.1797\n",
      "Epoch 480/500\n",
      "1289/1289 [==============================] - 0s 35us/sample - loss: 0.1797\n",
      "Epoch 481/500\n",
      "1289/1289 [==============================] - 0s 35us/sample - loss: 0.1796\n",
      "Epoch 482/500\n",
      "1289/1289 [==============================] - 0s 35us/sample - loss: 0.1796\n",
      "Epoch 483/500\n",
      "1289/1289 [==============================] - 0s 36us/sample - loss: 0.1796\n",
      "Epoch 484/500\n",
      "1289/1289 [==============================] - 0s 35us/sample - loss: 0.1796\n",
      "Epoch 485/500\n",
      "1289/1289 [==============================] - 0s 36us/sample - loss: 0.1796\n",
      "Epoch 486/500\n",
      "1289/1289 [==============================] - 0s 35us/sample - loss: 0.1797\n",
      "Epoch 487/500\n",
      "1289/1289 [==============================] - 0s 36us/sample - loss: 0.1797\n",
      "Epoch 488/500\n",
      "1289/1289 [==============================] - 0s 36us/sample - loss: 0.1797\n",
      "Epoch 489/500\n",
      "1289/1289 [==============================] - 0s 35us/sample - loss: 0.1796\n",
      "Epoch 490/500\n",
      "1289/1289 [==============================] - 0s 34us/sample - loss: 0.1795\n",
      "Epoch 491/500\n",
      "1289/1289 [==============================] - 0s 35us/sample - loss: 0.1795\n",
      "Epoch 492/500\n",
      "1289/1289 [==============================] - 0s 35us/sample - loss: 0.1796\n",
      "Epoch 493/500\n",
      "1289/1289 [==============================] - 0s 37us/sample - loss: 0.1796\n",
      "Epoch 494/500\n",
      "1289/1289 [==============================] - 0s 37us/sample - loss: 0.1796\n",
      "Epoch 495/500\n",
      "1289/1289 [==============================] - 0s 37us/sample - loss: 0.1796\n",
      "Epoch 496/500\n",
      "1289/1289 [==============================] - 0s 36us/sample - loss: 0.1796\n",
      "Epoch 497/500\n",
      "1289/1289 [==============================] - 0s 36us/sample - loss: 0.1795\n",
      "Epoch 498/500\n",
      "1289/1289 [==============================] - 0s 36us/sample - loss: 0.1796\n",
      "Epoch 499/500\n",
      "1289/1289 [==============================] - 0s 36us/sample - loss: 0.1796\n",
      "Epoch 500/500\n",
      "1289/1289 [==============================] - 0s 37us/sample - loss: 0.1795\n"
     ]
    },
    {
     "data": {
      "text/plain": [
       "<tensorflow.python.keras.callbacks.History at 0x7f8a86fbb9d0>"
      ]
     },
     "execution_count": 727,
     "metadata": {},
     "output_type": "execute_result"
    }
   ],
   "source": [
    "autoencoder.fit(X_eco,X_eco, epochs = 500)"
   ]
  },
  {
   "cell_type": "code",
   "execution_count": 728,
   "id": "62775ce7",
   "metadata": {},
   "outputs": [
    {
     "data": {
      "text/plain": [
       "<AxesSubplot:>"
      ]
     },
     "execution_count": 728,
     "metadata": {},
     "output_type": "execute_result"
    },
    {
     "data": {
      "image/png": "[encoded data removed]",
      "text/plain": [
       "<Figure size 640x480 with 1 Axes>"
      ]
     },
     "metadata": {},
     "output_type": "display_data"
    }
   ],
   "source": [
    "pd.DataFrame(autoencoder.history.history).plot()"
   ]
  },
  {
   "cell_type": "code",
   "execution_count": 729,
   "id": "1ef849c9",
   "metadata": {},
   "outputs": [],
   "source": [
    "ecoPRe = encoder.predict(X_eco)"
   ]
  },
  {
   "cell_type": "code",
   "execution_count": 730,
   "id": "7ec71990",
   "metadata": {},
   "outputs": [],
   "source": [
    "ecod = pd.DataFrame(ecoPRe)[[0,1]]"
   ]
  },
  {
   "cell_type": "code",
   "execution_count": 731,
   "id": "9ddcc6c8",
   "metadata": {},
   "outputs": [],
   "source": [
    "X = ecod.values\n",
    "y  = df[\"Heart_ stroke\"].values"
   ]
  },
  {
   "cell_type": "code",
   "execution_count": 732,
   "id": "7898ef65",
   "metadata": {},
   "outputs": [],
   "source": [
    "X_train, X_test, y_train, y_test = train_test_split(X, y, test_size=0.30, random_state=42)"
   ]
  },
  {
   "cell_type": "code",
   "execution_count": 733,
   "id": "8d2cfb0d",
   "metadata": {},
   "outputs": [],
   "source": [
    "from tensorflow.keras.optimizers import SGD"
   ]
  },
  {
   "cell_type": "code",
   "execution_count": 734,
   "id": "26275304",
   "metadata": {},
   "outputs": [],
   "source": [
    "model = Sequential()\n",
    "model.add(Dense(units=200, activation=\"relu\"))\n",
    "model.add(Dense(units=160, activation=\"relu\"))\n",
    "model.add(Dense(units=130, activation=\"relu\"))\n",
    "model.add(Dense(units=130, activation=\"relu\"))\n",
    "model.add(Dense(units=120, activation=\"relu\"))\n",
    "model.add(Dense(units=120, activation=\"relu\"))\n",
    "model.add(Dense(units=80, activation=\"relu\"))\n",
    "model.add(Dense(units=70, activation=\"relu\"))\n",
    "model.add(Dense(units=60, activation=\"relu\"))\n",
    "model.add(Dense(units=50, activation=\"relu\"))\n",
    "model.add(Dense(units=40, activation=\"relu\"))\n",
    "model.add(Dense(units=10, activation=\"relu\"))\n",
    "model.add(Dense(units=1, activation=\"sigmoid\"))\n",
    "\n",
    "model.compile(loss = BinaryCrossentropy(), optimizer = Adam(), metrics = [\"accuracy\"])"
   ]
  },
  {
   "cell_type": "code",
   "execution_count": 735,
   "id": "5ec5fdcc",
   "metadata": {},
   "outputs": [],
   "source": [
    "stop = EarlyStopping(patience=30)"
   ]
  },
  {
   "cell_type": "code",
   "execution_count": 736,
   "id": "2204798d",
   "metadata": {},
   "outputs": [
    {
     "name": "stdout",
     "output_type": "stream",
     "text": [
      "Train on 902 samples, validate on 387 samples\n",
      "Epoch 1/300\n",
      "902/902 [==============================] - 2s 2ms/sample - loss: 0.6909 - accuracy: 0.5233 - val_loss: 0.6841 - val_accuracy: 0.5866\n",
      "Epoch 2/300\n",
      "902/902 [==============================] - 1s 1ms/sample - loss: 0.6794 - accuracy: 0.5887 - val_loss: 0.6777 - val_accuracy: 0.5866\n",
      "Epoch 3/300\n",
      "902/902 [==============================] - 1s 1ms/sample - loss: 0.6818 - accuracy: 0.5510 - val_loss: 0.6928 - val_accuracy: 0.5168\n",
      "Epoch 4/300\n",
      "902/902 [==============================] - 1s 1ms/sample - loss: 0.6786 - accuracy: 0.5676 - val_loss: 0.6708 - val_accuracy: 0.5866\n",
      "Epoch 5/300\n",
      "902/902 [==============================] - 1s 1ms/sample - loss: 0.6761 - accuracy: 0.5865 - val_loss: 0.6881 - val_accuracy: 0.5013\n",
      "Epoch 6/300\n",
      "902/902 [==============================] - 1s 910us/sample - loss: 0.6787 - accuracy: 0.5798 - val_loss: 0.6714 - val_accuracy: 0.6176\n",
      "Epoch 7/300\n",
      "902/902 [==============================] - 1s 903us/sample - loss: 0.6719 - accuracy: 0.5931 - val_loss: 0.6740 - val_accuracy: 0.5866\n",
      "Epoch 8/300\n",
      "902/902 [==============================] - 1s 854us/sample - loss: 0.6676 - accuracy: 0.5998 - val_loss: 0.6776 - val_accuracy: 0.5504\n",
      "Epoch 9/300\n",
      "902/902 [==============================] - 1s 851us/sample - loss: 0.6701 - accuracy: 0.5876 - val_loss: 0.6760 - val_accuracy: 0.5659\n",
      "Epoch 10/300\n",
      "902/902 [==============================] - 1s 884us/sample - loss: 0.6730 - accuracy: 0.5920 - val_loss: 0.6795 - val_accuracy: 0.5556\n",
      "Epoch 11/300\n",
      "902/902 [==============================] - 1s 874us/sample - loss: 0.6743 - accuracy: 0.5787 - val_loss: 0.6671 - val_accuracy: 0.6227\n",
      "Epoch 12/300\n",
      "902/902 [==============================] - 1s 821us/sample - loss: 0.6676 - accuracy: 0.5965 - val_loss: 0.6676 - val_accuracy: 0.6279\n",
      "Epoch 13/300\n",
      "902/902 [==============================] - 1s 803us/sample - loss: 0.6679 - accuracy: 0.5920 - val_loss: 0.6700 - val_accuracy: 0.6021\n",
      "Epoch 14/300\n",
      "902/902 [==============================] - 1s 1ms/sample - loss: 0.6722 - accuracy: 0.5854 - val_loss: 0.6684 - val_accuracy: 0.6150\n",
      "Epoch 15/300\n",
      "902/902 [==============================] - 1s 921us/sample - loss: 0.6657 - accuracy: 0.6098 - val_loss: 0.6604 - val_accuracy: 0.6227\n",
      "Epoch 16/300\n",
      "902/902 [==============================] - 1s 928us/sample - loss: 0.6589 - accuracy: 0.6220 - val_loss: 0.6611 - val_accuracy: 0.6202\n",
      "Epoch 17/300\n",
      "902/902 [==============================] - 1s 843us/sample - loss: 0.6655 - accuracy: 0.6031 - val_loss: 0.6617 - val_accuracy: 0.6279\n",
      "Epoch 18/300\n",
      "902/902 [==============================] - 1s 822us/sample - loss: 0.6605 - accuracy: 0.6098 - val_loss: 0.6567 - val_accuracy: 0.6305\n",
      "Epoch 19/300\n",
      "902/902 [==============================] - 1s 805us/sample - loss: 0.6557 - accuracy: 0.6186 - val_loss: 0.6466 - val_accuracy: 0.6382\n",
      "Epoch 20/300\n",
      "902/902 [==============================] - 1s 878us/sample - loss: 0.6529 - accuracy: 0.6109 - val_loss: 0.6579 - val_accuracy: 0.5969\n",
      "Epoch 21/300\n",
      "902/902 [==============================] - 1s 826us/sample - loss: 0.6537 - accuracy: 0.6109 - val_loss: 0.6465 - val_accuracy: 0.6382\n",
      "Epoch 22/300\n",
      "902/902 [==============================] - 1s 800us/sample - loss: 0.6484 - accuracy: 0.6186 - val_loss: 0.6480 - val_accuracy: 0.6150\n",
      "Epoch 23/300\n",
      "902/902 [==============================] - 1s 816us/sample - loss: 0.6491 - accuracy: 0.6186 - val_loss: 0.6485 - val_accuracy: 0.6124\n",
      "Epoch 24/300\n",
      "902/902 [==============================] - 1s 821us/sample - loss: 0.6482 - accuracy: 0.6120 - val_loss: 0.6611 - val_accuracy: 0.6279\n",
      "Epoch 25/300\n",
      "902/902 [==============================] - 1s 991us/sample - loss: 0.6534 - accuracy: 0.6164 - val_loss: 0.6443 - val_accuracy: 0.6253\n",
      "Epoch 26/300\n",
      "902/902 [==============================] - 1s 923us/sample - loss: 0.6510 - accuracy: 0.6275 - val_loss: 0.6536 - val_accuracy: 0.6124\n",
      "Epoch 27/300\n",
      "902/902 [==============================] - 1s 911us/sample - loss: 0.6548 - accuracy: 0.6086 - val_loss: 0.6458 - val_accuracy: 0.6408\n",
      "Epoch 28/300\n",
      "902/902 [==============================] - 1s 806us/sample - loss: 0.6501 - accuracy: 0.6208 - val_loss: 0.6501 - val_accuracy: 0.6202\n",
      "Epoch 29/300\n",
      "902/902 [==============================] - 1s 852us/sample - loss: 0.6488 - accuracy: 0.6131 - val_loss: 0.6388 - val_accuracy: 0.6331\n",
      "Epoch 30/300\n",
      "902/902 [==============================] - 1s 787us/sample - loss: 0.6479 - accuracy: 0.6175 - val_loss: 0.6351 - val_accuracy: 0.6305\n",
      "Epoch 31/300\n",
      "902/902 [==============================] - 1s 791us/sample - loss: 0.6512 - accuracy: 0.6120 - val_loss: 0.6443 - val_accuracy: 0.6227\n",
      "Epoch 32/300\n",
      "902/902 [==============================] - 1s 787us/sample - loss: 0.6417 - accuracy: 0.6286 - val_loss: 0.6380 - val_accuracy: 0.6408\n",
      "Epoch 33/300\n",
      "902/902 [==============================] - 1s 802us/sample - loss: 0.6440 - accuracy: 0.6242 - val_loss: 0.6377 - val_accuracy: 0.6279\n",
      "Epoch 34/300\n",
      "902/902 [==============================] - 1s 909us/sample - loss: 0.6493 - accuracy: 0.6164 - val_loss: 0.6400 - val_accuracy: 0.6279\n",
      "Epoch 35/300\n",
      "902/902 [==============================] - 1s 1ms/sample - loss: 0.6461 - accuracy: 0.6109 - val_loss: 0.6396 - val_accuracy: 0.6331\n",
      "Epoch 36/300\n",
      "902/902 [==============================] - 1s 770us/sample - loss: 0.6478 - accuracy: 0.6186 - val_loss: 0.6372 - val_accuracy: 0.6253\n",
      "Epoch 37/300\n",
      "902/902 [==============================] - 1s 771us/sample - loss: 0.6394 - accuracy: 0.6286 - val_loss: 0.6394 - val_accuracy: 0.6408\n",
      "Epoch 38/300\n",
      "902/902 [==============================] - 1s 800us/sample - loss: 0.6439 - accuracy: 0.6286 - val_loss: 0.6359 - val_accuracy: 0.6434\n",
      "Epoch 39/300\n",
      "902/902 [==============================] - 1s 840us/sample - loss: 0.6387 - accuracy: 0.6275 - val_loss: 0.6295 - val_accuracy: 0.6408\n",
      "Epoch 40/300\n",
      "902/902 [==============================] - 1s 764us/sample - loss: 0.6489 - accuracy: 0.6220 - val_loss: 0.6429 - val_accuracy: 0.6434\n",
      "Epoch 41/300\n",
      "902/902 [==============================] - 1s 793us/sample - loss: 0.6463 - accuracy: 0.6286 - val_loss: 0.6455 - val_accuracy: 0.6357\n",
      "Epoch 42/300\n",
      "902/902 [==============================] - 1s 781us/sample - loss: 0.6519 - accuracy: 0.6297 - val_loss: 0.6406 - val_accuracy: 0.6434\n",
      "Epoch 43/300\n",
      "902/902 [==============================] - 1s 781us/sample - loss: 0.6445 - accuracy: 0.6397 - val_loss: 0.6390 - val_accuracy: 0.6176\n",
      "Epoch 44/300\n",
      "902/902 [==============================] - 1s 814us/sample - loss: 0.6541 - accuracy: 0.6142 - val_loss: 0.6420 - val_accuracy: 0.6382\n",
      "Epoch 45/300\n",
      "902/902 [==============================] - 1s 820us/sample - loss: 0.6465 - accuracy: 0.6164 - val_loss: 0.6439 - val_accuracy: 0.6279\n",
      "Epoch 46/300\n",
      "902/902 [==============================] - 1s 784us/sample - loss: 0.6494 - accuracy: 0.6086 - val_loss: 0.6476 - val_accuracy: 0.6072\n",
      "Epoch 47/300\n",
      "902/902 [==============================] - 1s 793us/sample - loss: 0.6457 - accuracy: 0.6208 - val_loss: 0.6407 - val_accuracy: 0.6408\n",
      "Epoch 48/300\n",
      "902/902 [==============================] - 1s 787us/sample - loss: 0.6397 - accuracy: 0.6109 - val_loss: 0.6435 - val_accuracy: 0.6382\n",
      "Epoch 49/300\n",
      "902/902 [==============================] - 1s 803us/sample - loss: 0.6472 - accuracy: 0.5953 - val_loss: 0.6367 - val_accuracy: 0.6279\n",
      "Epoch 50/300\n",
      "902/902 [==============================] - 1s 790us/sample - loss: 0.6458 - accuracy: 0.6164 - val_loss: 0.6342 - val_accuracy: 0.6382\n",
      "Epoch 51/300\n",
      "902/902 [==============================] - 1s 811us/sample - loss: 0.6416 - accuracy: 0.6164 - val_loss: 0.6243 - val_accuracy: 0.6408\n",
      "Epoch 52/300\n",
      "902/902 [==============================] - 1s 781us/sample - loss: 0.6364 - accuracy: 0.6175 - val_loss: 0.6285 - val_accuracy: 0.6253\n",
      "Epoch 53/300\n",
      "902/902 [==============================] - 1s 766us/sample - loss: 0.6383 - accuracy: 0.6286 - val_loss: 0.6302 - val_accuracy: 0.6331\n",
      "Epoch 54/300\n",
      "902/902 [==============================] - 1s 798us/sample - loss: 0.6433 - accuracy: 0.6153 - val_loss: 0.6356 - val_accuracy: 0.6460\n",
      "Epoch 55/300\n",
      "902/902 [==============================] - 1s 778us/sample - loss: 0.6344 - accuracy: 0.6197 - val_loss: 0.6305 - val_accuracy: 0.6615\n",
      "Epoch 56/300\n"
     ]
    },
    {
     "name": "stdout",
     "output_type": "stream",
     "text": [
      "902/902 [==============================] - 1s 864us/sample - loss: 0.6349 - accuracy: 0.6231 - val_loss: 0.6288 - val_accuracy: 0.6486\n",
      "Epoch 57/300\n",
      "902/902 [==============================] - 1s 1ms/sample - loss: 0.6322 - accuracy: 0.6164 - val_loss: 0.6423 - val_accuracy: 0.6357\n",
      "Epoch 58/300\n",
      "902/902 [==============================] - 1s 809us/sample - loss: 0.6403 - accuracy: 0.6131 - val_loss: 0.6393 - val_accuracy: 0.6434\n",
      "Epoch 59/300\n",
      "902/902 [==============================] - 1s 780us/sample - loss: 0.6392 - accuracy: 0.6231 - val_loss: 0.6357 - val_accuracy: 0.6434\n",
      "Epoch 60/300\n",
      "902/902 [==============================] - 1s 800us/sample - loss: 0.6392 - accuracy: 0.6220 - val_loss: 0.6446 - val_accuracy: 0.6331\n",
      "Epoch 61/300\n",
      "902/902 [==============================] - 1s 778us/sample - loss: 0.6403 - accuracy: 0.6275 - val_loss: 0.6324 - val_accuracy: 0.6486\n",
      "Epoch 62/300\n",
      "902/902 [==============================] - 1s 777us/sample - loss: 0.6434 - accuracy: 0.6286 - val_loss: 0.6465 - val_accuracy: 0.6253\n",
      "Epoch 63/300\n",
      "902/902 [==============================] - 1s 795us/sample - loss: 0.6322 - accuracy: 0.6475 - val_loss: 0.6389 - val_accuracy: 0.6408\n",
      "Epoch 64/300\n",
      "902/902 [==============================] - 1s 770us/sample - loss: 0.6428 - accuracy: 0.6264 - val_loss: 0.6382 - val_accuracy: 0.6434\n",
      "Epoch 65/300\n",
      "902/902 [==============================] - 1s 787us/sample - loss: 0.6354 - accuracy: 0.6386 - val_loss: 0.6407 - val_accuracy: 0.6202\n",
      "Epoch 66/300\n",
      "902/902 [==============================] - 1s 786us/sample - loss: 0.6310 - accuracy: 0.6341 - val_loss: 0.6308 - val_accuracy: 0.6563\n",
      "Epoch 67/300\n",
      "902/902 [==============================] - 1s 793us/sample - loss: 0.6398 - accuracy: 0.6197 - val_loss: 0.6281 - val_accuracy: 0.6589\n",
      "Epoch 68/300\n",
      "902/902 [==============================] - 1s 850us/sample - loss: 0.6373 - accuracy: 0.6186 - val_loss: 0.6296 - val_accuracy: 0.6408\n",
      "Epoch 69/300\n",
      "902/902 [==============================] - 1s 813us/sample - loss: 0.6331 - accuracy: 0.6364 - val_loss: 0.6293 - val_accuracy: 0.6460\n",
      "Epoch 70/300\n",
      "902/902 [==============================] - 1s 773us/sample - loss: 0.6365 - accuracy: 0.6341 - val_loss: 0.6311 - val_accuracy: 0.6486\n",
      "Epoch 71/300\n",
      "902/902 [==============================] - 1s 818us/sample - loss: 0.6329 - accuracy: 0.6419 - val_loss: 0.6343 - val_accuracy: 0.6460\n",
      "Epoch 72/300\n",
      "902/902 [==============================] - 1s 791us/sample - loss: 0.6366 - accuracy: 0.6508 - val_loss: 0.6248 - val_accuracy: 0.6486\n",
      "Epoch 73/300\n",
      "902/902 [==============================] - 1s 791us/sample - loss: 0.6335 - accuracy: 0.6364 - val_loss: 0.6520 - val_accuracy: 0.6098\n",
      "Epoch 74/300\n",
      "902/902 [==============================] - 1s 784us/sample - loss: 0.6425 - accuracy: 0.6220 - val_loss: 0.6360 - val_accuracy: 0.6331\n",
      "Epoch 75/300\n",
      "902/902 [==============================] - 1s 834us/sample - loss: 0.6363 - accuracy: 0.6286 - val_loss: 0.6362 - val_accuracy: 0.6357\n",
      "Epoch 76/300\n",
      "902/902 [==============================] - 1s 767us/sample - loss: 0.6414 - accuracy: 0.6452 - val_loss: 0.6397 - val_accuracy: 0.6434\n",
      "Epoch 77/300\n",
      "902/902 [==============================] - 1s 802us/sample - loss: 0.6446 - accuracy: 0.6308 - val_loss: 0.6447 - val_accuracy: 0.6279\n",
      "Epoch 78/300\n",
      "902/902 [==============================] - 1s 938us/sample - loss: 0.6401 - accuracy: 0.6297 - val_loss: 0.6265 - val_accuracy: 0.6460\n",
      "Epoch 79/300\n",
      "902/902 [==============================] - 1s 1ms/sample - loss: 0.6361 - accuracy: 0.6264 - val_loss: 0.6262 - val_accuracy: 0.6537\n",
      "Epoch 80/300\n",
      "902/902 [==============================] - 1s 767us/sample - loss: 0.6337 - accuracy: 0.6264 - val_loss: 0.6510 - val_accuracy: 0.6357\n",
      "Epoch 81/300\n",
      "902/902 [==============================] - 1s 790us/sample - loss: 0.6331 - accuracy: 0.6452 - val_loss: 0.6321 - val_accuracy: 0.6408\n"
     ]
    },
    {
     "data": {
      "text/plain": [
       "<tensorflow.python.keras.callbacks.History at 0x7f8ac0f684d0>"
      ]
     },
     "execution_count": 736,
     "metadata": {},
     "output_type": "execute_result"
    }
   ],
   "source": [
    "model.fit(X_train,y_train, epochs = 300, validation_data = (X_test, y_test), callbacks = [stop])"
   ]
  },
  {
   "cell_type": "code",
   "execution_count": 737,
   "id": "4d860b36",
   "metadata": {},
   "outputs": [
    {
     "data": {
      "text/plain": [
       "<AxesSubplot:>"
      ]
     },
     "execution_count": 737,
     "metadata": {},
     "output_type": "execute_result"
    },
    {
     "data": {
      "image/png": "[encoded data removed]",
      "text/plain": [
       "<Figure size 640x480 with 1 Axes>"
      ]
     },
     "metadata": {},
     "output_type": "display_data"
    }
   ],
   "source": [
    "pd.DataFrame(model.history.history)[[\"loss\", \"val_loss\"]].plot()"
   ]
  },
  {
   "cell_type": "code",
   "execution_count": 738,
   "id": "1f985b69",
   "metadata": {},
   "outputs": [],
   "source": [
    "pred = model.predict_classes(X_test)"
   ]
  },
  {
   "cell_type": "code",
   "execution_count": 739,
   "id": "7926bcdb",
   "metadata": {},
   "outputs": [
    {
     "name": "stdout",
     "output_type": "stream",
     "text": [
      "              precision    recall  f1-score   support\n",
      "\n",
      "           0       0.59      0.77      0.67       181\n",
      "           1       0.72      0.53      0.61       206\n",
      "\n",
      "    accuracy                           0.64       387\n",
      "   macro avg       0.66      0.65      0.64       387\n",
      "weighted avg       0.66      0.64      0.64       387\n",
      "\n"
     ]
    }
   ],
   "source": [
    "print(classification_report(y_test, pred))"
   ]
  },
  {
   "cell_type": "code",
   "execution_count": 740,
   "id": "ca9e7779",
   "metadata": {},
   "outputs": [
    {
     "name": "stdout",
     "output_type": "stream",
     "text": [
      "[[139  42]\n",
      " [ 97 109]]\n"
     ]
    }
   ],
   "source": [
    "print(confusion_matrix(y_test, pred))"
   ]
  },
  {
   "cell_type": "code",
   "execution_count": 741,
   "id": "affcc656",
   "metadata": {},
   "outputs": [
    {
     "name": "stdout",
     "output_type": "stream",
     "text": [
      "-0.36158343614225164\n"
     ]
    }
   ],
   "source": [
    "print(explained_variance_score(y_test, pred))"
   ]
  },
  {
   "cell_type": "code",
   "execution_count": null,
   "id": "f83e9cbc",
   "metadata": {},
   "outputs": [],
   "source": []
  },
  {
   "cell_type": "code",
   "execution_count": null,
   "id": "29bbed2c",
   "metadata": {},
   "outputs": [],
   "source": []
  }
 ],
 "metadata": {
  "kernelspec": {
   "display_name": "Python 3 (ipykernel)",
   "language": "python",
   "name": "python3"
  },
  "language_info": {
   "codemirror_mode": {
    "name": "ipython",
    "version": 3
   },
   "file_extension": ".py",
   "mimetype": "text/x-python",
   "name": "python",
   "nbconvert_exporter": "python",
   "pygments_lexer": "ipython3",
   "version": "3.7.16"
  }
 },
 "nbformat": 4,
 "nbformat_minor": 5
}
