{
 "cells": [
  {
   "cell_type": "code",
   "execution_count": 1,
   "id": "98656fee",
   "metadata": {},
   "outputs": [],
   "source": [
    "import pandas as pd\n",
    "import numpy as np\n",
    "import matplotlib.pyplot as plt\n",
    "import seaborn as sns"
   ]
  },
  {
   "cell_type": "code",
   "execution_count": 2,
   "id": "06eca31a",
   "metadata": {},
   "outputs": [],
   "source": [
    "from tensorflow.keras.datasets import mnist"
   ]
  },
  {
   "cell_type": "code",
   "execution_count": 3,
   "id": "d29e63e5",
   "metadata": {},
   "outputs": [],
   "source": [
    "(X_train, y_train), (X_test, y_test) = mnist.load_data()"
   ]
  },
  {
   "cell_type": "code",
   "execution_count": 4,
   "id": "53c5f373",
   "metadata": {},
   "outputs": [
    {
     "data": {
      "text/plain": [
       "(60000, 28, 28)"
      ]
     },
     "execution_count": 4,
     "metadata": {},
     "output_type": "execute_result"
    }
   ],
   "source": [
    "X_train.shape"
   ]
  },
  {
   "cell_type": "code",
   "execution_count": 5,
   "id": "5b302ffd",
   "metadata": {},
   "outputs": [
    {
     "data": {
      "text/plain": [
       "(10000, 28, 28)"
      ]
     },
     "execution_count": 5,
     "metadata": {},
     "output_type": "execute_result"
    }
   ],
   "source": [
    "X_test.shape"
   ]
  },
  {
   "cell_type": "markdown",
   "id": "c97df7d2",
   "metadata": {},
   "source": [
    "## Filter out data\n",
    "- Get a smaller data set for faster training\n",
    "- choose one image you want to target"
   ]
  },
  {
   "cell_type": "code",
   "execution_count": 13,
   "id": "9c50ea2b",
   "metadata": {},
   "outputs": [
    {
     "data": {
      "text/plain": [
       "array([False,  True, False, ..., False, False, False])"
      ]
     },
     "execution_count": 13,
     "metadata": {},
     "output_type": "execute_result"
    }
   ],
   "source": [
    "y_train == 0"
   ]
  },
  {
   "cell_type": "code",
   "execution_count": 25,
   "id": "6add8389",
   "metadata": {},
   "outputs": [],
   "source": [
    "allZeros = X_train[y_train == 0]"
   ]
  },
  {
   "cell_type": "code",
   "execution_count": 26,
   "id": "5bb0930f",
   "metadata": {},
   "outputs": [
    {
     "data": {
      "text/plain": [
       "<matplotlib.image.AxesImage at 0x7f7e52e37350>"
      ]
     },
     "execution_count": 26,
     "metadata": {},
     "output_type": "execute_result"
    },
    {
     "data": {
      "image/png": "[encoded data removed]",
      "text/plain": [
       "<Figure size 640x480 with 1 Axes>"
      ]
     },
     "metadata": {},
     "output_type": "display_data"
    }
   ],
   "source": [
    "plt.imshow(allZeros[3])"
   ]
  },
  {
   "cell_type": "code",
   "execution_count": 12,
   "id": "566f489b",
   "metadata": {},
   "outputs": [
    {
     "data": {
      "text/plain": [
       "(6742, 28, 28)"
      ]
     },
     "execution_count": 12,
     "metadata": {},
     "output_type": "execute_result"
    }
   ],
   "source": [
    "allOnes.shape"
   ]
  },
  {
   "cell_type": "code",
   "execution_count": null,
   "id": "d99568fc",
   "metadata": {},
   "outputs": [],
   "source": []
  },
  {
   "cell_type": "markdown",
   "id": "592e631d",
   "metadata": {},
   "source": [
    "## Creating Generator and Discriminator"
   ]
  },
  {
   "cell_type": "code",
   "execution_count": 18,
   "id": "dbee9910",
   "metadata": {},
   "outputs": [],
   "source": [
    "from tensorflow.keras.models import Sequential\n",
    "from tensorflow.keras.layers import Dense, Flatten, Reshape\n",
    "import tensorflow as tf"
   ]
  },
  {
   "cell_type": "code",
   "execution_count": null,
   "id": "34370f2b",
   "metadata": {},
   "outputs": [],
   "source": []
  },
  {
   "cell_type": "markdown",
   "id": "5b4f5765",
   "metadata": {},
   "source": [
    "## Discriminitor\n",
    "- Taking batch of real images , sample from only zeros or all\n",
    "- equal number of fake images \n",
    "- Set labels 0 fake 1 for real \n",
    "- discrimitor is trained on label batch we set \n",
    "- back proougation on optimized weights from discrimitor"
   ]
  },
  {
   "cell_type": "code",
   "execution_count": 20,
   "id": "bfcc290d",
   "metadata": {},
   "outputs": [],
   "source": [
    "discrimiator = Sequential()\n",
    "discrimiator.add(Flatten(input_shape = [28,28]))\n",
    "discrimiator.add(Dense(units=150, activation=\"relu\"))\n",
    "discrimiator.add(Dense(units=100, activation=\"relu\"))\n",
    "\n",
    "## final output \n",
    "discrimiator.add(Dense(units=1, activation=\"sigmoid\"))\n",
    "\n",
    "discrimiator.compile(loss = \"binary_crossentropy\", optimizer = \"adam\")"
   ]
  },
  {
   "cell_type": "code",
   "execution_count": null,
   "id": "d02f6468",
   "metadata": {},
   "outputs": [],
   "source": []
  },
  {
   "cell_type": "markdown",
   "id": "565a5e40",
   "metadata": {},
   "source": [
    "## Generator\n",
    "- choose the coding size -> latent representaiton \n",
    "- looks alot of the decoder , expand back out to try to fool the discrimitor"
   ]
  },
  {
   "cell_type": "code",
   "execution_count": 21,
   "id": "8a2376b9",
   "metadata": {},
   "outputs": [],
   "source": [
    "codings_size = 100\n",
    "## 100 - 150-784\n",
    "## units doesnt have to match input shape\n",
    "\n",
    "generator = Sequential()\n",
    "generator.add(Dense(100, activation=\"relu\", input_shape = [codings_size]))\n",
    "generator.add(Dense(150, activation=\"relu\"))\n",
    "generator.add(Dense(784, activation=\"relu\"))\n",
    "\n",
    "##Expects a 2D input\n",
    "generator.add(Reshape([28,28]))"
   ]
  },
  {
   "cell_type": "code",
   "execution_count": 22,
   "id": "22830654",
   "metadata": {},
   "outputs": [],
   "source": [
    "gan = Sequential([generator, discrimiator])"
   ]
  },
  {
   "cell_type": "code",
   "execution_count": 23,
   "id": "ee655319",
   "metadata": {},
   "outputs": [],
   "source": [
    "discrimiator.trainable = False"
   ]
  },
  {
   "cell_type": "code",
   "execution_count": null,
   "id": "33e7a84a",
   "metadata": {},
   "outputs": [],
   "source": [
    "gan.compile(loss = \"binary_crossentropy\", optimizer = \"adam\")"
   ]
  },
  {
   "cell_type": "code",
   "execution_count": null,
   "id": "e3200dc5",
   "metadata": {},
   "outputs": [],
   "source": []
  },
  {
   "cell_type": "code",
   "execution_count": 24,
   "id": "85ee1add",
   "metadata": {},
   "outputs": [],
   "source": [
    "batchSize = 32"
   ]
  },
  {
   "cell_type": "code",
   "execution_count": null,
   "id": "63fd3968",
   "metadata": {},
   "outputs": [],
   "source": []
  },
  {
   "cell_type": "code",
   "execution_count": 27,
   "id": "25e05740",
   "metadata": {},
   "outputs": [],
   "source": [
    "myData = allZeros"
   ]
  },
  {
   "cell_type": "code",
   "execution_count": 28,
   "id": "b4c8450d",
   "metadata": {},
   "outputs": [],
   "source": [
    "datset = tf.data.Dataset.from_tensor_slices(myData).shuffle(buffer_size=1000)"
   ]
  },
  {
   "cell_type": "code",
   "execution_count": 29,
   "id": "af6c0783",
   "metadata": {},
   "outputs": [
    {
     "data": {
      "text/plain": [
       "<ShuffleDataset shapes: (28, 28), types: tf.uint8>"
      ]
     },
     "execution_count": 29,
     "metadata": {},
     "output_type": "execute_result"
    }
   ],
   "source": [
    "datset"
   ]
  },
  {
   "cell_type": "code",
   "execution_count": 32,
   "id": "b67f8dfc",
   "metadata": {},
   "outputs": [],
   "source": [
    "dataSet = datset.batch(batchSize, drop_remainder=True).prefetch(1)"
   ]
  },
  {
   "cell_type": "code",
   "execution_count": 33,
   "id": "0afac13b",
   "metadata": {},
   "outputs": [],
   "source": [
    "epochs = 1"
   ]
  },
  {
   "cell_type": "code",
   "execution_count": 34,
   "id": "cc8818ed",
   "metadata": {},
   "outputs": [
    {
     "data": {
      "text/plain": [
       "<PrefetchDataset shapes: (32, 28, 28), types: tf.uint8>"
      ]
     },
     "execution_count": 34,
     "metadata": {},
     "output_type": "execute_result"
    }
   ],
   "source": [
    "dataSet"
   ]
  },
  {
   "cell_type": "code",
   "execution_count": null,
   "id": "25406262",
   "metadata": {},
   "outputs": [],
   "source": []
  },
  {
   "cell_type": "code",
   "execution_count": null,
   "id": "b787f343",
   "metadata": {},
   "outputs": [],
   "source": []
  },
  {
   "cell_type": "code",
   "execution_count": 38,
   "id": "cf8198e7",
   "metadata": {},
   "outputs": [
    {
     "data": {
      "text/plain": [
       "[<tensorflow.python.keras.layers.core.Dense at 0x7f7e533b5a90>,\n",
       " <tensorflow.python.keras.layers.core.Dense at 0x7f7e533b54d0>,\n",
       " <tensorflow.python.keras.layers.core.Dense at 0x7f7e52e9b750>,\n",
       " <tensorflow.python.keras.layers.core.Reshape at 0x7f7e5308b8d0>]"
      ]
     },
     "execution_count": 38,
     "metadata": {},
     "output_type": "execute_result"
    }
   ],
   "source": [
    "gan.layers[0].layers"
   ]
  },
  {
   "cell_type": "code",
   "execution_count": 39,
   "id": "e931532f",
   "metadata": {},
   "outputs": [
    {
     "data": {
      "text/plain": [
       "[<tensorflow.python.keras.layers.core.Flatten at 0x7f7e53119710>,\n",
       " <tensorflow.python.keras.layers.core.Dense at 0x7f7e531196d0>,\n",
       " <tensorflow.python.keras.layers.core.Dense at 0x7f7e5331d310>,\n",
       " <tensorflow.python.keras.layers.core.Dense at 0x7f7e5331de50>]"
      ]
     },
     "execution_count": 39,
     "metadata": {},
     "output_type": "execute_result"
    }
   ],
   "source": [
    "gan.layers[1].layers"
   ]
  },
  {
   "cell_type": "code",
   "execution_count": 41,
   "id": "5b949859",
   "metadata": {},
   "outputs": [
    {
     "name": "stdout",
     "output_type": "stream",
     "text": [
      "Model: \"sequential_2\"\n",
      "_________________________________________________________________\n",
      "Layer (type)                 Output Shape              Param #   \n",
      "=================================================================\n",
      "dense_6 (Dense)              (None, 100)               10100     \n",
      "_________________________________________________________________\n",
      "dense_7 (Dense)              (None, 150)               15150     \n",
      "_________________________________________________________________\n",
      "dense_8 (Dense)              (None, 784)               118384    \n",
      "_________________________________________________________________\n",
      "reshape (Reshape)            (None, 28, 28)            0         \n",
      "=================================================================\n",
      "Total params: 143,634\n",
      "Trainable params: 143,634\n",
      "Non-trainable params: 0\n",
      "_________________________________________________________________\n"
     ]
    }
   ],
   "source": [
    "gan.layers[0].summary()"
   ]
  },
  {
   "cell_type": "code",
   "execution_count": 42,
   "id": "a122aeb8",
   "metadata": {},
   "outputs": [
    {
     "name": "stdout",
     "output_type": "stream",
     "text": [
      "Model: \"sequential_1\"\n",
      "_________________________________________________________________\n",
      "Layer (type)                 Output Shape              Param #   \n",
      "=================================================================\n",
      "flatten_1 (Flatten)          (None, 784)               0         \n",
      "_________________________________________________________________\n",
      "dense_3 (Dense)              (None, 150)               117750    \n",
      "_________________________________________________________________\n",
      "dense_4 (Dense)              (None, 100)               15100     \n",
      "_________________________________________________________________\n",
      "dense_5 (Dense)              (None, 1)                 101       \n",
      "=================================================================\n",
      "WARNING:tensorflow:Discrepancy between trainable weights and collected trainable weights, did you set `model.trainable` without calling `model.compile` after ?\n",
      "Total params: 265,902\n",
      "Trainable params: 132,951\n",
      "Non-trainable params: 132,951\n",
      "_________________________________________________________________\n"
     ]
    }
   ],
   "source": [
    "gan.layers[1].summary()"
   ]
  },
  {
   "cell_type": "code",
   "execution_count": 43,
   "id": "d3b20ddf",
   "metadata": {},
   "outputs": [],
   "source": [
    "generator, discriminator = gan.layers\n",
    "\n",
    "for epoch in range(epochs):\n",
    "    print(f\"currently on epoch {epoch + 1}\")\n",
    "    i = 0\n",
    "    \n",
    "    for X_batch in dataSet:\n",
    "        i =  i + 1\n",
    "        if i%100 == 0:\n",
    "            print(f\"if currently in batch number {i}\")"
   ]
  },
  {
   "cell_type": "code",
   "execution_count": null,
   "id": "73e199c2",
   "metadata": {},
   "outputs": [],
   "source": []
  }
 ],
 "metadata": {
  "kernelspec": {
   "display_name": "Python 3 (ipykernel)",
   "language": "python",
   "name": "python3"
  },
  "language_info": {
   "codemirror_mode": {
    "name": "ipython",
    "version": 3
   },
   "file_extension": ".py",
   "mimetype": "text/x-python",
   "name": "python",
   "nbconvert_exporter": "python",
   "pygments_lexer": "ipython3",
   "version": "3.7.16"
  }
 },
 "nbformat": 4,
 "nbformat_minor": 5
}
